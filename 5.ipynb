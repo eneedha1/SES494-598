{
 "cells": [
  {
   "cell_type": "markdown",
   "metadata": {
    "slideshow": {
     "slide_type": "slide"
    }
   },
   "source": [
    "# Functions"
   ]
  },
  {
   "cell_type": "markdown",
   "metadata": {
    "slideshow": {
     "slide_type": "slide"
    }
   },
   "source": [
    "## Variable number of arguments\n",
    "\n",
    "While it may seem odd, it is sometimes useful to leave the number of\n",
    "arguments unspecified. "
   ]
  },
  {
   "cell_type": "markdown",
   "metadata": {
    "slideshow": {
     "slide_type": "slide"
    }
   },
   "source": [
    "A simple example is a function that computes the\n",
    "product of an arbitrary number of numbers:"
   ]
  },
  {
   "cell_type": "code",
   "execution_count": null,
   "metadata": {
    "collapsed": false,
    "slideshow": {
     "slide_type": "fragment"
    }
   },
   "outputs": [],
   "source": [
    "def product(*args): \n",
    "    print(args) \n",
    "    p = 1 \n",
    "    for num in args: \n",
    "        p*= num  \n",
    "    return p\n"
   ]
  },
  {
   "cell_type": "code",
   "execution_count": null,
   "metadata": {
    "collapsed": false,
    "slideshow": {
     "slide_type": "slide"
    }
   },
   "outputs": [],
   "source": [
    "product(11., -2, 3)"
   ]
  },
  {
   "cell_type": "code",
   "execution_count": null,
   "metadata": {
    "collapsed": false,
    "slideshow": {
     "slide_type": "fragment"
    }
   },
   "outputs": [],
   "source": [
    "product(2.31, 7, 3,4,5,6,7,1,4,6,8,9,90,0,0)"
   ]
  },
  {
   "cell_type": "markdown",
   "metadata": {
    "slideshow": {
     "slide_type": "slide"
    }
   },
   "source": [
    "```python\n",
    "def product(*args): \n",
    "    print(args) \n",
    "    p = 1 \n",
    "    for num in args: \n",
    "        p*= num  \n",
    "    return p\n",
    "\n",
    "```\n",
    "\n",
    "The `print(args)` statement in the function definition is not\n",
    "necessary, of course, but is put in to show that the argument `args` is\n",
    "a tuple inside the function. "
   ]
  },
  {
   "cell_type": "markdown",
   "metadata": {
    "slideshow": {
     "slide_type": "slide"
    }
   },
   "source": [
    "## Variables and arrays created entirely within a function\n",
    "\n",
    "Variables and arrays created\n",
    "*entirely within* a function cannot be seen by the program that calls\n",
    "the function unless the variable or array is explicitly passed to the\n",
    "calling program in the `return` statement. "
   ]
  },
  {
   "cell_type": "markdown",
   "metadata": {
    "slideshow": {
     "slide_type": "slide"
    }
   },
   "source": [
    "This is important because it\n",
    "means you can create and manipulate variables and arrays, giving them\n",
    "any name you please, without affecting any variables or arrays outside\n",
    "the function, even if the variables and arrays inside and outside a\n",
    "function share the same name.\n"
   ]
  },
  {
   "cell_type": "code",
   "execution_count": null,
   "metadata": {
    "collapsed": false
   },
   "outputs": [],
   "source": [
    "def sinc(x):  \n",
    "    z = np.where(x==0.0, 1.0, np.sin(x)/x) \n",
    "    return z\n",
    "\n",
    "import numpy as np \n",
    "import matplotlib.pyplot as plt\n",
    "%matplotlib inline\n",
    "\n",
    "x = np.linspace(-10, 10, 256) \n",
    "y = sinc(x)\n",
    "plt.plot(x, y) \n",
    "plt.show()"
   ]
  },
  {
   "cell_type": "markdown",
   "metadata": {
    "slideshow": {
     "slide_type": "slide"
    }
   },
   "source": [
    "Running this program produces a plot like the plot of sinc shown in the\n",
    "previous section. Notice that the array variable `z` is only defined\n",
    "within the function definition of sinc. \n",
    "\n",
    "After running the cell above, if we ask\n",
    "to print out the arrays, `x`, `y`, and `z`, we get some\n",
    "interesting and informative results."
   ]
  },
  {
   "cell_type": "code",
   "execution_count": null,
   "metadata": {
    "collapsed": false,
    "slideshow": {
     "slide_type": "slide"
    }
   },
   "outputs": [],
   "source": [
    "x"
   ]
  },
  {
   "cell_type": "code",
   "execution_count": null,
   "metadata": {
    "collapsed": false,
    "slideshow": {
     "slide_type": "slide"
    }
   },
   "outputs": [],
   "source": [
    "y"
   ]
  },
  {
   "cell_type": "code",
   "execution_count": null,
   "metadata": {
    "collapsed": false,
    "slideshow": {
     "slide_type": "slide"
    }
   },
   "outputs": [],
   "source": [
    "z"
   ]
  },
  {
   "cell_type": "markdown",
   "metadata": {
    "slideshow": {
     "slide_type": "slide"
    }
   },
   "source": [
    "## Passing variables and arrays to functions: mutable and immutable objects\n",
    "\n",
    "What happens to a variable or an array passed to a function when the\n",
    "variable or array is *changed* within the function? \n",
    "\n",
    "The answers are different depending on whether the variable passed is a\n",
    "simple numeric variable, string, or tuple, or whether it is an array or\n",
    "list. "
   ]
  },
  {
   "cell_type": "code",
   "execution_count": 1,
   "metadata": {
    "collapsed": false,
    "slideshow": {
     "slide_type": "slide"
    }
   },
   "outputs": [
    {
     "name": "stdout",
     "output_type": "stream",
     "text": [
      "*************\n",
      "s = How do you do?\n",
      "v =  5.00\n",
      "t = (97.5, 82.9, 66.7)\n",
      "l = [3.9, 5.7, 7.5, 9.3]\n",
      "a = \n",
      "[3.9 5.7 7.5 9.3]\n",
      "*************\n",
      "*call \"test\"*\n",
      "*************\n",
      "s1 = I am doing fine \n",
      "v1 =  9.87\n",
      "t1 = (1.1, 2.9)\n",
      "l1 = [3.9, 5.7, 7.5, 'end']\n",
      "a1 = \n",
      "[963.2   5.7   7.5   9.3]\n",
      "*************\n",
      "s = How do you do? \n",
      "v =  5.00\n",
      "t = (97.5, 82.9, 66.7)\n",
      "l = [3.9, 5.7, 7.5, 'end']\n",
      "a = \n",
      "[963.2   5.7   7.5   9.3]\n",
      "*************\n"
     ]
    }
   ],
   "source": [
    "import numpy as np\n",
    "def test(s, v, t, l, a):  \n",
    "    s = \"I am doing fine\" \n",
    "    v = np.pi**2 \n",
    "    t = (1.1, 2.9) \n",
    "    l[-1] = 'end'\n",
    "    a[0] = 963.2 \n",
    "    return s, v, t, l, a\n",
    "\n",
    "s = \"How do you do?\" \n",
    "v = 5.0 \n",
    "t = (97.5, 82.9, 66.7) \n",
    "l = [3.9, 5.7, 7.5, 9.3] \n",
    "a = np.array(l)\n",
    "\n",
    "print('*************') \n",
    "print(\"s = %s\" % (s)) \n",
    "print(\"v = %5.2f\" % (v)) \n",
    "print(\"t = %s\" % (str(t)))\n",
    "print(\"l = %s\" % (str(l)))\n",
    "print(\"a = \"), # comma suppresses line feed \n",
    "print(a)\n",
    "print('*************') \n",
    "print('*call \"test\"*')\n",
    "\n",
    "s1, v1, t1, l1, a1 = test(s, v, t, l, a)\n",
    "\n",
    "print('*************') \n",
    "print(\"s1 = %s \" % (s1))\n",
    "print(\"v1 = %5.2f\" % (v1)) \n",
    "print(\"t1 = %s\" % (str(t1)))\n",
    "print(\"l1 = %s\" % (str(l1))) \n",
    "print(\"a1 = \"), \n",
    "print(a1)\n",
    "print('*************') \n",
    "print(\"s = %s \" % (s)) \n",
    "print(\"v = %5.2f\" % (v)) \n",
    "print(\"t = %s\" % (str(t))) \n",
    "print(\"l = %s\" % (str(l))) \n",
    "print(\"a = \"), # comma suppresses line feed \n",
    "print(a)\n",
    "print('*************')"
   ]
  },
  {
   "cell_type": "markdown",
   "metadata": {
    "slideshow": {
     "slide_type": "slide"
    }
   },
   "source": [
    "We see that the values of the\n",
    "string `s`, the numeric variable `v`, and the contents of `t` are\n",
    "unchanged after the function call. \n",
    "\n",
    "The list `l` and the array `a`\n",
    "are changed after the function call. "
   ]
  },
  {
   "cell_type": "markdown",
   "metadata": {
    "slideshow": {
     "slide_type": "slide"
    }
   },
   "source": [
    "-   Changes to string, variable, and tuple arguments of a function\n",
    "    within the function do not affect their values in the calling\n",
    "    program.\n",
    "-   Changes to values of elements in list and array arguments of a\n",
    "    function within the function are reflected in the values of the\n",
    "    same list and array elements in the calling function."
   ]
  },
  {
   "cell_type": "markdown",
   "metadata": {
    "slideshow": {
     "slide_type": "slide"
    }
   },
   "source": [
    "Simple numerics, strings and tuples are immutable\n",
    "while lists and arrays are mutable. \n"
   ]
  },
  {
   "cell_type": "markdown",
   "metadata": {},
   "source": [
    "# Funny things about list and numpy array"
   ]
  },
  {
   "cell_type": "code",
   "execution_count": 2,
   "metadata": {},
   "outputs": [
    {
     "name": "stdout",
     "output_type": "stream",
     "text": [
      "[1, 2, 3, 4, 5]\n"
     ]
    }
   ],
   "source": [
    "a=[1,2,3,4,5]\n",
    "b=a\n",
    "print(b)"
   ]
  },
  {
   "cell_type": "code",
   "execution_count": 3,
   "metadata": {},
   "outputs": [
    {
     "name": "stdout",
     "output_type": "stream",
     "text": [
      "[2, 3, 4, 5]\n"
     ]
    }
   ],
   "source": [
    "del b[0]\n",
    "print(b)"
   ]
  },
  {
   "cell_type": "code",
   "execution_count": 4,
   "metadata": {},
   "outputs": [
    {
     "name": "stdout",
     "output_type": "stream",
     "text": [
      "[2, 3, 4, 5]\n"
     ]
    }
   ],
   "source": [
    "print(a)"
   ]
  },
  {
   "cell_type": "code",
   "execution_count": 5,
   "metadata": {},
   "outputs": [
    {
     "data": {
      "text/plain": [
       "array([0, 1, 2, 3, 4, 5, 6, 7, 8, 9])"
      ]
     },
     "execution_count": 5,
     "metadata": {},
     "output_type": "execute_result"
    }
   ],
   "source": [
    "import numpy as np\n",
    "a=np.arange(10)\n",
    "a"
   ]
  },
  {
   "cell_type": "code",
   "execution_count": 7,
   "metadata": {},
   "outputs": [
    {
     "data": {
      "text/plain": [
       "array([0, 1, 2, 3, 4, 5, 6, 7, 8, 9])"
      ]
     },
     "execution_count": 7,
     "metadata": {},
     "output_type": "execute_result"
    }
   ],
   "source": [
    "b=a\n",
    "b"
   ]
  },
  {
   "cell_type": "code",
   "execution_count": 8,
   "metadata": {},
   "outputs": [],
   "source": [
    "b[0]=10"
   ]
  },
  {
   "cell_type": "code",
   "execution_count": 9,
   "metadata": {},
   "outputs": [
    {
     "data": {
      "text/plain": [
       "array([10,  1,  2,  3,  4,  5,  6,  7,  8,  9])"
      ]
     },
     "execution_count": 9,
     "metadata": {},
     "output_type": "execute_result"
    }
   ],
   "source": [
    "b"
   ]
  },
  {
   "cell_type": "code",
   "execution_count": 10,
   "metadata": {},
   "outputs": [
    {
     "data": {
      "text/plain": [
       "array([10,  1,  2,  3,  4,  5,  6,  7,  8,  9])"
      ]
     },
     "execution_count": 10,
     "metadata": {},
     "output_type": "execute_result"
    }
   ],
   "source": [
    "a"
   ]
  },
  {
   "cell_type": "markdown",
   "metadata": {},
   "source": [
    "* To make a copy of a list and a numpy array, we need to use the copy() function. Otherwise, 'b=a' only gives an other name for the same list/array. Each time you modify the elements of variable b or a will change the content of the variable."
   ]
  },
  {
   "cell_type": "code",
   "execution_count": 11,
   "metadata": {},
   "outputs": [
    {
     "name": "stdout",
     "output_type": "stream",
     "text": [
      "[1, 2, 3, 4, 5]\n",
      "[2, 3, 4, 5]\n"
     ]
    }
   ],
   "source": [
    "a=[1,2,3,4,5]\n",
    "b=a.copy()\n",
    "del b[0]\n",
    "print(a)\n",
    "print(b)"
   ]
  },
  {
   "cell_type": "markdown",
   "metadata": {},
   "source": [
    "* This does not apply to tuple, since tuple is immutable."
   ]
  },
  {
   "cell_type": "code",
   "execution_count": 12,
   "metadata": {},
   "outputs": [
    {
     "data": {
      "text/plain": [
       "(1, 2, 3, 4, 5, 6)"
      ]
     },
     "execution_count": 12,
     "metadata": {},
     "output_type": "execute_result"
    }
   ],
   "source": [
    "a=(1,2,3,4,5,6)\n",
    "a"
   ]
  },
  {
   "cell_type": "code",
   "execution_count": 13,
   "metadata": {},
   "outputs": [
    {
     "ename": "TypeError",
     "evalue": "'tuple' object does not support item assignment",
     "output_type": "error",
     "traceback": [
      "\u001b[0;31m---------------------------------------------------------------------------\u001b[0m",
      "\u001b[0;31mTypeError\u001b[0m                                 Traceback (most recent call last)",
      "\u001b[0;32m<ipython-input-13-cf85e6443d6f>\u001b[0m in \u001b[0;36m<module>\u001b[0;34m()\u001b[0m\n\u001b[1;32m      1\u001b[0m \u001b[0mb\u001b[0m\u001b[0;34m=\u001b[0m\u001b[0ma\u001b[0m\u001b[0;34m\u001b[0m\u001b[0;34m\u001b[0m\u001b[0m\n\u001b[0;32m----> 2\u001b[0;31m \u001b[0mb\u001b[0m\u001b[0;34m[\u001b[0m\u001b[0;36m0\u001b[0m\u001b[0;34m]\u001b[0m\u001b[0;34m=\u001b[0m\u001b[0;36m10\u001b[0m\u001b[0;34m\u001b[0m\u001b[0;34m\u001b[0m\u001b[0m\n\u001b[0m",
      "\u001b[0;31mTypeError\u001b[0m: 'tuple' object does not support item assignment"
     ]
    }
   ],
   "source": [
    "b=a\n",
    "b[0]=10"
   ]
  },
  {
   "cell_type": "markdown",
   "metadata": {
    "slideshow": {
     "slide_type": "slide"
    }
   },
   "source": [
    "## Anonymous functions (lambda)\n",
    "\n",
    "A lambda expression is a kind of in-line function that can\n",
    "be generated on the fly to accomplish some small task. \n",
    "\n",
    "You can assign\n",
    "lambda functions a name, but you don't need to; hence, they are often\n",
    "called *anonymous* functions. "
   ]
  },
  {
   "cell_type": "markdown",
   "metadata": {
    "slideshow": {
     "slide_type": "slide"
    }
   },
   "source": [
    "A lambda uses the keyword `lambda` and has\n",
    "the general form:\n",
    "\n",
    "\n",
    "```python\n",
    "lambda arg1, arg2, ... : output\n",
    "```\n",
    "\n",
    "The arguments `arg1, arg2, ...` are inputs to a lambda, just as for a\n",
    "functions, and the output is an expression using the arguments."
   ]
  },
  {
   "cell_type": "markdown",
   "metadata": {
    "slideshow": {
     "slide_type": "slide"
    }
   },
   "source": [
    "While lambda expressions need not be named, we illustrate their use by\n",
    "comparing a conventional Python function definition to a lambda\n",
    "expression to which we give a name. "
   ]
  },
  {
   "cell_type": "code",
   "execution_count": 15,
   "metadata": {
    "collapsed": false,
    "slideshow": {
     "slide_type": "slide"
    }
   },
   "outputs": [],
   "source": [
    "def f(a, b):  \n",
    "    return 3*a + b**2"
   ]
  },
  {
   "cell_type": "code",
   "execution_count": 16,
   "metadata": {
    "collapsed": false,
    "slideshow": {
     "slide_type": "fragment"
    }
   },
   "outputs": [
    {
     "data": {
      "text/plain": [
       "15"
      ]
     },
     "execution_count": 16,
     "metadata": {},
     "output_type": "execute_result"
    }
   ],
   "source": [
    "f(2,3)"
   ]
  },
  {
   "cell_type": "markdown",
   "metadata": {
    "slideshow": {
     "slide_type": "slide"
    }
   },
   "source": [
    "Next, we define a lambda that does the same thing"
   ]
  },
  {
   "cell_type": "code",
   "execution_count": null,
   "metadata": {
    "collapsed": false,
    "slideshow": {
     "slide_type": "fragment"
    }
   },
   "outputs": [],
   "source": [
    "g = lambda a, b: 3 * a + b**2 "
   ]
  },
  {
   "cell_type": "code",
   "execution_count": null,
   "metadata": {
    "collapsed": false,
    "slideshow": {
     "slide_type": "fragment"
    }
   },
   "outputs": [],
   "source": [
    "g(2,3)"
   ]
  },
  {
   "cell_type": "markdown",
   "metadata": {},
   "source": [
    "# [Exercise 09](./EX09-function.ipynb)"
   ]
  },
  {
   "cell_type": "markdown",
   "metadata": {},
   "source": [
    "# [Exercise 10](./EX10-sorting-algorithm.ipynb)"
   ]
  },
  {
   "cell_type": "code",
   "execution_count": null,
   "metadata": {},
   "outputs": [],
   "source": []
  }
 ],
 "metadata": {
  "celltoolbar": "Slideshow",
  "kernelspec": {
   "display_name": "Python 3",
   "language": "python",
   "name": "python3"
  },
  "language_info": {
   "codemirror_mode": {
    "name": "ipython",
    "version": 3
   },
   "file_extension": ".py",
   "mimetype": "text/x-python",
   "name": "python",
   "nbconvert_exporter": "python",
   "pygments_lexer": "ipython3",
   "version": "3.7.1"
  }
 },
 "nbformat": 4,
 "nbformat_minor": 2
}
