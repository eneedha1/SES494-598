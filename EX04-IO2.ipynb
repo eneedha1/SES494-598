{
 "cells": [
  {
   "cell_type": "markdown",
   "metadata": {
    "slideshow": {
     "slide_type": "slide"
    }
   },
   "source": [
    "## Exercise 04"
   ]
  },
  {
   "cell_type": "markdown",
   "metadata": {
    "slideshow": {
     "slide_type": "slide"
    }
   },
   "source": [
    "__1.__ For the following three NumPy arrays:"
   ]
  },
  {
   "cell_type": "code",
   "execution_count": 4,
   "metadata": {
    "collapsed": false,
    "jupyter": {
     "outputs_hidden": false
    },
    "slideshow": {
     "slide_type": "fragment"
    }
   },
   "outputs": [],
   "source": [
    "import numpy as np\n",
    "\n",
    "a = np.array([1, 3, 5, 7])\n",
    "b = np.array([8, 7, 5, 4])\n",
    "c = np.array([0, 9,-6,-8])"
   ]
  },
  {
   "cell_type": "markdown",
   "metadata": {
    "slideshow": {
     "slide_type": "slide"
    }
   },
   "source": [
    "Put them in a single array and make them columns in the new array."
   ]
  },
  {
   "cell_type": "code",
   "execution_count": null,
   "metadata": {},
   "outputs": [],
   "source": [
    "d="
   ]
  },
  {
   "cell_type": "code",
   "execution_count": 6,
   "metadata": {
    "collapsed": false,
    "jupyter": {
     "outputs_hidden": false
    },
    "slideshow": {
     "slide_type": "fragment"
    }
   },
   "outputs": [
    {
     "name": "stdout",
     "output_type": "stream",
     "text": [
      "[[ 1  8  0]\n",
      " [ 3  7  9]\n",
      " [ 5  5 -6]\n",
      " [ 7  4 -8]]\n"
     ]
    }
   ],
   "source": [
    "d"
   ]
  },
  {
   "cell_type": "markdown",
   "metadata": {
    "slideshow": {
     "slide_type": "slide"
    }
   },
   "source": [
    "__3.__  Write a Python script to read the \"TestData.txt\" file under the folder to \"./data\" into a three NumPy arrays with the variable names `f`, `a`, `da` for the frequency, amplitude, and amplitude error."
   ]
  },
  {
   "cell_type": "code",
   "execution_count": 2,
   "metadata": {
    "collapsed": false,
    "jupyter": {
     "outputs_hidden": false
    },
    "slideshow": {
     "slide_type": "fragment"
    }
   },
   "outputs": [
    {
     "data": {
      "text/plain": [
       "Date: 2013-09-16\n",
       "Data taken by Liam and Selena\n",
       "frequency (Hz) amplitude (mm) amp error (mm)\n",
       " 0.7500 13.52         0.32\n",
       " 1.7885 12.11         0.92\n",
       " 2.8269 14.27         0.73\n",
       " 3.8654 16.60         2.06\n",
       " 4.9038 22.91         1.75\n",
       " 5.9423 35.28         0.91\n",
       " 6.9808 60.99         0.99\n",
       " 8.0192 33.38         0.36\n",
       " 9.0577 17.78         2.32\n",
       "10.0962 10.99         0.21\n",
       "11.1346  7.47         0.48\n",
       "12.1731 6.72         0.51\n",
       "13.2115 4.40         0.58\n",
       "14.2500 4.07         0.63"
      ]
     },
     "metadata": {},
     "output_type": "display_data"
    }
   ],
   "source": [
    "%less ./data/TestData.txt"
   ]
  },
  {
   "cell_type": "code",
   "execution_count": 37,
   "metadata": {
    "collapsed": false,
    "jupyter": {
     "outputs_hidden": false
    },
    "slideshow": {
     "slide_type": "slide"
    }
   },
   "outputs": [],
   "source": [
    "f,a,da = np.loadtxt('./data/TestData.txt',skiprows = 3, unpack = True)"
   ]
  },
  {
   "cell_type": "markdown",
   "metadata": {
    "slideshow": {
     "slide_type": "slide"
    }
   },
   "source": [
    "__4.__  For the three numpy arrays from the previous problem (`f`, `a`, `da`), write the data out to a data file, including the header ('freq', 'amp', 'error'), with the data displayed in three columns. It's ok if the header lines begin with the `#` comment character. Your new output file name should be \"./data/TestDataOut.txt\"."
   ]
  },
  {
   "cell_type": "code",
   "execution_count": 42,
   "metadata": {},
   "outputs": [],
   "source": [
    "heading = 'frequency, amplitude, error'\n",
    "np.savetxt('./data/TestDataOut.txt',np.array([f,a,da]).T, header = heading, comments =\"\")"
   ]
  },
  {
   "cell_type": "markdown",
   "metadata": {
    "slideshow": {
     "slide_type": "slide"
    }
   },
   "source": [
    "__5.__  For the three numpy arrays from the previous problem (f, a, da), write the data out to a data file to a csv data file, without the header, to a data file (\"./data/TestDataOut.csv\") with the data displayed in three columns. Use a single format specifier and set it to `\"%0.16e\"`. If you have access the spreadsheet program (like MS Excel), try opening the file you have created with your Python script and verify that the arrays are displayed in three columns. "
   ]
  },
  {
   "cell_type": "code",
   "execution_count": 56,
   "metadata": {},
   "outputs": [
    {
     "data": {
      "text/plain": [
       "7.5e-01 ,1.4e+01 ,3.2e-01\n",
       "1.8e+00 ,1.2e+01 ,9.2e-01\n",
       "2.8e+00 ,1.4e+01 ,7.3e-01\n",
       "3.9e+00 ,1.7e+01 ,2.1e+00\n",
       "4.9e+00 ,2.3e+01 ,1.8e+00\n",
       "5.9e+00 ,3.5e+01 ,9.1e-01\n",
       "7.0e+00 ,6.1e+01 ,9.9e-01\n",
       "8.0e+00 ,3.3e+01 ,3.6e-01\n",
       "9.1e+00 ,1.8e+01 ,2.3e+00\n",
       "1.0e+01 ,1.1e+01 ,2.1e-01\n",
       "1.1e+01 ,7.5e+00 ,4.8e-01\n",
       "1.2e+01 ,6.7e+00 ,5.1e-01\n",
       "1.3e+01 ,4.4e+00 ,5.8e-01\n",
       "1.4e+01 ,4.1e+00 ,6.3e-01\n"
      ]
     },
     "metadata": {},
     "output_type": "display_data"
    }
   ],
   "source": [
    "np.savetxt('./data/TestDataOut.txt', np.array([f,a,da]).T, fmt =\"%0.1e\", delimiter = \" ,\")\n",
    "%less ./data/TestDataOut.txt"
   ]
  },
  {
   "cell_type": "code",
   "execution_count": 14,
   "metadata": {
    "collapsed": false,
    "jupyter": {
     "outputs_hidden": false
    }
   },
   "outputs": [
    {
     "data": {
      "text/plain": [
       "7.5000000000000000e-01,1.3520000000000000e+01,3.2000000000000001e-01\n",
       "1.7885000000000000e+00,1.2109999999999999e+01,9.2000000000000004e-01\n",
       "2.8269000000000002e+00,1.4270000000000000e+01,7.2999999999999998e-01\n",
       "3.8654000000000002e+00,1.6600000000000001e+01,2.0600000000000001e+00\n",
       "4.9038000000000004e+00,2.2910000000000000e+01,1.7500000000000000e+00\n",
       "5.9423000000000004e+00,3.5280000000000001e+01,9.1000000000000003e-01\n",
       "6.9808000000000003e+00,6.0990000000000002e+01,9.8999999999999999e-01\n",
       "8.0191999999999997e+00,3.3380000000000003e+01,3.5999999999999999e-01\n",
       "9.0577000000000005e+00,1.7780000000000001e+01,2.3199999999999998e+00\n",
       "1.0096200000000000e+01,1.0990000000000000e+01,2.0999999999999999e-01\n",
       "1.1134600000000001e+01,7.4699999999999998e+00,4.7999999999999998e-01\n",
       "1.2173100000000000e+01,6.7199999999999998e+00,5.1000000000000001e-01\n",
       "1.3211499999999999e+01,4.4000000000000004e+00,5.7999999999999996e-01\n",
       "1.4250000000000000e+01,4.0700000000000003e+00,6.3000000000000000e-01\n"
      ]
     },
     "metadata": {},
     "output_type": "display_data"
    }
   ],
   "source": [
    "%less ../data/TestDataOut.csv"
   ]
  },
  {
   "cell_type": "code",
   "execution_count": null,
   "metadata": {},
   "outputs": [],
   "source": []
  }
 ],
 "metadata": {
  "celltoolbar": "Slideshow",
  "kernelspec": {
   "display_name": "Python 3",
   "language": "python",
   "name": "python3"
  },
  "language_info": {
   "codemirror_mode": {
    "name": "ipython",
    "version": 3
   },
   "file_extension": ".py",
   "mimetype": "text/x-python",
   "name": "python",
   "nbconvert_exporter": "python",
   "pygments_lexer": "ipython3",
   "version": "3.7.6"
  }
 },
 "nbformat": 4,
 "nbformat_minor": 4
}
