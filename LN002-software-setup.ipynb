{
 "cells": [
  {
   "cell_type": "markdown",
   "metadata": {},
   "source": [
    "# Today's goals\n",
    "- Quickly finish showing important information on Syllabus\n",
    "- Access class materials\n",
    "- Install Anaconda"
   ]
  },
  {
   "cell_type": "markdown",
   "metadata": {},
   "source": [
    "# Schedule\n",
    "\n",
    "This class will cover Python basis, data analyais, plotting, coding, numerical methods, Linux basis"
   ]
  },
  {
   "cell_type": "markdown",
   "metadata": {},
   "source": [
    "## Learning Outcomes\n",
    "* Analyze and visualize data with Python\n",
    "* Solve equations using numerical methods\n",
    "* Improve the efficiently in research using Python\n"
   ]
  },
  {
   "cell_type": "markdown",
   "metadata": {},
   "source": [
    "# Homework\n",
    "- The most effective way to learn coding and data analysis is to practice using it\n",
    "- There will be a 10% penalty per day for late homework after the due-date. There will be very little exception to this. \n",
    "- Almost always, we will have already covered the material before you get your homework assignment. Therefore, you can get started on it immediately. "
   ]
  },
  {
   "cell_type": "markdown",
   "metadata": {},
   "source": [
    "# Email communications\n",
    "- All email communication for this class will be done through your ASU email account. \n",
    "- Announcement will be sent by Canvas to you ASU email.\n",
    "- You should be in the habit of checking your ASU email regularly as you will not only receive important information about your classes, but other important university updates and information. \n",
    "- You will be notified in a timely manner of any syllabus changes via email. \n"
   ]
  },
  {
   "cell_type": "markdown",
   "metadata": {
    "slideshow": {
     "slide_type": "slide"
    }
   },
   "source": [
    "## * We learn coding as a tool to understand data.  \n",
    "\n",
    "## * This course is not a computer science course."
   ]
  },
  {
   "cell_type": "markdown",
   "metadata": {
    "slideshow": {
     "slide_type": "slide"
    }
   },
   "source": [
    "# Class\n",
    "\n",
    "- Class will be interactive by zoom.  \n",
    "\n",
    "- We will do a lot of coding during class.\n",
    "\n",
    "- Creative approaches are always welcome.\n",
    "\n",
    "- For in-class coding exercises, you are encouraged to help each other.\n",
    "- If you have an idea and want to share with the class, please do not hesitate to do so."
   ]
  },
  {
   "cell_type": "markdown",
   "metadata": {},
   "source": [
    "# Course materials\n",
    "- Course materials are stored on Github.\n",
    "- You can go to the link below to download the course materials (you do not need an Github account to do so). \n",
    "- https://github.com/mingming-li/SES494-598.git\n",
    "\n",
    "- You can also directly save the course materials from a terminal using the command of \n",
    "          git clone https://github.com/mingming-li/SES494-598.git\n",
    "\n",
    "- This command will create a folder named SES494-598 on your current directory. This folder contains all course materials in this class. The course materials are updated after each class.\n",
    "- To obtain the latest versions of the course materials, you can open the terminal, go to the SES494-598 folder, and type the following:\n",
    "                                git pull\n",
    "                                \n",
    "- for windows system, you need to download and install [cygwin](https://www.cygwin.com/) (preferred) or [git for windows](https://git-scm.com) first to get git command.\n",
    "\n",
    "- a tutorial for cygwin installation is provided in the class materials, named '[SettingUpCygwin.pdf](./SettingUpCygwin.pdf)'\n",
    "\n",
    "- IMPORTANT: do not save your homework or other important files in the folder of 'SES494-598'. You need to update to the latest version of class materials before each class. That means all changes in that folder by you will be removed.\n",
    "- There are times that you make not-so-important changes in the folder \"SES494-598\" and the next time you want to update the content, you get alerts about confliction. Do not worry. You can discard all your local changes by \"git reset --hard\" then \"git pull\", or just remove the entire folder and download the latest one again."
   ]
  },
  {
   "cell_type": "markdown",
   "metadata": {
    "slideshow": {
     "slide_type": "slide"
    }
   },
   "source": [
    "# Anaconda\n",
    "\n",
    "- We will use Jupyter-lab for this class\n",
    "- One way to get Jupyter-lab is by installing Anaconda"
   ]
  },
  {
   "cell_type": "markdown",
   "metadata": {},
   "source": [
    "# Install Anaconda"
   ]
  },
  {
   "cell_type": "markdown",
   "metadata": {},
   "source": [
    "- Download anaconda from https://www.anaconda.com/products/individual\n",
    "- Select the right version based on your operating system"
   ]
  }
 ],
 "metadata": {
  "kernelspec": {
   "display_name": "Python 3",
   "language": "python",
   "name": "python3"
  },
  "language_info": {
   "codemirror_mode": {
    "name": "ipython",
    "version": 3
   },
   "file_extension": ".py",
   "mimetype": "text/x-python",
   "name": "python",
   "nbconvert_exporter": "python",
   "pygments_lexer": "ipython3",
   "version": "3.7.4"
  }
 },
 "nbformat": 4,
 "nbformat_minor": 4
}
