{
 "cells": [
  {
   "cell_type": "markdown",
   "metadata": {},
   "source": [
    "# Exercise 10 sorting algorithm"
   ]
  },
  {
   "cell_type": "code",
   "execution_count": 2,
   "metadata": {},
   "outputs": [],
   "source": [
    "import numpy as np\n",
    "import time\n",
    "x=[0.05465253, 0.38845019, 0.08802595, 0.3530307 , 0.99911915,\n",
    "       0.07703163, 0.26269039, 0.12891939, 0.61711249, 0.31326518, 0.31326518]"
   ]
  },
  {
   "cell_type": "code",
   "execution_count": 3,
   "metadata": {},
   "outputs": [],
   "source": [
    "# step 1: create a empty new list to store the sorted numbers\n",
    "# step 2: find the minimum value in the list to be sorted, and append it to the new list\n",
    "# step 3: remove the minimum value from the list to be sorted\n",
    "# repeat step 1-3 until all elements in the list to be sorted are deleted.\n",
    "\n",
    "# translate human language into computer language\n",
    "def mini(x):\n",
    "    value=x[0]\n",
    "    index=0\n",
    "    for i in range(1,len(x)):\n",
    "        if x[i]<value:\n",
    "            value=x[i]\n",
    "            index=i\n",
    "    return value,index\n",
    "\n",
    "def sorting(x):\n",
    "    y=[]\n",
    "    temp=x.copy()\n",
    "    n=len(temp)\n",
    "    while n>0:\n",
    "        minimum,i=mini(temp)\n",
    "        del temp[i]\n",
    "        n=n-1\n",
    "        y.append(minimum)\n",
    "    return y"
   ]
  },
  {
   "cell_type": "code",
   "execution_count": 4,
   "metadata": {},
   "outputs": [
    {
     "data": {
      "text/plain": [
       "[0.05465253,\n",
       " 0.07703163,\n",
       " 0.08802595,\n",
       " 0.12891939,\n",
       " 0.26269039,\n",
       " 0.31326518,\n",
       " 0.31326518,\n",
       " 0.3530307,\n",
       " 0.38845019,\n",
       " 0.61711249,\n",
       " 0.99911915]"
      ]
     },
     "execution_count": 4,
     "metadata": {},
     "output_type": "execute_result"
    }
   ],
   "source": [
    "sorting(x)"
   ]
  },
  {
   "cell_type": "code",
   "execution_count": 5,
   "metadata": {},
   "outputs": [],
   "source": [
    "a=list(np.random.rand(20000)) # generate 1000 random numbers in the range of (0,1)\n",
    "\n",
    "#np.savetxt('./data/random.txt',a,fmt='%.6f')\n"
   ]
  },
  {
   "cell_type": "code",
   "execution_count": 6,
   "metadata": {},
   "outputs": [
    {
     "name": "stdout",
     "output_type": "stream",
     "text": [
      "sorting takes 8.534268 sec.\n",
      "a.sort() takes 0.005983 sec.\n"
     ]
    }
   ],
   "source": [
    "start = time.time()\n",
    "sorting(a)\n",
    "end = time.time()\n",
    "print('sorting takes %f sec.' % (end-start))\n",
    "\n",
    "start = time.time()\n",
    "a.sort()\n",
    "end = time.time()\n",
    "print('a.sort() takes %f sec.' % (end-start))"
   ]
  },
  {
   "cell_type": "code",
   "execution_count": null,
   "metadata": {},
   "outputs": [],
   "source": []
  },
  {
   "cell_type": "code",
   "execution_count": null,
   "metadata": {},
   "outputs": [],
   "source": []
  },
  {
   "cell_type": "code",
   "execution_count": null,
   "metadata": {},
   "outputs": [],
   "source": []
  }
 ],
 "metadata": {
  "kernelspec": {
   "display_name": "Python 3",
   "language": "python",
   "name": "python3"
  },
  "language_info": {
   "codemirror_mode": {
    "name": "ipython",
    "version": 3
   },
   "file_extension": ".py",
   "mimetype": "text/x-python",
   "name": "python",
   "nbconvert_exporter": "python",
   "pygments_lexer": "ipython3",
   "version": "3.7.4"
  }
 },
 "nbformat": 4,
 "nbformat_minor": 4
}
