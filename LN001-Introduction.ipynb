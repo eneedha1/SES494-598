{
 "cells": [
  {
   "cell_type": "markdown",
   "metadata": {
    "slideshow": {
     "slide_type": "slide"
    }
   },
   "source": [
    "## SES494 Exploring Data with Python\n",
    "\n",
    "## SES598 Python for Graduate Research\n",
    "\n",
    "\n",
    "\n",
    "Instructor: Prof. Mingming Li\n",
    "\n",
    "TA: Alexandra Pye"
   ]
  },
  {
   "cell_type": "markdown",
   "metadata": {
    "slideshow": {
     "slide_type": "slide"
    }
   },
   "source": [
    "# Syllabus (handout syllabus)"
   ]
  },
  {
   "cell_type": "markdown",
   "metadata": {
    "slideshow": {
     "slide_type": "slide"
    }
   },
   "source": [
    "# Instructor - Mingming Li\n",
    "\n",
    "- Geophysics, Geodynamics, Numerical modeling\n",
    "- Email: Mingming.Li@asu.edu\n",
    "- Office: ISTB4-579\n"
   ]
  },
  {
   "cell_type": "markdown",
   "metadata": {},
   "source": [
    "# Teaching assistant\n",
    "- Alexandra Pye\n",
    "- Email:  Alexandra.Pye@asu.edu \n",
    "- Office: ISTB4 686"
   ]
  },
  {
   "cell_type": "markdown",
   "metadata": {},
   "source": [
    "# Lecture time and place\n",
    "- Tuesday, Thursday 10:30-11:45 am\n",
    "\n",
    "- Room PSH 461\n",
    "\n",
    "- Attending lecture is mandatory. The only exception is if you provide advanced notice that you cannot attend due to research-related reasons, religious practices, or university sanctioned events.\n"
   ]
  },
  {
   "cell_type": "markdown",
   "metadata": {},
   "source": [
    "# Office hour\n",
    "- Immediately after class\n",
    "- By appointment\n",
    "- Mingming Li: Tuesday 9:15-10:15 am\n",
    "- Alexandra Pye: Thursday afterclass\n",
    "\n",
    "- Please feel comfortable contacting me or Alex to set up an appointment, but please do not wait until just before the homework is due.\n"
   ]
  },
  {
   "cell_type": "markdown",
   "metadata": {},
   "source": [
    "# Grading\n",
    "- Homework (50%) + Final Exam (30%) + Attendance (20%) \n",
    "- Graduate students and undergraduate students will be graded separately\n",
    "- We will check attendance for each class (start from week 3, 4 points will be taken off for each missed class if you don't tell me the reason before the class)\n",
    "- In-class exam for 1.5 hrs\n",
    "- The exam consists of a few coding questions"
   ]
  },
  {
   "cell_type": "markdown",
   "metadata": {},
   "source": [
    "# Textbooks\n",
    "\n",
    "* [D. J. Pine (2015, release 0.9.31) Introduction to Python for Science](https://physics.nyu.edu/pine/pymanual/html/pymanMaster.html) This is our primary text book.\n",
    "\n",
    "* [G. Varoquaux (2017) Sipy Lecture notes](https://www.scipy-lectures.org/index.html)\n",
    "\n",
    "* [C. R. Severance (2015) Python for everybody](http://do1.dr-chuck.com/pythonlearn/EN_us/pythonlearn.pdf)"
   ]
  },
  {
   "cell_type": "markdown",
   "metadata": {},
   "source": [
    "# Course materials\n",
    "- Course materials are stored on Github.\n",
    "- You can go to the link below to download the course materials\n",
    "- https://github.com/mingming-li/SES494-598.git\n",
    "\n",
    "- You can also directly save the course materials from a terminal using the command of \n",
    "          git clone https://github.com/mingming-li/SES494-598.git\n",
    "\n",
    "- This command will create a folder named SES494-598 on your current directory. This folder contains all course materials in this class. The course materials are updated after each class.\n",
    "- To obtain the latest versions of the course materials, you can open the terminal, go to the SES494-598 folder, and type the following:\n",
    "                                git pull\n",
    "                                \n",
    "- for windows system, you need to download and install [git for windows](https://git-scm.com) first."
   ]
  },
  {
   "cell_type": "markdown",
   "metadata": {},
   "source": [
    "# Schedule\n",
    "\n",
    "This class will cover Python basis, data analyais, plotting, coding, numerical methods, Linux basis"
   ]
  },
  {
   "cell_type": "markdown",
   "metadata": {},
   "source": [
    "## Learning Outcomes\n",
    "* Learn tools to write codes\n",
    "* Learn basics of Python language\n",
    "* Do a lot of excises and acquires experiences on coding\n",
    "* Know how to use Python to analysis scientific data\n",
    "* Know how to use computer to solve problems numerically\n"
   ]
  },
  {
   "cell_type": "markdown",
   "metadata": {},
   "source": [
    "# Homework\n",
    "- The most effective way to learn coding and data analysis is to practice using it\n",
    "- There will be a 10% penalty per day for late homework after the due-date. There will be very little exception to this. \n",
    "- Almost always, we will have already covered the material before you get your homework assignment. Therefore, you can get started on it immediately. Because of this, and because you are able to drop a homework, there will be no exceptions to the late penalty."
   ]
  },
  {
   "cell_type": "markdown",
   "metadata": {},
   "source": [
    "# Email communications\n",
    "- All email communication for this class will be done through your ASU email account. \n",
    "- You should be in the habit of checking your ASU email regularly as you will not only receive important information about your classes, but other important university updates and information. \n",
    "- You will be notified in a timely manner of any syllabus changes via email. \n"
   ]
  },
  {
   "cell_type": "markdown",
   "metadata": {
    "slideshow": {
     "slide_type": "slide"
    }
   },
   "source": [
    "## * We learn coding as a tool to understand data.  \n",
    "\n",
    "## * This course is not a computer science course."
   ]
  },
  {
   "cell_type": "markdown",
   "metadata": {
    "slideshow": {
     "slide_type": "slide"
    }
   },
   "source": [
    "# Class\n",
    "\n",
    "- Class will be interactive.  \n",
    "\n",
    "- We will do a lot of coding during class and lab.\n",
    "\n",
    "- During in-class coding exercises, the instructor and TA will go around and help.\n",
    "\n",
    "- Creative approaches are always welcome.\n",
    "\n",
    "- For in-class coding exercises, you are encouraged to help each other."
   ]
  },
  {
   "cell_type": "markdown",
   "metadata": {},
   "source": [
    "The Disability Resource Center is seeking a notetaker for this class to support the need of a fellow classmate. In exchange for providing this service, you will be compensated for your service. Please visit the DRC's web page at https://eoss.asu.edu./drc and click on any of the DRC Connect links on the page and select \"sign up as a notetaker\". The following link provides a short video tutorial of how to do this: https://www.youtube.com/watch?v=xffNHAfNdvw "
   ]
  },
  {
   "cell_type": "markdown",
   "metadata": {
    "slideshow": {
     "slide_type": "slide"
    }
   },
   "source": [
    "# Computers\n",
    "\n",
    "- You can bring and use your own laptop computer in the classroom.\n",
    "\n",
    "- We have 16 desktops available in this room for students and we have more students.\n",
    "\n",
    "- We need at least 9 students who can bring their laptops.\n",
    "\n",
    "- Do not save your personal information (including password) in the classroom computers."
   ]
  },
  {
   "cell_type": "markdown",
   "metadata": {
    "slideshow": {
     "slide_type": "slide"
    }
   },
   "source": [
    "# Audits\n",
    "\n",
    "- Limited number of computers available in the classroom and the priority will go to the registered student.\n",
    "\n",
    "- Room capacity, fire code.  \n",
    "\n",
    "- Auditing students can still learn python through the Anaconda installation.  We will install Anaconda together on Thursday.\n",
    "\n",
    "- Coding experience."
   ]
  },
  {
   "cell_type": "markdown",
   "metadata": {
    "slideshow": {
     "slide_type": "slide"
    }
   },
   "source": [
    "# This Thursday -- Bring your laptop\n",
    "\n",
    "- We will help you to install python (Anaconda) on Thursday in week 1.\n",
    "\n",
    "- Even if you decide to use the desktop computers in the classroom, please bring your laptop on Thursday.\n",
    "\n",
    "- Anaconda is the most popular Python data science platform"
   ]
  },
  {
   "cell_type": "markdown",
   "metadata": {},
   "source": [
    "# Jupiter notebook\n",
    "<img style=\"float:left;\" src=\"./figs/jupyternotebook.png\" width='800'>\n",
    "\n",
    "# Jupyter notebook as a publication format\n",
    "\n",
    "[Interactive notebooks: Sharing the code, Nature, 2014](http://www.nature.com/news/interactive-notebooks-sharing-the-code-1.16261)\n",
    "\n",
    "The free IPython notebook makes data analysis easier to record, understand and reproduce."
   ]
  }
 ],
 "metadata": {
  "anaconda-cloud": {},
  "celltoolbar": "Slideshow",
  "kernelspec": {
   "display_name": "Python 3",
   "language": "python",
   "name": "python3"
  },
  "language_info": {
   "codemirror_mode": {
    "name": "ipython",
    "version": 3
   },
   "file_extension": ".py",
   "mimetype": "text/x-python",
   "name": "python",
   "nbconvert_exporter": "python",
   "pygments_lexer": "ipython3",
   "version": "3.7.1"
  },
  "latex_envs": {
   "bibliofile": "biblio.bib",
   "cite_by": "apalike",
   "current_citInitial": 1,
   "eqLabelWithNumbers": true,
   "eqNumInitial": 0
  },
  "livereveal": {
   "height": "720",
   "scroll": "True",
   "start_slideshow_at": "selected",
   "theme": "white",
   "transition": "none",
   "width": "1280"
  },
  "nbpresent": {
   "slides": {
    "0a67a003-a391-40a4-9a75-0be700ae1945": {
     "id": "0a67a003-a391-40a4-9a75-0be700ae1945",
     "prev": "b5f69939-53d6-41d7-a7e6-23942c94efa0",
     "regions": {
      "da7fe5ce-e03a-4bd0-a79c-240fbcbcdb7a": {
       "attrs": {
        "height": 0.8,
        "width": 0.8,
        "x": 0.1,
        "y": 0.1
       },
       "content": {
        "cell": "2197b5a1-cc40-44ae-9158-73ccf33660a7",
        "part": "whole"
       },
       "id": "da7fe5ce-e03a-4bd0-a79c-240fbcbcdb7a"
      }
     }
    },
    "2c1842dc-8f9f-408f-be20-83298db80dcc": {
     "id": "2c1842dc-8f9f-408f-be20-83298db80dcc",
     "prev": "dc7be06e-039c-4c64-98cf-c3fd1a2add30",
     "regions": {
      "127c1719-a726-4673-81cb-a7e8c9b97d22": {
       "attrs": {
        "height": 0.8,
        "width": 0.8,
        "x": 0.1,
        "y": 0.1
       },
       "content": {
        "cell": "0f25fb42-609a-496c-bc9f-7b941df6e4dc",
        "part": "whole"
       },
       "id": "127c1719-a726-4673-81cb-a7e8c9b97d22"
      }
     }
    },
    "680b4891-1886-44a6-9a26-3173950fc5be": {
     "id": "680b4891-1886-44a6-9a26-3173950fc5be",
     "prev": "2c1842dc-8f9f-408f-be20-83298db80dcc",
     "regions": {
      "25287fe3-2e3c-459e-bd2e-1ada05227c08": {
       "attrs": {
        "height": 0.8,
        "width": 0.8,
        "x": 0.1,
        "y": 0.1
       },
       "content": {
        "cell": "8a29eef4-b703-4984-97a3-3943cf25bf36",
        "part": "whole"
       },
       "id": "25287fe3-2e3c-459e-bd2e-1ada05227c08"
      },
      "4a9822c4-11ce-465a-b718-54a32ece6746": {
       "attrs": {
        "height": 0.4,
        "width": 0.8,
        "x": 0.1,
        "y": 0.5
       },
       "content": {
        "cell": "ce480587-4539-4040-9c39-98ca273965b4",
        "part": "whole"
       },
       "id": "4a9822c4-11ce-465a-b718-54a32ece6746"
      }
     }
    },
    "8911a1a6-8a60-4c07-8185-91e06293e42d": {
     "id": "8911a1a6-8a60-4c07-8185-91e06293e42d",
     "prev": "0a67a003-a391-40a4-9a75-0be700ae1945",
     "regions": {
      "129710c2-bed4-472b-aead-d45e967efbf2": {
       "attrs": {
        "height": 0.8,
        "width": 0.8,
        "x": 0.1,
        "y": 0.1
       },
       "content": {
        "cell": "770a562a-1638-4e14-82d2-57999cb876b2",
        "part": "whole"
       },
       "id": "129710c2-bed4-472b-aead-d45e967efbf2"
      }
     }
    },
    "b5f69939-53d6-41d7-a7e6-23942c94efa0": {
     "id": "b5f69939-53d6-41d7-a7e6-23942c94efa0",
     "prev": null,
     "regions": {
      "f7c52ec8-980d-4169-82b9-50fdd8817434": {
       "attrs": {
        "height": 0.8,
        "width": 0.8,
        "x": 0.1,
        "y": 0.1
       },
       "content": {
        "cell": "dffca9ec-74df-41d4-a4fa-a499729f262b",
        "part": "whole"
       },
       "id": "f7c52ec8-980d-4169-82b9-50fdd8817434"
      }
     }
    },
    "dc7be06e-039c-4c64-98cf-c3fd1a2add30": {
     "id": "dc7be06e-039c-4c64-98cf-c3fd1a2add30",
     "prev": "8911a1a6-8a60-4c07-8185-91e06293e42d",
     "regions": {
      "ba142a16-ad21-4c96-bd8d-3c578164b882": {
       "attrs": {
        "height": 0.8,
        "width": 0.8,
        "x": 0.1,
        "y": 0.1
       },
       "content": {
        "cell": "428b57b8-6a3f-41bc-a607-a5cb1b005bc3",
        "part": "whole"
       },
       "id": "ba142a16-ad21-4c96-bd8d-3c578164b882"
      }
     }
    }
   },
   "themes": {
    "default": "94c91476-ab92-4793-8b73-1a21ed51b3fa",
    "theme": {}
   }
  }
 },
 "nbformat": 4,
 "nbformat_minor": 2
}
