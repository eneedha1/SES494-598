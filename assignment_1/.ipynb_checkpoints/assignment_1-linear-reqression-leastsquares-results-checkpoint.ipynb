{
 "cells": [
  {
   "cell_type": "markdown",
   "metadata": {},
   "source": [
    "# Assignment \\# 1 - Jupyter Notebook (55 points)"
   ]
  },
  {
   "cell_type": "markdown",
   "metadata": {},
   "source": [
    "__(Instruction)__ The purpose of this assignment is to make sure you know how to use Jupyter Notebook as a scientific coding environment for python.  Jupyter notebook provides a range of different functions for scientific documentation combined with codes.  In this assignment, a fully functioning jupyter notebook is provided as a hard copy and you will produce exactly the same jupyter notebook by filling in the cells below in this notebook. \n",
    "\n",
    "- The format of text should be exactly the same as the hard copy, including bold face, italics, headers, etc.\n",
    "\n",
    "- The format of equations should be exactly the same as the hard copy, including italics, non-italics, subscripts, superscripts, etc.\n",
    "\n",
    "- The figure should be imported properly.\n",
    "\n",
    "- The codes should work without any error.\n",
    "\n",
    "__(Due)__  09/17/2020, 9:30 AM\n",
    "\n",
    "__Email__ the *.ipynb file to the instructor. Name the title of the email by Python-HW01 and the attached file as YourLastName-YourFirstName-HW01.ipynb\n",
    "\n",
    "__(Where to find the hardcopy)__ It is under the same folder as this notebook.  The name is \"assignment_1-hardcopy.html\""
   ]
  },
  {
   "cell_type": "markdown",
   "metadata": {},
   "source": [
    "***"
   ]
  },
  {
   "cell_type": "markdown",
   "metadata": {},
   "source": [
    "## Least-Squares Linear Regression"
   ]
  },
  {
   "cell_type": "markdown",
   "metadata": {},
   "source": [
    "(text: 1 pt)"
   ]
  },
  {
   "cell_type": "markdown",
   "metadata": {},
   "source": [
    "The example here shows how to conduct least-squares linear regression with python.  This is quite common task in scientific data analysis.  The notebook you make here can be also a good template to keep for future use for least-squares fitting. "
   ]
  },
  {
   "cell_type": "markdown",
   "metadata": {},
   "source": [
    "### Background"
   ]
  },
  {
   "cell_type": "markdown",
   "metadata": {},
   "source": [
    "(text: 4 pts; figure: 5 pts)"
   ]
  },
  {
   "cell_type": "markdown",
   "metadata": {},
   "source": [
    "In this notebook, we will find a pair of __slope__ and __intercept__ that _minimizes_ the sum of the residuals (vertical offsets or distances) for a synthetic dataset.  The figure below also shows the main idea of least-squares linear regression.  "
   ]
  },
  {
   "cell_type": "markdown",
   "metadata": {},
   "source": [
    "<img src=\"images/linear_regression_scheme.png\" width=\"450\" >"
   ]
  },
  {
   "cell_type": "markdown",
   "metadata": {},
   "source": [
    "### Synthesize a dataset"
   ]
  },
  {
   "cell_type": "markdown",
   "metadata": {},
   "source": [
    "(text: 2 pts; code: 3 pts)"
   ]
  },
  {
   "cell_type": "markdown",
   "metadata": {},
   "source": [
    "Import some modules."
   ]
  },
  {
   "cell_type": "code",
   "execution_count": 2,
   "metadata": {},
   "outputs": [],
   "source": [
    "import numpy as np\n",
    "import scipy.stats\n",
    "import matplotlib.pyplot as plt\n",
    "%matplotlib inline"
   ]
  },
  {
   "cell_type": "markdown",
   "metadata": {},
   "source": [
    "The cell below produce a __synthetic dataset__ with randomly generated noise."
   ]
  },
  {
   "cell_type": "code",
   "execution_count": 3,
   "metadata": {},
   "outputs": [],
   "source": [
    "rng = np.random.RandomState(123)\n",
    "mean = [100, 1000]\n",
    "cov = [[1, 0.9], [0.9, 1]]\n",
    "sample = rng.multivariate_normal(mean, cov, size=100)\n",
    "x, y = sample[:, 0], sample[:, 1]"
   ]
  },
  {
   "cell_type": "markdown",
   "metadata": {},
   "source": [
    "Plot the synthetic dataset."
   ]
  },
  {
   "cell_type": "code",
   "execution_count": 4,
   "metadata": {},
   "outputs": [
    {
     "data": {
      "image/png": "[encoded data removed]",
      "text/plain": [
       "<Figure size 432x288 with 1 Axes>"
      ]
     },
     "metadata": {
      "needs_background": "light"
     },
     "output_type": "display_data"
    }
   ],
   "source": [
    "plt.scatter(x, y)\n",
    "plt.title('Data')\n",
    "plt.xlabel('$x$')\n",
    "plt.ylabel('$y$')\n",
    "plt.show()"
   ]
  },
  {
   "cell_type": "markdown",
   "metadata": {},
   "source": [
    "### Via statistics"
   ]
  },
  {
   "cell_type": "markdown",
   "metadata": {},
   "source": [
    "(text: 1 pt; equation: 10 pts; code 1 pt)"
   ]
  },
  {
   "cell_type": "markdown",
   "metadata": {},
   "source": [
    "Using statistics:\n",
    "\n",
    "$$w_1 = \\frac{\\sigma_{xy}}{\\sigma_{x}^{2}}$$\n",
    "\n",
    "$$b = \\bar{y} - w_1\\bar{x}$$\n",
    "\n",
    "where $\\sigma_{xy}$ is the covariance, $\\sigma_{xy} = \\frac{1}{n} \\sum_{i=1}^{n} (x_i - \\bar{x})(y_i - \\bar{y})$, and $\\sigma^{2}_{x}$ is the variance, $\\sigma^{2}_{x} = \\frac{1}{n} \\sum_{i=1}^{n} (x_i - \\bar{x})^2$.  $\\bar{x}$ and $\\bar{y}$ are averages of $x$ and $y$, respectively. "
   ]
  },
  {
   "cell_type": "code",
   "execution_count": 5,
   "metadata": {},
   "outputs": [
    {
     "name": "stdout",
     "output_type": "stream",
     "text": [
      "slope: 0.84\n",
      "y-intercept: 915.59\n"
     ]
    }
   ],
   "source": [
    "cov_xy = np.cov(np.vstack((x, y)), ddof=0)[0, 1]\n",
    "var_x = np.var(x, ddof=0)\n",
    "w1 = cov_xy / var_x\n",
    "b = np.mean(y) - w1*np.mean(x)\n",
    "\n",
    "print('slope: {:.2f}'.format(w1))\n",
    "print('y-intercept: {:.2f}'.format(b))"
   ]
  },
  {
   "cell_type": "markdown",
   "metadata": {},
   "source": [
    "### Via linear algebra"
   ]
  },
  {
   "cell_type": "markdown",
   "metadata": {},
   "source": [
    "(text: 1 pt; equation: 1 pt; code: 1 pt)"
   ]
  },
  {
   "cell_type": "markdown",
   "metadata": {},
   "source": [
    "Analytical solution:"
   ]
  },
  {
   "cell_type": "markdown",
   "metadata": {},
   "source": [
    "$$w = (X^T X)^{-1} X^T y$$"
   ]
  },
  {
   "cell_type": "code",
   "execution_count": 6,
   "metadata": {},
   "outputs": [
    {
     "name": "stdout",
     "output_type": "stream",
     "text": [
      "slope: 0.84\n",
      "y-intercept: 915.59\n"
     ]
    }
   ],
   "source": [
    "X = x[:, np.newaxis]\n",
    "\n",
    "# adding a column vector of \"ones\"\n",
    "Xb = np.hstack((np.ones((X.shape[0], 1)), X))\n",
    "w = np.zeros(X.shape[1])\n",
    "\n",
    "z = np.linalg.inv(np.dot(Xb.T, Xb))\n",
    "w = np.dot(z, np.dot(Xb.T, y))\n",
    "b, w1 = w[0], w[1]\n",
    "\n",
    "print('slope: {:.2f}'.format(w1))\n",
    "print('y-intercept: {:.2f}'.format(b))"
   ]
  },
  {
   "cell_type": "markdown",
   "metadata": {},
   "source": [
    "### Using a pre-implemented function"
   ]
  },
  {
   "cell_type": "markdown",
   "metadata": {},
   "source": [
    "(text: 3 pts; code: 1 pt)"
   ]
  },
  {
   "cell_type": "markdown",
   "metadata": {},
   "source": [
    "You may use the __polyfit__ function in __numpy__."
   ]
  },
  {
   "cell_type": "code",
   "execution_count": 7,
   "metadata": {},
   "outputs": [
    {
     "name": "stdout",
     "output_type": "stream",
     "text": [
      "slope: 0.84\n",
      "y-intercept: 915.59\n"
     ]
    }
   ],
   "source": [
    "w = np.polyfit(x, y, deg=1)\n",
    "b, w1 = w[1], w[0]\n",
    "print('slope: {:.2f}'.format(w1))\n",
    "print('y-intercept: {:.2f}'.format(b))"
   ]
  },
  {
   "cell_type": "markdown",
   "metadata": {},
   "source": [
    "### Fitting result"
   ]
  },
  {
   "cell_type": "markdown",
   "metadata": {},
   "source": [
    "(text: 1 pt; code: 1 pt)"
   ]
  },
  {
   "cell_type": "code",
   "execution_count": 8,
   "metadata": {},
   "outputs": [
    {
     "data": {
      "image/png": "[encoded data removed]",
      "text/plain": [
       "<Figure size 432x288 with 1 Axes>"
      ]
     },
     "metadata": {
      "needs_background": "light"
     },
     "output_type": "display_data"
    }
   ],
   "source": [
    "extremes = np.array([np.min(x), np.max(x)])\n",
    "predict = extremes * w1 + b\n",
    "\n",
    "plt.plot(x, y, marker='o', linestyle='')\n",
    "plt.plot(extremes, predict)\n",
    "plt.title(\"Fitting result\")\n",
    "plt.xlabel('$x$')\n",
    "plt.ylabel('$y$')\n",
    "plt.show()"
   ]
  },
  {
   "cell_type": "markdown",
   "metadata": {},
   "source": [
    "### Evaluation of fitting"
   ]
  },
  {
   "cell_type": "markdown",
   "metadata": {},
   "source": [
    "(text: 3 pts; equation: 4 pts; code: 3 pts)"
   ]
  },
  {
   "cell_type": "markdown",
   "metadata": {},
   "source": [
    "Mean squared error (MSE):"
   ]
  },
  {
   "cell_type": "markdown",
   "metadata": {},
   "source": [
    "$$MSE = \\frac{1}{n} \\sum_{i=1}^{n} \\big(y_i - \\hat{y}_i\\big)^2$$"
   ]
  },
  {
   "cell_type": "markdown",
   "metadata": {},
   "source": [
    "where $\\hat{y}$ is predicted average $y$ value for a given $x$."
   ]
  },
  {
   "cell_type": "markdown",
   "metadata": {},
   "source": [
    "Note that __MSE__ is _scale-dependent_."
   ]
  },
  {
   "cell_type": "code",
   "execution_count": 9,
   "metadata": {},
   "outputs": [
    {
     "name": "stdout",
     "output_type": "stream",
     "text": [
      "Mean squared error =  0.21920128791623272\n"
     ]
    }
   ],
   "source": [
    "y_predicted = x*w1 + b\n",
    "mse = np.mean((y - y_predicted)**2)\n",
    "print(\"Mean squared error = \", mse)"
   ]
  },
  {
   "cell_type": "markdown",
   "metadata": {},
   "source": [
    "Root mean squared error:"
   ]
  },
  {
   "cell_type": "code",
   "execution_count": 10,
   "metadata": {},
   "outputs": [
    {
     "name": "stdout",
     "output_type": "stream",
     "text": [
      "Root mean spared error 0.4681893718531346\n"
     ]
    }
   ],
   "source": [
    "rmse = np.sqrt(mse)\n",
    "print(\"Root mean spared error\", rmse)"
   ]
  },
  {
   "cell_type": "markdown",
   "metadata": {},
   "source": [
    "Plot fit residuals."
   ]
  },
  {
   "cell_type": "code",
   "execution_count": 11,
   "metadata": {},
   "outputs": [
    {
     "data": {
      "text/plain": [
       "<matplotlib.lines.Line2D at 0x1f1cd76edf0>"
      ]
     },
     "execution_count": 11,
     "metadata": {},
     "output_type": "execute_result"
    },
    {
     "data": {
      "image/png": "[encoded data removed]",
      "text/plain": [
       "<Figure size 432x288 with 1 Axes>"
      ]
     },
     "metadata": {
      "needs_background": "light"
     },
     "output_type": "display_data"
    }
   ],
   "source": [
    "plt.scatter(np.arange(x.shape[0]), y - y_predicted)\n",
    "plt.ylabel('$y - \\hat{y}$')\n",
    "plt.xlabel('$x$')\n",
    "plt.title('Fit residue')\n",
    "plt.axhline(0., color='k')"
   ]
  },
  {
   "cell_type": "markdown",
   "metadata": {},
   "source": [
    "### Coefficient of determination ($R^2$)"
   ]
  },
  {
   "cell_type": "markdown",
   "metadata": {},
   "source": [
    "(text: 4 pts; equation: 4 pts; code: 1 pt)"
   ]
  },
  {
   "cell_type": "markdown",
   "metadata": {},
   "source": [
    "- Total sum of squares (variability of the reponse or target variable, proportional to variance):\n",
    "\n",
    "$$SS_{total} = \\sum_{i=1}^{n} \\big( y_i - \\bar{y_i} \\big)^2$$\n",
    "\n",
    "- Residual sum of squares:\n",
    "\n",
    "$$SS_{residual} = \\sum_{i=1}^{n} \\big( \\hat{y}_i - \\bar{y}_i \\big)^2$$\n",
    "\n",
    "- Coefficient of determination\n",
    "\n",
    "$$R^2 = \\frac{SS_{residual}}{SS_{total}}$$"
   ]
  },
  {
   "cell_type": "code",
   "execution_count": 12,
   "metadata": {},
   "outputs": [
    {
     "name": "stdout",
     "output_type": "stream",
     "text": [
      "Coefficient of determination =  0.7665392849276278\n"
     ]
    }
   ],
   "source": [
    "mean_y = np.mean(y)\n",
    "SS_total = np.sum((y - mean_y)**2)\n",
    "SS_residual = np.sum((y_predicted - mean_y)**2)\n",
    "r_squared = SS_residual / SS_total\n",
    "print(\"Coefficient of determination = \", r_squared)"
   ]
  },
  {
   "cell_type": "code",
   "execution_count": null,
   "metadata": {},
   "outputs": [],
   "source": []
  },
  {
   "cell_type": "code",
   "execution_count": null,
   "metadata": {},
   "outputs": [],
   "source": []
  }
 ],
 "metadata": {
  "kernelspec": {
   "display_name": "Python 3",
   "language": "python",
   "name": "python3"
  },
  "language_info": {
   "codemirror_mode": {
    "name": "ipython",
    "version": 3
   },
   "file_extension": ".py",
   "mimetype": "text/x-python",
   "name": "python",
   "nbconvert_exporter": "python",
   "pygments_lexer": "ipython3",
   "version": "3.8.3"
  }
 },
 "nbformat": 4,
 "nbformat_minor": 4
}
