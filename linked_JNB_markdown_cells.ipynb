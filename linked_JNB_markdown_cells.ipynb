{
 "cells": [
  {
   "cell_type": "markdown",
   "metadata": {},
   "source": [
    "## Markdown\n",
    "\n",
    "- For headers:\n",
    "\n",
    "```\n",
    "#   Header1\n",
    "##  Header2\n",
    "### Header3\n",
    "```\n",
    "\n",
    "will produce:\n",
    "\n",
    "\n",
    "#   Header1\n",
    "##  Header2\n",
    "### Header3\n"
   ]
  },
  {
   "cell_type": "markdown",
   "metadata": {},
   "source": [
    "# Header1"
   ]
  },
  {
   "cell_type": "markdown",
   "metadata": {},
   "source": [
    "## Markdown\n",
    "\n",
    "\n",
    "- __bold__ or **bold** : ```__bold__``` or ```**bold**```\n",
    "\n",
    "- _italic_ or *italic*: ```_italic_``` or ```*italic*```\n",
    "\n",
    "- Quotes:\n",
    "\n",
    "```\n",
    "> I copied this section from somewhere.\n",
    "```\n",
    "\n",
    "> I copied this section from somewhere."
   ]
  },
  {
   "cell_type": "markdown",
   "metadata": {},
   "source": [
    "# Today's goals\n",
    "- write __first__ code\n",
    "- learn jupyter notebook"
   ]
  },
  {
   "cell_type": "markdown",
   "metadata": {},
   "source": [
    "## Markdown\n",
    "\n",
    "- Itemized list:\n",
    "\n",
    "```\n",
    "- convergent boundary\n",
    "\n",
    "- divergent boundary\n",
    "\n",
    "- transform fault\n",
    "```\n",
    "\n",
    "- convergent boundary\n",
    "\n",
    "- divergent boundary\n",
    "\n",
    "- transform fault"
   ]
  },
  {
   "cell_type": "markdown",
   "metadata": {},
   "source": [
    "## How to make links\n",
    "\n",
    "```\n",
    "[Text](web link or file link)\n",
    "```"
   ]
  },
  {
   "cell_type": "markdown",
   "metadata": {},
   "source": [
    "## More on `Markdown` in `JNB`\n",
    "\n",
    "- [A notebook for JNB markdowns](http://jeffskinnerbox.me/notebooks/ipython's-rich-display-system.html).  I will cover some of these materials later in our `JNB` advanced sessions. \n",
    "\n",
    "- [A short markdown cheat sheet](http://nestacms.com/docs/creating-content/markdown-cheat-sheet)\n",
    "\n",
    "- [A differently flavored cheat sheet](https://github.com/adam-p/markdown-here/wiki/Markdown-Here-Cheatsheet)"
   ]
  }
 ],
 "metadata": {
  "kernelspec": {
   "display_name": "Python 3",
   "language": "python",
   "name": "python3"
  },
  "language_info": {
   "codemirror_mode": {
    "name": "ipython",
    "version": 3
   },
   "file_extension": ".py",
   "mimetype": "text/x-python",
   "name": "python",
   "nbconvert_exporter": "python",
   "pygments_lexer": "ipython3",
   "version": "3.7.4"
  }
 },
 "nbformat": 4,
 "nbformat_minor": 4
}
