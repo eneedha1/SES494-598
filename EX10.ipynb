{
 "cells": [
  {
   "cell_type": "markdown",
   "metadata": {},
   "source": [
    "# Exercise 10 sorting algorithm"
   ]
  },
  {
   "cell_type": "markdown",
   "metadata": {},
   "source": [
    "- Coding is all about syntax and algorithm\n",
    "- The efficiency of different algorithm can be very different\n",
    "- A complex task can be always divided into many easy steps. This is also how we solve problems (e.g., build a spacecraft to Mars) in our lives, no matter how hard the problems are.\n",
    "- Coding is all about: 1. understand the problem, 2. make a detailed plan with many steps, 3. describe the steps using human language, 4. translate human language into computer language."
   ]
  },
  {
   "cell_type": "code",
   "execution_count": 3,
   "metadata": {},
   "outputs": [],
   "source": [
    "x=[0.05465253, 0.38845019, 0.08802595, 0.3530307 , 0.99911915,\n",
    "       0.07703163, 0.26269039, 0.12891939, 0.61711249, 0.31326518, 0.31326518]"
   ]
  },
  {
   "cell_type": "markdown",
   "metadata": {},
   "source": [
    "# How to sort a list?"
   ]
  },
  {
   "cell_type": "code",
   "execution_count": 4,
   "metadata": {},
   "outputs": [],
   "source": [
    "#step 1: create an empty list to store sorted numbers\n",
    "#step 2: find the minimum number from the list to be sorted\n",
    "#step 3: add the minimum number to the sorted list\n",
    "#step 4: delete the minimum number from the old list\n",
    "#step 5: repeat 2, 3 and 4, until the old list is empty\n",
    "import numpy as np\n",
    "import time\n",
    "x=[0.05465253, 0.38845019, 0.08802595, 0.3530307 , 0.99911915,\n",
    "       0.07703163, 0.26269039, 0.12891939, 0.61711249, 0.31326518, 0.31326518]\n"
   ]
  },
  {
   "cell_type": "code",
   "execution_count": 5,
   "metadata": {},
   "outputs": [],
   "source": [
    "#complete the function here\n",
    "def sorting(x):\n",
    "    \n",
    "    return x"
   ]
  },
  {
   "cell_type": "code",
   "execution_count": 6,
   "metadata": {},
   "outputs": [
    {
     "data": {
      "text/plain": [
       "[0.05465253,\n",
       " 0.38845019,\n",
       " 0.08802595,\n",
       " 0.3530307,\n",
       " 0.99911915,\n",
       " 0.07703163,\n",
       " 0.26269039,\n",
       " 0.12891939,\n",
       " 0.61711249,\n",
       " 0.31326518,\n",
       " 0.31326518]"
      ]
     },
     "execution_count": 6,
     "metadata": {},
     "output_type": "execute_result"
    }
   ],
   "source": [
    "#test your code\n",
    "sorting(x)"
   ]
  },
  {
   "cell_type": "markdown",
   "metadata": {},
   "source": [
    "Creat a random list of numbers and sort it using your method and compare with Python's own function"
   ]
  },
  {
   "cell_type": "code",
   "execution_count": 7,
   "metadata": {},
   "outputs": [],
   "source": [
    "a=list(np.random.rand(20000)) # generate 2000 random numbers in the range of (0,1)"
   ]
  },
  {
   "cell_type": "code",
   "execution_count": 8,
   "metadata": {},
   "outputs": [
    {
     "name": "stdout",
     "output_type": "stream",
     "text": [
      "sorting1 takes 0.000000 sec.\n"
     ]
    }
   ],
   "source": [
    "start = time.time()\n",
    "sorting(a)\n",
    "end = time.time()\n",
    "print('sorting1 takes %f sec.' % (end-start))"
   ]
  },
  {
   "cell_type": "markdown",
   "metadata": {},
   "source": [
    "# Is there more efficient way to sort?"
   ]
  },
  {
   "cell_type": "markdown",
   "metadata": {},
   "source": [
    "More information about sorting https://brilliant.org/wiki/sorting-algorithms/"
   ]
  },
  {
   "cell_type": "code",
   "execution_count": null,
   "metadata": {},
   "outputs": [],
   "source": []
  },
  {
   "cell_type": "code",
   "execution_count": null,
   "metadata": {},
   "outputs": [],
   "source": []
  }
 ],
 "metadata": {
  "kernelspec": {
   "display_name": "Python 3",
   "language": "python",
   "name": "python3"
  },
  "language_info": {
   "codemirror_mode": {
    "name": "ipython",
    "version": 3
   },
   "file_extension": ".py",
   "mimetype": "text/x-python",
   "name": "python",
   "nbconvert_exporter": "python",
   "pygments_lexer": "ipython3",
   "version": "3.7.4"
  }
 },
 "nbformat": 4,
 "nbformat_minor": 4
}
