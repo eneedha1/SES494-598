{
 "cells": [
  {
   "cell_type": "markdown",
   "metadata": {},
   "source": [
    "# Assignment 3 (loops and conditions)\n",
    "#### 140 points"
   ]
  },
  {
   "cell_type": "markdown",
   "metadata": {},
   "source": [
    "__(Instruction)__ The purpose of this assignment is to practice using for and while loops and if-elif-else conditions\n",
    "\n",
    "* Although there are functions available in Python to do most of the problems in this assignment, it is important that we know how to solve these problems using loops and conditions. This way, we can handle more complex work that cannot be done by pre-existing functions. In addition, we can also make our own functions by using loops and conditions. In such case, we are not limited by the resources online.\n",
    "\n",
    "Due date: October 22, 2020, 11:59pm"
   ]
  },
  {
   "cell_type": "markdown",
   "metadata": {},
   "source": [
    "### Question 1\n",
    "Write a program to calculate the factorial of a positive integer input by the user. Recall that the factorial function is given by $x! = x (x-1) (x-2) ... (2) (1)$ so that $1!=1$, $2!=2$, $3!=6$, $4!=24$, ..."
   ]
  },
  {
   "cell_type": "markdown",
   "metadata": {},
   "source": [
    "(a) Write the factorial function using a Python `while` loop. \n",
    "* (5 points)"
   ]
  },
  {
   "cell_type": "code",
   "execution_count": 1,
   "metadata": {},
   "outputs": [
    {
     "name": "stdin",
     "output_type": "stream",
     "text": [
      " 3\n"
     ]
    },
    {
     "name": "stdout",
     "output_type": "stream",
     "text": [
      "3 ! = 6\n"
     ]
    }
   ],
   "source": [
    "import numpy as np\n",
    "x = int(input())\n",
    "factorial = x-1\n",
    "product = x\n",
    "while factorial > 1:\n",
    "    product = product * factorial\n",
    "    factorial = factorial - 1\n",
    "print('%i ! = %i'%(x,product))"
   ]
  },
  {
   "cell_type": "markdown",
   "metadata": {},
   "source": [
    "(b) Write the factorial function using a Python `for` loop. \n",
    "*(5 points)"
   ]
  },
  {
   "cell_type": "code",
   "execution_count": 9,
   "metadata": {},
   "outputs": [
    {
     "name": "stdin",
     "output_type": "stream",
     "text": [
      " 6\n"
     ]
    },
    {
     "name": "stdout",
     "output_type": "stream",
     "text": [
      "6 ! = 720\n"
     ]
    }
   ],
   "source": [
    "n = int(input())\n",
    "product = n\n",
    "for i in range(n,2,-1):\n",
    "    product = product*(i-1)\n",
    "print('%i ! = %i'%(n,product))"
   ]
  },
  {
   "cell_type": "markdown",
   "metadata": {},
   "source": [
    "(c) With a given integral number n, write a program to generate a dictionary that contains (i, factorial of i) such that is an integral number between 1 and n (both included) \n",
    "\n",
    "Suppose the following input is supplied to the program:\n",
    "8\n",
    "\n",
    "Then, the output should be:\n",
    "{1: 1, 2: 2, 3: 6, 4: 24, 5: 120, 6: 720, 7: 5040, 8: 40320}\n",
    "* (10 points)"
   ]
  },
  {
   "cell_type": "code",
   "execution_count": null,
   "metadata": {},
   "outputs": [],
   "source": [
    "print('Please provide an integer greater than or equal to 1')\n",
    "n = int(input())\n",
    "dict = {}\n",
    "for i in range(1,n+1):\n",
    "    if i >1:\n",
    "        dict.update({\"%i\"%i:\"%i\"%(i*(int(dict.get('%i'%(i-1)))))})\n",
    "    else:\n",
    "        dict.update({\"%i\"%i:'1'})\n",
    "        \n",
    "print(dict)"
   ]
  },
  {
   "cell_type": "markdown",
   "metadata": {},
   "source": [
    "### Question 2\n",
    "Write a program which will find all such numbers which are divisible by 7 but are not a multiple of 5, between 2000 and 3200 (both included).\n",
    "* (5 points)"
   ]
  },
  {
   "cell_type": "code",
   "execution_count": null,
   "metadata": {},
   "outputs": [],
   "source": [
    "import numpy as np\n",
    "nums_by_7_ex_5 = []\n",
    "for i in range(2000,3201):\n",
    "    if i%7 == 0 and i%5 != 0:\n",
    "        nums_by_7_ex_5.append(i)\n",
    "nums_by_7_ex_5 = np.asarray(nums_by_7_ex_5)\n",
    "nums_by_7_ex_5\n",
    "\n",
    "        "
   ]
  },
  {
   "cell_type": "markdown",
   "metadata": {},
   "source": [
    "### Question 3\n",
    "(a) Consider the matrix list `x = [[1, 2, 3], [4, 5, 6], [7, 8, 9]]`. Write a list comprehension to extract the last column of the matrix \\[3, 6, 9\\].\n",
    "* (5 points)"
   ]
  },
  {
   "cell_type": "code",
   "execution_count": null,
   "metadata": {},
   "outputs": [],
   "source": [
    "x = [[1, 2, 3], [4, 5, 6], [7, 8, 9]]\n",
    "last = [i[-1] for i in x]\n",
    "last"
   ]
  },
  {
   "cell_type": "markdown",
   "metadata": {},
   "source": [
    "(b) Write another list comprehension to create a vector of twice the square of the middle column `[8, 50, 128]`.\n",
    "* (5 points)"
   ]
  },
  {
   "cell_type": "code",
   "execution_count": null,
   "metadata": {},
   "outputs": [],
   "source": [
    "twice_sq_mid = [2*j[1]**2 for j in x]\n",
    "twice_sq_mid"
   ]
  },
  {
   "cell_type": "markdown",
   "metadata": {},
   "source": [
    "### Question 4\n",
    "In EX07, we have worked together to write a code to read the file earthquake.csv and assign each column to a list. We now want to further examine this earthquake catalog."
   ]
  },
  {
   "cell_type": "markdown",
   "metadata": {},
   "source": [
    "The code is shown below"
   ]
  },
  {
   "cell_type": "code",
   "execution_count": null,
   "metadata": {},
   "outputs": [],
   "source": [
    "import numpy as np\n",
    "fp=open(\"earthquake.csv\",\"r\")\n",
    "lines=fp.readlines()\n",
    "fp.close()\n",
    "year=[];month=[];day=[];time=[];mag=[];lon=[];lat=[];depth=[];region=[]\n",
    "for line in lines[1:]:\n",
    "    if \"\\\"\" in line:\n",
    "        temp=line.split(\",\")\n",
    "        year.append(temp[0]);month.append(temp[1])\n",
    "        day.append(temp[2]);time.append(temp[3])\n",
    "        mag.append(temp[4]);lon.append(temp[5]);lat.append(temp[6])\n",
    "        depth.append(temp[7]);region.append(temp[8]+\",\"+temp[9])\n",
    "    else:\n",
    "        temp=line.split(\",\")\n",
    "        year.append(temp[0]);month.append(temp[1])\n",
    "        day.append(temp[2]);time.append(temp[3])\n",
    "        mag.append(temp[4]);lon.append(temp[5]);lat.append(temp[6])\n",
    "        depth.append(temp[7]);region.append(temp[8])"
   ]
  },
  {
   "cell_type": "markdown",
   "metadata": {},
   "source": [
    "The code above will give you variables of 'year', 'month', 'day', 'time', 'mag', 'lon', 'lat', 'depth', and 'regoin'. All these variables have `list` data type.\n",
    "__Be careful that  Each element within the lists has `string` data type.__ Therefore, you will need to first convert strings to numbers before apply mathmatic operations on it."
   ]
  },
  {
   "cell_type": "code",
   "execution_count": null,
   "metadata": {},
   "outputs": [],
   "source": [
    "# To convert a string to a number, we use float() or int() functions\n",
    "a=\"10\"\n",
    "b=float(a)\n",
    "c=int(a)\n",
    "print(a,b,c)"
   ]
  },
  {
   "cell_type": "markdown",
   "metadata": {},
   "source": [
    "(a) Use `for` loop, or list comprehension to convert all elements in the lists of 'mag','lon','lat',and 'depth' to floating numbers, and all elements in 'year', 'month', and 'day' to integer numbers. Remember, only change the data type of each element, and do not change the variable names.\n",
    "* (10 points)"
   ]
  },
  {
   "cell_type": "code",
   "execution_count": null,
   "metadata": {},
   "outputs": [],
   "source": [
    "mag = [float(m) for m in mag]\n",
    "lon = [float(l) for l in lon]\n",
    "lat = [float(la) for la in lat]\n",
    "depth = [float(d) for d in depth]\n",
    "year = [int(y) for y in year]\n",
    "month = [int(mo) for mo in month]\n",
    "day = [int(da) for da in day]\n"
   ]
  },
  {
   "cell_type": "markdown",
   "metadata": {},
   "source": [
    "(b) Using `for` loop to calculate the average magnitude of the earthquakes in this catalog.\n",
    "* (10 points)"
   ]
  },
  {
   "cell_type": "code",
   "execution_count": null,
   "metadata": {},
   "outputs": [],
   "source": [
    "sum_mag = 0\n",
    "for i in range(0,len(mag)):\n",
    "    sum_mag = sum_mag + mag[i]\n",
    "av_mag = sum_mag / len(mag)\n",
    "av_mag"
   ]
  },
  {
   "cell_type": "markdown",
   "metadata": {},
   "source": [
    "(c) Calculate the average depth of the earthquakes whose magnitude is larger than 2.0\n",
    "* (15 points)"
   ]
  },
  {
   "cell_type": "code",
   "execution_count": null,
   "metadata": {},
   "outputs": [],
   "source": [
    "sum_depth_2plus = 0\n",
    "for i in range(0,len(mag)):\n",
    "    if mag[i] > 2.0:\n",
    "        sum_depth_2plus = sum_depth_2plus + depth[i]\n",
    "av_depth_2plus = sum_depth_2plus / len(depth)\n",
    "av_depth_2plus\n"
   ]
  },
  {
   "cell_type": "markdown",
   "metadata": {},
   "source": [
    "(d) Use loop and condition to find the maximum depth of the earthquakes\n",
    "* (20 points)"
   ]
  },
  {
   "cell_type": "code",
   "execution_count": null,
   "metadata": {},
   "outputs": [],
   "source": [
    "maxd = depth[0]\n",
    "for i in range(1,len(depth)):\n",
    "    if depth[i]>maxd:\n",
    "        maxd = depth[i]\n",
    "        imax = i\n",
    "maxd"
   ]
  },
  {
   "cell_type": "markdown",
   "metadata": {},
   "source": [
    "(e) In which region(s) does the largest earthquake(s) happen?\n",
    "* (25 points)"
   ]
  },
  {
   "cell_type": "code",
   "execution_count": null,
   "metadata": {},
   "outputs": [],
   "source": [
    "max_mags = []\n",
    "imax_ms = []\n",
    "largest = mag[0]\n",
    "for i in range(1,len(mag)):\n",
    "    if mag[i] > largest:\n",
    "        largest = mag[i]\n",
    "        imag_max=i\n",
    "ilargest = []\n",
    "for i in range(0,len(mag)):\n",
    "    if mag[i]==largest:\n",
    "        ilargest.append(i)\n",
    "if len(ilargest) == 1:\n",
    "    ilargest = ilargest[0]\n",
    "else:\n",
    "    print('multiple earthquakes at max of %.1f mag'%largest)\n",
    "    \n",
    "region_of_largest = region[ilargest]\n",
    "region_of_largest\n",
    "        \n"
   ]
  },
  {
   "cell_type": "markdown",
   "metadata": {},
   "source": [
    "(f) In which region(s) and at what year, month, day and time do the deepest earthquake(s) happen?\n",
    "* (30 points)"
   ]
  },
  {
   "cell_type": "code",
   "execution_count": null,
   "metadata": {},
   "outputs": [],
   "source": [
    "deepest = []\n",
    "ideepest = []\n",
    "for i in range(0,len(depth)):\n",
    "    if depth[i]==maxd:\n",
    "        deepest.append(depth[i])\n",
    "        ideepest.append(i)\n",
    "if len(ideepest) == 1:\n",
    "    ideepest = ideepest[0]\n",
    "else:\n",
    "    print('multiple earthquakes at depth of %.1f m'%deepest)\n",
    "r_deepest = region[ideepest];y_deepest = year[ideepest]\n",
    "m_deepest = month[ideepest];d_deepest = day[ideepest]\n",
    "t_deepest = time[ideepest]\n",
    "print('Information on the deepest earthquake:')\n",
    "print('region:',r_deepest)\n",
    "print('year:',y_deepest)\n",
    "print('month:',m_deepest)\n",
    "print('day:',d_deepest)\n",
    "print('time:',t_deepest)"
   ]
  }
 ],
 "metadata": {
  "kernelspec": {
   "display_name": "Python 3",
   "language": "python",
   "name": "python3"
  },
  "language_info": {
   "codemirror_mode": {
    "name": "ipython",
    "version": 3
   },
   "file_extension": ".py",
   "mimetype": "text/x-python",
   "name": "python",
   "nbconvert_exporter": "python",
   "pygments_lexer": "ipython3",
   "version": "3.7.6"
  }
 },
 "nbformat": 4,
 "nbformat_minor": 4
}
