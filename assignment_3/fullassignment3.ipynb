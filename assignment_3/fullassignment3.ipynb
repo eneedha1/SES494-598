{
 "cells": [
  {
   "cell_type": "markdown",
   "metadata": {},
   "source": [
    "# Assignment 3 (loops and conditions)\n",
    "#### 140 points"
   ]
  },
  {
   "cell_type": "markdown",
   "metadata": {},
   "source": [
    "__(Instruction)__ The purpose of this assignment is to practice using for and while loops and if-elif-else conditions\n",
    "\n",
    "* Although there are functions available in Python to do most of the problems in this assignment, it is important that we know how to solve these problems using loops and conditions. This way, we can handle more complex work that cannot be done by pre-existing functions. In addition, we can also make our own functions by using loops and conditions. In such case, we are not limited by the resources online.\n",
    "\n",
    "Due date: October 22, 2020, 11:59pm"
   ]
  },
  {
   "cell_type": "markdown",
   "metadata": {},
   "source": [
    "### Question 1\n",
    "Write a program to calculate the factorial of a positive integer input by the user. Recall that the factorial function is given by $x! = x (x-1) (x-2) ... (2) (1)$ so that $1!=1$, $2!=2$, $3!=6$, $4!=24$, ..."
   ]
  },
  {
   "cell_type": "markdown",
   "metadata": {},
   "source": [
    "(a) Write the factorial function using a Python `while` loop. \n",
    "* (5 points)"
   ]
  },
  {
   "cell_type": "code",
   "execution_count": 4,
   "metadata": {},
   "outputs": [
    {
     "name": "stdout",
     "output_type": "stream",
     "text": [
      "Please provide an integer to calculate its factorial\n"
     ]
    },
    {
     "name": "stdin",
     "output_type": "stream",
     "text": [
      " 5\n"
     ]
    },
    {
     "name": "stdout",
     "output_type": "stream",
     "text": [
      "5 ! = 120\n"
     ]
    }
   ],
   "source": [
    "print('Please provide an integer to calculate its factorial')\n",
    "x = int(input())\n",
    "fact = x-1\n",
    "product = x\n",
    "while fact > 1:\n",
    "    product = product * fact\n",
    "    fact = fact - 1\n",
    "print('%i ! = %i'%(x,product))"
   ]
  },
  {
   "cell_type": "markdown",
   "metadata": {},
   "source": [
    "(b) Write the factorial function using a Python `for` loop. \n",
    "*(5 points)"
   ]
  },
  {
   "cell_type": "code",
   "execution_count": 7,
   "metadata": {},
   "outputs": [
    {
     "name": "stdout",
     "output_type": "stream",
     "text": [
      "Please provide an integer to calculate its factorial\n"
     ]
    },
    {
     "name": "stdin",
     "output_type": "stream",
     "text": [
      " 4\n"
     ]
    },
    {
     "name": "stdout",
     "output_type": "stream",
     "text": [
      "4 ! = 24\n"
     ]
    }
   ],
   "source": [
    "print('Please provide an integer to calculate its factorial')\n",
    "n = int(input())\n",
    "product = n\n",
    "for i in range(n,2,-1):\n",
    "    product = product*(i-1)\n",
    "print('%i ! = %i'%(n,product))"
   ]
  },
  {
   "cell_type": "markdown",
   "metadata": {},
   "source": [
    "(c) With a given integral number n, write a program to generate a dictionary that contains (i, factorial of i) such that is an integral number between 1 and n (both included) \n",
    "\n",
    "Suppose the following input is supplied to the program:\n",
    "8\n",
    "\n",
    "Then, the output should be:\n",
    "{1: 1, 2: 2, 3: 6, 4: 24, 5: 120, 6: 720, 7: 5040, 8: 40320}\n",
    "* (10 points)"
   ]
  },
  {
   "cell_type": "code",
   "execution_count": 13,
   "metadata": {},
   "outputs": [
    {
     "name": "stdout",
     "output_type": "stream",
     "text": [
      "Please provide an integer greater than or equal to 1\n"
     ]
    },
    {
     "name": "stdin",
     "output_type": "stream",
     "text": [
      " 6\n"
     ]
    },
    {
     "data": {
      "text/plain": [
       "{'1': '1', '2': '2', '3': '6', '4': '24', '5': '120', '6': '720'}"
      ]
     },
     "execution_count": 13,
     "metadata": {},
     "output_type": "execute_result"
    }
   ],
   "source": [
    "print('Please provide an integer greater than or equal to 1')\n",
    "n = int(input())\n",
    "dict = {}\n",
    "for i in range(1,n+1):\n",
    "    if i >1:\n",
    "        dict.update({\"%i\"%i:\"%i\"%(i*(int(dict.get('%i'%(i-1)))))})\n",
    "    else:\n",
    "        dict.update({\"%i\"%i:'1'})\n",
    "        \n",
    "dict"
   ]
  },
  {
   "cell_type": "markdown",
   "metadata": {},
   "source": [
    "### Question 2\n",
    "Write a program which will find all such numbers which are divisible by 7 but are not a multiple of 5, between 2000 and 3200 (both included).\n",
    "* (5 points)"
   ]
  },
  {
   "cell_type": "code",
   "execution_count": 17,
   "metadata": {},
   "outputs": [
    {
     "data": {
      "text/plain": [
       "array([2002, 2009, 2016, 2023, 2037, 2044, 2051, 2058, 2072, 2079, 2086,\n",
       "       2093, 2107, 2114, 2121, 2128, 2142, 2149, 2156, 2163, 2177, 2184,\n",
       "       2191, 2198, 2212, 2219, 2226, 2233, 2247, 2254, 2261, 2268, 2282,\n",
       "       2289, 2296, 2303, 2317, 2324, 2331, 2338, 2352, 2359, 2366, 2373,\n",
       "       2387, 2394, 2401, 2408, 2422, 2429, 2436, 2443, 2457, 2464, 2471,\n",
       "       2478, 2492, 2499, 2506, 2513, 2527, 2534, 2541, 2548, 2562, 2569,\n",
       "       2576, 2583, 2597, 2604, 2611, 2618, 2632, 2639, 2646, 2653, 2667,\n",
       "       2674, 2681, 2688, 2702, 2709, 2716, 2723, 2737, 2744, 2751, 2758,\n",
       "       2772, 2779, 2786, 2793, 2807, 2814, 2821, 2828, 2842, 2849, 2856,\n",
       "       2863, 2877, 2884, 2891, 2898, 2912, 2919, 2926, 2933, 2947, 2954,\n",
       "       2961, 2968, 2982, 2989, 2996, 3003, 3017, 3024, 3031, 3038, 3052,\n",
       "       3059, 3066, 3073, 3087, 3094, 3101, 3108, 3122, 3129, 3136, 3143,\n",
       "       3157, 3164, 3171, 3178, 3192, 3199])"
      ]
     },
     "execution_count": 17,
     "metadata": {},
     "output_type": "execute_result"
    }
   ],
   "source": [
    "import numpy as np\n",
    "nums_by_7_ex_5 = []\n",
    "for i in range(2000,3201):\n",
    "    if i%7 == 0 and i%5 != 0:\n",
    "        nums_by_7_ex_5.append(i)\n",
    "nums_by_7_ex_5 = np.asarray(nums_by_7_ex_5)\n",
    "nums_by_7_ex_5\n",
    "\n",
    "        "
   ]
  },
  {
   "cell_type": "markdown",
   "metadata": {},
   "source": [
    "### Question 3\n",
    "(a) Consider the matrix list `x = [[1, 2, 3], [4, 5, 6], [7, 8, 9]]`. Write a list comprehension to extract the last column of the matrix \\[3, 6, 9\\].\n",
    "* (5 points)"
   ]
  },
  {
   "cell_type": "code",
   "execution_count": 18,
   "metadata": {},
   "outputs": [
    {
     "data": {
      "text/plain": [
       "[3, 6, 9]"
      ]
     },
     "execution_count": 18,
     "metadata": {},
     "output_type": "execute_result"
    }
   ],
   "source": [
    "x = [[1, 2, 3], [4, 5, 6], [7, 8, 9]]\n",
    "last = [i[-1] for i in x]\n",
    "last"
   ]
  },
  {
   "cell_type": "code",
   "execution_count": 19,
   "metadata": {},
   "outputs": [
    {
     "data": {
      "text/plain": [
       "[8, 50, 128]"
      ]
     },
     "execution_count": 19,
     "metadata": {},
     "output_type": "execute_result"
    }
   ],
   "source": []
  },
  {
   "cell_type": "markdown",
   "metadata": {},
   "source": [
    "(b) Write another list comprehension to create a vector of twice the square of the middle column `[8, 50, 128]`.\n",
    "* (5 points)"
   ]
  },
  {
   "cell_type": "code",
   "execution_count": 51,
   "metadata": {},
   "outputs": [
    {
     "data": {
      "text/plain": [
       "[8, 50, 128]"
      ]
     },
     "execution_count": 51,
     "metadata": {},
     "output_type": "execute_result"
    }
   ],
   "source": [
    "twice_sq_mid = [2*j[1]**2 for j in x]\n",
    "twice_sq_mid"
   ]
  },
  {
   "cell_type": "markdown",
   "metadata": {},
   "source": [
    "### Question 4\n",
    "In EX07, we have worked together to write a code to read the file earthquake.csv and assign each column to a list. We now want to further examine this earthquake catalog."
   ]
  },
  {
   "cell_type": "markdown",
   "metadata": {},
   "source": [
    "The code is shown below"
   ]
  },
  {
   "cell_type": "code",
   "execution_count": 20,
   "metadata": {},
   "outputs": [],
   "source": [
    "import numpy as np\n",
    "fp=open(\"earthquake.csv\",\"r\")\n",
    "lines=fp.readlines()\n",
    "fp.close()\n",
    "year=[];month=[];day=[];time=[];mag=[];lon=[];lat=[];depth=[];region=[]\n",
    "for line in lines[1:]:\n",
    "    if \"\\\"\" in line:\n",
    "        temp=line.split(\",\")\n",
    "        year.append(temp[0]);month.append(temp[1])\n",
    "        day.append(temp[2]);time.append(temp[3])\n",
    "        mag.append(temp[4]);lon.append(temp[5]);lat.append(temp[6])\n",
    "        depth.append(temp[7]);region.append(temp[8]+\",\"+temp[9])\n",
    "    else:\n",
    "        temp=line.split(\",\")\n",
    "        year.append(temp[0]);month.append(temp[1])\n",
    "        day.append(temp[2]);time.append(temp[3])\n",
    "        mag.append(temp[4]);lon.append(temp[5]);lat.append(temp[6])\n",
    "        depth.append(temp[7]);region.append(temp[8])"
   ]
  },
  {
   "cell_type": "markdown",
   "metadata": {},
   "source": [
    "The code above will give you variables of 'year', 'month', 'day', 'time', 'mag', 'lon', 'lat', 'depth', and 'regoin'. All these variables have `list` data type.\n",
    "__Be careful that  Each element within the lists has `string` data type.__ Therefore, you will need to first convert strings to numbers before apply mathmatic operations on it."
   ]
  },
  {
   "cell_type": "code",
   "execution_count": 2,
   "metadata": {},
   "outputs": [
    {
     "name": "stdout",
     "output_type": "stream",
     "text": [
      "10 10.0 10\n"
     ]
    }
   ],
   "source": [
    "# To convert a string to a number, we use float() or int() functions\n",
    "a=\"10\"\n",
    "b=float(a)\n",
    "c=int(a)\n",
    "print(a,b,c)"
   ]
  },
  {
   "cell_type": "markdown",
   "metadata": {},
   "source": [
    "(a) Use `for` loop, or list comprehension to convert all elements in the lists of 'mag','lon','lat',and 'depth' to floating numbers, and all elements in 'year', 'month', and 'day' to integer numbers. Remember, only change the data type of each element, and do not change the variable names.\n",
    "* (10 points)"
   ]
  },
  {
   "cell_type": "code",
   "execution_count": 21,
   "metadata": {},
   "outputs": [],
   "source": [
    "mag = [float(m) for m in mag]\n",
    "lon = [float(l) for l in lon]\n",
    "lat = [float(la) for la in lat]\n",
    "depth = [float(d) for d in depth]\n",
    "year = [int(y) for y in year]\n",
    "month = [int(mo) for mo in month]\n",
    "day = [int(da) for da in day]\n"
   ]
  },
  {
   "cell_type": "markdown",
   "metadata": {},
   "source": [
    "(b) Using `for` loop to calculate the average magnitude of the earthquakes in this catalog.\n",
    "* (10 points)"
   ]
  },
  {
   "cell_type": "code",
   "execution_count": 22,
   "metadata": {},
   "outputs": [
    {
     "data": {
      "text/plain": [
       "1.7830000000000006"
      ]
     },
     "execution_count": 22,
     "metadata": {},
     "output_type": "execute_result"
    }
   ],
   "source": [
    "sum_mag = 0\n",
    "for i in range(0,len(mag)):\n",
    "    sum_mag = sum_mag + mag[i]\n",
    "av_mag = sum_mag / len(mag)\n",
    "av_mag"
   ]
  },
  {
   "cell_type": "markdown",
   "metadata": {},
   "source": [
    "(c) Calculate the average depth of the earthquakes whose magnitude is larger than 2.0\n",
    "* (15 points)"
   ]
  },
  {
   "cell_type": "code",
   "execution_count": 24,
   "metadata": {},
   "outputs": [
    {
     "data": {
      "text/plain": [
       "12.037899999999995"
      ]
     },
     "execution_count": 24,
     "metadata": {},
     "output_type": "execute_result"
    }
   ],
   "source": [
    "sum_depth_2plus = 0\n",
    "for i in range(0,len(mag)):\n",
    "    if mag[i] > 2.0:\n",
    "        sum_depth_2plus = sum_depth_2plus + depth[i]\n",
    "av_depth_2plus = sum_depth_2plus / len(depth)\n",
    "av_depth_2plus\n"
   ]
  },
  {
   "cell_type": "markdown",
   "metadata": {},
   "source": [
    "(d) Use loop and condition to find the maximum depth of the earthquakes\n",
    "* (20 points)"
   ]
  },
  {
   "cell_type": "code",
   "execution_count": 37,
   "metadata": {},
   "outputs": [
    {
     "data": {
      "text/plain": [
       "25"
      ]
     },
     "execution_count": 37,
     "metadata": {},
     "output_type": "execute_result"
    }
   ],
   "source": [
    "maxd = depth[0]\n",
    "for i in range(1,len(depth)):\n",
    "    if depth[i]>maxd:\n",
    "        maxd = depth[i]\n",
    "        imax = i\n",
    "maxd"
   ]
  },
  {
   "cell_type": "markdown",
   "metadata": {},
   "source": [
    "(e) In which region(s) does the largest earthquake(s) happen?\n",
    "* (25 points)"
   ]
  },
  {
   "cell_type": "code",
   "execution_count": 46,
   "metadata": {},
   "outputs": [
    {
     "data": {
      "text/plain": [
       "'\"MINDANAO, PHILIPPINES\"'"
      ]
     },
     "execution_count": 46,
     "metadata": {},
     "output_type": "execute_result"
    }
   ],
   "source": [
    "max_mags = []\n",
    "imax_ms = []\n",
    "largest = mag[0]\n",
    "for i in range(1,len(mag)):\n",
    "    if mag[i] > largest:\n",
    "        largest = mag[i]\n",
    "        imag_max=i\n",
    "ilargest = []\n",
    "for i in range(0,len(mag)):\n",
    "    if mag[i]==largest:\n",
    "        ilargest.append(i)\n",
    "if len(ilargest) == 1:\n",
    "    ilargest = ilargest[0]\n",
    "else:\n",
    "    print('multiple earthquakes at max of %.1f mag'%largest)\n",
    "    \n",
    "region_of_largest = region[ilargest]\n",
    "region_of_largest\n",
    "        \n",
    "\n",
    "        "
   ]
  },
  {
   "cell_type": "markdown",
   "metadata": {},
   "source": [
    "(f) In which region(s) and at what year, month, day and time do the deepest earthquake(s) happen?\n",
    "* (30 points)"
   ]
  },
  {
   "cell_type": "code",
   "execution_count": 50,
   "metadata": {},
   "outputs": [
    {
     "name": "stdout",
     "output_type": "stream",
     "text": [
      "Information on the deepest earthquake:\n",
      "region: FLORES SEA\n",
      "year: 2019\n",
      "month: 2\n",
      "day: 10\n",
      "time: 22:54:37\n"
     ]
    }
   ],
   "source": [
    "deepest = []\n",
    "ideepest = []\n",
    "for i in range(0,len(depth)):\n",
    "    if depth[i]==maxd:\n",
    "        deepest.append(depth[i])\n",
    "        ideepest.append(i)\n",
    "if len(ideepest) == 1:\n",
    "    ideepest = ideepest[0]\n",
    "else:\n",
    "    print('multiple earthquakes at depth of %.1f m'%deepest)\n",
    "r_deepest = region[ideepest];y_deepest = year[ideepest]\n",
    "m_deepest = month[ideepest];d_deepest = day[ideepest]\n",
    "t_deepest = time[ideepest]\n",
    "print('Information on the deepest earthquake:')\n",
    "print('region:',r_deepest)\n",
    "print('year:',y_deepest)\n",
    "print('month:',m_deepest)\n",
    "print('day:',d_deepest)\n",
    "print('time:',t_deepest)"
   ]
  },
  {
   "cell_type": "code",
   "execution_count": null,
   "metadata": {},
   "outputs": [],
   "source": []
  }
 ],
 "metadata": {
  "kernelspec": {
   "display_name": "Python 3",
   "language": "python",
   "name": "python3"
  },
  "language_info": {
   "codemirror_mode": {
    "name": "ipython",
    "version": 3
   },
   "file_extension": ".py",
   "mimetype": "text/x-python",
   "name": "python",
   "nbconvert_exporter": "python",
   "pygments_lexer": "ipython3",
   "version": "3.7.6"
  }
 },
 "nbformat": 4,
 "nbformat_minor": 4
}
