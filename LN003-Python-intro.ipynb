{
 "cells": [
  {
   "cell_type": "markdown",
   "metadata": {},
   "source": [
    "# Today's goals\n",
    "- Be familar with basic computer hardware structure\n",
    "- Python as a computer langauage"
   ]
  },
  {
   "cell_type": "markdown",
   "metadata": {
    "slideshow": {
     "slide_type": "slide"
    }
   },
   "source": [
    "# Computer hardware architecture\n",
    "\n",
    "<img src='./figs/hardware_architecture.png' width=600>"
   ]
  },
  {
   "cell_type": "markdown",
   "metadata": {
    "slideshow": {
     "slide_type": "slide"
    }
   },
   "source": [
    "# CPU\n",
    "\n",
    "- Central Processing Unit\n",
    "\n",
    "- Electronic circuitry within a computer that carries out the instructions of a computer program by performing the basic arithmetic, logical, control and input/output (I/O) operations specified by the instructions (modified from wikipedia)."
   ]
  },
  {
   "cell_type": "markdown",
   "metadata": {
    "slideshow": {
     "slide_type": "slide"
    }
   },
   "source": [
    "# Main memory\n",
    "\n",
    "- Store information that CPU needs with quick access.\n",
    "\n",
    "- Main memory vanishes when the computer is turned off or code is finished."
   ]
  },
  {
   "cell_type": "markdown",
   "metadata": {
    "slideshow": {
     "slide_type": "slide"
    }
   },
   "source": [
    "# Secondary memory\n",
    "\n",
    "- Slower than the main memory.\n",
    "\n",
    "- Stores information for later access.\n",
    "\n",
    "- Memory is not released when the computer is turned off or the code is finished\n",
    "\n",
    "- Flash memory, hard drive, ..."
   ]
  },
  {
   "cell_type": "markdown",
   "metadata": {
    "slideshow": {
     "slide_type": "slide"
    }
   },
   "source": [
    "# Input and output devices\n",
    "\n",
    "- Hardware interfaces between human and computer\n",
    "\n",
    "- Screen, keyboard, mouse, microphone, speaker, touchpad, ...\n",
    "\n",
    "- Scientific instruments"
   ]
  },
  {
   "cell_type": "markdown",
   "metadata": {
    "slideshow": {
     "slide_type": "slide"
    }
   },
   "source": [
    "# Network connection\n",
    "\n",
    "- Local network\n",
    "\n",
    "- Internet\n",
    "\n",
    "- Remote access of scientific devices"
   ]
  },
  {
   "cell_type": "markdown",
   "metadata": {
    "slideshow": {
     "slide_type": "slide"
    }
   },
   "source": [
    "# Coding\n",
    "\n",
    "- Communicate with the computers to do work. Need to translate human language into computer languages (computers only know 0 and 1). The programing languages are the translator.\n",
    "\n",
    "- Different programing languages use slightly different grammar (rules). \n",
    "\n",
    "- Once you master one programming language, it is much easier to learn other programing languages.\n",
    "\n",
    "- Computers are much faster for some work than human beings\n"
   ]
  },
  {
   "cell_type": "markdown",
   "metadata": {
    "slideshow": {
     "slide_type": "slide"
    }
   },
   "source": [
    "# Python in science\n",
    "\n",
    "- All kind of scientific tasks: analyzing and plotting data, numerical solutions, simulations, and computations.\n",
    "\n",
    "- Python as a \"wrapper\": scripting based on Fortran and C codes.\n",
    "\n",
    "- In other fields: web applications, data science, ..."
   ]
  },
  {
   "cell_type": "markdown",
   "metadata": {},
   "source": [
    "# Python is an interpreted language\n",
    "<img src='./figs/interpreted_language.png'> Image from https://medium.com/from-the-scratch\n",
    "\n",
    "- Compiled languages: the source code is first compiled into executable machine code\n",
    "- Interpreted languages: Interpreter executes the source code one statement at a time.\n"
   ]
  },
  {
   "cell_type": "markdown",
   "metadata": {
    "slideshow": {
     "slide_type": "slide"
    }
   },
   "source": [
    "# Python\n",
    "\n",
    "- No need to compile (good and bad)\n",
    "- No need to declare variables and set aside memory before using them (good and bad)\n",
    "- Free (many languages are also free)\n",
    "- Object oriented\n",
    "- Lots of modules available online to use (speed up the coding process)\n",
    "- Transparency\n",
    "- Slower than C and Fortran\n"
   ]
  },
  {
   "cell_type": "markdown",
   "metadata": {},
   "source": [
    "# Python 2.x versus 3.x\n",
    "\n",
    "* The latest version for `Python` is 3.8 (2019/10).  \n",
    "\n",
    "* Significant number of scientific modules and packages are still coded in versions 2.7 or even earlier.  Unfortunately, many of these codes are not compatible with 3.8.  \n",
    "\n",
    "* The `Python` community will transition completely to 3.8."
   ]
  }
 ],
 "metadata": {
  "anaconda-cloud": {},
  "celltoolbar": "Slideshow",
  "kernelspec": {
   "display_name": "Python 3",
   "language": "python",
   "name": "python3"
  },
  "language_info": {
   "codemirror_mode": {
    "name": "ipython",
    "version": 3
   },
   "file_extension": ".py",
   "mimetype": "text/x-python",
   "name": "python",
   "nbconvert_exporter": "python",
   "pygments_lexer": "ipython3",
   "version": "3.8.3"
  },
  "latex_envs": {
   "LaTeX_envs_menu_present": true,
   "bibliofile": "biblio.bib",
   "cite_by": "apalike",
   "current_citInitial": 1,
   "eqLabelWithNumbers": true,
   "eqNumInitial": 0,
   "labels_anchors": false,
   "latex_user_defs": false,
   "report_style_numbering": false,
   "user_envs_cfg": false
  }
 },
 "nbformat": 4,
 "nbformat_minor": 4
}
