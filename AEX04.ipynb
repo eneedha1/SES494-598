{
 "cells": [
  {
   "cell_type": "markdown",
   "metadata": {
    "slideshow": {
     "slide_type": "slide"
    }
   },
   "source": [
    "## Exercise 04"
   ]
  },
  {
   "cell_type": "markdown",
   "metadata": {
    "slideshow": {
     "slide_type": "slide"
    }
   },
   "source": [
    "__1.__ For the following three NumPy arrays:"
   ]
  },
  {
   "cell_type": "code",
   "execution_count": 2,
   "metadata": {
    "collapsed": false,
    "jupyter": {
     "outputs_hidden": false
    },
    "slideshow": {
     "slide_type": "fragment"
    }
   },
   "outputs": [],
   "source": [
    "import numpy as np\n",
    "\n",
    "a = np.array([1, 3, 5, 7])\n",
    "b = np.array([8, 7, 5, 4])\n",
    "c = np.array([0, 9,-6,-8])"
   ]
  },
  {
   "cell_type": "markdown",
   "metadata": {
    "slideshow": {
     "slide_type": "slide"
    }
   },
   "source": [
    "Put them in a single array and make them columns in the new array."
   ]
  },
  {
   "cell_type": "code",
   "execution_count": 3,
   "metadata": {
    "collapsed": false,
    "jupyter": {
     "outputs_hidden": false
    },
    "slideshow": {
     "slide_type": "fragment"
    }
   },
   "outputs": [],
   "source": [
    "d = np.array([a, b, c]).T"
   ]
  },
  {
   "cell_type": "code",
   "execution_count": 4,
   "metadata": {
    "collapsed": false,
    "jupyter": {
     "outputs_hidden": false
    },
    "slideshow": {
     "slide_type": "fragment"
    }
   },
   "outputs": [
    {
     "name": "stdout",
     "output_type": "stream",
     "text": [
      "[[ 1  8  0]\n",
      " [ 3  7  9]\n",
      " [ 5  5 -6]\n",
      " [ 7  4 -8]]\n"
     ]
    }
   ],
   "source": [
    "print(d)"
   ]
  },
  {
   "cell_type": "markdown",
   "metadata": {
    "slideshow": {
     "slide_type": "slide"
    }
   },
   "source": [
    "__3.__  Write a Python script to read the \"TestData.txt\" file under the folder to \"./data\" into a three NumPy arrays with the variable names `f`, `a`, `da` for the frequency, amplitude, and amplitude error."
   ]
  },
  {
   "cell_type": "code",
   "execution_count": 5,
   "metadata": {
    "collapsed": false,
    "jupyter": {
     "outputs_hidden": false
    },
    "slideshow": {
     "slide_type": "fragment"
    }
   },
   "outputs": [
    {
     "data": {
      "text/plain": [
       "Date: 2013-09-16\n",
       "Data taken by Liam and Selena\n",
       "frequency (Hz) amplitude (mm) amp error (mm)\n",
       " 0.7500 13.52         0.32\n",
       " 1.7885 12.11         0.92\n",
       " 2.8269 14.27         0.73\n",
       " 3.8654 16.60         2.06\n",
       " 4.9038 22.91         1.75\n",
       " 5.9423 35.28         0.91\n",
       " 6.9808 60.99         0.99\n",
       " 8.0192 33.38         0.36\n",
       " 9.0577 17.78         2.32\n",
       "10.0962 10.99         0.21\n",
       "11.1346  7.47         0.48\n",
       "12.1731 6.72         0.51\n",
       "13.2115 4.40         0.58\n",
       "14.2500 4.07         0.63"
      ]
     },
     "metadata": {},
     "output_type": "display_data"
    }
   ],
   "source": [
    "%less ./data/TestData.txt"
   ]
  },
  {
   "cell_type": "code",
   "execution_count": 6,
   "metadata": {
    "collapsed": false,
    "jupyter": {
     "outputs_hidden": false
    },
    "slideshow": {
     "slide_type": "slide"
    }
   },
   "outputs": [],
   "source": [
    "f, a, da = np.loadtxt(\"./data/TestData.txt\", skiprows=3 , unpack=True)"
   ]
  },
  {
   "cell_type": "code",
   "execution_count": 7,
   "metadata": {},
   "outputs": [
    {
     "data": {
      "text/plain": [
       "array([ 0.75  ,  1.7885,  2.8269,  3.8654,  4.9038,  5.9423,  6.9808,\n",
       "        8.0192,  9.0577, 10.0962, 11.1346, 12.1731, 13.2115, 14.25  ])"
      ]
     },
     "execution_count": 7,
     "metadata": {},
     "output_type": "execute_result"
    }
   ],
   "source": [
    "f"
   ]
  },
  {
   "cell_type": "markdown",
   "metadata": {
    "slideshow": {
     "slide_type": "slide"
    }
   },
   "source": [
    "__4.__  For the three numpy arrays from the previous problem (`f`, `a`, `da`), write the data out to a data file, including the header ('freq', 'amp', 'error'), with the data displayed in three columns. It's ok if the header lines begin with the `#` comment character. Your new output file name should be \"TestDataOut.txt\"."
   ]
  },
  {
   "cell_type": "code",
   "execution_count": 8,
   "metadata": {
    "collapsed": false,
    "jupyter": {
     "outputs_hidden": false
    },
    "slideshow": {
     "slide_type": "slide"
    }
   },
   "outputs": [],
   "source": [
    "np.savetxt('./data/TestDataOut.txt', np.array([f, a, da]).T, fmt='%12.4f, %12.2f, %12.2f', \n",
    "           header=\"freq, amp, error\", comments=\"# \")"
   ]
  },
  {
   "cell_type": "markdown",
   "metadata": {
    "slideshow": {
     "slide_type": "slide"
    }
   },
   "source": [
    "__5.__  For the three numpy arrays from the previous problem (f, a, da), write the data out to a data file to a csv data file, without the header, to a data file (\"TestDataOut.csv\") with the data displayed in three columns. Use a single format specifier and set it to `\"%0.16e\"`. If you have access the spreadsheet program (like MS Excel), try opening the file you have created with your Python script and verify that the arrays are displayed in three columns. "
   ]
  },
  {
   "cell_type": "code",
   "execution_count": 9,
   "metadata": {
    "collapsed": false,
    "jupyter": {
     "outputs_hidden": false
    },
    "slideshow": {
     "slide_type": "slide"
    }
   },
   "outputs": [],
   "source": [
    "np.savetxt('./data/TestDataOut.csv', np.array([f, a, da]).T, fmt=\"%0.32e\", delimiter=\",\")"
   ]
  },
  {
   "cell_type": "code",
   "execution_count": 10,
   "metadata": {
    "collapsed": false,
    "jupyter": {
     "outputs_hidden": false
    }
   },
   "outputs": [
    {
     "data": {
      "text/plain": [
       "7.50000000000000000000000000000000e-01,1.35199999999999995736743585439399e+01,3.20000000000000006661338147750939e-01\n",
       "1.78849999999999997868371792719699e+00,1.21099999999999994315658113919199e+01,9.20000000000000039968028886505635e-01\n",
       "2.82690000000000019042545318370685e+00,1.42699999999999995736743585439399e+01,7.29999999999999982236431605997495e-01\n",
       "3.86540000000000016910917111090384e+00,1.66000000000000014210854715202004e+01,2.06000000000000005329070518200751e+00\n",
       "4.90380000000000038085090636741370e+00,2.29100000000000001421085471520200e+01,1.75000000000000000000000000000000e+00\n",
       "5.94230000000000035953462429461069e+00,3.52800000000000011368683772161603e+01,9.10000000000000031086244689504383e-01\n",
       "6.98080000000000033821834222180769e+00,6.09900000000000019895196601282805e+01,9.89999999999999991118215802998748e-01\n",
       "8.01919999999999966178165777819231e+00,3.33800000000000025579538487363607e+01,3.59999999999999986677323704498122e-01\n",
       "9.05770000000000052864379540551454e+00,1.77800000000000011368683772161603e+01,2.31999999999999984012788445397746e+00\n",
       "1.00961999999999996191490936325863e+01,1.09900000000000002131628207280301e+01,2.09999999999999992228438827623904e-01\n",
       "1.11346000000000007190692485892214e+01,7.46999999999999975131004248396493e+00,4.79999999999999982236431605997495e-01\n",
       "1.21730999999999998095745468162932e+01,6.71999999999999975131004248396493e+00,5.10000000000000008881784197001252e-01\n",
       "1.32114999999999991331378623726778e+01,4.40000000000000035527136788005009e+00,5.79999999999999960031971113494365e-01\n",
       "1.42500000000000000000000000000000e+01,4.07000000000000028421709430404007e+00,6.30000000000000004440892098500626e-01\n"
      ]
     },
     "metadata": {},
     "output_type": "display_data"
    }
   ],
   "source": [
    "%less ./data/TestDataOut.csv"
   ]
  },
  {
   "cell_type": "code",
   "execution_count": null,
   "metadata": {},
   "outputs": [],
   "source": []
  },
  {
   "cell_type": "code",
   "execution_count": null,
   "metadata": {},
   "outputs": [],
   "source": []
  }
 ],
 "metadata": {
  "celltoolbar": "Slideshow",
  "kernelspec": {
   "display_name": "Python 3",
   "language": "python",
   "name": "python3"
  },
  "language_info": {
   "codemirror_mode": {
    "name": "ipython",
    "version": 3
   },
   "file_extension": ".py",
   "mimetype": "text/x-python",
   "name": "python",
   "nbconvert_exporter": "python",
   "pygments_lexer": "ipython3",
   "version": "3.7.4"
  }
 },
 "nbformat": 4,
 "nbformat_minor": 4
}
