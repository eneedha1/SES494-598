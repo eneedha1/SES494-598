{
 "cells": [
  {
   "cell_type": "markdown",
   "metadata": {},
   "source": [
    "# Exercise 10 sorting algorithm"
   ]
  },
  {
   "cell_type": "markdown",
   "metadata": {},
   "source": [
    "- Coding is all about syntax and algorithm\n",
    "- The efficiency of different algorithm can be very different\n",
    "- A complex task can be always divided into many easy steps. This is also how we solve problems (e.g., build a spacecraft to Mars) in our lives, no matter how hard the problems are.\n",
    "- Coding is all about: 1. understand the problem, 2. make a detailed plan with many steps, 3. describe the steps using human language, 4. translate human language into computer language."
   ]
  },
  {
   "cell_type": "code",
   "execution_count": null,
   "metadata": {},
   "outputs": [],
   "source": []
  },
  {
   "cell_type": "markdown",
   "metadata": {},
   "source": [
    "# Discussion: how to efficiently sort a list?"
   ]
  },
  {
   "cell_type": "code",
   "execution_count": 9,
   "metadata": {},
   "outputs": [],
   "source": [
    "#step 1: create an empty list to store sorted numbers\n",
    "#step 2: find the minimum number from the list to be sorted\n",
    "#step 3: add the minimum number to the sorted list\n",
    "#step 4: delete the minimum number from the old list\n",
    "#step 5: repeat 2, 3 and 4, until the old list is empty\n",
    "import numpy as np\n",
    "import time\n",
    "x=[0.05465253, 0.38845019, 0.08802595, 0.3530307 , 0.99911915,\n",
    "       0.07703163, 0.26269039, 0.12891939, 0.61711249, 0.31326518, 0.31326518]\n",
    "\n",
    "def sorting1(x):\n",
    "    y=[]\n",
    "    temp=x.copy()\n",
    "    n=len(temp)\n",
    "    while n>0:\n",
    "        mini=temp[0]\n",
    "        loc=0\n",
    "        for i in range(0,n):\n",
    "            if temp[i]<mini:\n",
    "                mini=temp[i]\n",
    "                loc=i\n",
    "        n=n-1\n",
    "        y.append(mini)\n",
    "        del temp[loc]\n",
    "    return\n",
    "sorting1(x)"
   ]
  },
  {
   "cell_type": "code",
   "execution_count": 10,
   "metadata": {},
   "outputs": [],
   "source": [
    "#step 1: compare two numbers next to each other\n",
    "#step 2: swap the two numbers if necessary\n",
    "#step 3: repeat step 1 and 2, until we do not swap two numbers\n",
    "import numpy as np\n",
    "import time\n",
    "x=[0.05465253, 0.38845019, 0.08802595, 0.3530307 , 0.99911915,\n",
    "       0.07703163, 0.26269039, 0.12891939, 0.61711249, 0.31326518, 0.31326518]\n",
    "def sorting2(x):\n",
    "    n=len(x)\n",
    "    flag=1\n",
    "    while flag==1:\n",
    "        flag=0\n",
    "        for i in range(0,n-1):\n",
    "            if x[i]>x[i+1]:\n",
    "                #temp=x[i];x[i]=x[i+1];x[i+1]=temp\n",
    "                x[i],x[i+1]=x[i+1],x[i]\n",
    "                flag=1\n",
    "    return\n",
    "sorting2(x)"
   ]
  },
  {
   "cell_type": "code",
   "execution_count": 11,
   "metadata": {},
   "outputs": [],
   "source": [
    "def sorting3(x):\n",
    "    return\n",
    "sorting3(x)"
   ]
  },
  {
   "cell_type": "markdown",
   "metadata": {},
   "source": [
    "Creat a random list of numbers and sort it using different methods"
   ]
  },
  {
   "cell_type": "code",
   "execution_count": 20,
   "metadata": {},
   "outputs": [],
   "source": [
    "a=list(np.random.rand(2000)) # generate 2000 random numbers in the range of (0,1)\n",
    "b=a.copy()"
   ]
  },
  {
   "cell_type": "code",
   "execution_count": 21,
   "metadata": {},
   "outputs": [
    {
     "name": "stdout",
     "output_type": "stream",
     "text": [
      "sorting1 takes 0.141252 sec.\n",
      "sorting2 takes 0.510764 sec.\n",
      "sorting3 takes 0.000066 sec.\n"
     ]
    }
   ],
   "source": [
    "start = time.time()\n",
    "sorting1(a)\n",
    "end = time.time()\n",
    "print('sorting1 takes %f sec.' % (end-start))\n",
    "\n",
    "\n",
    "start = time.time()\n",
    "sorting2(b)\n",
    "end = time.time()\n",
    "print('sorting2 takes %f sec.' % (end-start))\n",
    "\n",
    "start = time.time()\n",
    "sorting3(a)\n",
    "end = time.time()\n",
    "print('sorting3 takes %f sec.' % (end-start))"
   ]
  },
  {
   "cell_type": "markdown",
   "metadata": {},
   "source": [
    "More information about sorting https://brilliant.org/wiki/sorting-algorithms/"
   ]
  },
  {
   "cell_type": "code",
   "execution_count": null,
   "metadata": {},
   "outputs": [],
   "source": []
  },
  {
   "cell_type": "code",
   "execution_count": null,
   "metadata": {},
   "outputs": [],
   "source": []
  }
 ],
 "metadata": {
  "kernelspec": {
   "display_name": "Python 3",
   "language": "python",
   "name": "python3"
  },
  "language_info": {
   "codemirror_mode": {
    "name": "ipython",
    "version": 3
   },
   "file_extension": ".py",
   "mimetype": "text/x-python",
   "name": "python",
   "nbconvert_exporter": "python",
   "pygments_lexer": "ipython3",
   "version": "3.6.7"
  }
 },
 "nbformat": 4,
 "nbformat_minor": 4
}
