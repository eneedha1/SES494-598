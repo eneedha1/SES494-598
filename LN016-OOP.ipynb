{
 "cells": [
  {
   "cell_type": "markdown",
   "metadata": {},
   "source": [
    "# Object-oriented programing"
   ]
  },
  {
   "cell_type": "markdown",
   "metadata": {},
   "source": [
    "- There is another way in which Python implements things that act like functions.\n",
    "\n",
    "- To understand what they are, you need to understand that variables, strings, arrays, lists, and other such data structures in Python are not merely the numbers or strings we have defined them to be. They are objects.\n",
    "\n",
    "- In general, an object in Python has associated with it a number of attributes and a number of specialized functions called methods that act on the object.\n",
    "\n",
    "- In general, attributes involve properties of the object that are stored by Python with the object and require no computation. Python just looks up the attribute and returns its value.\n",
    "\n",
    "- In contrast to attributes, methods generally involve Python performing some kind of computation. \n",
    "\n",
    "- Methods are accessed in a fashion similar to attributes, by\n",
    "appending a period followed the method's name, which is followed by a\n",
    "pair of open-close parentheses, consistent with methods being a kind of\n",
    "function that acts on the object.\n",
    "\n",
    "- OOP gives the user more options and greater control. Perhaps the most efficient way to learn this alternative syntax is to look at an example."
   ]
  },
  {
   "cell_type": "markdown",
   "metadata": {},
   "source": [
    "## Methods and attributes\n",
    "In general, an object in Python has associated with it a number of *attributes* and a number of specialized functions called *methods* that act on the object. \n",
    "\n"
   ]
  },
  {
   "cell_type": "code",
   "execution_count": 12,
   "metadata": {},
   "outputs": [
    {
     "data": {
      "text/plain": [
       "array([0., 1., 2., 3., 4., 5., 6., 7., 8., 9.])"
      ]
     },
     "execution_count": 12,
     "metadata": {},
     "output_type": "execute_result"
    }
   ],
   "source": [
    "import numpy as np\n",
    "a = np.arange(10.0)\n",
    "a"
   ]
  },
  {
   "cell_type": "markdown",
   "metadata": {},
   "source": [
    "In the above, the variable $a$ is a numpy array. It is also an $object$. As an object, it has $attributes$ and $methods$"
   ]
  },
  {
   "cell_type": "code",
   "execution_count": 13,
   "metadata": {},
   "outputs": [
    {
     "data": {
      "text/plain": [
       "10"
      ]
     },
     "execution_count": 13,
     "metadata": {},
     "output_type": "execute_result"
    }
   ],
   "source": [
    "a.size"
   ]
  },
  {
   "cell_type": "markdown",
   "metadata": {},
   "source": [
    "Here, $size$ is one of the attributes of object $a$, which gives the number of elements in this object."
   ]
  },
  {
   "cell_type": "code",
   "execution_count": 14,
   "metadata": {},
   "outputs": [
    {
     "data": {
      "text/plain": [
       "dtype('float64')"
      ]
     },
     "execution_count": 14,
     "metadata": {},
     "output_type": "execute_result"
    }
   ],
   "source": [
    "a.dtype"
   ]
  },
  {
   "cell_type": "markdown",
   "metadata": {},
   "source": [
    "Here, $dtype$ is another $attibute$ of obejct $a$, which is the data type of each elements of array $a$."
   ]
  },
  {
   "cell_type": "markdown",
   "metadata": {},
   "source": [
    "We see that the attibutes of an object stores lots of important informatino for an object.\n",
    "\n",
    "In general, attributes involve properties of the object that are stored by Python with the object and require no computation. Python just looks up the attribute and returns its value."
   ]
  },
  {
   "cell_type": "markdown",
   "metadata": {},
   "source": [
    "In contrast to attributes, methods generally involve Python performing some kind of computation. "
   ]
  },
  {
   "cell_type": "markdown",
   "metadata": {},
   "source": [
    "Methods are accessed in a fashion similar to attributes, by\n",
    "appending a period followed the method's name, which is followed by a\n",
    "pair of open-close parentheses, consistent with methods being a kind of\n",
    "function that acts on the object. "
   ]
  },
  {
   "cell_type": "code",
   "execution_count": 15,
   "metadata": {},
   "outputs": [
    {
     "data": {
      "text/plain": [
       "45.0"
      ]
     },
     "execution_count": 15,
     "metadata": {},
     "output_type": "execute_result"
    }
   ],
   "source": [
    "a.sum() #summation"
   ]
  },
  {
   "cell_type": "code",
   "execution_count": 16,
   "metadata": {},
   "outputs": [
    {
     "data": {
      "text/plain": [
       "4.5"
      ]
     },
     "execution_count": 16,
     "metadata": {},
     "output_type": "execute_result"
    }
   ],
   "source": [
    "a.mean() #average"
   ]
  },
  {
   "cell_type": "code",
   "execution_count": 17,
   "metadata": {},
   "outputs": [
    {
     "data": {
      "text/plain": [
       "2.8722813232690143"
      ]
     },
     "execution_count": 17,
     "metadata": {},
     "output_type": "execute_result"
    }
   ],
   "source": [
    "a.std() #standard deviation"
   ]
  },
  {
   "cell_type": "code",
   "execution_count": 18,
   "metadata": {},
   "outputs": [
    {
     "data": {
      "text/plain": [
       "array([0., 1., 2., 3., 4., 5., 6., 7., 8., 9.])"
      ]
     },
     "execution_count": 18,
     "metadata": {},
     "output_type": "execute_result"
    }
   ],
   "source": [
    "a"
   ]
  },
  {
   "cell_type": "code",
   "execution_count": 19,
   "metadata": {},
   "outputs": [
    {
     "data": {
      "text/plain": [
       "2"
      ]
     },
     "execution_count": 19,
     "metadata": {},
     "output_type": "execute_result"
    }
   ],
   "source": [
    "a.tolist().index(2.0)"
   ]
  },
  {
   "cell_type": "code",
   "execution_count": 20,
   "metadata": {},
   "outputs": [
    {
     "ename": "AttributeError",
     "evalue": "'numpy.ndarray' object has no attribute 'index'",
     "output_type": "error",
     "traceback": [
      "\u001b[0;31m---------------------------------------------------------------------------\u001b[0m",
      "\u001b[0;31mAttributeError\u001b[0m                            Traceback (most recent call last)",
      "\u001b[0;32m<ipython-input-20-18af267f43a9>\u001b[0m in \u001b[0;36m<module>\u001b[0;34m()\u001b[0m\n\u001b[0;32m----> 1\u001b[0;31m \u001b[0ma\u001b[0m\u001b[0;34m.\u001b[0m\u001b[0mindex\u001b[0m\u001b[0;34m(\u001b[0m\u001b[0;36m2.0\u001b[0m\u001b[0;34m)\u001b[0m\u001b[0;34m\u001b[0m\u001b[0;34m\u001b[0m\u001b[0m\n\u001b[0m",
      "\u001b[0;31mAttributeError\u001b[0m: 'numpy.ndarray' object has no attribute 'index'"
     ]
    }
   ],
   "source": [
    "a.index(2.0)"
   ]
  },
  {
   "cell_type": "markdown",
   "metadata": {},
   "source": [
    "### Sorting"
   ]
  },
  {
   "cell_type": "code",
   "execution_count": 22,
   "metadata": {},
   "outputs": [],
   "source": [
    "import numpy as np\n",
    "import time\n",
    "x=[0.05465253, 0.38845019, 0.08802595, 0.3530307 , 0.99911915,\n",
    "       0.07703163, 0.26269039, 0.12891939, 0.61711249, 0.31326518, 0.31326518]"
   ]
  },
  {
   "cell_type": "code",
   "execution_count": 23,
   "metadata": {},
   "outputs": [
    {
     "data": {
      "text/plain": [
       "[0.05465253,\n",
       " 0.07703163,\n",
       " 0.08802595,\n",
       " 0.12891939,\n",
       " 0.26269039,\n",
       " 0.31326518,\n",
       " 0.31326518,\n",
       " 0.3530307,\n",
       " 0.38845019,\n",
       " 0.61711249,\n",
       " 0.99911915]"
      ]
     },
     "execution_count": 23,
     "metadata": {},
     "output_type": "execute_result"
    }
   ],
   "source": [
    "x.sort()\n",
    "x"
   ]
  },
  {
   "cell_type": "markdown",
   "metadata": {},
   "source": [
    "#### How many attributes and methods does a numpy array have? What are they?"
   ]
  },
  {
   "cell_type": "code",
   "execution_count": 24,
   "metadata": {},
   "outputs": [
    {
     "data": {
      "text/plain": [
       "['T',\n",
       " '__abs__',\n",
       " '__add__',\n",
       " '__and__',\n",
       " '__array__',\n",
       " '__array_finalize__',\n",
       " '__array_interface__',\n",
       " '__array_prepare__',\n",
       " '__array_priority__',\n",
       " '__array_struct__',\n",
       " '__array_ufunc__',\n",
       " '__array_wrap__',\n",
       " '__bool__',\n",
       " '__class__',\n",
       " '__complex__',\n",
       " '__contains__',\n",
       " '__copy__',\n",
       " '__deepcopy__',\n",
       " '__delattr__',\n",
       " '__delitem__',\n",
       " '__dir__',\n",
       " '__divmod__',\n",
       " '__doc__',\n",
       " '__eq__',\n",
       " '__float__',\n",
       " '__floordiv__',\n",
       " '__format__',\n",
       " '__ge__',\n",
       " '__getattribute__',\n",
       " '__getitem__',\n",
       " '__gt__',\n",
       " '__hash__',\n",
       " '__iadd__',\n",
       " '__iand__',\n",
       " '__ifloordiv__',\n",
       " '__ilshift__',\n",
       " '__imatmul__',\n",
       " '__imod__',\n",
       " '__imul__',\n",
       " '__index__',\n",
       " '__init__',\n",
       " '__init_subclass__',\n",
       " '__int__',\n",
       " '__invert__',\n",
       " '__ior__',\n",
       " '__ipow__',\n",
       " '__irshift__',\n",
       " '__isub__',\n",
       " '__iter__',\n",
       " '__itruediv__',\n",
       " '__ixor__',\n",
       " '__le__',\n",
       " '__len__',\n",
       " '__lshift__',\n",
       " '__lt__',\n",
       " '__matmul__',\n",
       " '__mod__',\n",
       " '__mul__',\n",
       " '__ne__',\n",
       " '__neg__',\n",
       " '__new__',\n",
       " '__or__',\n",
       " '__pos__',\n",
       " '__pow__',\n",
       " '__radd__',\n",
       " '__rand__',\n",
       " '__rdivmod__',\n",
       " '__reduce__',\n",
       " '__reduce_ex__',\n",
       " '__repr__',\n",
       " '__rfloordiv__',\n",
       " '__rlshift__',\n",
       " '__rmatmul__',\n",
       " '__rmod__',\n",
       " '__rmul__',\n",
       " '__ror__',\n",
       " '__rpow__',\n",
       " '__rrshift__',\n",
       " '__rshift__',\n",
       " '__rsub__',\n",
       " '__rtruediv__',\n",
       " '__rxor__',\n",
       " '__setattr__',\n",
       " '__setitem__',\n",
       " '__setstate__',\n",
       " '__sizeof__',\n",
       " '__str__',\n",
       " '__sub__',\n",
       " '__subclasshook__',\n",
       " '__truediv__',\n",
       " '__xor__',\n",
       " 'all',\n",
       " 'any',\n",
       " 'argmax',\n",
       " 'argmin',\n",
       " 'argpartition',\n",
       " 'argsort',\n",
       " 'astype',\n",
       " 'base',\n",
       " 'byteswap',\n",
       " 'choose',\n",
       " 'clip',\n",
       " 'compress',\n",
       " 'conj',\n",
       " 'conjugate',\n",
       " 'copy',\n",
       " 'ctypes',\n",
       " 'cumprod',\n",
       " 'cumsum',\n",
       " 'data',\n",
       " 'diagonal',\n",
       " 'dot',\n",
       " 'dtype',\n",
       " 'dump',\n",
       " 'dumps',\n",
       " 'fill',\n",
       " 'flags',\n",
       " 'flat',\n",
       " 'flatten',\n",
       " 'getfield',\n",
       " 'imag',\n",
       " 'item',\n",
       " 'itemset',\n",
       " 'itemsize',\n",
       " 'max',\n",
       " 'mean',\n",
       " 'min',\n",
       " 'nbytes',\n",
       " 'ndim',\n",
       " 'newbyteorder',\n",
       " 'nonzero',\n",
       " 'partition',\n",
       " 'prod',\n",
       " 'ptp',\n",
       " 'put',\n",
       " 'ravel',\n",
       " 'real',\n",
       " 'repeat',\n",
       " 'reshape',\n",
       " 'resize',\n",
       " 'round',\n",
       " 'searchsorted',\n",
       " 'setfield',\n",
       " 'setflags',\n",
       " 'shape',\n",
       " 'size',\n",
       " 'sort',\n",
       " 'squeeze',\n",
       " 'std',\n",
       " 'strides',\n",
       " 'sum',\n",
       " 'swapaxes',\n",
       " 'take',\n",
       " 'tobytes',\n",
       " 'tofile',\n",
       " 'tolist',\n",
       " 'tostring',\n",
       " 'trace',\n",
       " 'transpose',\n",
       " 'var',\n",
       " 'view']"
      ]
     },
     "execution_count": 24,
     "metadata": {},
     "output_type": "execute_result"
    }
   ],
   "source": [
    "dir(a)"
   ]
  },
  {
   "cell_type": "markdown",
   "metadata": {},
   "source": [
    "#### Be more inofrmative on the $dir$ function"
   ]
  },
  {
   "cell_type": "code",
   "execution_count": 25,
   "metadata": {},
   "outputs": [
    {
     "data": {
      "text/plain": [
       "[('T', 'attr'),\n",
       " ('__abs__', 'func'),\n",
       " ('__add__', 'func'),\n",
       " ('__and__', 'func'),\n",
       " ('__array__', 'func'),\n",
       " ('__array_finalize__', 'attr'),\n",
       " ('__array_interface__', 'attr'),\n",
       " ('__array_prepare__', 'func'),\n",
       " ('__array_priority__', 'attr'),\n",
       " ('__array_struct__', 'attr'),\n",
       " ('__array_ufunc__', 'func'),\n",
       " ('__array_wrap__', 'func'),\n",
       " ('__bool__', 'func'),\n",
       " ('__class__', 'func'),\n",
       " ('__complex__', 'func'),\n",
       " ('__contains__', 'func'),\n",
       " ('__copy__', 'func'),\n",
       " ('__deepcopy__', 'func'),\n",
       " ('__delattr__', 'func'),\n",
       " ('__delitem__', 'func'),\n",
       " ('__dir__', 'func'),\n",
       " ('__divmod__', 'func'),\n",
       " ('__doc__', 'attr'),\n",
       " ('__eq__', 'func'),\n",
       " ('__float__', 'func'),\n",
       " ('__floordiv__', 'func'),\n",
       " ('__format__', 'func'),\n",
       " ('__ge__', 'func'),\n",
       " ('__getattribute__', 'func'),\n",
       " ('__getitem__', 'func'),\n",
       " ('__gt__', 'func'),\n",
       " ('__hash__', 'attr'),\n",
       " ('__iadd__', 'func'),\n",
       " ('__iand__', 'func'),\n",
       " ('__ifloordiv__', 'func'),\n",
       " ('__ilshift__', 'func'),\n",
       " ('__imatmul__', 'func'),\n",
       " ('__imod__', 'func'),\n",
       " ('__imul__', 'func'),\n",
       " ('__index__', 'func'),\n",
       " ('__init__', 'func'),\n",
       " ('__init_subclass__', 'func'),\n",
       " ('__int__', 'func'),\n",
       " ('__invert__', 'func'),\n",
       " ('__ior__', 'func'),\n",
       " ('__ipow__', 'func'),\n",
       " ('__irshift__', 'func'),\n",
       " ('__isub__', 'func'),\n",
       " ('__iter__', 'func'),\n",
       " ('__itruediv__', 'func'),\n",
       " ('__ixor__', 'func'),\n",
       " ('__le__', 'func'),\n",
       " ('__len__', 'func'),\n",
       " ('__lshift__', 'func'),\n",
       " ('__lt__', 'func'),\n",
       " ('__matmul__', 'func'),\n",
       " ('__mod__', 'func'),\n",
       " ('__mul__', 'func'),\n",
       " ('__ne__', 'func'),\n",
       " ('__neg__', 'func'),\n",
       " ('__new__', 'func'),\n",
       " ('__or__', 'func'),\n",
       " ('__pos__', 'func'),\n",
       " ('__pow__', 'func'),\n",
       " ('__radd__', 'func'),\n",
       " ('__rand__', 'func'),\n",
       " ('__rdivmod__', 'func'),\n",
       " ('__reduce__', 'func'),\n",
       " ('__reduce_ex__', 'func'),\n",
       " ('__repr__', 'func'),\n",
       " ('__rfloordiv__', 'func'),\n",
       " ('__rlshift__', 'func'),\n",
       " ('__rmatmul__', 'func'),\n",
       " ('__rmod__', 'func'),\n",
       " ('__rmul__', 'func'),\n",
       " ('__ror__', 'func'),\n",
       " ('__rpow__', 'func'),\n",
       " ('__rrshift__', 'func'),\n",
       " ('__rshift__', 'func'),\n",
       " ('__rsub__', 'func'),\n",
       " ('__rtruediv__', 'func'),\n",
       " ('__rxor__', 'func'),\n",
       " ('__setattr__', 'func'),\n",
       " ('__setitem__', 'func'),\n",
       " ('__setstate__', 'func'),\n",
       " ('__sizeof__', 'func'),\n",
       " ('__str__', 'func'),\n",
       " ('__sub__', 'func'),\n",
       " ('__subclasshook__', 'func'),\n",
       " ('__truediv__', 'func'),\n",
       " ('__xor__', 'func'),\n",
       " ('all', 'func'),\n",
       " ('any', 'func'),\n",
       " ('argmax', 'func'),\n",
       " ('argmin', 'func'),\n",
       " ('argpartition', 'func'),\n",
       " ('argsort', 'func'),\n",
       " ('astype', 'func'),\n",
       " ('base', 'attr'),\n",
       " ('byteswap', 'func'),\n",
       " ('choose', 'func'),\n",
       " ('clip', 'func'),\n",
       " ('compress', 'func'),\n",
       " ('conj', 'func'),\n",
       " ('conjugate', 'func'),\n",
       " ('copy', 'func'),\n",
       " ('ctypes', 'attr'),\n",
       " ('cumprod', 'func'),\n",
       " ('cumsum', 'func'),\n",
       " ('data', 'attr'),\n",
       " ('diagonal', 'func'),\n",
       " ('dot', 'func'),\n",
       " ('dtype', 'attr'),\n",
       " ('dump', 'func'),\n",
       " ('dumps', 'func'),\n",
       " ('fill', 'func'),\n",
       " ('flags', 'attr'),\n",
       " ('flat', 'attr'),\n",
       " ('flatten', 'func'),\n",
       " ('getfield', 'func'),\n",
       " ('imag', 'attr'),\n",
       " ('item', 'func'),\n",
       " ('itemset', 'func'),\n",
       " ('itemsize', 'attr'),\n",
       " ('max', 'func'),\n",
       " ('mean', 'func'),\n",
       " ('min', 'func'),\n",
       " ('nbytes', 'attr'),\n",
       " ('ndim', 'attr'),\n",
       " ('newbyteorder', 'func'),\n",
       " ('nonzero', 'func'),\n",
       " ('partition', 'func'),\n",
       " ('prod', 'func'),\n",
       " ('ptp', 'func'),\n",
       " ('put', 'func'),\n",
       " ('ravel', 'func'),\n",
       " ('real', 'attr'),\n",
       " ('repeat', 'func'),\n",
       " ('reshape', 'func'),\n",
       " ('resize', 'func'),\n",
       " ('round', 'func'),\n",
       " ('searchsorted', 'func'),\n",
       " ('setfield', 'func'),\n",
       " ('setflags', 'func'),\n",
       " ('shape', 'attr'),\n",
       " ('size', 'attr'),\n",
       " ('sort', 'func'),\n",
       " ('squeeze', 'func'),\n",
       " ('std', 'func'),\n",
       " ('strides', 'attr'),\n",
       " ('sum', 'func'),\n",
       " ('swapaxes', 'func'),\n",
       " ('take', 'func'),\n",
       " ('tobytes', 'func'),\n",
       " ('tofile', 'func'),\n",
       " ('tolist', 'func'),\n",
       " ('tostring', 'func'),\n",
       " ('trace', 'func'),\n",
       " ('transpose', 'func'),\n",
       " ('var', 'func'),\n",
       " ('view', 'func')]"
      ]
     },
     "execution_count": 25,
     "metadata": {},
     "output_type": "execute_result"
    }
   ],
   "source": [
    "[(i, 'func' if callable(getattr(a, i)) else 'attr') for i in dir(a)]"
   ]
  },
  {
   "cell_type": "markdown",
   "metadata": {},
   "source": [
    "#### How many attributes and methods does a list have? What are they?"
   ]
  },
  {
   "cell_type": "code",
   "execution_count": 26,
   "metadata": {},
   "outputs": [
    {
     "data": {
      "text/plain": [
       "['__add__',\n",
       " '__class__',\n",
       " '__contains__',\n",
       " '__delattr__',\n",
       " '__delitem__',\n",
       " '__dir__',\n",
       " '__doc__',\n",
       " '__eq__',\n",
       " '__format__',\n",
       " '__ge__',\n",
       " '__getattribute__',\n",
       " '__getitem__',\n",
       " '__gt__',\n",
       " '__hash__',\n",
       " '__iadd__',\n",
       " '__imul__',\n",
       " '__init__',\n",
       " '__init_subclass__',\n",
       " '__iter__',\n",
       " '__le__',\n",
       " '__len__',\n",
       " '__lt__',\n",
       " '__mul__',\n",
       " '__ne__',\n",
       " '__new__',\n",
       " '__reduce__',\n",
       " '__reduce_ex__',\n",
       " '__repr__',\n",
       " '__reversed__',\n",
       " '__rmul__',\n",
       " '__setattr__',\n",
       " '__setitem__',\n",
       " '__sizeof__',\n",
       " '__str__',\n",
       " '__subclasshook__',\n",
       " 'append',\n",
       " 'clear',\n",
       " 'copy',\n",
       " 'count',\n",
       " 'extend',\n",
       " 'index',\n",
       " 'insert',\n",
       " 'pop',\n",
       " 'remove',\n",
       " 'reverse',\n",
       " 'sort']"
      ]
     },
     "execution_count": 26,
     "metadata": {},
     "output_type": "execute_result"
    }
   ],
   "source": [
    "dir(x)"
   ]
  },
  {
   "cell_type": "code",
   "execution_count": 28,
   "metadata": {},
   "outputs": [],
   "source": [
    "b=[1,1,1,2,3,4,5,1,3]"
   ]
  },
  {
   "cell_type": "code",
   "execution_count": 29,
   "metadata": {},
   "outputs": [
    {
     "data": {
      "text/plain": [
       "2"
      ]
     },
     "execution_count": 29,
     "metadata": {},
     "output_type": "execute_result"
    }
   ],
   "source": [
    "b.count(3)"
   ]
  },
  {
   "cell_type": "code",
   "execution_count": 30,
   "metadata": {},
   "outputs": [
    {
     "data": {
      "text/plain": [
       "[1, 1, 2, 3, 4, 5, 1, 3]"
      ]
     },
     "execution_count": 30,
     "metadata": {},
     "output_type": "execute_result"
    }
   ],
   "source": [
    "b.pop(1)\n",
    "b"
   ]
  },
  {
   "cell_type": "code",
   "execution_count": 31,
   "metadata": {},
   "outputs": [
    {
     "data": {
      "text/plain": [
       "[1, 1, 2, 3, 4, 5, 1, 3, 8]"
      ]
     },
     "execution_count": 31,
     "metadata": {},
     "output_type": "execute_result"
    }
   ],
   "source": [
    "b.__add__([8])"
   ]
  },
  {
   "cell_type": "markdown",
   "metadata": {},
   "source": [
    "Please be aware that OOP is a programming paradigm and not a Python concept. Most of the modern programming languages such as Java, C#, C++ follow OOP principles. So the good news is that learning object-oriented programming fundamentals will be valuable to you in a variety of circumstances—whether you’re working in Python or not."
   ]
  },
  {
   "cell_type": "markdown",
   "metadata": {},
   "source": [
    "# You can define your own module and import it"
   ]
  },
  {
   "cell_type": "markdown",
   "metadata": {},
   "source": [
    "I created a file 'info.py' in the current directory. This file contains 3 functions: sese, asu and ave"
   ]
  },
  {
   "cell_type": "code",
   "execution_count": 1,
   "metadata": {},
   "outputs": [],
   "source": [
    "import info  #import this module by import filename"
   ]
  },
  {
   "cell_type": "markdown",
   "metadata": {},
   "source": [
    "After you import it, you can start to use the functions defined in this file"
   ]
  },
  {
   "cell_type": "code",
   "execution_count": 2,
   "metadata": {},
   "outputs": [
    {
     "name": "stdout",
     "output_type": "stream",
     "text": [
      "SESE is great!\n"
     ]
    }
   ],
   "source": [
    "info.sese()"
   ]
  },
  {
   "cell_type": "code",
   "execution_count": 3,
   "metadata": {},
   "outputs": [
    {
     "name": "stdout",
     "output_type": "stream",
     "text": [
      "ASU is great!\n"
     ]
    }
   ],
   "source": [
    "info.asu()"
   ]
  },
  {
   "cell_type": "code",
   "execution_count": 4,
   "metadata": {},
   "outputs": [
    {
     "data": {
      "text/plain": [
       "5.5"
      ]
     },
     "execution_count": 4,
     "metadata": {},
     "output_type": "execute_result"
    }
   ],
   "source": [
    "import numpy as np\n",
    "a=np.linspace(1,10,10)\n",
    "info.ave(a)"
   ]
  },
  {
   "cell_type": "code",
   "execution_count": 5,
   "metadata": {},
   "outputs": [
    {
     "data": {
      "text/plain": [
       "3628800"
      ]
     },
     "execution_count": 5,
     "metadata": {},
     "output_type": "execute_result"
    }
   ],
   "source": [
    "info.factorial(10)"
   ]
  },
  {
   "cell_type": "markdown",
   "metadata": {},
   "source": [
    "You can check the list of functions using the dir function"
   ]
  },
  {
   "cell_type": "code",
   "execution_count": 37,
   "metadata": {},
   "outputs": [
    {
     "data": {
      "text/plain": [
       "['__builtins__',\n",
       " '__cached__',\n",
       " '__doc__',\n",
       " '__file__',\n",
       " '__loader__',\n",
       " '__name__',\n",
       " '__package__',\n",
       " '__spec__',\n",
       " 'asu',\n",
       " 'ave',\n",
       " 'factorial',\n",
       " 'sese']"
      ]
     },
     "execution_count": 37,
     "metadata": {},
     "output_type": "execute_result"
    }
   ],
   "source": [
    "dir(info)"
   ]
  },
  {
   "cell_type": "markdown",
   "metadata": {},
   "source": [
    "# [Exercise 11](./EX11-OOP.ipynb)"
   ]
  },
  {
   "cell_type": "code",
   "execution_count": null,
   "metadata": {},
   "outputs": [],
   "source": []
  }
 ],
 "metadata": {
  "kernelspec": {
   "display_name": "Python 3",
   "language": "python",
   "name": "python3"
  },
  "language_info": {
   "codemirror_mode": {
    "name": "ipython",
    "version": 3
   },
   "file_extension": ".py",
   "mimetype": "text/x-python",
   "name": "python",
   "nbconvert_exporter": "python",
   "pygments_lexer": "ipython3",
   "version": "3.8.3"
  }
 },
 "nbformat": 4,
 "nbformat_minor": 4
}
