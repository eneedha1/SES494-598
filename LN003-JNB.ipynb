{
 "cells": [
  {
   "cell_type": "markdown",
   "metadata": {},
   "source": [
    "# Today's goals\n",
    "- Be familar with basic computer hardware structure\n",
    "- Python as a computer langauage\n",
    "- Introduce Jupyter notebook"
   ]
  },
  {
   "cell_type": "markdown",
   "metadata": {
    "slideshow": {
     "slide_type": "slide"
    }
   },
   "source": [
    "# Computer hardware architecture\n",
    "\n",
    "<img src='./figs/hardware_architecture.png' width=600>"
   ]
  },
  {
   "cell_type": "markdown",
   "metadata": {
    "slideshow": {
     "slide_type": "slide"
    }
   },
   "source": [
    "# CPU\n",
    "\n",
    "- Central Processing Unit\n",
    "\n",
    "- Electronic circuitry within a computer that carries out the instructions of a computer program by performing the basic arithmetic, logical, control and input/output (I/O) operations specified by the instructions (modified from wikipedia)."
   ]
  },
  {
   "cell_type": "markdown",
   "metadata": {
    "slideshow": {
     "slide_type": "slide"
    }
   },
   "source": [
    "# Main memory\n",
    "\n",
    "- Store information that CPU needs with quick access.\n",
    "\n",
    "- Main memory vanishes when the computer is turned off or code is finished."
   ]
  },
  {
   "cell_type": "markdown",
   "metadata": {
    "slideshow": {
     "slide_type": "slide"
    }
   },
   "source": [
    "# Secondary memory\n",
    "\n",
    "- Slower than the main memory.\n",
    "\n",
    "- Stores information for later access.\n",
    "\n",
    "- Memory is not released when the computer is turned off or the code is finished\n",
    "\n",
    "- Flash memory, hard drive, ..."
   ]
  },
  {
   "cell_type": "markdown",
   "metadata": {
    "slideshow": {
     "slide_type": "slide"
    }
   },
   "source": [
    "# Input and output devices\n",
    "\n",
    "- Hardware interfaces between human and computer\n",
    "\n",
    "- Screen, keyboard, mouse, microphone, speaker, touchpad, ...\n",
    "\n",
    "- Scientific instruments"
   ]
  },
  {
   "cell_type": "markdown",
   "metadata": {
    "slideshow": {
     "slide_type": "slide"
    }
   },
   "source": [
    "# Network connection\n",
    "\n",
    "- Local network\n",
    "\n",
    "- Internet\n",
    "\n",
    "- Remote access of scientific devices"
   ]
  },
  {
   "cell_type": "markdown",
   "metadata": {
    "slideshow": {
     "slide_type": "slide"
    }
   },
   "source": [
    "# Coding\n",
    "\n",
    "- Communicate with the computers to do work. Need to translate human language into computer languages (computers only know 0 and 1). The programing languages are the translator.\n",
    "\n",
    "- Different programing languages use slightly different grammar (rules). \n",
    "\n",
    "- Once you master one programming language, it is much easier to learn other programing languages.\n",
    "\n",
    "- Computers are much faster for some work than human beings\n"
   ]
  },
  {
   "cell_type": "markdown",
   "metadata": {
    "slideshow": {
     "slide_type": "slide"
    }
   },
   "source": [
    "# Python in science\n",
    "\n",
    "- All kind of scientific tasks: analyzing and plotting data, numerical solutions, simulations, and computations.\n",
    "\n",
    "- Python as a \"wrapper\": scripting based on Fortran and C codes.\n",
    "\n",
    "- In other fields: web applications, data science, ..."
   ]
  },
  {
   "cell_type": "markdown",
   "metadata": {},
   "source": [
    "# Python is an interpreted language\n",
    "<img src='./figs/interpreted_language.png'> Image from https://medium.com/from-the-scratch\n",
    "\n",
    "- Compiled languages: the source code is first compiled into executable machine code\n",
    "- Interpreted languages: Interpreter executes the source code one statement at a time.\n"
   ]
  },
  {
   "cell_type": "markdown",
   "metadata": {
    "slideshow": {
     "slide_type": "slide"
    }
   },
   "source": [
    "# Python\n",
    "\n",
    "- No need to compile (good and bad)\n",
    "- No need to declare variables and set aside memory before using them (good and bad)\n",
    "- Free (many languages are also free)\n",
    "- Object oriented\n",
    "- Lots of modules available online to use (speed up the coding process)\n",
    "- Transparency\n",
    "- Slower than C and Fortran\n"
   ]
  },
  {
   "cell_type": "markdown",
   "metadata": {},
   "source": [
    "# Python 2.x versus 3.x\n",
    "\n",
    "* The latest version for `Python` is 3.8 (2019/10).  \n",
    "\n",
    "* Significant number of scientific modules and packages are still coded in versions 2.7 or even earlier.  Unfortunately, many of these codes are not compatible with 3.8.  \n",
    "\n",
    "* The `Python` community will transition completely to 3.8."
   ]
  },
  {
   "cell_type": "markdown",
   "metadata": {
    "slideshow": {
     "slide_type": "slide"
    }
   },
   "source": [
    "# Introduction to Jupyter notebook"
   ]
  },
  {
   "cell_type": "code",
   "execution_count": 1,
   "metadata": {},
   "outputs": [
    {
     "data": {
      "text/plain": [
       "1"
      ]
     },
     "execution_count": 1,
     "metadata": {},
     "output_type": "execute_result"
    }
   ],
   "source": [
    "a=1\n",
    "a"
   ]
  },
  {
   "cell_type": "markdown",
   "metadata": {
    "slideshow": {
     "slide_type": "slide"
    }
   },
   "source": [
    "## What is Jupyter notebook? "
   ]
  },
  {
   "cell_type": "markdown",
   "metadata": {
    "slideshow": {
     "slide_type": "fragment"
    }
   },
   "source": [
    "- An interactive computational tool designed to provide an integrated environment for data science. \n",
    "\n",
    "- Formerly `IPython` `notebook`\n",
    "\n",
    "- [jupyter.org](http://jupyter.org/)"
   ]
  },
  {
   "cell_type": "markdown",
   "metadata": {
    "slideshow": {
     "slide_type": "slide"
    }
   },
   "source": [
    "## How does Jupyter Notebook work?"
   ]
  },
  {
   "cell_type": "markdown",
   "metadata": {
    "slideshow": {
     "slide_type": "fragment"
    }
   },
   "source": [
    "- It runs in your web browser, but you save file (`.ipynb`) in your local hard drive.  \n",
    "\n",
    "- You can include notes, graphs, tables, equations, drawings, videos, and animations in a `JNB` file (`.ipynb`), integrating all different forms of data into a single file."
   ]
  },
  {
   "cell_type": "markdown",
   "metadata": {
    "slideshow": {
     "slide_type": "slide"
    }
   },
   "source": [
    "## Starting Jupyter Notebook"
   ]
  },
  {
   "cell_type": "markdown",
   "metadata": {
    "slideshow": {
     "slide_type": "fragment"
    }
   },
   "source": [
    "* To run the `JNB`, open `Anaconda`:\n",
    "\n",
    "* Select JupiterLab\n",
    "\n",
    "* It will open a file browser type view in your default web browser.\n",
    "\n",
    "* There will be several options. We will mostly use the first one, which is the \"Jupyter notebook\"."
   ]
  },
  {
   "cell_type": "markdown",
   "metadata": {
    "slideshow": {
     "slide_type": "slide"
    }
   },
   "source": [
    "## Starting Jupyter Notebook"
   ]
  },
  {
   "cell_type": "markdown",
   "metadata": {
    "slideshow": {
     "slide_type": "fragment"
    }
   },
   "source": [
    "Unlike your `WORD` or `Excel` files, you cannot run `JNB` by clicking `.ipynb` files.  You should open those files from `JNB` and that is the only way."
   ]
  },
  {
   "cell_type": "markdown",
   "metadata": {
    "slideshow": {
     "slide_type": "slide"
    }
   },
   "source": [
    "## Other browsers\n",
    "\n",
    "- In case you want to run in a browser which is not your default:\n",
    "\n",
    "    - Go to the Terminal\n",
    "    - type: jupyter-lab --no-browser\n",
    "    - copy the link and paste it to your browser"
   ]
  },
  {
   "cell_type": "markdown",
   "metadata": {
    "slideshow": {
     "slide_type": "slide"
    }
   },
   "source": [
    "## Finishing Jupyter Notebook"
   ]
  },
  {
   "cell_type": "markdown",
   "metadata": {
    "slideshow": {
     "slide_type": "fragment"
    }
   },
   "source": [
    "Close all the tabs in your browser that are from `JNB`.\n"
   ]
  },
  {
   "cell_type": "markdown",
   "metadata": {
    "slideshow": {
     "slide_type": "slide"
    }
   },
   "source": [
    "## Dashboard"
   ]
  },
  {
   "cell_type": "markdown",
   "metadata": {
    "slideshow": {
     "slide_type": "fragment"
    }
   },
   "source": [
    "<img src=\"./figs/dashboard.png\" width=\"800\">"
   ]
  },
  {
   "cell_type": "markdown",
   "metadata": {
    "slideshow": {
     "slide_type": "slide"
    }
   },
   "source": [
    "## Dashboard"
   ]
  },
  {
   "cell_type": "markdown",
   "metadata": {
    "slideshow": {
     "slide_type": "fragment"
    }
   },
   "source": [
    "When you first start `JNB`, you will see two panels:\n",
    "\n",
    "- the left panel shows all your files under the current directory\n",
    "- the right panel shows the content of the files you opened (if you open any files)."
   ]
  },
  {
   "cell_type": "markdown",
   "metadata": {
    "slideshow": {
     "slide_type": "slide"
    }
   },
   "source": [
    "## Make your first notebook"
   ]
  },
  {
   "cell_type": "markdown",
   "metadata": {
    "slideshow": {
     "slide_type": "fragment"
    }
   },
   "source": [
    "* Navigate your file system and find a directory where you want to save your first notebook file.  In the `Files` tab, you can make a new folder, if needed.\n",
    "\n",
    "* Find the `+` button at the top of the left panel of your browser window.\n",
    "\n",
    "* Choose 'Python 3' under 'notebook'.  "
   ]
  },
  {
   "cell_type": "markdown",
   "metadata": {
    "slideshow": {
     "slide_type": "slide"
    }
   },
   "source": [
    "## Toolbar"
   ]
  },
  {
   "cell_type": "markdown",
   "metadata": {
    "slideshow": {
     "slide_type": "fragment"
    }
   },
   "source": [
    "- You can see number of icons for certain type of actions on the top of the right panel. \n",
    "\n",
    "- One of the most useful one is a drop-down menu which allows you to define cell type (e.g., code, markdown, etc.)"
   ]
  },
  {
   "cell_type": "markdown",
   "metadata": {
    "slideshow": {
     "slide_type": "slide"
    }
   },
   "source": [
    "## Cells"
   ]
  },
  {
   "cell_type": "markdown",
   "metadata": {
    "slideshow": {
     "slide_type": "fragment"
    }
   },
   "source": [
    "- The two most frequently used cell types are:\n",
    "\n",
    "    - **Markdown cell**: This is an area where you can type in texts (not codes). In this cell, you may use markdown, rich text, `latex`, or `html` syntax to produce nicely looking text.\n",
    "\n",
    "    - **Code cell**: This is an area where you can provide codes to be executed by the `kernel`. The language you use in this cell should match with the Kernel you use."
   ]
  },
  {
   "cell_type": "markdown",
   "metadata": {
    "slideshow": {
     "slide_type": "slide"
    }
   },
   "source": [
    "## `JNB` keyboard shortcuts to remember\n",
    "\n",
    "* The following shortcuts are strongly recommended for memorization:\n",
    "\n",
    "    * __Ctrl-Enter__: run the cell\n",
    "    * __Shift-Enter__: run the cell and select the cell below\n",
    "    * __Alt-Enter__: run the cell and insert a new cell below\n",
    "    * __Ctrl-s__: save the notebook\n",
    "\n",
    "* [Keyboard shortcut cheat sheet](https://www.cheatography.com/weidadeyue/cheat-sheets/jupyter-notebook/pdf/)\n",
    "\n",
    "##  Markdown Cells\n",
    "\n",
    "[linked_JNB_markdown_cells.ipynb](./linked_JNB_markdown_cells.ipynb)\n",
    "\n",
    "## Code Cells\n",
    "\n",
    "[linked_JNB_run_codes.ipynb](./linked_JNB_Run_Codes.ipynb)"
   ]
  },
  {
   "cell_type": "markdown",
   "metadata": {
    "slideshow": {
     "slide_type": "slide"
    }
   },
   "source": [
    "## Equations\n",
    "\n",
    "[linked_JNB_LaTeX.ipynb](./linked_JNB_LaTeX.ipynb)\n",
    "\n",
    "## Images and Videos\n",
    "\n",
    "[linked_JNB_images.ipynb](./linked_JNB_images.ipynb)\n",
    "\n",
    "## Let's make a jupyter notebook\n",
    "\n",
    "## Free textbooks in `JNB`\n",
    "\n",
    "For example, [Probabilistic Programming & Bayesian Methods for Hackers](http://nbviewer.jupyter.org/github/CamDavidsonPilon/Probabilistic-Programming-and-Bayesian-Methods-for-Hackers/blob/master/Prologue/Prologue.ipynb)"
   ]
  },
  {
   "cell_type": "code",
   "execution_count": null,
   "metadata": {},
   "outputs": [],
   "source": []
  }
 ],
 "metadata": {
  "anaconda-cloud": {},
  "celltoolbar": "Slideshow",
  "kernelspec": {
   "display_name": "Python 3",
   "language": "python",
   "name": "python3"
  },
  "language_info": {
   "codemirror_mode": {
    "name": "ipython",
    "version": 3
   },
   "file_extension": ".py",
   "mimetype": "text/x-python",
   "name": "python",
   "nbconvert_exporter": "python",
   "pygments_lexer": "ipython3",
   "version": "3.8.3"
  },
  "latex_envs": {
   "LaTeX_envs_menu_present": true,
   "bibliofile": "biblio.bib",
   "cite_by": "apalike",
   "current_citInitial": 1,
   "eqLabelWithNumbers": true,
   "eqNumInitial": 0,
   "labels_anchors": false,
   "latex_user_defs": false,
   "report_style_numbering": false,
   "user_envs_cfg": false
  }
 },
 "nbformat": 4,
 "nbformat_minor": 4
}
