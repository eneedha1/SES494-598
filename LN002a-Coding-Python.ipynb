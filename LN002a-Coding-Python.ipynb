{
 "cells": [
  {
   "cell_type": "markdown",
   "metadata": {
    "slideshow": {
     "slide_type": "slide"
    }
   },
   "source": [
    "# Computer hardware architecture\n",
    "\n",
    "<img src='./figs/hardware_architecture.png' width=600>"
   ]
  },
  {
   "cell_type": "markdown",
   "metadata": {
    "slideshow": {
     "slide_type": "slide"
    }
   },
   "source": [
    "# CPU\n",
    "\n",
    "- Central Processing Unit\n",
    "\n",
    "- Electronic circuitry within a computer that carries out the instructions of a computer program by performing the basic arithmetic, logical, control and input/output (I/O) operations specified by the instructions (modified from wikipedia)."
   ]
  },
  {
   "cell_type": "markdown",
   "metadata": {
    "slideshow": {
     "slide_type": "slide"
    }
   },
   "source": [
    "# Main memory\n",
    "\n",
    "- Store information that CPU needs with quick access.\n",
    "\n",
    "- Main memory vanishes when the computer is turned off or code is finished."
   ]
  },
  {
   "cell_type": "markdown",
   "metadata": {
    "slideshow": {
     "slide_type": "slide"
    }
   },
   "source": [
    "# Secondary memory\n",
    "\n",
    "- Slower than the main memory.\n",
    "\n",
    "- Stores information for later access.\n",
    "\n",
    "- Memory is not released when the computer is turned off or the code is finished\n",
    "\n",
    "- Flash memory, hard drive, ..."
   ]
  },
  {
   "cell_type": "markdown",
   "metadata": {
    "slideshow": {
     "slide_type": "slide"
    }
   },
   "source": [
    "# Input and output devices\n",
    "\n",
    "- Hardware interfaces between human and computer\n",
    "\n",
    "- Screen, keyboard, mouse, microphone, speaker, touchpad, ...\n",
    "\n",
    "- Scientific instruments"
   ]
  },
  {
   "cell_type": "markdown",
   "metadata": {
    "slideshow": {
     "slide_type": "slide"
    }
   },
   "source": [
    "# Network connection\n",
    "\n",
    "- Local network\n",
    "\n",
    "- Internet\n",
    "\n",
    "- Remote access of scientific devices"
   ]
  },
  {
   "cell_type": "markdown",
   "metadata": {
    "slideshow": {
     "slide_type": "slide"
    }
   },
   "source": [
    "# Coding\n",
    "\n",
    "- Communicate with the computers to do work. Need to translate human language into computer languages (computers only know 0 and 1). The programing languages are the translator.\n",
    "\n",
    "- Different programing languages use slightly different grammar (rules). \n",
    "\n",
    "- Once you master one programming language, it is much easier to learn other programing languages.\n",
    "\n",
    "- Computers are much faster for some work than human beings\n"
   ]
  },
  {
   "cell_type": "markdown",
   "metadata": {
    "slideshow": {
     "slide_type": "slide"
    }
   },
   "source": [
    "# Python in science\n",
    "\n",
    "- All kind of scientific tasks: analyzing and plotting data, numerical solutions, simulations, and computations.\n",
    "\n",
    "- Python as a \"wrapper\": scripting based on Fortran and C codes.\n",
    "\n",
    "- In other fields: web applications, data science, ..."
   ]
  },
  {
   "cell_type": "markdown",
   "metadata": {},
   "source": [
    "# Python is an interpreted language\n",
    "<img src='./figs/interpreted_language.png'> Image from https://medium.com/from-the-scratch\n",
    "\n",
    "- Compiled languages: the source code is first compiled into executable machine code\n",
    "- Interpreted languages: Interpreter executes the source code one statement at a time.\n"
   ]
  },
  {
   "cell_type": "markdown",
   "metadata": {
    "slideshow": {
     "slide_type": "slide"
    }
   },
   "source": [
    "# Python\n",
    "\n",
    "- No need to compile (good and bad)\n",
    "- No need to declare variables and set aside memory before using them (good and bad)\n",
    "- Free (many languages are also free)\n",
    "- Object oriented\n",
    "- Lots of modules available online to use (speed up the coding process)\n",
    "- Transparency\n",
    "- Slower than C and Fortran\n"
   ]
  },
  {
   "cell_type": "markdown",
   "metadata": {},
   "source": [
    "# Python 2.7 versus 3.7\n",
    "\n",
    "* The latest version for `Python` is 3.7 (2018/06).  \n",
    "\n",
    "* Significant number of scientific modules and packages are still coded in versions 2.7 or even earlier.  Unfortunately, many of these codes are not compatible with 3.7.  \n",
    "\n",
    "* The `Python` community will transition completely to 3.x."
   ]
  },
  {
   "cell_type": "markdown",
   "metadata": {},
   "source": [
    "# Terminal\n",
    "<img src='./figs/terminal.png' width=600>"
   ]
  },
  {
   "cell_type": "markdown",
   "metadata": {},
   "source": [
    "- Most standard way of doing scientific research\n",
    "- SO EASY to work on files\n",
    "- Make full use of the Linux system\n",
    "- Shell scripts in Linux will greatly improve the efficiency\n",
    "- Terminal is default build-in software in all computers\n"
   ]
  },
  {
   "cell_type": "markdown",
   "metadata": {},
   "source": [
    "# Install Anaconda"
   ]
  },
  {
   "cell_type": "markdown",
   "metadata": {},
   "source": [
    "- Download anaconda from https://www.anaconda.com\n",
    "- Select the right version based on your operating system"
   ]
  },
  {
   "cell_type": "markdown",
   "metadata": {},
   "source": [
    "# Get familar with Anaconda"
   ]
  }
 ],
 "metadata": {
  "anaconda-cloud": {},
  "celltoolbar": "Slideshow",
  "kernelspec": {
   "display_name": "Python 3",
   "language": "python",
   "name": "python3"
  },
  "language_info": {
   "codemirror_mode": {
    "name": "ipython",
    "version": 3
   },
   "file_extension": ".py",
   "mimetype": "text/x-python",
   "name": "python",
   "nbconvert_exporter": "python",
   "pygments_lexer": "ipython3",
   "version": "3.7.1"
  },
  "latex_envs": {
   "bibliofile": "biblio.bib",
   "cite_by": "apalike",
   "current_citInitial": 1,
   "eqLabelWithNumbers": true,
   "eqNumInitial": 0
  },
  "livereveal": {
   "height": "720",
   "scroll": "True",
   "start_slideshow_at": "selected",
   "theme": "white",
   "transition": "none",
   "width": "1280"
  },
  "nbpresent": {
   "slides": {
    "0a67a003-a391-40a4-9a75-0be700ae1945": {
     "id": "0a67a003-a391-40a4-9a75-0be700ae1945",
     "prev": "b5f69939-53d6-41d7-a7e6-23942c94efa0",
     "regions": {
      "da7fe5ce-e03a-4bd0-a79c-240fbcbcdb7a": {
       "attrs": {
        "height": 0.8,
        "width": 0.8,
        "x": 0.1,
        "y": 0.1
       },
       "content": {
        "cell": "2197b5a1-cc40-44ae-9158-73ccf33660a7",
        "part": "whole"
       },
       "id": "da7fe5ce-e03a-4bd0-a79c-240fbcbcdb7a"
      }
     }
    },
    "2c1842dc-8f9f-408f-be20-83298db80dcc": {
     "id": "2c1842dc-8f9f-408f-be20-83298db80dcc",
     "prev": "dc7be06e-039c-4c64-98cf-c3fd1a2add30",
     "regions": {
      "127c1719-a726-4673-81cb-a7e8c9b97d22": {
       "attrs": {
        "height": 0.8,
        "width": 0.8,
        "x": 0.1,
        "y": 0.1
       },
       "content": {
        "cell": "0f25fb42-609a-496c-bc9f-7b941df6e4dc",
        "part": "whole"
       },
       "id": "127c1719-a726-4673-81cb-a7e8c9b97d22"
      }
     }
    },
    "680b4891-1886-44a6-9a26-3173950fc5be": {
     "id": "680b4891-1886-44a6-9a26-3173950fc5be",
     "prev": "2c1842dc-8f9f-408f-be20-83298db80dcc",
     "regions": {
      "25287fe3-2e3c-459e-bd2e-1ada05227c08": {
       "attrs": {
        "height": 0.8,
        "width": 0.8,
        "x": 0.1,
        "y": 0.1
       },
       "content": {
        "cell": "8a29eef4-b703-4984-97a3-3943cf25bf36",
        "part": "whole"
       },
       "id": "25287fe3-2e3c-459e-bd2e-1ada05227c08"
      },
      "4a9822c4-11ce-465a-b718-54a32ece6746": {
       "attrs": {
        "height": 0.4,
        "width": 0.8,
        "x": 0.1,
        "y": 0.5
       },
       "content": {
        "cell": "ce480587-4539-4040-9c39-98ca273965b4",
        "part": "whole"
       },
       "id": "4a9822c4-11ce-465a-b718-54a32ece6746"
      }
     }
    },
    "8911a1a6-8a60-4c07-8185-91e06293e42d": {
     "id": "8911a1a6-8a60-4c07-8185-91e06293e42d",
     "prev": "0a67a003-a391-40a4-9a75-0be700ae1945",
     "regions": {
      "129710c2-bed4-472b-aead-d45e967efbf2": {
       "attrs": {
        "height": 0.8,
        "width": 0.8,
        "x": 0.1,
        "y": 0.1
       },
       "content": {
        "cell": "770a562a-1638-4e14-82d2-57999cb876b2",
        "part": "whole"
       },
       "id": "129710c2-bed4-472b-aead-d45e967efbf2"
      }
     }
    },
    "b5f69939-53d6-41d7-a7e6-23942c94efa0": {
     "id": "b5f69939-53d6-41d7-a7e6-23942c94efa0",
     "prev": null,
     "regions": {
      "f7c52ec8-980d-4169-82b9-50fdd8817434": {
       "attrs": {
        "height": 0.8,
        "width": 0.8,
        "x": 0.1,
        "y": 0.1
       },
       "content": {
        "cell": "dffca9ec-74df-41d4-a4fa-a499729f262b",
        "part": "whole"
       },
       "id": "f7c52ec8-980d-4169-82b9-50fdd8817434"
      }
     }
    },
    "dc7be06e-039c-4c64-98cf-c3fd1a2add30": {
     "id": "dc7be06e-039c-4c64-98cf-c3fd1a2add30",
     "prev": "8911a1a6-8a60-4c07-8185-91e06293e42d",
     "regions": {
      "ba142a16-ad21-4c96-bd8d-3c578164b882": {
       "attrs": {
        "height": 0.8,
        "width": 0.8,
        "x": 0.1,
        "y": 0.1
       },
       "content": {
        "cell": "428b57b8-6a3f-41bc-a607-a5cb1b005bc3",
        "part": "whole"
       },
       "id": "ba142a16-ad21-4c96-bd8d-3c578164b882"
      }
     }
    }
   },
   "themes": {
    "default": "94c91476-ab92-4793-8b73-1a21ed51b3fa",
    "theme": {}
   }
  }
 },
 "nbformat": 4,
 "nbformat_minor": 2
}
