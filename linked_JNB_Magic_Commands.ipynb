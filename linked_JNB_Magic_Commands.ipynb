{
 "cells": [
  {
   "cell_type": "markdown",
   "metadata": {},
   "source": [
    "# 1. Using IPython in Jupyter as an extended shell"
   ]
  },
  {
   "cell_type": "markdown",
   "metadata": {},
   "source": [
    "* Get current folder"
   ]
  },
  {
   "cell_type": "code",
   "execution_count": 1,
   "metadata": {
    "collapsed": false,
    "jupyter": {
     "outputs_hidden": false
    }
   },
   "outputs": [
    {
     "data": {
      "text/plain": [
       "'/Users/DanShim/Dropbox (ASU)/Desktop/2018_GLG494-dev/04_Jupyter_notebook_basics'"
      ]
     },
     "execution_count": 1,
     "metadata": {},
     "output_type": "execute_result"
    }
   ],
   "source": [
    "%pwd"
   ]
  },
  {
   "cell_type": "markdown",
   "metadata": {},
   "source": [
    "* Get list of files in current folder"
   ]
  },
  {
   "cell_type": "code",
   "execution_count": 2,
   "metadata": {
    "collapsed": false,
    "jupyter": {
     "outputs_hidden": false
    }
   },
   "outputs": [
    {
     "name": "stdout",
     "output_type": "stream",
     "text": [
      "Crash Course.html                linked_JNB_Magic_Commands.py\n",
      "Crash Course.py                  linked_JNB_Run_Codes.html\n",
      "JNB_introduction.html            linked_JNB_Run_Codes.ipynb\n",
      "JNB_introduction.ipynb           linked_JNB_Run_Codes.py\n",
      "JNB_introduction.py              linked_JNB_images.html\n",
      "\u001b[1m\u001b[34mfigs\u001b[m\u001b[m/                            linked_JNB_images.ipynb\n",
      "least_square_example.html        linked_JNB_images.py\n",
      "least_square_example.ipynb       linked_JNB_markdown_cells.html\n",
      "least_square_example.py          linked_JNB_markdown_cells.ipynb\n",
      "linked_JNB_LaTeX.html            linked_JNB_markdown_cells.py\n",
      "linked_JNB_LaTeX.ipynb           linked_LaTeX.html\n",
      "linked_JNB_LaTeX.py              linked_LaTeX.ipynb\n",
      "linked_JNB_Magic_Commands.html   linked_LaTeX.py\n",
      "linked_JNB_Magic_Commands.ipynb\n"
     ]
    }
   ],
   "source": [
    "%ls"
   ]
  },
  {
   "cell_type": "markdown",
   "metadata": {},
   "source": [
    "* More detailed list"
   ]
  },
  {
   "cell_type": "code",
   "execution_count": 3,
   "metadata": {
    "collapsed": false,
    "jupyter": {
     "outputs_hidden": false
    }
   },
   "outputs": [
    {
     "name": "stdout",
     "output_type": "stream",
     "text": [
      "total 8824\n",
      "drwxr-xr-x@ 31 DanShim  staff     1054 Jan 17 21:39 \u001b[1m\u001b[34m.\u001b[m\u001b[m/\n",
      "drwxr-xr-x@ 21 DanShim  staff      714 Jan 17 18:08 \u001b[1m\u001b[34m..\u001b[m\u001b[m/\n",
      "-rw-r--r--@  1 DanShim  staff     6148 Jan 13 18:10 .DS_Store\n",
      "drwxr-xr-x@ 11 DanShim  staff      374 Jan 17 18:08 \u001b[1m\u001b[34m.ipynb_checkpoints\u001b[m\u001b[m/\n",
      "-rw-r--r--@  1 DanShim  staff   291199 Jan 16 21:25 Crash Course.html\n",
      "-rw-r--r--@  1 DanShim  staff     2335 Jan 16 21:25 Crash Course.py\n",
      "-rw-r--r--@  1 DanShim  staff   268739 Jan 17 21:39 JNB_introduction.html\n",
      "-rw-r--r--@  1 DanShim  staff    14309 Jan 17 21:39 JNB_introduction.ipynb\n",
      "-rw-r--r--@  1 DanShim  staff     6577 Jan 17 21:39 JNB_introduction.py\n",
      "drwxr-xr-x@  6 DanShim  staff      204 Dec 17 16:49 \u001b[1m\u001b[34mfigs\u001b[m\u001b[m/\n",
      "-rw-r--r--@  1 DanShim  staff   293598 Jan 17 21:38 least_square_example.html\n",
      "-rw-r--r--@  1 DanShim  staff    37673 Jan 17 21:38 least_square_example.ipynb\n",
      "-rw-r--r--@  1 DanShim  staff     2302 Jan 17 21:38 least_square_example.py\n",
      "-rw-r--r--@  1 DanShim  staff   282586 Jan 16 21:03 linked_JNB_LaTeX.html\n",
      "-rw-r--r--@  1 DanShim  staff    29997 Jan 16 21:03 linked_JNB_LaTeX.ipynb\n",
      "-rw-r--r--@  1 DanShim  staff    11088 Jan 16 21:03 linked_JNB_LaTeX.py\n",
      "-rw-r--r--@  1 DanShim  staff   274570 Jan 13 16:31 linked_JNB_Magic_Commands.html\n",
      "-rw-r--r--@  1 DanShim  staff    19718 Jan 13 16:31 linked_JNB_Magic_Commands.ipynb\n",
      "-rw-r--r--@  1 DanShim  staff     2349 Jan 13 16:31 linked_JNB_Magic_Commands.py\n",
      "-rw-r--r--@  1 DanShim  staff   298345 Jan 17 21:35 linked_JNB_Run_Codes.html\n",
      "-rw-r--r--@  1 DanShim  staff    50746 Jan 17 21:35 linked_JNB_Run_Codes.ipynb\n",
      "-rw-r--r--@  1 DanShim  staff     2551 Jan 17 21:35 linked_JNB_Run_Codes.py\n",
      "-rw-r--r--@  1 DanShim  staff  1148786 Jan 16 21:03 linked_JNB_images.html\n",
      "-rw-r--r--@  1 DanShim  staff   909850 Jan 16 21:03 linked_JNB_images.ipynb\n",
      "-rw-r--r--@  1 DanShim  staff     1179 Jan 16 21:03 linked_JNB_images.py\n",
      "-rw-r--r--@  1 DanShim  staff   251908 Jan 16 20:58 linked_JNB_markdown_cells.html\n",
      "-rw-r--r--@  1 DanShim  staff     2372 Jan 16 20:58 linked_JNB_markdown_cells.ipynb\n",
      "-rw-r--r--@  1 DanShim  staff     1151 Jan 16 20:58 linked_JNB_markdown_cells.py\n",
      "-rw-r--r--@  1 DanShim  staff   248825 Jan 13 16:44 linked_LaTeX.html\n",
      "-rw-r--r--@  1 DanShim  staff      750 Jan 13 16:44 linked_LaTeX.ipynb\n",
      "-rw-r--r--@  1 DanShim  staff       17 Jan 13 16:44 linked_LaTeX.py\n"
     ]
    }
   ],
   "source": [
    "%ls -la"
   ]
  },
  {
   "cell_type": "markdown",
   "metadata": {},
   "source": [
    "* Change folder"
   ]
  },
  {
   "cell_type": "code",
   "execution_count": 4,
   "metadata": {
    "collapsed": false,
    "jupyter": {
     "outputs_hidden": false
    }
   },
   "outputs": [
    {
     "name": "stdout",
     "output_type": "stream",
     "text": [
      "/Users/DanShim/Dropbox (ASU)/Desktop/2018_GLG494-dev/04_Jupyter_notebook_basics/figs\n"
     ]
    }
   ],
   "source": [
    "%cd ./figs"
   ]
  },
  {
   "cell_type": "code",
   "execution_count": 5,
   "metadata": {
    "collapsed": false,
    "jupyter": {
     "outputs_hidden": false
    }
   },
   "outputs": [
    {
     "data": {
      "text/plain": [
       "'/Users/DanShim/Dropbox (ASU)/Desktop/2018_GLG494-dev/04_Jupyter_notebook_basics/figs'"
      ]
     },
     "execution_count": 5,
     "metadata": {},
     "output_type": "execute_result"
    }
   ],
   "source": [
    "%pwd"
   ]
  },
  {
   "cell_type": "code",
   "execution_count": 6,
   "metadata": {
    "collapsed": false,
    "jupyter": {
     "outputs_hidden": false
    }
   },
   "outputs": [
    {
     "name": "stdout",
     "output_type": "stream",
     "text": [
      "/Users/DanShim/Dropbox (ASU)/Desktop/2018_GLG494-dev/04_Jupyter_notebook_basics\n"
     ]
    }
   ],
   "source": [
    "%cd .."
   ]
  },
  {
   "cell_type": "markdown",
   "metadata": {},
   "source": [
    "* Get names of files with `.ipynb` extension"
   ]
  },
  {
   "cell_type": "code",
   "execution_count": 7,
   "metadata": {
    "collapsed": true,
    "jupyter": {
     "outputs_hidden": true
    }
   },
   "outputs": [],
   "source": [
    "files = !ls -1 -S | grep .ipynb"
   ]
  },
  {
   "cell_type": "code",
   "execution_count": 8,
   "metadata": {
    "collapsed": false,
    "jupyter": {
     "outputs_hidden": false
    }
   },
   "outputs": [
    {
     "data": {
      "text/plain": [
       "['linked_JNB_images.ipynb',\n",
       " 'linked_JNB_Run_Codes.ipynb',\n",
       " 'least_square_example.ipynb',\n",
       " 'linked_JNB_LaTeX.ipynb',\n",
       " 'linked_JNB_Magic_Commands.ipynb',\n",
       " 'JNB_introduction.ipynb',\n",
       " 'linked_JNB_markdown_cells.ipynb',\n",
       " 'linked_LaTeX.ipynb']"
      ]
     },
     "execution_count": 8,
     "metadata": {},
     "output_type": "execute_result"
    }
   ],
   "source": [
    "files"
   ]
  },
  {
   "cell_type": "markdown",
   "metadata": {},
   "source": [
    "* More fancier ways to get file list"
   ]
  },
  {
   "cell_type": "code",
   "execution_count": 9,
   "metadata": {
    "collapsed": true,
    "jupyter": {
     "outputs_hidden": true
    }
   },
   "outputs": [],
   "source": [
    "import os\n",
    "from operator import itemgetter\n",
    "# Get the name and file size of all .ipynb files.\n",
    "files = [(file, os.stat(file).st_size)\n",
    "         for file in os.listdir('.')\n",
    "         if file.endswith('.ipynb')]\n",
    "# Sort the list with the second item (file size),\n",
    "# in decreasing order.\n",
    "files = sorted(files,\n",
    "               key=itemgetter(1),\n",
    "               reverse=True)"
   ]
  },
  {
   "cell_type": "code",
   "execution_count": 10,
   "metadata": {
    "collapsed": false,
    "jupyter": {
     "outputs_hidden": false
    }
   },
   "outputs": [
    {
     "name": "stdout",
     "output_type": "stream",
     "text": [
      "[('linked_JNB_images.ipynb', 909850), ('linked_JNB_Run_Codes.ipynb', 50746), ('least_square_example.ipynb', 37673), ('linked_JNB_LaTeX.ipynb', 29997), ('linked_JNB_Magic_Commands.ipynb', 19718), ('JNB_introduction.ipynb', 14309), ('linked_JNB_markdown_cells.ipynb', 2372), ('linked_LaTeX.ipynb', 750)]\n"
     ]
    }
   ],
   "source": [
    "print(files)"
   ]
  },
  {
   "cell_type": "code",
   "execution_count": 11,
   "metadata": {
    "collapsed": true,
    "jupyter": {
     "outputs_hidden": true
    }
   },
   "outputs": [],
   "source": [
    "# Only keep the first item (file name), in the same order.\n",
    "files = [file for (file, size) in files]"
   ]
  },
  {
   "cell_type": "code",
   "execution_count": 12,
   "metadata": {
    "collapsed": false,
    "jupyter": {
     "outputs_hidden": false
    }
   },
   "outputs": [
    {
     "name": "stdout",
     "output_type": "stream",
     "text": [
      "['linked_JNB_images.ipynb', 'linked_JNB_Run_Codes.ipynb', 'least_square_example.ipynb', 'linked_JNB_LaTeX.ipynb', 'linked_JNB_Magic_Commands.ipynb', 'JNB_introduction.ipynb', 'linked_JNB_markdown_cells.ipynb', 'linked_LaTeX.ipynb']\n"
     ]
    }
   ],
   "source": [
    "print(files)"
   ]
  },
  {
   "cell_type": "markdown",
   "metadata": {},
   "source": [
    "# 2. `Magic` commands in Jupyter notebook"
   ]
  },
  {
   "cell_type": "markdown",
   "metadata": {},
   "source": [
    "* List of magic commands"
   ]
  },
  {
   "cell_type": "code",
   "execution_count": 13,
   "metadata": {
    "collapsed": false,
    "jupyter": {
     "outputs_hidden": false
    }
   },
   "outputs": [
    {
     "data": {
      "text/plain": [
       "Available line magics:\n",
       "%alias  %alias_magic  %autocall  %automagic  %autosave  %bookmark  %cat  %cd  %clear  %colors  %config  %connect_info  %cp  %debug  %dhist  %dirs  %doctest_mode  %ed  %edit  %env  %gui  %hist  %history  %killbgscripts  %ldir  %less  %lf  %lk  %ll  %load  %load_ext  %loadpy  %logoff  %logon  %logstart  %logstate  %logstop  %ls  %lsmagic  %lx  %macro  %magic  %man  %matplotlib  %mkdir  %more  %mv  %notebook  %page  %pastebin  %pdb  %pdef  %pdoc  %pfile  %pinfo  %pinfo2  %popd  %pprint  %precision  %profile  %prun  %psearch  %psource  %pushd  %pwd  %pycat  %pylab  %qtconsole  %quickref  %recall  %rehashx  %reload_ext  %rep  %rerun  %reset  %reset_selective  %rm  %rmdir  %run  %save  %sc  %set_env  %store  %sx  %system  %tb  %time  %timeit  %unalias  %unload_ext  %who  %who_ls  %whos  %xdel  %xmode\n",
       "\n",
       "Available cell magics:\n",
       "%%!  %%HTML  %%SVG  %%bash  %%capture  %%debug  %%file  %%html  %%javascript  %%js  %%latex  %%markdown  %%perl  %%prun  %%pypy  %%python  %%python2  %%python3  %%ruby  %%script  %%sh  %%svg  %%sx  %%system  %%time  %%timeit  %%writefile\n",
       "\n",
       "Automagic is ON, % prefix IS NOT needed for line magics."
      ]
     },
     "execution_count": 13,
     "metadata": {},
     "output_type": "execute_result"
    }
   ],
   "source": [
    "%lsmagic"
   ]
  },
  {
   "cell_type": "code",
   "execution_count": 14,
   "metadata": {
    "collapsed": false,
    "jupyter": {
     "outputs_hidden": false
    }
   },
   "outputs": [
    {
     "name": "stdout",
     "output_type": "stream",
     "text": [
      "import os\n",
      "from operator import itemgetter\n",
      "# Get the name and file size of all .ipynb files.\n",
      "files = [(file, os.stat(file).st_size)\n",
      "         for file in os.listdir('.')\n",
      "         if file.endswith('.ipynb')]\n",
      "# Sort the list with the second item (file size),\n",
      "# in decreasing order.\n",
      "files = sorted(files,\n",
      "               key=itemgetter(1),\n",
      "               reverse=True)\n",
      "print(files)\n",
      "# Only keep the first item (file name), in the same order.\n",
      "files = [file for (file, size) in files]\n",
      "print(files)\n",
      "%lsmagic\n"
     ]
    }
   ],
   "source": [
    "%history -l 5"
   ]
  },
  {
   "cell_type": "markdown",
   "metadata": {},
   "source": [
    "* Simple caculator"
   ]
  },
  {
   "cell_type": "code",
   "execution_count": 15,
   "metadata": {
    "collapsed": false,
    "jupyter": {
     "outputs_hidden": false
    }
   },
   "outputs": [
    {
     "data": {
      "text/plain": [
       "1440"
      ]
     },
     "execution_count": 15,
     "metadata": {},
     "output_type": "execute_result"
    }
   ],
   "source": [
    "# how many minutes in a day?\n",
    "24 * 60"
   ]
  },
  {
   "cell_type": "code",
   "execution_count": 16,
   "metadata": {
    "collapsed": false,
    "jupyter": {
     "outputs_hidden": false
    }
   },
   "outputs": [
    {
     "data": {
      "text/plain": [
       "525600"
      ]
     },
     "execution_count": 16,
     "metadata": {},
     "output_type": "execute_result"
    }
   ],
   "source": [
    "# and in a year?\n",
    "_ * 365"
   ]
  },
  {
   "cell_type": "code",
   "execution_count": 17,
   "metadata": {
    "collapsed": true,
    "jupyter": {
     "outputs_hidden": true
    }
   },
   "outputs": [],
   "source": [
    "%%capture output\n",
    "%ls"
   ]
  },
  {
   "cell_type": "code",
   "execution_count": 18,
   "metadata": {
    "collapsed": false,
    "jupyter": {
     "outputs_hidden": false
    }
   },
   "outputs": [
    {
     "data": {
      "text/plain": [
       "'Crash Course.html                linked_JNB_Magic_Commands.py\\r\\nCrash Course.py                  linked_JNB_Run_Codes.html\\r\\nJNB_introduction.html            linked_JNB_Run_Codes.ipynb\\r\\nJNB_introduction.ipynb           linked_JNB_Run_Codes.py\\r\\nJNB_introduction.py              linked_JNB_images.html\\r\\n\\x1b[1m\\x1b[34mfigs\\x1b[m\\x1b[m/                            linked_JNB_images.ipynb\\r\\nleast_square_example.html        linked_JNB_images.py\\r\\nleast_square_example.ipynb       linked_JNB_markdown_cells.html\\r\\nleast_square_example.py          linked_JNB_markdown_cells.ipynb\\r\\nlinked_JNB_LaTeX.html            linked_JNB_markdown_cells.py\\r\\nlinked_JNB_LaTeX.ipynb           linked_LaTeX.html\\r\\nlinked_JNB_LaTeX.py              linked_LaTeX.ipynb\\r\\nlinked_JNB_Magic_Commands.html   linked_LaTeX.py\\r\\nlinked_JNB_Magic_Commands.ipynb\\r\\n'"
      ]
     },
     "execution_count": 18,
     "metadata": {},
     "output_type": "execute_result"
    }
   ],
   "source": [
    "output.stdout"
   ]
  },
  {
   "cell_type": "code",
   "execution_count": 19,
   "metadata": {
    "collapsed": false,
    "jupyter": {
     "outputs_hidden": false
    }
   },
   "outputs": [
    {
     "name": "stdout",
     "output_type": "stream",
     "text": [
      "/Users/DanShim/Dropbox (ASU)/Desktop/2018_GLG494-dev\n",
      "000_Uploaded_to_CoCalc\n",
      "04_Jupyter_notebook_basics\n",
      "04x_Assignment_1\n",
      "05_Variables_expressions_statements\n",
      "06_Strings_lists_arrays_dictionaries\n",
      "07_Input_output\n",
      "08_Plotting\n",
      "09_Conditionals_loops\n",
      "2017_python_earth_data_science-dev\n",
      "README.md\n",
      "XX_Jupyter_notebook_advanced\n",
      "XX_jnb_example_earthquake\n",
      "data-science-tutorial-master\n",
      "notations.txt\n",
      "pyman\n",
      "recources.txt\n",
      "/Users/DanShim/Dropbox (ASU)/Desktop/2018_GLG494-dev\n"
     ]
    },
    {
     "name": "stderr",
     "output_type": "stream",
     "text": [
      "bash: line 4: cd: 00_Syllabus: No such file or directory\n"
     ]
    }
   ],
   "source": [
    "%%bash\n",
    "cd ..\n",
    "pwd\n",
    "ls\n",
    "cd 00_Syllabus\n",
    "pwd"
   ]
  },
  {
   "cell_type": "code",
   "execution_count": 20,
   "metadata": {
    "collapsed": false,
    "jupyter": {
     "outputs_hidden": false
    }
   },
   "outputs": [
    {
     "name": "stdout",
     "output_type": "stream",
     "text": [
      "Writing myfile.txt\n"
     ]
    }
   ],
   "source": [
    "%%writefile myfile.txt\n",
    "Hello world!"
   ]
  },
  {
   "cell_type": "code",
   "execution_count": 21,
   "metadata": {
    "collapsed": false,
    "jupyter": {
     "outputs_hidden": false
    }
   },
   "outputs": [
    {
     "name": "stdout",
     "output_type": "stream",
     "text": [
      "myfile.txt\n"
     ]
    }
   ],
   "source": [
    "%ls *.txt"
   ]
  },
  {
   "cell_type": "code",
   "execution_count": 22,
   "metadata": {
    "collapsed": false,
    "jupyter": {
     "outputs_hidden": false
    }
   },
   "outputs": [
    {
     "name": "stdout",
     "output_type": "stream",
     "text": [
      "Hello world!\n",
      "\u001b[K\u001b[?1l\u001b>"
     ]
    }
   ],
   "source": [
    "!more myfile.txt"
   ]
  },
  {
   "cell_type": "code",
   "execution_count": 23,
   "metadata": {
    "collapsed": true,
    "jupyter": {
     "outputs_hidden": true
    }
   },
   "outputs": [],
   "source": [
    "%rm myfile.txt"
   ]
  },
  {
   "cell_type": "code",
   "execution_count": 24,
   "metadata": {
    "collapsed": false,
    "jupyter": {
     "outputs_hidden": false
    }
   },
   "outputs": [
    {
     "name": "stdout",
     "output_type": "stream",
     "text": [
      "ls: *.txt: No such file or directory\n"
     ]
    }
   ],
   "source": [
    "%ls *.txt"
   ]
  },
  {
   "cell_type": "code",
   "execution_count": 25,
   "metadata": {
    "collapsed": false,
    "jupyter": {
     "outputs_hidden": false
    }
   },
   "outputs": [
    {
     "name": "stdout",
     "output_type": "stream",
     "text": [
      "/Users/DanShim\n"
     ]
    }
   ],
   "source": [
    "%cd ~"
   ]
  }
 ],
 "metadata": {
  "anaconda-cloud": {},
  "kernelspec": {
   "display_name": "Python 3",
   "language": "python",
   "name": "python3"
  },
  "language_info": {
   "codemirror_mode": {
    "name": "ipython",
    "version": 3
   },
   "file_extension": ".py",
   "mimetype": "text/x-python",
   "name": "python",
   "nbconvert_exporter": "python",
   "pygments_lexer": "ipython3",
   "version": "3.7.4"
  },
  "latex_envs": {
   "LaTeX_envs_menu_present": true,
   "bibliofile": "biblio.bib",
   "cite_by": "apalike",
   "current_citInitial": 1,
   "eqLabelWithNumbers": true,
   "eqNumInitial": 0,
   "labels_anchors": false,
   "latex_user_defs": false,
   "report_style_numbering": false,
   "user_envs_cfg": false
  }
 },
 "nbformat": 4,
 "nbformat_minor": 4
}
