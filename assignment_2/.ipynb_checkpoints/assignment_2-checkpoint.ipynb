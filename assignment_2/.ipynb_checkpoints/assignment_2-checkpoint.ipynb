{
 "cells": [
  {
   "cell_type": "markdown",
   "metadata": {},
   "source": [
    "# Assignment \\#2 - the Hawaii-Emperor Seamount Chain (174 points)"
   ]
  },
  {
   "cell_type": "markdown",
   "metadata": {},
   "source": [
    "__(Instruction)__ The purpose of this assignment is to make sure you have basic skills to take advantage of Numpy in scientific data analysis.\n",
    "\n",
    "- All the array calculations should take advantage of the vectorized operations in numpy.  No iteration is allowed.  If used, it will be regarded as a wrong answer.  \n",
    "\n",
    "__(Due)__ Oct. 1, 2020 (Thursday) 11:59 pm"
   ]
  },
  {
   "cell_type": "markdown",
   "metadata": {},
   "source": [
    "## 1. Background"
   ]
  },
  {
   "cell_type": "markdown",
   "metadata": {},
   "source": [
    "The outermost shell of the solid Earth consists of more than 40 rigid plates (~200 km thick) which are moving.  Many large scale geological processes can be explained by the interactions between the plates, plate tectonics.  One of the most notable geological features related to the plate tectonics, can be found under the Pacific ocean.  The image below shows two linear structures in the ocean bottom topography of the Pacific: Hawaiian seamount chain and Emperor seamount chain.  This linear alignment of the seamounts extends more than 6000 km.    "
   ]
  },
  {
   "cell_type": "markdown",
   "metadata": {},
   "source": [
    "![](Oceanfloor.jpg)"
   ]
  },
  {
   "cell_type": "markdown",
   "metadata": {},
   "source": [
    "One of the most popular hypothesis to explain the formation of such large scale seamount chains is that a fixed source of plume from the deep mantle (about 3000 km deep) provides materials to the surface which is moving north west (Pacific plate).  An [animation here](https://youtu.be/QtIQ7-iOFg8) shows how such process can form the seamount chains.\n",
    "\n",
    "As shown in the figure below, Earth scientists have measured the ages of the seamounts.  Assuming that the current eruption location at Hawaii (Kilauea) has been the location of the plume for the last 60 Ma, we can calculate the velocity of plate motion over the period."
   ]
  },
  {
   "cell_type": "markdown",
   "metadata": {},
   "source": [
    "![](Map.jpg)\n",
    "![](Kilauea.gif)"
   ]
  },
  {
   "cell_type": "code",
   "execution_count": 4,
   "metadata": {},
   "outputs": [],
   "source": [
    "import numpy as np\n",
    "import matplotlib.pyplot as plt\n",
    "%matplotlib inline\n",
    "%config InlineBackend.figure_format='retina'  # for hi-dpi displays"
   ]
  },
  {
   "cell_type": "markdown",
   "metadata": {},
   "source": [
    "Below is an example of using plot, and axhline funcions, and how to add title, labels and legend. You can follow this example to make your own plots in this homework. "
   ]
  },
  {
   "cell_type": "code",
   "execution_count": 7,
   "metadata": {},
   "outputs": [
    {
     "data": {
      "image/png": "[encoded data removed]",
      "text/plain": [
       "<Figure size 432x288 with 1 Axes>"
      ]
     },
     "metadata": {
      "needs_background": "light"
     },
     "output_type": "display_data"
    }
   ],
   "source": [
    "import numpy as np\n",
    "import matplotlib.pyplot as plt\n",
    "x=np.linspace(0,np.pi,20)\n",
    "y1=np.sin(x)\n",
    "y2=np.cos(x)\n",
    "plt.plot(x,y1, 'bo', label='sin(x)')\n",
    "plt.plot(x,y2,'k.',label='cos(x)')\n",
    "plt.axhline(y1.mean(), c='b', ls='--', label='Y1 Mean')\n",
    "plt.axhline(y2.mean(), c='k', ls='--', label='Y2 Mean')\n",
    "plt.ylabel('sin (x) and cos (x)')\n",
    "plt.xlabel('x');\n",
    "plt.title('An example')\n",
    "plt.legend();"
   ]
  },
  {
   "cell_type": "markdown",
   "metadata": {},
   "source": [
    "## 2. Read dataset (2 pts)"
   ]
  },
  {
   "cell_type": "markdown",
   "metadata": {},
   "source": [
    "I obtained a dataset on the seamounts along the Hawaii-Emperor chain from https://www.soest.hawaii.edu/GG/HCV/haw_formation.html and saved it in `Hawaii_emperor_data.txt`.  You will use this dataset for this assignment."
   ]
  },
  {
   "cell_type": "code",
   "execution_count": 5,
   "metadata": {},
   "outputs": [
    {
     "name": "stdout",
     "output_type": "stream",
     "text": [
      " Volume in drive C is OS\n",
      " Volume Serial Number is 72A2-6070\n",
      "\n",
      " Directory of C:\\Users\\limm0\\OneDrive\\SES494-598\\assignment_2\n",
      "\n",
      "09/21/2020  02:39 PM    <DIR>          .\n",
      "09/21/2020  02:39 PM    <DIR>          ..\n",
      "02/06/2019  09:11 PM            22,100 .assignment_2.ipynb.sage-jupyter2\n",
      "02/06/2019  09:11 PM            27,870 .assignment_2_answers.ipynb.sage-jupyter2\n",
      "09/21/2020  02:34 PM    <DIR>          .ipynb_checkpoints\n",
      "09/21/2020  02:39 PM            25,244 assignment_2.ipynb\n",
      "09/21/2020  02:35 PM                49 DUE_DATE.txt\n",
      "02/06/2019  09:11 PM               598 Hawaii_emperor_data.txt\n",
      "02/06/2019  09:11 PM            44,046 Kilauea.gif\n",
      "02/06/2019  09:11 PM           243,473 Map.jpg\n",
      "02/06/2019  09:11 PM            23,952 Oceanfloor.jpg\n",
      "               8 File(s)        387,332 bytes\n",
      "               3 Dir(s)  1,890,759,245,824 bytes free\n"
     ]
    }
   ],
   "source": [
    "%ls"
   ]
  },
  {
   "cell_type": "markdown",
   "metadata": {},
   "source": [
    "You may check the contents of the file."
   ]
  },
  {
   "cell_type": "code",
   "execution_count": 6,
   "metadata": {},
   "outputs": [
    {
     "data": {
      "text/plain": [
       "Distance along chain (km)\tK-Ar age (Ma)\tsigma age (Ma)\n",
       "0\t0.00\t0.00\n",
       "54\t0.38\t0.05\n",
       "100\t0.43\t0.02\n",
       "182\t0.75\t0.04\n",
       "185\t1.03\t0.18\n",
       "221\t1.32\t0.04\n",
       "226\t1.28\t0.04\n",
       "256\t1.76\t0.04\n",
       "280\t1.90\t0.06\n",
       "339\t2.60\t0.1\n",
       "374\t3.70\t0.1\n",
       "519\t5.10\t0.20\n",
       "565\t4.89\t0.11\n",
       "600\t4.00\t0.2\n",
       "780\t7.20\t0.3\n",
       "913\t9.20\t0.8\n",
       "930\t9.60\t0.8\n",
       "1058\t10.30\t0.4\n",
       "1209\t12.00\t0.4\n",
       "1256\t13.00\t0.6\n",
       "1435\t12.30\t1.0\n",
       "1818\t19.90\t0.3\n",
       "1841\t26.60\t2.7\n",
       "2281\t20.60\t2.7\n",
       "2432\t27.70\t0.6\n",
       "2600\t28.00\t0.4\n",
       "2825\t27.40\t0.5\n",
       "3128\t38.60\t0.3\n",
       "3280\t38.70\t0.9\n",
       "3493\t42.40\t2.3\n",
       "3520\t43.40\t1.6\n",
       "3668\t39.90\t1.2\n",
       "3758\t48.10\t0.8\n",
       "4102\t55.20\t0.7\n",
       "4175\t55.40\t0.9\n",
       "4452\t56.20\t0.6\n",
       "4794\t59.60\t0.6\n",
       "4860\t64.70\t1.1"
      ]
     },
     "metadata": {},
     "output_type": "display_data"
    }
   ],
   "source": [
    "%less Hawaii_emperor_data.txt"
   ]
  },
  {
   "cell_type": "markdown",
   "metadata": {},
   "source": [
    "As shown above, you can find three columns of data.  Starting from left to right, they are: distances from Kilauea in km, age differences from Kilauea in Ma, and uncertainties for the age in Ma.  __Kilauea__ is a currently active shield volcano in the Hawaiian Islands as shown in the map above."
   ]
  },
  {
   "cell_type": "markdown",
   "metadata": {},
   "source": [
    "Read the columns in the data file and store them in three variables: `d` for the distance, `a` for the age, and `s_a` for the uncertainty, using `np.loadtxt`.  The delimiter should be '\\t' which is a tab."
   ]
  },
  {
   "cell_type": "code",
   "execution_count": null,
   "metadata": {},
   "outputs": [],
   "source": [
    " "
   ]
  },
  {
   "cell_type": "markdown",
   "metadata": {},
   "source": [
    "## 3. Unit conversion (2 pts)"
   ]
  },
  {
   "cell_type": "markdown",
   "metadata": {},
   "source": [
    "Convert the units of distance and age from km to cm and from Ma to year, and save them in new variables, `distance` and `age`, respectively."
   ]
  },
  {
   "cell_type": "code",
   "execution_count": null,
   "metadata": {},
   "outputs": [],
   "source": [
    " "
   ]
  },
  {
   "cell_type": "markdown",
   "metadata": {},
   "source": [
    "## 4. Plot age versus distance (8 pts)"
   ]
  },
  {
   "cell_type": "markdown",
   "metadata": {},
   "source": [
    "Plot `age` ($y$-axis) versus `distance` ($x$-axis).  \n",
    "\n",
    "- Label the axes together with the units for the numbers\n",
    "\n",
    "- Add a title: \"Age of seamounts along the Hawaii-Emperor chain\"  \n",
    "\n",
    "- Use blue solid circles for the data points."
   ]
  },
  {
   "cell_type": "code",
   "execution_count": null,
   "metadata": {},
   "outputs": [],
   "source": [
    " "
   ]
  },
  {
   "cell_type": "markdown",
   "metadata": {},
   "source": [
    "## 5. Velocities measured from Kilauea"
   ]
  },
  {
   "cell_type": "markdown",
   "metadata": {},
   "source": [
    "### 5.1. Calculate velocities (2 pts)"
   ]
  },
  {
   "cell_type": "markdown",
   "metadata": {},
   "source": [
    "Calculate the velocities of the plate motion (cm/yr) from the distance (from Kilauea) and age of each seamount. Please assign the velocities to a variable `v_k`. Note that the first data point is for Kilauea."
   ]
  },
  {
   "cell_type": "code",
   "execution_count": null,
   "metadata": {},
   "outputs": [],
   "source": [
    " "
   ]
  },
  {
   "cell_type": "markdown",
   "metadata": {},
   "source": [
    "### 5.2. Plot velocities measured from Kilauea (8 pts)"
   ]
  },
  {
   "cell_type": "markdown",
   "metadata": {},
   "source": [
    "Plot the velocities ($y$ axis) calculated in this way for all the data points except for Kilauea as a function of the age ($x$ axis) of the seamounts.  \n",
    "\n",
    "- Label both $x$ and $y$ axes with units for the numbers\n",
    "- Add a title to the figure: \"Velocity measured from Kilauea\"\n",
    "- Use blue solid circles for the data points"
   ]
  },
  {
   "cell_type": "code",
   "execution_count": null,
   "metadata": {},
   "outputs": [],
   "source": [
    " "
   ]
  },
  {
   "cell_type": "markdown",
   "metadata": {},
   "source": [
    "### 5.3. Calculate statistical indexes (12 pts)"
   ]
  },
  {
   "cell_type": "markdown",
   "metadata": {},
   "source": [
    "Calculate mean, median, and standard deviation of the velocities using the `np.mean`, `np.median`, and `np.std` functions, respectively.  You can use help(np.mean), help(np.median) and help(np.std) to learn how to use these functions.\n",
    "\n",
    "Print these three indexes in a form of: \"Mean velocity from Kilauea = x.xx cm/year\", \"Median velocity from Kilauea = x.xx cm/year\", and \"Standard deviation of velocity from Kilauea = x.xx cm/year\" where `x.xx` are your numbers to the second decimal point."
   ]
  },
  {
   "cell_type": "code",
   "execution_count": null,
   "metadata": {},
   "outputs": [],
   "source": [
    " "
   ]
  },
  {
   "cell_type": "markdown",
   "metadata": {},
   "source": [
    "### 5.4. Plot mean and median together with the velocity data (16 pts)"
   ]
  },
  {
   "cell_type": "markdown",
   "metadata": {},
   "source": [
    "Plot the velocity data together with the mean and median values you calculated above.  \n",
    "\n",
    "- Use the same format as in __5.2__ for the data points, labels, and title.\n",
    "\n",
    "- Plot mean and median values as horizontal lines.  The $y$ values of the horizontal lines should be the mean and median values.  Use the `plt.axhline` function.  Use black solid line and black dashed line for the median and mean values, respectively.  \n",
    "\n",
    "- Add a legend for the velocity data points, the mean value line, and the median value line."
   ]
  },
  {
   "cell_type": "code",
   "execution_count": null,
   "metadata": {},
   "outputs": [],
   "source": [
    " "
   ]
  },
  {
   "cell_type": "markdown",
   "metadata": {},
   "source": [
    "### 5.5. Discussion\n",
    "\n",
    "- Does the velocity remain constant along the Hawaii-Emperor chain when calculated from Kilauea?\n",
    "\n",
    "- If not constant, what trend do you observe?\n",
    "\n",
    "- Can an average we obtained above be representative velocity for the Pacific plates over the last 60 Ma?\n",
    "\n",
    "- If not, why?"
   ]
  },
  {
   "cell_type": "markdown",
   "metadata": {},
   "source": [
    "## 6. Velocities at different time intervals"
   ]
  },
  {
   "cell_type": "markdown",
   "metadata": {},
   "source": [
    "In our class, we learned how to calculate velocities at different distances using a (time, distance) dataset.  We will use the same method (vectorized operations in Numpy) to calculate velocities of the Pacific plates at different age intervals using the (seamount age, seamount distance) dataset."
   ]
  },
  {
   "cell_type": "markdown",
   "metadata": {},
   "source": [
    "### 6.1. Calculate velocities and ages (8 pts)"
   ]
  },
  {
   "cell_type": "markdown",
   "metadata": {},
   "source": [
    "Calculate age differences between neighboring data points and store them in a variable, `delta_age`.  "
   ]
  },
  {
   "cell_type": "code",
   "execution_count": null,
   "metadata": {},
   "outputs": [],
   "source": [
    " "
   ]
  },
  {
   "cell_type": "markdown",
   "metadata": {},
   "source": [
    "Calculate distance differences between neighboring data points and store them in a variable, `delta_dis`.  "
   ]
  },
  {
   "cell_type": "code",
   "execution_count": null,
   "metadata": {},
   "outputs": [],
   "source": [
    " "
   ]
  },
  {
   "cell_type": "markdown",
   "metadata": {},
   "source": [
    "Calculate velocities for different neighboring seamount pairs in the dataset and save them in `v_p`.  \n",
    "\n",
    "As we found in our class examples, you should also calculate average ages for neighboring seamount pairs to plot `v_p`.  Calculate this and save in a variable, `t_p`."
   ]
  },
  {
   "cell_type": "code",
   "execution_count": null,
   "metadata": {},
   "outputs": [],
   "source": [
    " "
   ]
  },
  {
   "cell_type": "markdown",
   "metadata": {},
   "source": [
    "### 6.2. Calculate statistical indexes for the velocities (12 pts)"
   ]
  },
  {
   "cell_type": "markdown",
   "metadata": {},
   "source": [
    "Calculate mean, median, and standard deviation of the velocities using the `np.mean`, `np.median`, and `np.std` functions, respectively.  Print these three indexes in the format we used in __5.3__."
   ]
  },
  {
   "cell_type": "code",
   "execution_count": null,
   "metadata": {},
   "outputs": [],
   "source": [
    " "
   ]
  },
  {
   "cell_type": "markdown",
   "metadata": {},
   "source": [
    "### 6.3. Plot mean and median together with velocities at different time interval (16 pts)"
   ]
  },
  {
   "cell_type": "markdown",
   "metadata": {},
   "source": [
    "Plot the velocity data together with the mean and median values you calculated above.  \n",
    "\n",
    "- Follow the same notations as in the Figure we made in __5.4__ above.  "
   ]
  },
  {
   "cell_type": "code",
   "execution_count": null,
   "metadata": {},
   "outputs": [],
   "source": [
    " "
   ]
  },
  {
   "cell_type": "markdown",
   "metadata": {},
   "source": [
    "### 6.4. Discussion\n",
    "\n",
    "- Do you think all the velocity values are reasonable?\n",
    "\n",
    "- If not, what are the values you believe unreasonable?\n",
    "\n",
    "- Why did you get those unreasonable values?"
   ]
  },
  {
   "cell_type": "markdown",
   "metadata": {},
   "source": [
    "### 6.5. Mask unreasonable velocity values (8 pts)"
   ]
  },
  {
   "cell_type": "markdown",
   "metadata": {},
   "source": [
    "The plot in __6.3__ reveals some velocity values that are negative.  Although it is not entirely impossible, we will _mask_ the negative values from our statistical analysis.  To do this, we use the `np.ma.masked_where` function.  The example below demonstrates how to use the function.  You can get more information by using help(np.ma.masked_where)."
   ]
  },
  {
   "cell_type": "code",
   "execution_count": 4,
   "metadata": {},
   "outputs": [
    {
     "name": "stdout",
     "output_type": "stream",
     "text": [
      "[-- 1.0 2.0 0.0 3.0 2.0 1.0]\n",
      "[-- 14.0 15.0 16.0 17.0 18.0 19.0]\n"
     ]
    }
   ],
   "source": [
    "x = np.asarray([ 0., 1., 2., 0., 3., 2., 1.])\n",
    "y = np.asarray([13.,14.,15.,16.,17.,18.,19.])\n",
    "x_masked = np.ma.masked_where(y <= 13, x)\n",
    "y_masked = np.ma.masked_where(y <= 13, y)\n",
    "print(x_masked)\n",
    "print(y_masked)"
   ]
  },
  {
   "cell_type": "markdown",
   "metadata": {},
   "source": [
    "Line 4 above shows how you can mask any `y` values equal to or less than 13 from the `y` array.  Sometimes you also want to mask the corresponding `x` values for `y` <= 13.  Line 3 shows how to achieve this for the `x` array."
   ]
  },
  {
   "cell_type": "markdown",
   "metadata": {},
   "source": [
    "Now in the cell below mask the ``(a_p, v_p)`` dataset such that you can only take into account the positive velocities.  Save the masking results in `v_p_m` and `t_p_m` for the velocity data and the age data, respectively."
   ]
  },
  {
   "cell_type": "code",
   "execution_count": null,
   "metadata": {},
   "outputs": [],
   "source": [
    " "
   ]
  },
  {
   "cell_type": "markdown",
   "metadata": {},
   "source": [
    "### 6.6. Calculate statistical indexes after masking (12 pts)"
   ]
  },
  {
   "cell_type": "markdown",
   "metadata": {},
   "source": [
    "Calculate mean, median, and standard deviation of the velocities using the `np.mean`, `np.median`, and `np.std` functions, respectively.  Print these three indexes in the format we used in __5.3__."
   ]
  },
  {
   "cell_type": "code",
   "execution_count": null,
   "metadata": {},
   "outputs": [],
   "source": [
    " "
   ]
  },
  {
   "cell_type": "markdown",
   "metadata": {},
   "source": [
    "### 6.7. Plot mean and median after masking (16 pts)"
   ]
  },
  {
   "cell_type": "markdown",
   "metadata": {},
   "source": [
    "Plot the velocity data together with the mean and median values you calculated above.  \n",
    "\n",
    "- Follow the same notations as in the Figure we made in __5.4__ above.  "
   ]
  },
  {
   "cell_type": "code",
   "execution_count": null,
   "metadata": {},
   "outputs": [],
   "source": [
    " "
   ]
  },
  {
   "cell_type": "markdown",
   "metadata": {},
   "source": [
    "### 6.8. Discussion\n",
    "\n",
    "- Between mean and median values for the velocities, which one looks more representative of the dataset?\n",
    "\n",
    "- Explain your answer for the question above."
   ]
  },
  {
   "cell_type": "markdown",
   "metadata": {},
   "source": [
    "## 7. Fitting to a linear trend"
   ]
  },
  {
   "cell_type": "markdown",
   "metadata": {},
   "source": [
    "### 7.1. Fitting using np.polyfit (6 pts)"
   ]
  },
  {
   "cell_type": "markdown",
   "metadata": {},
   "source": [
    "As shown in our assignment \\#1, you can fit a dataset to a line using the `np.polyfit` function. You can also run help(np.polyfit) to learn more details about this function. Conduct a linear fit and find out the average plate velocity for the last 60 Ma.    \n",
    "\n",
    "- For fitting to a line, you need to set the third argument for the `np.polyfit` function to 1.  It will return, then, a numpy array with two parameters.  The first one is slope and the second one is intercept.  \n",
    "\n",
    "- Set `distance` as the independent variable and `age` as the dependent variable for the fitting.\n",
    "\n",
    "- Print velocity using the fitting result in: \"Velocity = x.xx cm/year\" (x.xx is your number to the second decimal point).\n",
    "\n",
    "- Print the intercept of the fitting result in: \"Age at zero distance = x.xxe+xx year\" (x.xxe+xx is your number in the `scientific number` format to the second decimal point)."
   ]
  },
  {
   "cell_type": "code",
   "execution_count": null,
   "metadata": {
    "scrolled": true
   },
   "outputs": [],
   "source": [
    " "
   ]
  },
  {
   "cell_type": "markdown",
   "metadata": {},
   "source": [
    "### 7.2. Plot the fitting result together with the data (10 pts)"
   ]
  },
  {
   "cell_type": "markdown",
   "metadata": {},
   "source": [
    "Plot the distance ($x$ axis) versus age ($y$ axis) data together with your fitting result.  \n",
    "\n",
    "- Plot the data points in blue solid circles.\n",
    "\n",
    "- Label the axes with units.\n",
    "\n",
    "- Add a title: \"Fitting to a line\"\n",
    "\n",
    "- Plot your fitting line as a black solid line.\n",
    "\n",
    "- Add legend for fitting line and data points."
   ]
  },
  {
   "cell_type": "code",
   "execution_count": null,
   "metadata": {},
   "outputs": [],
   "source": [
    " "
   ]
  },
  {
   "cell_type": "markdown",
   "metadata": {},
   "source": [
    "### 7.3. Discussion\n",
    "\n",
    "- What is the velocity value did you get through this approach?\n",
    "\n",
    "- Is your intercept zero?  If not, what is it and what does it mean?\n",
    "\n",
    "- Does the nonzero intercept look statistically significant considering the data scatter? "
   ]
  },
  {
   "cell_type": "markdown",
   "metadata": {},
   "source": [
    "## 8. The bend"
   ]
  },
  {
   "cell_type": "markdown",
   "metadata": {},
   "source": [
    "The Hawaii-Emperor chain has a kink roughly at the half way.  The kink has been explained by a sudden change in the direction of the Pacific plate motion at 44 Ma.  \n",
    "\n",
    "\n",
    "The figure below shows that the Emperor segment and the Hawaii segment have about 60 degrees between them instead of linear alignment between them.  If the seamount chain would have been formed through continued movement of the Pacific plate along one direction, it should be a straight chain.  Therefore, from the age of the location where the bend exists, it has been hypothesized that the plate motion direction was different before 44 Ma.  If the direction was different, can the plate velocity then be different before and after the event?  Can we see that in our dataset?\n",
    "\n",
    "![](Oceanfloor.jpg)\n",
    "![](Map.jpg)"
   ]
  },
  {
   "cell_type": "markdown",
   "metadata": {},
   "source": [
    "In this section, we will divide the dataset into two subsets: one for age between 0 and 44 Ma and the other for age greater than 44 Ma.  Then we will fit the subsets separately to lines and see if we can find significant differences. "
   ]
  },
  {
   "cell_type": "markdown",
   "metadata": {},
   "source": [
    "Numpy provides you with convenient ways to find data points satisfying some _conditions_.  One such useful function for this case is `np.where`.  Here I show how to use the function to find indices for the \"younger than the bend\" and \"older than the bend\" subsets."
   ]
  },
  {
   "cell_type": "markdown",
   "metadata": {},
   "source": [
    "### 8.1. Make subsets (8 pts)"
   ]
  },
  {
   "cell_type": "markdown",
   "metadata": {},
   "source": [
    "Using `np.ma.masked_where()`, find data points younger and old than 44 Ma and save them into two subsets, (`d_y`, `a_y`) (\"younger than bend\") and (`d_o`, `a_o`) (\"older than bend\"), respectively."
   ]
  },
  {
   "cell_type": "code",
   "execution_count": null,
   "metadata": {},
   "outputs": [],
   "source": [
    " "
   ]
  },
  {
   "cell_type": "markdown",
   "metadata": {},
   "source": [
    "### 8.2. Fit the subsets of the data (12 pts)"
   ]
  },
  {
   "cell_type": "markdown",
   "metadata": {},
   "source": [
    "Fit the \"younger than bend\" subset and print the velocity obtained from the slope of the fitted line in cm/year.  __Note that for fitting for masked arrays, you need to use `np.ma.polyfit()`, not `np.polyfit()`.__\n",
    "\n",
    "Also, print the intercept of the line in year (age).  Use the same print format we used in __7.1__.  Save the fit results in `param_y`."
   ]
  },
  {
   "cell_type": "code",
   "execution_count": null,
   "metadata": {
    "scrolled": true
   },
   "outputs": [],
   "source": [
    " "
   ]
  },
  {
   "cell_type": "markdown",
   "metadata": {},
   "source": [
    "Fit the \"older than bend\" subset and print the velocity obtained from the slope of the fitted line in cm/year.  __Note that for fitting for masked arrays, you need to use `np.ma.polyfit()`, not `np.polyfit()`.__\n",
    "\n",
    "Also, print the intercept of the line in year (age). Use the same print format we used in __7.1__.  Save the fit results in `param_o`."
   ]
  },
  {
   "cell_type": "code",
   "execution_count": null,
   "metadata": {},
   "outputs": [],
   "source": [
    " "
   ]
  },
  {
   "cell_type": "markdown",
   "metadata": {},
   "source": [
    "### 8.3. Plot fitting results (16 pts)"
   ]
  },
  {
   "cell_type": "markdown",
   "metadata": {},
   "source": [
    "Plot the distance ($x$ axis) versus age ($y$ axis) data together with your fitting results.  \n",
    "\n",
    "- For the data points, use closed blue circles and red circles for the data points younger and older than the bend, respectively.\n",
    "\n",
    "- For the fit lines, use black, red, and blue lines for the fits for the entire dataset, the \"old than bend\" subset, and the \"younger than bend\" subset, respectively.\n",
    "\n",
    "- Add a title: \"Fitting for the bend\".  \n",
    "\n",
    "- Label both axes together with units for the numbers.  \n",
    "\n",
    "- Provide legend for both the fit lines and data points.  \n",
    "\n",
    "- Show the age of the bend (44 Ma) with a horizontal line using `plt.axhline`."
   ]
  },
  {
   "cell_type": "code",
   "execution_count": null,
   "metadata": {},
   "outputs": [],
   "source": [
    " "
   ]
  }
 ],
 "metadata": {
  "kernelspec": {
   "display_name": "Python 3",
   "language": "python",
   "name": "python3"
  },
  "language_info": {
   "codemirror_mode": {
    "name": "ipython",
    "version": 3
   },
   "file_extension": ".py",
   "mimetype": "text/x-python",
   "name": "python",
   "nbconvert_exporter": "python",
   "pygments_lexer": "ipython3",
   "version": "3.7.4"
  }
 },
 "nbformat": 4,
 "nbformat_minor": 4
}
