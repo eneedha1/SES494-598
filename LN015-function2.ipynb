{
 "cells": [
  {
   "cell_type": "markdown",
   "metadata": {
    "slideshow": {
     "slide_type": "slide"
    }
   },
   "source": [
    "# Functions"
   ]
  },
  {
   "cell_type": "markdown",
   "metadata": {
    "slideshow": {
     "slide_type": "slide"
    }
   },
   "source": [
    "## Variable number of arguments\n",
    "\n",
    "While it may seem odd, it is sometimes useful to leave the number of\n",
    "arguments unspecified. "
   ]
  },
  {
   "cell_type": "markdown",
   "metadata": {
    "slideshow": {
     "slide_type": "slide"
    }
   },
   "source": [
    "A simple example is a function that computes the\n",
    "product of an arbitrary number of numbers:"
   ]
  },
  {
   "cell_type": "code",
   "execution_count": 1,
   "metadata": {
    "collapsed": false,
    "jupyter": {
     "outputs_hidden": false
    },
    "slideshow": {
     "slide_type": "fragment"
    }
   },
   "outputs": [],
   "source": [
    "def product(*args): \n",
    "    print(args) \n",
    "    p = 1 \n",
    "    for num in args: \n",
    "        p= p*num  \n",
    "    return p\n"
   ]
  },
  {
   "cell_type": "code",
   "execution_count": 10,
   "metadata": {
    "collapsed": false,
    "jupyter": {
     "outputs_hidden": false
    },
    "slideshow": {
     "slide_type": "slide"
    }
   },
   "outputs": [
    {
     "name": "stdout",
     "output_type": "stream",
     "text": [
      "(11.0, -2, 3)\n"
     ]
    },
    {
     "data": {
      "text/plain": [
       "-66.0"
      ]
     },
     "execution_count": 10,
     "metadata": {},
     "output_type": "execute_result"
    }
   ],
   "source": [
    "product(11., -2, 3)"
   ]
  },
  {
   "cell_type": "code",
   "execution_count": 11,
   "metadata": {
    "collapsed": false,
    "jupyter": {
     "outputs_hidden": false
    },
    "slideshow": {
     "slide_type": "fragment"
    }
   },
   "outputs": [
    {
     "name": "stdout",
     "output_type": "stream",
     "text": [
      "(2.31, 7, 3, 4, 5, 6, 7, 1, 4, 6, 8, 9, 90, 0, 0)\n"
     ]
    },
    {
     "data": {
      "text/plain": [
       "6337191168.000002"
      ]
     },
     "execution_count": 11,
     "metadata": {},
     "output_type": "execute_result"
    }
   ],
   "source": [
    "product(2.31, 7, 3,4,5,6,7,1,4,6,8,9,90,0,0)"
   ]
  },
  {
   "cell_type": "markdown",
   "metadata": {
    "slideshow": {
     "slide_type": "slide"
    }
   },
   "source": [
    "```python\n",
    "def product(*args): \n",
    "    print(args) \n",
    "    p = 1 \n",
    "    for num in args: \n",
    "        p*= num  \n",
    "    return p\n",
    "\n",
    "```\n",
    "\n",
    "The `print(args)` statement in the function definition is not\n",
    "necessary, of course, but is put in to show that the argument `args` is\n",
    "a tuple inside the function. "
   ]
  },
  {
   "cell_type": "markdown",
   "metadata": {
    "slideshow": {
     "slide_type": "slide"
    }
   },
   "source": [
    "## Variables and arrays created entirely within a function\n",
    "\n",
    "Variables and arrays created\n",
    "*entirely within* a function cannot be seen by the program that calls\n",
    "the function unless the variable or array is explicitly passed to the\n",
    "calling program in the `return` statement. "
   ]
  },
  {
   "cell_type": "markdown",
   "metadata": {
    "slideshow": {
     "slide_type": "slide"
    }
   },
   "source": [
    "This is important because it\n",
    "means you can create and manipulate variables and arrays, giving them\n",
    "any name you please, without affecting any variables or arrays outside\n",
    "the function, even if the variables and arrays inside and outside a\n",
    "function share the same name.\n"
   ]
  },
  {
   "cell_type": "code",
   "execution_count": 17,
   "metadata": {
    "collapsed": false,
    "jupyter": {
     "outputs_hidden": false
    }
   },
   "outputs": [
    {
     "name": "stdout",
     "output_type": "stream",
     "text": [
      "[-0.05440211 -0.04803743 -0.04127361 -0.03414533 -0.02668998 -0.01894748\n",
      " -0.01096007 -0.00277214  0.00557001  0.01401842  0.02252371  0.03103534\n",
      "  0.03950189  0.04787134  0.05609135  0.06410955  0.07187388  0.07933283\n",
      "  0.08643581  0.09313337  0.09937761  0.10512236  0.11032357  0.11493952\n",
      "  0.11893116  0.12226232  0.12490001  0.12681462  0.12798018  0.12837455\n",
      "  0.12797963  0.12678151  0.12477064  0.12194197  0.11829503  0.11383406\n",
      "  0.10856804  0.10251076  0.09568081  0.08810159  0.07980125  0.07081269\n",
      "  0.0611734   0.05092539  0.04011507  0.02879304  0.01701398  0.00483636\n",
      " -0.00767773 -0.02046284 -0.03345045 -0.04656925 -0.05974546 -0.07290312\n",
      " -0.08596449 -0.09885034 -0.11148037 -0.12377356 -0.13564856 -0.14702408\n",
      " -0.15781932 -0.16795431 -0.17735036 -0.18593045 -0.19361961 -0.20034534\n",
      " -0.20603798 -0.21063108 -0.21406177 -0.21627113 -0.21720451 -0.21681184\n",
      " -0.21504798 -0.21187294 -0.2072522  -0.2011569  -0.1935641  -0.18445693\n",
      " -0.17382478 -0.16166343 -0.14797514 -0.13276873 -0.11605966 -0.09787002\n",
      " -0.0782285  -0.05717039 -0.03473745 -0.01097786  0.01405394  0.04029745\n",
      "  0.06768625  0.09614824  0.12560592  0.15597664  0.18717292  0.21910276\n",
      "  0.25167001  0.28477473  0.3183136   0.35218031  0.386266    0.42045968\n",
      "  0.45464871  0.48871927  0.52255677  0.55604641  0.5890736   0.62152446\n",
      "  0.65328632  0.68424815  0.7143011   0.74333891  0.77125838  0.79795984\n",
      "  0.82334753  0.84733006  0.86982079  0.89073821  0.91000625  0.9275547\n",
      "  0.94331945  0.95724276  0.96927357  0.97936768  0.98748796  0.99360451\n",
      "  0.99769479  0.99974371  0.99974371  0.99769479  0.99360451  0.98748796\n",
      "  0.97936768  0.96927357  0.95724276  0.94331945  0.9275547   0.91000625\n",
      "  0.89073821  0.86982079  0.84733006  0.82334753  0.79795984  0.77125838\n",
      "  0.74333891  0.7143011   0.68424815  0.65328632  0.62152446  0.5890736\n",
      "  0.55604641  0.52255677  0.48871927  0.45464871  0.42045968  0.386266\n",
      "  0.35218031  0.3183136   0.28477473  0.25167001  0.21910276  0.18717292\n",
      "  0.15597664  0.12560592  0.09614824  0.06768625  0.04029745  0.01405394\n",
      " -0.01097786 -0.03473745 -0.05717039 -0.0782285  -0.09787002 -0.11605966\n",
      " -0.13276873 -0.14797514 -0.16166343 -0.17382478 -0.18445693 -0.1935641\n",
      " -0.2011569  -0.2072522  -0.21187294 -0.21504798 -0.21681184 -0.21720451\n",
      " -0.21627113 -0.21406177 -0.21063108 -0.20603798 -0.20034534 -0.19361961\n",
      " -0.18593045 -0.17735036 -0.16795431 -0.15781932 -0.14702408 -0.13564856\n",
      " -0.12377356 -0.11148037 -0.09885034 -0.08596449 -0.07290312 -0.05974546\n",
      " -0.04656925 -0.03345045 -0.02046284 -0.00767773  0.00483636  0.01701398\n",
      "  0.02879304  0.04011507  0.05092539  0.0611734   0.07081269  0.07980125\n",
      "  0.08810159  0.09568081  0.10251076  0.10856804  0.11383406  0.11829503\n",
      "  0.12194197  0.12477064  0.12678151  0.12797963  0.12837455  0.12798018\n",
      "  0.12681462  0.12490001  0.12226232  0.11893116  0.11493952  0.11032357\n",
      "  0.10512236  0.09937761  0.09313337  0.08643581  0.07933283  0.07187388\n",
      "  0.06410955  0.05609135  0.04787134  0.03950189  0.03103534  0.02252371\n",
      "  0.01401842  0.00557001 -0.00277214 -0.01096007 -0.01894748 -0.02668998\n",
      " -0.03414533 -0.04127361 -0.04803743 -0.05440211]\n"
     ]
    },
    {
     "ename": "NameError",
     "evalue": "name 'z' is not defined",
     "output_type": "error",
     "traceback": [
      "\u001b[0;31m---------------------------------------------------------------------------\u001b[0m",
      "\u001b[0;31mNameError\u001b[0m                                 Traceback (most recent call last)",
      "\u001b[0;32m<ipython-input-17-ea122c01229d>\u001b[0m in \u001b[0;36m<module>\u001b[0;34m\u001b[0m\n\u001b[1;32m     11\u001b[0m \u001b[0my\u001b[0m \u001b[0;34m=\u001b[0m \u001b[0msinc\u001b[0m\u001b[0;34m(\u001b[0m\u001b[0mx\u001b[0m\u001b[0;34m)\u001b[0m\u001b[0;34m\u001b[0m\u001b[0;34m\u001b[0m\u001b[0m\n\u001b[1;32m     12\u001b[0m \u001b[0mplt\u001b[0m\u001b[0;34m.\u001b[0m\u001b[0mplot\u001b[0m\u001b[0;34m(\u001b[0m\u001b[0mx\u001b[0m\u001b[0;34m,\u001b[0m \u001b[0my\u001b[0m\u001b[0;34m)\u001b[0m\u001b[0;34m\u001b[0m\u001b[0;34m\u001b[0m\u001b[0m\n\u001b[0;32m---> 13\u001b[0;31m \u001b[0mprint\u001b[0m\u001b[0;34m(\u001b[0m\u001b[0mz\u001b[0m\u001b[0;34m)\u001b[0m\u001b[0;34m\u001b[0m\u001b[0;34m\u001b[0m\u001b[0m\n\u001b[0m",
      "\u001b[0;31mNameError\u001b[0m: name 'z' is not defined"
     ]
    },
    {
     "data": {
      "image/png": "[encoded data removed]",
      "text/plain": [
       "<Figure size 432x288 with 1 Axes>"
      ]
     },
     "metadata": {
      "needs_background": "light"
     },
     "output_type": "display_data"
    }
   ],
   "source": [
    "def sinc(x):  \n",
    "    z = np.where(x==0.0, 1.0, np.sin(x)/x) \n",
    "    return z\n",
    "\n",
    "import numpy as np \n",
    "import matplotlib.pyplot as plt\n",
    "%matplotlib inline\n",
    "\n",
    "x = np.linspace(-10, 10, 256) \n",
    "y = sinc(x)\n",
    "plt.plot(x, y) "
   ]
  },
  {
   "cell_type": "markdown",
   "metadata": {
    "slideshow": {
     "slide_type": "slide"
    }
   },
   "source": [
    "Running this program produces a plot like the plot of sinc shown in the\n",
    "previous section. Notice that the array variable `z` is only defined\n",
    "within the function definition of sinc. \n",
    "\n",
    "After running the cell above, if we ask\n",
    "to print out the arrays, `x`, `y`, and `z`, we get some\n",
    "interesting and informative results."
   ]
  },
  {
   "cell_type": "code",
   "execution_count": 15,
   "metadata": {
    "collapsed": false,
    "jupyter": {
     "outputs_hidden": false
    },
    "slideshow": {
     "slide_type": "slide"
    }
   },
   "outputs": [
    {
     "ename": "NameError",
     "evalue": "name 'z' is not defined",
     "output_type": "error",
     "traceback": [
      "\u001b[0;31m---------------------------------------------------------------------------\u001b[0m",
      "\u001b[0;31mNameError\u001b[0m                                 Traceback (most recent call last)",
      "\u001b[0;32m<ipython-input-15-3a710d2a84f8>\u001b[0m in \u001b[0;36m<module>\u001b[0;34m\u001b[0m\n\u001b[0;32m----> 1\u001b[0;31m \u001b[0mz\u001b[0m\u001b[0;34m\u001b[0m\u001b[0;34m\u001b[0m\u001b[0m\n\u001b[0m",
      "\u001b[0;31mNameError\u001b[0m: name 'z' is not defined"
     ]
    }
   ],
   "source": [
    "z"
   ]
  },
  {
   "cell_type": "markdown",
   "metadata": {
    "slideshow": {
     "slide_type": "slide"
    }
   },
   "source": [
    "## Passing variables and arrays to functions: mutable and immutable objects\n",
    "\n",
    "What happens to a variable or an array passed to a function when the\n",
    "variable or array is *changed* within the function? \n",
    "\n",
    "The answers are different depending on whether the variable passed is a\n",
    "simple numeric variable, string, or tuple, or whether it is an array or\n",
    "list. "
   ]
  },
  {
   "cell_type": "code",
   "execution_count": 12,
   "metadata": {
    "collapsed": false,
    "jupyter": {
     "outputs_hidden": false
    },
    "slideshow": {
     "slide_type": "slide"
    }
   },
   "outputs": [
    {
     "name": "stdout",
     "output_type": "stream",
     "text": [
      "*************\n",
      "s = How do you do?\n",
      "v =  5.00\n",
      "t = (97.5, 82.9, 66.7)\n",
      "l = [3.9, 5.7, 7.5, 9.3]\n",
      "a =  [3.9 5.7 7.5 9.3]\n",
      "*************\n",
      "*************\n",
      "s1 = I am doing fine \n",
      "v1 =  9.87\n",
      "t1 = (1.1, 2.9)\n",
      "l1 = [3.9, 5.7, 7.5, 'end']\n",
      "a1 =  [963.2   5.7   7.5   9.3]\n",
      "*************\n",
      "s = How do you do? \n",
      "v =  5.00\n",
      "t = (97.5, 82.9, 66.7)\n",
      "l = [3.9, 5.7, 7.5, 'end']\n",
      "a =  [963.2   5.7   7.5   9.3]\n"
     ]
    }
   ],
   "source": [
    "import numpy as np\n",
    "def test(s, v, t, l, a):  \n",
    "    s = \"I am doing fine\" \n",
    "    v = np.pi**2 \n",
    "    t = (1.1, 2.9) \n",
    "    l[-1] = 'end'\n",
    "    a[0] = 963.2 \n",
    "    return s, v, t, l, a\n",
    "\n",
    "#s1, v1, t1, l1, a1 = test(s, v, t, l, a)\n",
    "\n",
    "s = \"How do you do?\" \n",
    "v = 5.0 \n",
    "t = (97.5, 82.9, 66.7) \n",
    "l = [3.9, 5.7, 7.5, 9.3] \n",
    "a = np.array(l)\n",
    "\n",
    "print('*************') \n",
    "print(\"s = %s\" % (s)) \n",
    "print(\"v = %5.2f\" % (v)) \n",
    "print(\"t = %s\" % (str(t)))\n",
    "print(\"l = %s\" % (str(l)))\n",
    "print(\"a = \",a)\n",
    "print('*************') \n",
    "\n",
    "s1, v1, t1, l1, a1 = test(s, v, t, l, a)\n",
    "\n",
    "print('*************') \n",
    "print(\"s1 = %s \" % (s1))\n",
    "print(\"v1 = %5.2f\" % (v1)) \n",
    "print(\"t1 = %s\" % (str(t1)))\n",
    "print(\"l1 = %s\" % (str(l1))) \n",
    "print(\"a1 = \",a1)\n",
    "\n",
    "print('*************') \n",
    "print(\"s = %s \" % (s)) \n",
    "print(\"v = %5.2f\" % (v)) \n",
    "print(\"t = %s\" % (str(t))) \n",
    "print(\"l = %s\" % (str(l))) \n",
    "print(\"a = \",a)"
   ]
  },
  {
   "cell_type": "markdown",
   "metadata": {
    "slideshow": {
     "slide_type": "slide"
    }
   },
   "source": [
    "We see that the values of the\n",
    "string `s`, the numeric variable `v`, and the contents of `t` are\n",
    "unchanged after the function call. \n",
    "\n",
    "The list `l` and the array `a`\n",
    "are changed after the function call. "
   ]
  },
  {
   "cell_type": "markdown",
   "metadata": {
    "slideshow": {
     "slide_type": "slide"
    }
   },
   "source": [
    "-   Changes to string, variable, and tuple arguments of a function\n",
    "    within the function do not affect their values in the calling\n",
    "    program.\n",
    "-   Changes to values of elements in list and array arguments of a\n",
    "    function within the function are reflected in the values of the\n",
    "    same list and array elements in the calling function."
   ]
  },
  {
   "cell_type": "markdown",
   "metadata": {
    "slideshow": {
     "slide_type": "slide"
    }
   },
   "source": [
    "## Simple numerics, strings and tuples are immutable while lists and arrays are mutable. \n"
   ]
  },
  {
   "cell_type": "markdown",
   "metadata": {},
   "source": [
    "# Funny things about list and numpy array"
   ]
  },
  {
   "cell_type": "code",
   "execution_count": 49,
   "metadata": {},
   "outputs": [
    {
     "name": "stdout",
     "output_type": "stream",
     "text": [
      "[1, 2, 3, 4, 5]\n"
     ]
    }
   ],
   "source": [
    "a=[1,2,3,4,5]\n",
    "b=a\n",
    "print(b)"
   ]
  },
  {
   "cell_type": "code",
   "execution_count": 50,
   "metadata": {},
   "outputs": [
    {
     "name": "stdout",
     "output_type": "stream",
     "text": [
      "[2, 3, 4, 5]\n"
     ]
    }
   ],
   "source": [
    "del b[0]\n",
    "print(b)"
   ]
  },
  {
   "cell_type": "code",
   "execution_count": 51,
   "metadata": {},
   "outputs": [
    {
     "name": "stdout",
     "output_type": "stream",
     "text": [
      "[2, 3, 4, 5]\n"
     ]
    }
   ],
   "source": [
    "print(a)"
   ]
  },
  {
   "cell_type": "code",
   "execution_count": 52,
   "metadata": {},
   "outputs": [
    {
     "data": {
      "text/plain": [
       "array([0, 1, 2, 3, 4, 5, 6, 7, 8, 9])"
      ]
     },
     "execution_count": 52,
     "metadata": {},
     "output_type": "execute_result"
    }
   ],
   "source": [
    "import numpy as np\n",
    "a=np.arange(10)\n",
    "a"
   ]
  },
  {
   "cell_type": "code",
   "execution_count": 53,
   "metadata": {},
   "outputs": [
    {
     "data": {
      "text/plain": [
       "array([0, 1, 2, 3, 4, 5, 6, 7, 8, 9])"
      ]
     },
     "execution_count": 53,
     "metadata": {},
     "output_type": "execute_result"
    }
   ],
   "source": [
    "b=a\n",
    "b"
   ]
  },
  {
   "cell_type": "code",
   "execution_count": 54,
   "metadata": {},
   "outputs": [],
   "source": [
    "b[0]=10"
   ]
  },
  {
   "cell_type": "code",
   "execution_count": 55,
   "metadata": {},
   "outputs": [
    {
     "data": {
      "text/plain": [
       "array([10,  1,  2,  3,  4,  5,  6,  7,  8,  9])"
      ]
     },
     "execution_count": 55,
     "metadata": {},
     "output_type": "execute_result"
    }
   ],
   "source": [
    "b"
   ]
  },
  {
   "cell_type": "code",
   "execution_count": 56,
   "metadata": {},
   "outputs": [
    {
     "data": {
      "text/plain": [
       "array([10,  1,  2,  3,  4,  5,  6,  7,  8,  9])"
      ]
     },
     "execution_count": 56,
     "metadata": {},
     "output_type": "execute_result"
    }
   ],
   "source": [
    "a"
   ]
  },
  {
   "cell_type": "code",
   "execution_count": 57,
   "metadata": {},
   "outputs": [
    {
     "name": "stdout",
     "output_type": "stream",
     "text": [
      "10\n"
     ]
    }
   ],
   "source": [
    "a=10\n",
    "b=a\n",
    "print(b)"
   ]
  },
  {
   "cell_type": "code",
   "execution_count": 58,
   "metadata": {},
   "outputs": [
    {
     "name": "stdout",
     "output_type": "stream",
     "text": [
      "10\n"
     ]
    }
   ],
   "source": [
    "b=20\n",
    "print(a)"
   ]
  },
  {
   "cell_type": "markdown",
   "metadata": {},
   "source": [
    "* To make a copy of a list and a numpy array, we need to use the copy() function. Otherwise, 'b=a' only gives an other name for the same list/array. Each time you modify the elements of variable b or a will change the content of the variable."
   ]
  },
  {
   "cell_type": "code",
   "execution_count": 59,
   "metadata": {},
   "outputs": [
    {
     "name": "stdout",
     "output_type": "stream",
     "text": [
      "[1, 2, 3, 4, 5]\n",
      "[2, 3, 4, 5]\n"
     ]
    }
   ],
   "source": [
    "a=[1,2,3,4,5]\n",
    "b=a.copy()\n",
    "del b[0]\n",
    "print(a)\n",
    "print(b)"
   ]
  },
  {
   "cell_type": "markdown",
   "metadata": {},
   "source": [
    "* This does not apply to tuple, since tuple is immutable."
   ]
  },
  {
   "cell_type": "code",
   "execution_count": 60,
   "metadata": {},
   "outputs": [
    {
     "data": {
      "text/plain": [
       "(1, 2, 3, 4, 5, 6)"
      ]
     },
     "execution_count": 60,
     "metadata": {},
     "output_type": "execute_result"
    }
   ],
   "source": [
    "a=(1,2,3,4,5,6)\n",
    "a"
   ]
  },
  {
   "cell_type": "code",
   "execution_count": 61,
   "metadata": {},
   "outputs": [
    {
     "ename": "TypeError",
     "evalue": "'tuple' object does not support item assignment",
     "output_type": "error",
     "traceback": [
      "\u001b[0;31m---------------------------------------------------------------------------\u001b[0m",
      "\u001b[0;31mTypeError\u001b[0m                                 Traceback (most recent call last)",
      "\u001b[0;32m<ipython-input-61-cf85e6443d6f>\u001b[0m in \u001b[0;36m<module>\u001b[0;34m\u001b[0m\n\u001b[1;32m      1\u001b[0m \u001b[0mb\u001b[0m\u001b[0;34m=\u001b[0m\u001b[0ma\u001b[0m\u001b[0;34m\u001b[0m\u001b[0;34m\u001b[0m\u001b[0m\n\u001b[0;32m----> 2\u001b[0;31m \u001b[0mb\u001b[0m\u001b[0;34m[\u001b[0m\u001b[0;36m0\u001b[0m\u001b[0;34m]\u001b[0m\u001b[0;34m=\u001b[0m\u001b[0;36m10\u001b[0m\u001b[0;34m\u001b[0m\u001b[0;34m\u001b[0m\u001b[0m\n\u001b[0m",
      "\u001b[0;31mTypeError\u001b[0m: 'tuple' object does not support item assignment"
     ]
    }
   ],
   "source": [
    "b=a\n",
    "b[0]=10"
   ]
  },
  {
   "cell_type": "markdown",
   "metadata": {
    "slideshow": {
     "slide_type": "slide"
    }
   },
   "source": [
    "## Anonymous functions (lambda)\n",
    "\n",
    "A lambda expression is a kind of in-line function that can\n",
    "be generated on the fly to accomplish some small task. \n",
    "\n",
    "You can assign\n",
    "lambda functions a name, but you don't need to; hence, they are often\n",
    "called *anonymous* functions. "
   ]
  },
  {
   "cell_type": "markdown",
   "metadata": {
    "slideshow": {
     "slide_type": "slide"
    }
   },
   "source": [
    "A lambda uses the keyword `lambda` and has\n",
    "the general form:\n",
    "\n",
    "\n",
    "```python\n",
    "lambda arg1, arg2, ... : output\n",
    "```\n",
    "\n",
    "The arguments `arg1, arg2, ...` are inputs to a lambda, just as for a\n",
    "functions, and the output is an expression using the arguments."
   ]
  },
  {
   "cell_type": "markdown",
   "metadata": {
    "slideshow": {
     "slide_type": "slide"
    }
   },
   "source": [
    "While lambda expressions need not be named, we illustrate their use by\n",
    "comparing a conventional Python function definition to a lambda\n",
    "expression to which we give a name. "
   ]
  },
  {
   "cell_type": "code",
   "execution_count": 63,
   "metadata": {
    "collapsed": false,
    "jupyter": {
     "outputs_hidden": false
    },
    "slideshow": {
     "slide_type": "slide"
    }
   },
   "outputs": [],
   "source": [
    "def f(a, b):  \n",
    "    return 3*a + b**2"
   ]
  },
  {
   "cell_type": "code",
   "execution_count": 64,
   "metadata": {
    "collapsed": false,
    "jupyter": {
     "outputs_hidden": false
    },
    "slideshow": {
     "slide_type": "fragment"
    }
   },
   "outputs": [
    {
     "data": {
      "text/plain": [
       "15"
      ]
     },
     "execution_count": 64,
     "metadata": {},
     "output_type": "execute_result"
    }
   ],
   "source": [
    "f(2,3)"
   ]
  },
  {
   "cell_type": "markdown",
   "metadata": {
    "slideshow": {
     "slide_type": "slide"
    }
   },
   "source": [
    "Next, we define a lambda that does the same thing"
   ]
  },
  {
   "cell_type": "code",
   "execution_count": 69,
   "metadata": {
    "collapsed": false,
    "jupyter": {
     "outputs_hidden": false
    },
    "slideshow": {
     "slide_type": "fragment"
    }
   },
   "outputs": [],
   "source": [
    "g = lambda a, b: 3 * a + b**2 "
   ]
  },
  {
   "cell_type": "code",
   "execution_count": 67,
   "metadata": {
    "collapsed": false,
    "jupyter": {
     "outputs_hidden": false
    },
    "slideshow": {
     "slide_type": "fragment"
    }
   },
   "outputs": [
    {
     "data": {
      "text/plain": [
       "15"
      ]
     },
     "execution_count": 67,
     "metadata": {},
     "output_type": "execute_result"
    }
   ],
   "source": [
    "g(2,3)"
   ]
  },
  {
   "cell_type": "markdown",
   "metadata": {},
   "source": [
    "# [Exercise 09](./EX09-function.ipynb)"
   ]
  },
  {
   "cell_type": "markdown",
   "metadata": {},
   "source": [
    "# [Exercise 10](./EX10.ipynb)"
   ]
  },
  {
   "cell_type": "code",
   "execution_count": null,
   "metadata": {},
   "outputs": [],
   "source": []
  }
 ],
 "metadata": {
  "celltoolbar": "Slideshow",
  "kernelspec": {
   "display_name": "Python 3",
   "language": "python",
   "name": "python3"
  },
  "language_info": {
   "codemirror_mode": {
    "name": "ipython",
    "version": 3
   },
   "file_extension": ".py",
   "mimetype": "text/x-python",
   "name": "python",
   "nbconvert_exporter": "python",
   "pygments_lexer": "ipython3",
   "version": "3.8.3"
  }
 },
 "nbformat": 4,
 "nbformat_minor": 4
}
