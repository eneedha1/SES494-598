{
 "cells": [
  {
   "cell_type": "markdown",
   "metadata": {},
   "source": [
    "# Today, we will study:\n",
    "- Python as a calculator\n",
    "- Import python modules\n",
    "- define variables"
   ]
  },
  {
   "cell_type": "code",
   "execution_count": 4,
   "metadata": {},
   "outputs": [],
   "source": [
    "import numpy as np,scipy as sp, pandas as pd"
   ]
  },
  {
   "cell_type": "code",
   "execution_count": 6,
   "metadata": {},
   "outputs": [
    {
     "data": {
      "text/plain": [
       "0.8939966636005579"
      ]
     },
     "execution_count": 6,
     "metadata": {},
     "output_type": "execute_result"
    }
   ],
   "source": [
    "np.sin(90)"
   ]
  },
  {
   "cell_type": "markdown",
   "metadata": {},
   "source": [
    "# Use Python as a calculator"
   ]
  },
  {
   "cell_type": "markdown",
   "metadata": {},
   "source": [
    "\n",
    "- do the following calculations:\n",
    "        3*15, 15-3, 15+3, 4/3\n",
    "- calculate $4^{3}$, type 4**3\n",
    "        \n"
   ]
  },
  {
   "cell_type": "markdown",
   "metadata": {},
   "source": [
    "calculate sin(90)"
   ]
  },
  {
   "cell_type": "code",
   "execution_count": 66,
   "metadata": {},
   "outputs": [
    {
     "ename": "NameError",
     "evalue": "name 'sin' is not defined",
     "output_type": "error",
     "traceback": [
      "\u001b[0;31m---------------------------------------------------------------------------\u001b[0m",
      "\u001b[0;31mNameError\u001b[0m                                 Traceback (most recent call last)",
      "\u001b[0;32m<ipython-input-66-1b2f3ba94f3b>\u001b[0m in \u001b[0;36m<module>\u001b[0;34m\u001b[0m\n\u001b[0;32m----> 1\u001b[0;31m \u001b[0msin\u001b[0m\u001b[0;34m(\u001b[0m\u001b[0;36m90\u001b[0m\u001b[0;34m)\u001b[0m\u001b[0;34m\u001b[0m\u001b[0;34m\u001b[0m\u001b[0m\n\u001b[0m",
      "\u001b[0;31mNameError\u001b[0m: name 'sin' is not defined"
     ]
    }
   ],
   "source": [
    "sin(90)"
   ]
  },
  {
   "cell_type": "code",
   "execution_count": null,
   "metadata": {},
   "outputs": [],
   "source": [
    "import numpy as np\n",
    "np.sin(np.pi*0.5)"
   ]
  },
  {
   "cell_type": "markdown",
   "metadata": {
    "slideshow": {
     "slide_type": "slide"
    }
   },
   "source": [
    "# Modules"
   ]
  },
  {
   "cell_type": "markdown",
   "metadata": {
    "slideshow": {
     "slide_type": "slide"
    }
   },
   "source": [
    "## Python Modules\n",
    "\n",
    "- The Python computer language consists of a \"core\" language plus supplementary software in **modules**.\n",
    "\n",
    "- Some modules come with the standard Python distribution. \n",
    "\n",
    "- Other modules provide more specialized capabilities that not every user may want. \n",
    "\n",
    "- We can also make our own modules (we will show this later) and share with others"
   ]
  },
  {
   "cell_type": "markdown",
   "metadata": {
    "slideshow": {
     "slide_type": "slide"
    }
   },
   "source": [
    "## NumPy\n",
    "\n",
    "- A standard Python package for scientific computing.\n",
    "\n",
    "- `array` data structure\n",
    "\n",
    "- Tools for indexing, sorting, logical operations, and element-by-element arithmetic operations.\n",
    "\n",
    "- Basic functions of trigonometry, exponentials, and logarithms.\n",
    "\n",
    "- Special functions (Bessel functions, *etc.*), statistical functions, and random number generators. \n",
    "\n",
    "- Linear algebra routines."
   ]
  },
  {
   "cell_type": "markdown",
   "metadata": {},
   "source": [
    "# Nick name of Numpy\n",
    "- We can import numpy and give a nick name to it by\n",
    "        import numpy as np\n",
    "- In this example, np is a short-cut for numpy. When calculate sin(90), we can use either numpy.sin(90), or np.sin(90)\n",
    "- We can give any nick names to a module. The most common nick name for numpy module is np."
   ]
  },
  {
   "cell_type": "code",
   "execution_count": null,
   "metadata": {},
   "outputs": [],
   "source": [
    "import numpy\n",
    "import scipy\n",
    "import matplotlib"
   ]
  },
  {
   "cell_type": "markdown",
   "metadata": {
    "slideshow": {
     "slide_type": "slide"
    }
   },
   "source": [
    "## SciPy\n",
    "\n",
    "- Mathematical functions and numerical routines for Python. \n",
    "\n",
    "- Works closely with Numpy\n",
    "\n",
    "- Python \"wrappers\" for numerical software written in other languages."
   ]
  },
  {
   "cell_type": "markdown",
   "metadata": {
    "slideshow": {
     "slide_type": "slide"
    }
   },
   "source": [
    "## MatPlotLib\n",
    "\n",
    "- 2D and 3D plots\n",
    "\n",
    "- Makes extensive use of NumPy arrays. "
   ]
  },
  {
   "cell_type": "markdown",
   "metadata": {
    "slideshow": {
     "slide_type": "slide"
    }
   },
   "source": [
    "# Functions"
   ]
  },
  {
   "cell_type": "markdown",
   "metadata": {
    "slideshow": {
     "slide_type": "slide"
    }
   },
   "source": [
    "## Python functions: a first look\n",
    "\n",
    "- Similar to a mathematical function. \n",
    "\n",
    "- Consists of a name and one or more arguments contained inside parentheses, and it produces some output. \n"
   ]
  },
  {
   "cell_type": "markdown",
   "metadata": {
    "slideshow": {
     "slide_type": "slide"
    }
   },
   "source": [
    "For example, the NumPy function `sin(x)` calculates the sine of the number `x` (where `x` is expressed in\n",
    "radians).\n"
   ]
  },
  {
   "cell_type": "code",
   "execution_count": 67,
   "metadata": {
    "slideshow": {
     "slide_type": "fragment"
    }
   },
   "outputs": [
    {
     "data": {
      "text/plain": [
       "0.479425538604203"
      ]
     },
     "execution_count": 67,
     "metadata": {},
     "output_type": "execute_result"
    }
   ],
   "source": [
    "np.sin(0.5)"
   ]
  },
  {
   "cell_type": "markdown",
   "metadata": {
    "slideshow": {
     "slide_type": "slide"
    }
   },
   "source": [
    "The argument of the function can be a number or any kind of expression whose output produces a number. \n",
    "\n",
    "All of the following expressions are legal and produce the expected output:"
   ]
  },
  {
   "cell_type": "code",
   "execution_count": 68,
   "metadata": {
    "slideshow": {
     "slide_type": "fragment"
    }
   },
   "outputs": [
    {
     "data": {
      "text/plain": [
       "-0.7351666863853142"
      ]
     },
     "execution_count": 68,
     "metadata": {},
     "output_type": "execute_result"
    }
   ],
   "source": [
    "np.log(np.sin(0.5))"
   ]
  },
  {
   "cell_type": "code",
   "execution_count": 69,
   "metadata": {
    "slideshow": {
     "slide_type": "fragment"
    }
   },
   "outputs": [
    {
     "data": {
      "text/plain": [
       "0.3916538628347176"
      ]
     },
     "execution_count": 69,
     "metadata": {},
     "output_type": "execute_result"
    }
   ],
   "source": [
    "np.log(np.sin(0.5) + 1.0)"
   ]
  },
  {
   "cell_type": "code",
   "execution_count": 70,
   "metadata": {
    "slideshow": {
     "slide_type": "fragment"
    }
   },
   "outputs": [
    {
     "data": {
      "text/plain": [
       "1.5224265354444708"
      ]
     },
     "execution_count": 70,
     "metadata": {},
     "output_type": "execute_result"
    }
   ],
   "source": [
    "np.log(5.5/1.2)"
   ]
  },
  {
   "cell_type": "markdown",
   "metadata": {
    "slideshow": {
     "slide_type": "slide"
    }
   },
   "source": [
    "## Some NumPy functions\n",
    "\n",
    "<table>\n",
    "<colgroup>\n",
    "<col style=\"width: 22%\" />\n",
    "<col style=\"width: 77%\" />\n",
    "</colgroup>\n",
    "<thead>\n",
    "<tr class=\"header\">\n",
    "<th><strong>Function</strong></th>\n",
    "<th><strong>Description</strong></th>\n",
    "</tr>\n",
    "</thead>\n",
    "<tbody>\n",
    "<tr class=\"odd\">\n",
    "<td><code>sqrt(x)</code></td>\n",
    "<td>Square root of <span class=\"math inline\"><em>x</em></span></td>\n",
    "</tr>\n",
    "<tr class=\"even\">\n",
    "<td><code>exp(x)</code></td>\n",
    "<td>Exponential of x, <em>i.e.</em> <span class=\"math inline\"><em>e</em><sup><em>x</em></sup></span></td>\n",
    "</tr>\n",
    "<tr class=\"odd\">\n",
    "<td><code>log(x)</code></td>\n",
    "<td>Natural log of x, <em>i.e.</em> <span class=\"math inline\">ln <em>x</em></span></td>\n",
    "</tr>\n",
    "<tr class=\"even\">\n",
    "<td><code>log10(x)</code></td>\n",
    "<td>Base 10 log of <span class=\"math inline\"><em>x</em></span></td>\n",
    "</tr>\n",
    "<tr class=\"odd\">\n",
    "<td><code>degrees(x)</code></td>\n",
    "<td>Converts <span class=\"math inline\"><em>x</em></span> from radians to degrees</td>\n",
    "</tr>\n",
    "<tr class=\"even\">\n",
    "<td><code>radians(x)</code></td>\n",
    "<td>Converts <span class=\"math inline\"><em>x</em></span> from degrees to radians</td>\n",
    "</tr>\n",
    "<tr class=\"odd\">\n",
    "<td><code>sin(x)</code></td>\n",
    "<td>Sine of <span class=\"math inline\"><em>x</em></span> (<span class=\"math inline\"><em>x</em></span> in radians)</td>\n",
    "</tr>\n",
    "<tr class=\"even\">\n",
    "<td><code>cos(x)</code></td>\n",
    "<td>Cosine <span class=\"math inline\"><em>x</em></span> (<span class=\"math inline\"><em>x</em></span> in radians)</td>\n",
    "</tr>\n",
    "<tr class=\"odd\">\n",
    "<td><code>tan(x)</code></td>\n",
    "<td>Tangent <span class=\"math inline\"><em>x</em></span> (<span class=\"math inline\"><em>x</em></span> in radians)</td>\n",
    "</tr>\n",
    "<tr class=\"even\">\n",
    "<td><code>arcsin(x)</code></td>\n",
    "<td>Arc sine (in radians) of <span class=\"math inline\"><em>x</em></span></td>\n",
    "</tr>\n",
    "<tr class=\"odd\">\n",
    "<td><code>arccos(x)</code></td>\n",
    "<td>Arc cosine (in radians) of <span class=\"math inline\"><em>x</em></span></td>\n",
    "</tr>\n",
    "<tr class=\"even\">\n",
    "<td><code>arctan(x)</code></td>\n",
    "<td>Arc tangent (in radians) of <span class=\"math inline\"><em>x</em></span></td>\n",
    "</tr>\n",
    "<tr class=\"odd\">\n",
    "<td><code>fabs(x)</code></td>\n",
    "<td>Absolute value of <span class=\"math inline\"><em>x</em></span></td>\n",
    "</tr>\n",
    "<tr class=\"even\">\n",
    "<td><code>round(x)</code></td>\n",
    "<td>Rounds a float to nearest integer</td>\n",
    "</tr>\n",
    "<tr class=\"odd\">\n",
    "<td><code>floor(x)</code></td>\n",
    "<td>Rounds a float <em>down</em> to nearest integer</td>\n",
    "</tr>\n",
    "<tr class=\"even\">\n",
    "<td><code>ceil(x)</code></td>\n",
    "<td>Rounds a float <em>up</em> to nearest integer</td>\n",
    "</tr>\n",
    "<tr class=\"odd\">\n",
    "<td><code>sign(x)</code></td>\n",
    "<td>-1 if <span class=\"math inline\"><em>x</em> &lt; 0</span>, +1 if <span class=\"math inline\"><em>x</em> &gt; 0</span>, 0 if <span class=\"math inline\"><em>x</em> = 0</span></td>\n",
    "</tr>\n",
    "</tbody>\n",
    "</table>\n",
    "\n",
    "Remember, the value in sin(), cos(), tan(), ... are all in radian unit"
   ]
  },
  {
   "cell_type": "markdown",
   "metadata": {
    "slideshow": {
     "slide_type": "slide"
    }
   },
   "source": [
    "# Variables"
   ]
  },
  {
   "cell_type": "markdown",
   "metadata": {
    "slideshow": {
     "slide_type": "slide"
    }
   },
   "source": [
    "## Names and the assignment operator\n",
    "\n",
    "- A variable is a name that is used to store data. \n",
    "\n",
    "- It can be used to store different kinds of data.\n",
    "\n",
    "- The simplest and most common example is when the data is a single number. \n",
    "\n",
    "- It can store very large arrays"
   ]
  },
  {
   "cell_type": "code",
   "execution_count": 71,
   "metadata": {
    "slideshow": {
     "slide_type": "slide"
    }
   },
   "outputs": [],
   "source": [
    "a    =    23"
   ]
  },
  {
   "cell_type": "markdown",
   "metadata": {
    "slideshow": {
     "slide_type": "fragment"
    }
   },
   "source": [
    "The equal sign \"`=`\" is the *assignment operator*. "
   ]
  },
  {
   "cell_type": "markdown",
   "metadata": {},
   "source": [
    "\"a=23\" assigns the value of 23 to the variable a."
   ]
  },
  {
   "cell_type": "markdown",
   "metadata": {},
   "source": [
    "The assignment operator “=” is not equivalent to the equals sign “=” we are accustomed to in algebra. "
   ]
  },
  {
   "cell_type": "code",
   "execution_count": 72,
   "metadata": {
    "slideshow": {
     "slide_type": "slide"
    }
   },
   "outputs": [],
   "source": [
    "p, q = 83.4, np.sqrt(2)"
   ]
  },
  {
   "cell_type": "markdown",
   "metadata": {
    "slideshow": {
     "slide_type": "fragment"
    }
   },
   "source": [
    "Python stores the *numerical value*, not the expression used to generate it. \n",
    "\n",
    "Thus, `q` is assigned the 17-digit number 1.4142135623730951 generated by evaluating the expression `sqrt(2)`, *not* with $\\sqrt{2}$."
   ]
  },
  {
   "cell_type": "code",
   "execution_count": 73,
   "metadata": {},
   "outputs": [
    {
     "data": {
      "text/plain": [
       "1.4142135623730951"
      ]
     },
     "execution_count": 73,
     "metadata": {},
     "output_type": "execute_result"
    }
   ],
   "source": [
    "q"
   ]
  },
  {
   "cell_type": "markdown",
   "metadata": {},
   "source": [
    "### What are the meaning of the following statements?\n"
   ]
  },
  {
   "cell_type": "code",
   "execution_count": 74,
   "metadata": {},
   "outputs": [],
   "source": [
    "a=23"
   ]
  },
  {
   "cell_type": "code",
   "execution_count": 75,
   "metadata": {
    "slideshow": {
     "slide_type": "slide"
    }
   },
   "outputs": [],
   "source": [
    "b=a"
   ]
  },
  {
   "cell_type": "code",
   "execution_count": 76,
   "metadata": {},
   "outputs": [
    {
     "data": {
      "text/plain": [
       "23"
      ]
     },
     "execution_count": 76,
     "metadata": {},
     "output_type": "execute_result"
    }
   ],
   "source": [
    "b"
   ]
  },
  {
   "cell_type": "code",
   "execution_count": 77,
   "metadata": {
    "slideshow": {
     "slide_type": "fragment"
    }
   },
   "outputs": [],
   "source": [
    "b=a+1"
   ]
  },
  {
   "cell_type": "code",
   "execution_count": 78,
   "metadata": {},
   "outputs": [
    {
     "data": {
      "text/plain": [
       "24"
      ]
     },
     "execution_count": 78,
     "metadata": {},
     "output_type": "execute_result"
    }
   ],
   "source": [
    "b"
   ]
  },
  {
   "cell_type": "code",
   "execution_count": 79,
   "metadata": {
    "slideshow": {
     "slide_type": "fragment"
    }
   },
   "outputs": [],
   "source": [
    "a=a+1"
   ]
  },
  {
   "cell_type": "code",
   "execution_count": 80,
   "metadata": {},
   "outputs": [
    {
     "data": {
      "text/plain": [
       "24"
      ]
     },
     "execution_count": 80,
     "metadata": {},
     "output_type": "execute_result"
    }
   ],
   "source": [
    "a"
   ]
  },
  {
   "cell_type": "markdown",
   "metadata": {},
   "source": [
    "“a=a+1” makes no sense in algebra, but in compute languages, it makes perfect sense: it means “add 1 to the current value of a, and assign the result to a”."
   ]
  },
  {
   "cell_type": "code",
   "execution_count": 89,
   "metadata": {},
   "outputs": [
    {
     "data": {
      "text/plain": [
       "10"
      ]
     },
     "execution_count": 89,
     "metadata": {},
     "output_type": "execute_result"
    }
   ],
   "source": [
    "a=10\n",
    "a"
   ]
  },
  {
   "cell_type": "code",
   "execution_count": 90,
   "metadata": {},
   "outputs": [],
   "source": [
    "a+=1"
   ]
  },
  {
   "cell_type": "code",
   "execution_count": 91,
   "metadata": {},
   "outputs": [],
   "source": [
    "a-=1\n"
   ]
  },
  {
   "cell_type": "code",
   "execution_count": 93,
   "metadata": {},
   "outputs": [],
   "source": [
    "a=a*2\n"
   ]
  },
  {
   "cell_type": "code",
   "execution_count": 94,
   "metadata": {},
   "outputs": [],
   "source": [
    "b=3\n",
    "a*=b\n"
   ]
  },
  {
   "cell_type": "code",
   "execution_count": 95,
   "metadata": {},
   "outputs": [],
   "source": [
    "a/=5"
   ]
  },
  {
   "cell_type": "code",
   "execution_count": 104,
   "metadata": {},
   "outputs": [],
   "source": [
    "a=4"
   ]
  },
  {
   "cell_type": "code",
   "execution_count": 106,
   "metadata": {},
   "outputs": [
    {
     "data": {
      "text/plain": [
       "4"
      ]
     },
     "execution_count": 106,
     "metadata": {},
     "output_type": "execute_result"
    }
   ],
   "source": [
    "a"
   ]
  },
  {
   "cell_type": "code",
   "execution_count": 103,
   "metadata": {},
   "outputs": [],
   "source": [
    "adsfa23242443=1"
   ]
  },
  {
   "cell_type": "markdown",
   "metadata": {
    "slideshow": {
     "slide_type": "slide"
    }
   },
   "source": [
    "## Legal and recommended variable names\n",
    "\n",
    "- Variable names in Python must start with a letter, and can be followed by as many alphanumeric characters as you like. \n",
    "\n",
    "- Spaces are not allowed in variable names. \n",
    "\n",
    "- The underscore character \"`_`\" is allowed, but no other character that is not a letter or a number is permitted.\n",
    "\n",
    "- Python is *case sensitive*, so the variable `a` is distinct from the variable `A`.\n",
    "\n",
    "- We recommend giving your variables descriptive names."
   ]
  },
  {
   "cell_type": "code",
   "execution_count": 107,
   "metadata": {
    "slideshow": {
     "slide_type": "slide"
    }
   },
   "outputs": [],
   "source": [
    "distance = 34."
   ]
  },
  {
   "cell_type": "code",
   "execution_count": 108,
   "metadata": {
    "slideshow": {
     "slide_type": "fragment"
    }
   },
   "outputs": [],
   "source": [
    "time_traveled = 0.59"
   ]
  },
  {
   "cell_type": "code",
   "execution_count": 109,
   "metadata": {
    "slideshow": {
     "slide_type": "fragment"
    }
   },
   "outputs": [],
   "source": [
    "velocity = distance / time_traveled"
   ]
  },
  {
   "cell_type": "code",
   "execution_count": 110,
   "metadata": {
    "slideshow": {
     "slide_type": "fragment"
    }
   },
   "outputs": [
    {
     "data": {
      "text/plain": [
       "57.6271186440678"
      ]
     },
     "execution_count": 110,
     "metadata": {},
     "output_type": "execute_result"
    }
   ],
   "source": [
    "velocity"
   ]
  },
  {
   "cell_type": "markdown",
   "metadata": {
    "slideshow": {
     "slide_type": "fragment"
    }
   },
   "source": [
    "Readable!"
   ]
  },
  {
   "cell_type": "markdown",
   "metadata": {
    "slideshow": {
     "slide_type": "slide"
    }
   },
   "source": [
    "## Reserved words in Python\n",
    "\n",
    "<table style=\"width:81%;\">\n",
    "<colgroup>\n",
    "<col style=\"width: 18%\" />\n",
    "<col style=\"width: 16%\" />\n",
    "<col style=\"width: 15%\" />\n",
    "<col style=\"width: 15%\" />\n",
    "<col style=\"width: 15%\" />\n",
    "</colgroup>\n",
    "<tbody>\n",
    "<tr class=\"odd\">\n",
    "<td><code>and</code></td>\n",
    "<td><code>del</code></td>\n",
    "<td><code>from</code></td>\n",
    "<td><code>not</code></td>\n",
    "<td><code>while</code></td>\n",
    "</tr>\n",
    "<tr class=\"even\">\n",
    "<td><code>as</code></td>\n",
    "<td><code>elif</code></td>\n",
    "<td><code>global</code></td>\n",
    "<td><code>or</code></td>\n",
    "<td><code>with</code></td>\n",
    "</tr>\n",
    "<tr class=\"odd\">\n",
    "<td><code>assert</code></td>\n",
    "<td><code>else</code></td>\n",
    "<td><code>if</code></td>\n",
    "<td><code>pass</code></td>\n",
    "<td><code>yield</code></td>\n",
    "</tr>\n",
    "<tr class=\"even\">\n",
    "<td><code>break</code></td>\n",
    "<td><code>except</code></td>\n",
    "<td><code>import</code></td>\n",
    "<td><code>print</code></td>\n",
    "<td></td>\n",
    "</tr>\n",
    "<tr class=\"odd\">\n",
    "<td><code>class</code></td>\n",
    "<td><code>exec</code></td>\n",
    "<td><code>in</code></td>\n",
    "<td><code>raise</code></td>\n",
    "<td></td>\n",
    "</tr>\n",
    "<tr class=\"even\">\n",
    "<td><code>continue</code></td>\n",
    "<td><code>finally</code></td>\n",
    "<td><code>is</code></td>\n",
    "<td><code>return</code></td>\n",
    "<td></td>\n",
    "</tr>\n",
    "<tr class=\"odd\">\n",
    "<td><code>def</code></td>\n",
    "<td><code>for</code></td>\n",
    "<td><code>lambda</code></td>\n",
    "<td><code>try</code></td>\n",
    "<td></td>\n",
    "</tr>\n",
    "</tbody>\n",
    "</table>\n",
    "\n",
    "In addition, you should not use function names, like `sin`, `cos`, and `sqrt`, defined in the SciPy, NumPy, or any other library that you are using.\n",
    "\n"
   ]
  },
  {
   "cell_type": "code",
   "execution_count": 113,
   "metadata": {},
   "outputs": [],
   "source": [
    "sin=23"
   ]
  }
 ],
 "metadata": {
  "celltoolbar": "Slideshow",
  "kernelspec": {
   "display_name": "Python 3",
   "language": "python",
   "name": "python3"
  },
  "language_info": {
   "codemirror_mode": {
    "name": "ipython",
    "version": 3
   },
   "file_extension": ".py",
   "mimetype": "text/x-python",
   "name": "python",
   "nbconvert_exporter": "python",
   "pygments_lexer": "ipython3",
   "version": "3.7.4"
  }
 },
 "nbformat": 4,
 "nbformat_minor": 4
}
