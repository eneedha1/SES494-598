{
 "cells": [
  {
   "cell_type": "markdown",
   "metadata": {},
   "source": [
    "# Exercise 11: redo HW03 using python build-in functions."
   ]
  },
  {
   "cell_type": "markdown",
   "metadata": {},
   "source": [
    "In EX07, we have worked together to write a code to read the file earthquake.csv and assign each column to a list. We now want to further examine this earthquake catalog."
   ]
  },
  {
   "cell_type": "markdown",
   "metadata": {},
   "source": [
    "The code is shown below"
   ]
  },
  {
   "cell_type": "code",
   "execution_count": 1,
   "metadata": {},
   "outputs": [],
   "source": [
    "import numpy as np\n",
    "fp=open(\"./data/earthquake.csv\",\"r\")\n",
    "lines=fp.readlines()\n",
    "fp.close()\n",
    "year=[];month=[];day=[];time=[];mag=[];lon=[];lat=[];depth=[];region=[]\n",
    "for line in lines[1:]:\n",
    "    if \"\\\"\" in line:\n",
    "        temp=line.split(\",\")\n",
    "        year.append(temp[0]);month.append(temp[1])\n",
    "        day.append(temp[2]);time.append(temp[3])\n",
    "        mag.append(temp[4]);lon.append(temp[5]);lat.append(temp[6])\n",
    "        depth.append(temp[7]);region.append(temp[8]+\",\"+temp[9])\n",
    "    else:\n",
    "        temp=line.split(\",\")\n",
    "        year.append(temp[0]);month.append(temp[1])\n",
    "        day.append(temp[2]);time.append(temp[3])\n",
    "        mag.append(temp[4]);lon.append(temp[5]);lat.append(temp[6])\n",
    "        depth.append(temp[7]);region.append(temp[8])"
   ]
  },
  {
   "cell_type": "markdown",
   "metadata": {},
   "source": [
    "The code above will give you variables of 'year', 'month', 'day', 'time', 'mag', 'lon', 'lat', 'depth', and 'regoin'. All these variables have `list` data type.\n",
    "__Be careful that  Each element within the lists has `string` data type.__ Therefore, you will need to first convert strings to numbers before apply mathmatic operations on it."
   ]
  },
  {
   "cell_type": "code",
   "execution_count": 2,
   "metadata": {},
   "outputs": [
    {
     "name": "stdout",
     "output_type": "stream",
     "text": [
      "10 10.0 10\n"
     ]
    }
   ],
   "source": [
    "# To convert a string to a number, we use float() or int() functions\n",
    "a=\"10\"\n",
    "b=float(a)\n",
    "c=int(a)\n",
    "print(a,b,c)"
   ]
  },
  {
   "cell_type": "markdown",
   "metadata": {},
   "source": [
    "Convert all elements in the lists of 'mag','lon','lat',and 'depth' to floating numbers, and all elements in 'year', 'month', and 'day' to integer numbers. Remember, only change the data type of each element, and do not change the variable names."
   ]
  },
  {
   "cell_type": "code",
   "execution_count": 3,
   "metadata": {},
   "outputs": [],
   "source": [
    "for i in range(0,len(mag)):\n",
    "    mag[i]=float(mag[i])\n",
    "    lon[i]=float(lon[i])\n",
    "    lat[i]=float(lat[i])\n",
    "    depth[i]=float(depth[i])\n",
    "    year[i]=int(year[i])\n",
    "    month[i]=int(month[i])\n",
    "    day[i]=int(day[i])"
   ]
  },
  {
   "cell_type": "markdown",
   "metadata": {},
   "source": [
    "(a) Use python's build-in function to calculate the average magnitude of the earthquakes in this catalog.\n",
    "Hint: you need to convert list to numpy array first because the mean function is in numpy array, not in list."
   ]
  },
  {
   "cell_type": "code",
   "execution_count": null,
   "metadata": {},
   "outputs": [],
   "source": []
  },
  {
   "cell_type": "markdown",
   "metadata": {},
   "source": [
    "I get: 1.783"
   ]
  },
  {
   "cell_type": "markdown",
   "metadata": {},
   "source": [
    "(b) Find the maximum depth of the earthquakes"
   ]
  },
  {
   "cell_type": "code",
   "execution_count": null,
   "metadata": {},
   "outputs": [],
   "source": []
  },
  {
   "cell_type": "markdown",
   "metadata": {},
   "source": [
    "I get: 573.9"
   ]
  },
  {
   "cell_type": "markdown",
   "metadata": {},
   "source": [
    "(c) In which region(s) does the largest earthquake(s) happen?\n",
    "Hint: use the 'index' function in lists"
   ]
  },
  {
   "cell_type": "code",
   "execution_count": null,
   "metadata": {},
   "outputs": [],
   "source": []
  },
  {
   "cell_type": "markdown",
   "metadata": {},
   "source": [
    "I get: \"MINDANAO, PHILIPPINES\""
   ]
  },
  {
   "cell_type": "markdown",
   "metadata": {},
   "source": [
    "(d) In which region(s) and at what year, month, day and time do the deepest earthquake(s) happen?\n",
    "- Hint: use the 'index' function in lists"
   ]
  },
  {
   "cell_type": "code",
   "execution_count": null,
   "metadata": {},
   "outputs": [],
   "source": []
  },
  {
   "cell_type": "markdown",
   "metadata": {},
   "source": [
    "I get: FLORES SEA 2019 2 10 22:54:37"
   ]
  },
  {
   "cell_type": "markdown",
   "metadata": {},
   "source": [
    "## Question 2"
   ]
  },
  {
   "cell_type": "markdown",
   "metadata": {},
   "source": [
    "- Make a file named 'fun.py' in the current folder\n",
    "- Write a function named 'sinx' in the file 'fun.py' to compute $sin(x)/x$\n",
    "- import the file\n",
    "- calculate sin(2)/2 by calling 'fun.sinx(2)'\n",
    "- Hint: when using sin(x), you need to import 'numpy' first"
   ]
  },
  {
   "cell_type": "code",
   "execution_count": null,
   "metadata": {},
   "outputs": [],
   "source": []
  }
 ],
 "metadata": {
  "kernelspec": {
   "display_name": "Python 3",
   "language": "python",
   "name": "python3"
  },
  "language_info": {
   "codemirror_mode": {
    "name": "ipython",
    "version": 3
   },
   "file_extension": ".py",
   "mimetype": "text/x-python",
   "name": "python",
   "nbconvert_exporter": "python",
   "pygments_lexer": "ipython3",
   "version": "3.8.3"
  }
 },
 "nbformat": 4,
 "nbformat_minor": 4
}
