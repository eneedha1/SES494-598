{
 "cells": [
  {
   "cell_type": "markdown",
   "metadata": {
    "slideshow": {
     "slide_type": "slide"
    }
   },
   "source": [
    "# Functions"
   ]
  },
  {
   "cell_type": "markdown",
   "metadata": {
    "slideshow": {
     "slide_type": "slide"
    }
   },
   "source": [
    "## Variable number of arguments\n",
    "\n",
    "While it may seem odd, it is sometimes useful to leave the number of\n",
    "arguments unspecified. "
   ]
  },
  {
   "cell_type": "markdown",
   "metadata": {
    "slideshow": {
     "slide_type": "slide"
    }
   },
   "source": [
    "A simple example is a function that computes the\n",
    "product of an arbitrary number of numbers:"
   ]
  },
  {
   "cell_type": "code",
   "execution_count": 1,
   "metadata": {
    "collapsed": false,
    "jupyter": {
     "outputs_hidden": false
    },
    "slideshow": {
     "slide_type": "fragment"
    }
   },
   "outputs": [],
   "source": [
    "def product(*args): \n",
    "    print(args) \n",
    "    p = 1 \n",
    "    for num in args: \n",
    "        p*= num  \n",
    "    return p\n"
   ]
  },
  {
   "cell_type": "code",
   "execution_count": 2,
   "metadata": {
    "collapsed": false,
    "jupyter": {
     "outputs_hidden": false
    },
    "slideshow": {
     "slide_type": "slide"
    }
   },
   "outputs": [
    {
     "name": "stdout",
     "output_type": "stream",
     "text": [
      "(11.0, -2, 3)\n"
     ]
    },
    {
     "data": {
      "text/plain": [
       "-66.0"
      ]
     },
     "execution_count": 2,
     "metadata": {},
     "output_type": "execute_result"
    }
   ],
   "source": [
    "product(11., -2, 3)"
   ]
  },
  {
   "cell_type": "code",
   "execution_count": 3,
   "metadata": {
    "collapsed": false,
    "jupyter": {
     "outputs_hidden": false
    },
    "slideshow": {
     "slide_type": "fragment"
    }
   },
   "outputs": [
    {
     "name": "stdout",
     "output_type": "stream",
     "text": [
      "(2.31, 7, 3, 4, 5, 6, 7, 1, 4, 6, 8, 9, 90, 0, 0)\n"
     ]
    },
    {
     "data": {
      "text/plain": [
       "0.0"
      ]
     },
     "execution_count": 3,
     "metadata": {},
     "output_type": "execute_result"
    }
   ],
   "source": [
    "product(2.31, 7, 3,4,5,6,7,1,4,6,8,9,90,0,0)"
   ]
  },
  {
   "cell_type": "markdown",
   "metadata": {
    "slideshow": {
     "slide_type": "slide"
    }
   },
   "source": [
    "```python\n",
    "def product(*args): \n",
    "    print(args) \n",
    "    p = 1 \n",
    "    for num in args: \n",
    "        p*= num  \n",
    "    return p\n",
    "\n",
    "```\n",
    "\n",
    "The `print(args)` statement in the function definition is not\n",
    "necessary, of course, but is put in to show that the argument `args` is\n",
    "a tuple inside the function. "
   ]
  },
  {
   "cell_type": "markdown",
   "metadata": {
    "slideshow": {
     "slide_type": "slide"
    }
   },
   "source": [
    "## Variables and arrays created entirely within a function\n",
    "\n",
    "Variables and arrays created\n",
    "*entirely within* a function cannot be seen by the program that calls\n",
    "the function unless the variable or array is explicitly passed to the\n",
    "calling program in the `return` statement. "
   ]
  },
  {
   "cell_type": "markdown",
   "metadata": {
    "slideshow": {
     "slide_type": "slide"
    }
   },
   "source": [
    "This is important because it\n",
    "means you can create and manipulate variables and arrays, giving them\n",
    "any name you please, without affecting any variables or arrays outside\n",
    "the function, even if the variables and arrays inside and outside a\n",
    "function share the same name.\n"
   ]
  },
  {
   "cell_type": "code",
   "execution_count": 4,
   "metadata": {
    "collapsed": false,
    "jupyter": {
     "outputs_hidden": false
    }
   },
   "outputs": [
    {
     "data": {
      "image/png": "[encoded data removed]",
      "text/plain": [
       "<Figure size 432x288 with 1 Axes>"
      ]
     },
     "metadata": {
      "needs_background": "light"
     },
     "output_type": "display_data"
    }
   ],
   "source": [
    "def sinc(x):  \n",
    "    z = np.where(x==0.0, 1.0, np.sin(x)/x) \n",
    "    return z\n",
    "\n",
    "import numpy as np \n",
    "import matplotlib.pyplot as plt\n",
    "%matplotlib inline\n",
    "\n",
    "x = np.linspace(-10, 10, 256) \n",
    "y = sinc(x)\n",
    "plt.plot(x, y) \n",
    "plt.show()"
   ]
  },
  {
   "cell_type": "markdown",
   "metadata": {
    "slideshow": {
     "slide_type": "slide"
    }
   },
   "source": [
    "Running this program produces a plot like the plot of sinc shown in the\n",
    "previous section. Notice that the array variable `z` is only defined\n",
    "within the function definition of sinc. \n",
    "\n",
    "After running the cell above, if we ask\n",
    "to print out the arrays, `x`, `y`, and `z`, we get some\n",
    "interesting and informative results."
   ]
  },
  {
   "cell_type": "code",
   "execution_count": 5,
   "metadata": {
    "collapsed": false,
    "jupyter": {
     "outputs_hidden": false
    },
    "slideshow": {
     "slide_type": "slide"
    }
   },
   "outputs": [
    {
     "data": {
      "text/plain": [
       "array([-10.        ,  -9.92156863,  -9.84313725,  -9.76470588,\n",
       "        -9.68627451,  -9.60784314,  -9.52941176,  -9.45098039,\n",
       "        -9.37254902,  -9.29411765,  -9.21568627,  -9.1372549 ,\n",
       "        -9.05882353,  -8.98039216,  -8.90196078,  -8.82352941,\n",
       "        -8.74509804,  -8.66666667,  -8.58823529,  -8.50980392,\n",
       "        -8.43137255,  -8.35294118,  -8.2745098 ,  -8.19607843,\n",
       "        -8.11764706,  -8.03921569,  -7.96078431,  -7.88235294,\n",
       "        -7.80392157,  -7.7254902 ,  -7.64705882,  -7.56862745,\n",
       "        -7.49019608,  -7.41176471,  -7.33333333,  -7.25490196,\n",
       "        -7.17647059,  -7.09803922,  -7.01960784,  -6.94117647,\n",
       "        -6.8627451 ,  -6.78431373,  -6.70588235,  -6.62745098,\n",
       "        -6.54901961,  -6.47058824,  -6.39215686,  -6.31372549,\n",
       "        -6.23529412,  -6.15686275,  -6.07843137,  -6.        ,\n",
       "        -5.92156863,  -5.84313725,  -5.76470588,  -5.68627451,\n",
       "        -5.60784314,  -5.52941176,  -5.45098039,  -5.37254902,\n",
       "        -5.29411765,  -5.21568627,  -5.1372549 ,  -5.05882353,\n",
       "        -4.98039216,  -4.90196078,  -4.82352941,  -4.74509804,\n",
       "        -4.66666667,  -4.58823529,  -4.50980392,  -4.43137255,\n",
       "        -4.35294118,  -4.2745098 ,  -4.19607843,  -4.11764706,\n",
       "        -4.03921569,  -3.96078431,  -3.88235294,  -3.80392157,\n",
       "        -3.7254902 ,  -3.64705882,  -3.56862745,  -3.49019608,\n",
       "        -3.41176471,  -3.33333333,  -3.25490196,  -3.17647059,\n",
       "        -3.09803922,  -3.01960784,  -2.94117647,  -2.8627451 ,\n",
       "        -2.78431373,  -2.70588235,  -2.62745098,  -2.54901961,\n",
       "        -2.47058824,  -2.39215686,  -2.31372549,  -2.23529412,\n",
       "        -2.15686275,  -2.07843137,  -2.        ,  -1.92156863,\n",
       "        -1.84313725,  -1.76470588,  -1.68627451,  -1.60784314,\n",
       "        -1.52941176,  -1.45098039,  -1.37254902,  -1.29411765,\n",
       "        -1.21568627,  -1.1372549 ,  -1.05882353,  -0.98039216,\n",
       "        -0.90196078,  -0.82352941,  -0.74509804,  -0.66666667,\n",
       "        -0.58823529,  -0.50980392,  -0.43137255,  -0.35294118,\n",
       "        -0.2745098 ,  -0.19607843,  -0.11764706,  -0.03921569,\n",
       "         0.03921569,   0.11764706,   0.19607843,   0.2745098 ,\n",
       "         0.35294118,   0.43137255,   0.50980392,   0.58823529,\n",
       "         0.66666667,   0.74509804,   0.82352941,   0.90196078,\n",
       "         0.98039216,   1.05882353,   1.1372549 ,   1.21568627,\n",
       "         1.29411765,   1.37254902,   1.45098039,   1.52941176,\n",
       "         1.60784314,   1.68627451,   1.76470588,   1.84313725,\n",
       "         1.92156863,   2.        ,   2.07843137,   2.15686275,\n",
       "         2.23529412,   2.31372549,   2.39215686,   2.47058824,\n",
       "         2.54901961,   2.62745098,   2.70588235,   2.78431373,\n",
       "         2.8627451 ,   2.94117647,   3.01960784,   3.09803922,\n",
       "         3.17647059,   3.25490196,   3.33333333,   3.41176471,\n",
       "         3.49019608,   3.56862745,   3.64705882,   3.7254902 ,\n",
       "         3.80392157,   3.88235294,   3.96078431,   4.03921569,\n",
       "         4.11764706,   4.19607843,   4.2745098 ,   4.35294118,\n",
       "         4.43137255,   4.50980392,   4.58823529,   4.66666667,\n",
       "         4.74509804,   4.82352941,   4.90196078,   4.98039216,\n",
       "         5.05882353,   5.1372549 ,   5.21568627,   5.29411765,\n",
       "         5.37254902,   5.45098039,   5.52941176,   5.60784314,\n",
       "         5.68627451,   5.76470588,   5.84313725,   5.92156863,\n",
       "         6.        ,   6.07843137,   6.15686275,   6.23529412,\n",
       "         6.31372549,   6.39215686,   6.47058824,   6.54901961,\n",
       "         6.62745098,   6.70588235,   6.78431373,   6.8627451 ,\n",
       "         6.94117647,   7.01960784,   7.09803922,   7.17647059,\n",
       "         7.25490196,   7.33333333,   7.41176471,   7.49019608,\n",
       "         7.56862745,   7.64705882,   7.7254902 ,   7.80392157,\n",
       "         7.88235294,   7.96078431,   8.03921569,   8.11764706,\n",
       "         8.19607843,   8.2745098 ,   8.35294118,   8.43137255,\n",
       "         8.50980392,   8.58823529,   8.66666667,   8.74509804,\n",
       "         8.82352941,   8.90196078,   8.98039216,   9.05882353,\n",
       "         9.1372549 ,   9.21568627,   9.29411765,   9.37254902,\n",
       "         9.45098039,   9.52941176,   9.60784314,   9.68627451,\n",
       "         9.76470588,   9.84313725,   9.92156863,  10.        ])"
      ]
     },
     "execution_count": 5,
     "metadata": {},
     "output_type": "execute_result"
    }
   ],
   "source": [
    "x"
   ]
  },
  {
   "cell_type": "code",
   "execution_count": 6,
   "metadata": {
    "collapsed": false,
    "jupyter": {
     "outputs_hidden": false
    },
    "slideshow": {
     "slide_type": "slide"
    }
   },
   "outputs": [
    {
     "data": {
      "text/plain": [
       "array([-0.05440211, -0.04803743, -0.04127361, -0.03414533, -0.02668998,\n",
       "       -0.01894748, -0.01096007, -0.00277214,  0.00557001,  0.01401842,\n",
       "        0.02252371,  0.03103534,  0.03950189,  0.04787134,  0.05609135,\n",
       "        0.06410955,  0.07187388,  0.07933283,  0.08643581,  0.09313337,\n",
       "        0.09937761,  0.10512236,  0.11032357,  0.11493952,  0.11893116,\n",
       "        0.12226232,  0.12490001,  0.12681462,  0.12798018,  0.12837455,\n",
       "        0.12797963,  0.12678151,  0.12477064,  0.12194197,  0.11829503,\n",
       "        0.11383406,  0.10856804,  0.10251076,  0.09568081,  0.08810159,\n",
       "        0.07980125,  0.07081269,  0.0611734 ,  0.05092539,  0.04011507,\n",
       "        0.02879304,  0.01701398,  0.00483636, -0.00767773, -0.02046284,\n",
       "       -0.03345045, -0.04656925, -0.05974546, -0.07290312, -0.08596449,\n",
       "       -0.09885034, -0.11148037, -0.12377356, -0.13564856, -0.14702408,\n",
       "       -0.15781932, -0.16795431, -0.17735036, -0.18593045, -0.19361961,\n",
       "       -0.20034534, -0.20603798, -0.21063108, -0.21406177, -0.21627113,\n",
       "       -0.21720451, -0.21681184, -0.21504798, -0.21187294, -0.2072522 ,\n",
       "       -0.2011569 , -0.1935641 , -0.18445693, -0.17382478, -0.16166343,\n",
       "       -0.14797514, -0.13276873, -0.11605966, -0.09787002, -0.0782285 ,\n",
       "       -0.05717039, -0.03473745, -0.01097786,  0.01405394,  0.04029745,\n",
       "        0.06768625,  0.09614824,  0.12560592,  0.15597664,  0.18717292,\n",
       "        0.21910276,  0.25167001,  0.28477473,  0.3183136 ,  0.35218031,\n",
       "        0.386266  ,  0.42045968,  0.45464871,  0.48871927,  0.52255677,\n",
       "        0.55604641,  0.5890736 ,  0.62152446,  0.65328632,  0.68424815,\n",
       "        0.7143011 ,  0.74333891,  0.77125838,  0.79795984,  0.82334753,\n",
       "        0.84733006,  0.86982079,  0.89073821,  0.91000625,  0.9275547 ,\n",
       "        0.94331945,  0.95724276,  0.96927357,  0.97936768,  0.98748796,\n",
       "        0.99360451,  0.99769479,  0.99974371,  0.99974371,  0.99769479,\n",
       "        0.99360451,  0.98748796,  0.97936768,  0.96927357,  0.95724276,\n",
       "        0.94331945,  0.9275547 ,  0.91000625,  0.89073821,  0.86982079,\n",
       "        0.84733006,  0.82334753,  0.79795984,  0.77125838,  0.74333891,\n",
       "        0.7143011 ,  0.68424815,  0.65328632,  0.62152446,  0.5890736 ,\n",
       "        0.55604641,  0.52255677,  0.48871927,  0.45464871,  0.42045968,\n",
       "        0.386266  ,  0.35218031,  0.3183136 ,  0.28477473,  0.25167001,\n",
       "        0.21910276,  0.18717292,  0.15597664,  0.12560592,  0.09614824,\n",
       "        0.06768625,  0.04029745,  0.01405394, -0.01097786, -0.03473745,\n",
       "       -0.05717039, -0.0782285 , -0.09787002, -0.11605966, -0.13276873,\n",
       "       -0.14797514, -0.16166343, -0.17382478, -0.18445693, -0.1935641 ,\n",
       "       -0.2011569 , -0.2072522 , -0.21187294, -0.21504798, -0.21681184,\n",
       "       -0.21720451, -0.21627113, -0.21406177, -0.21063108, -0.20603798,\n",
       "       -0.20034534, -0.19361961, -0.18593045, -0.17735036, -0.16795431,\n",
       "       -0.15781932, -0.14702408, -0.13564856, -0.12377356, -0.11148037,\n",
       "       -0.09885034, -0.08596449, -0.07290312, -0.05974546, -0.04656925,\n",
       "       -0.03345045, -0.02046284, -0.00767773,  0.00483636,  0.01701398,\n",
       "        0.02879304,  0.04011507,  0.05092539,  0.0611734 ,  0.07081269,\n",
       "        0.07980125,  0.08810159,  0.09568081,  0.10251076,  0.10856804,\n",
       "        0.11383406,  0.11829503,  0.12194197,  0.12477064,  0.12678151,\n",
       "        0.12797963,  0.12837455,  0.12798018,  0.12681462,  0.12490001,\n",
       "        0.12226232,  0.11893116,  0.11493952,  0.11032357,  0.10512236,\n",
       "        0.09937761,  0.09313337,  0.08643581,  0.07933283,  0.07187388,\n",
       "        0.06410955,  0.05609135,  0.04787134,  0.03950189,  0.03103534,\n",
       "        0.02252371,  0.01401842,  0.00557001, -0.00277214, -0.01096007,\n",
       "       -0.01894748, -0.02668998, -0.03414533, -0.04127361, -0.04803743,\n",
       "       -0.05440211])"
      ]
     },
     "execution_count": 6,
     "metadata": {},
     "output_type": "execute_result"
    }
   ],
   "source": [
    "y"
   ]
  },
  {
   "cell_type": "code",
   "execution_count": 7,
   "metadata": {
    "collapsed": false,
    "jupyter": {
     "outputs_hidden": false
    },
    "slideshow": {
     "slide_type": "slide"
    }
   },
   "outputs": [
    {
     "ename": "NameError",
     "evalue": "name 'z' is not defined",
     "output_type": "error",
     "traceback": [
      "\u001b[1;31m---------------------------------------------------------------------------\u001b[0m",
      "\u001b[1;31mNameError\u001b[0m                                 Traceback (most recent call last)",
      "\u001b[1;32m<ipython-input-7-3a710d2a84f8>\u001b[0m in \u001b[0;36m<module>\u001b[1;34m\u001b[0m\n\u001b[1;32m----> 1\u001b[1;33m \u001b[0mz\u001b[0m\u001b[1;33m\u001b[0m\u001b[1;33m\u001b[0m\u001b[0m\n\u001b[0m",
      "\u001b[1;31mNameError\u001b[0m: name 'z' is not defined"
     ]
    }
   ],
   "source": [
    "z"
   ]
  },
  {
   "cell_type": "markdown",
   "metadata": {
    "slideshow": {
     "slide_type": "slide"
    }
   },
   "source": [
    "## Passing variables and arrays to functions: mutable and immutable objects\n",
    "\n",
    "What happens to a variable or an array passed to a function when the\n",
    "variable or array is *changed* within the function? \n",
    "\n",
    "The answers are different depending on whether the variable passed is a\n",
    "simple numeric variable, string, or tuple, or whether it is an array or\n",
    "list. "
   ]
  },
  {
   "cell_type": "code",
   "execution_count": 12,
   "metadata": {
    "collapsed": false,
    "jupyter": {
     "outputs_hidden": false
    },
    "slideshow": {
     "slide_type": "slide"
    }
   },
   "outputs": [
    {
     "name": "stdout",
     "output_type": "stream",
     "text": [
      "*************\n",
      "s = How do you do?\n",
      "v =  5.00\n",
      "t = (97.5, 82.9, 66.7)\n",
      "l = [3.9, 5.7, 7.5, 9.3]\n",
      "a =  [3.9 5.7 7.5 9.3]\n",
      "*************\n",
      "*************\n",
      "s1 = I am doing fine \n",
      "v1 =  9.87\n",
      "t1 = (1.1, 2.9)\n",
      "l1 = [3.9, 5.7, 7.5, 'end']\n",
      "a1 =  [963.2   5.7   7.5   9.3]\n",
      "*************\n",
      "s = How do you do? \n",
      "v =  5.00\n",
      "t = (97.5, 82.9, 66.7)\n",
      "l = [3.9, 5.7, 7.5, 'end']\n",
      "a =  [963.2   5.7   7.5   9.3]\n"
     ]
    }
   ],
   "source": [
    "import numpy as np\n",
    "def test(s, v, t, l, a):  \n",
    "    s = \"I am doing fine\" \n",
    "    v = np.pi**2 \n",
    "    t = (1.1, 2.9) \n",
    "    l[-1] = 'end'\n",
    "    a[0] = 963.2 \n",
    "    return s, v, t, l, a\n",
    "\n",
    "s = \"How do you do?\" \n",
    "v = 5.0 \n",
    "t = (97.5, 82.9, 66.7) \n",
    "l = [3.9, 5.7, 7.5, 9.3] \n",
    "a = np.array(l)\n",
    "\n",
    "print('*************') \n",
    "print(\"s = %s\" % (s)) \n",
    "print(\"v = %5.2f\" % (v)) \n",
    "print(\"t = %s\" % (str(t)))\n",
    "print(\"l = %s\" % (str(l)))\n",
    "print(\"a = \",a)\n",
    "print('*************') \n",
    "\n",
    "s1, v1, t1, l1, a1 = test(s, v, t, l, a)\n",
    "\n",
    "print('*************') \n",
    "print(\"s1 = %s \" % (s1))\n",
    "print(\"v1 = %5.2f\" % (v1)) \n",
    "print(\"t1 = %s\" % (str(t1)))\n",
    "print(\"l1 = %s\" % (str(l1))) \n",
    "print(\"a1 = \",a1)\n",
    "\n",
    "print('*************') \n",
    "print(\"s = %s \" % (s)) \n",
    "print(\"v = %5.2f\" % (v)) \n",
    "print(\"t = %s\" % (str(t))) \n",
    "print(\"l = %s\" % (str(l))) \n",
    "print(\"a = \",a)"
   ]
  },
  {
   "cell_type": "markdown",
   "metadata": {
    "slideshow": {
     "slide_type": "slide"
    }
   },
   "source": [
    "We see that the values of the\n",
    "string `s`, the numeric variable `v`, and the contents of `t` are\n",
    "unchanged after the function call. \n",
    "\n",
    "The list `l` and the array `a`\n",
    "are changed after the function call. "
   ]
  },
  {
   "cell_type": "markdown",
   "metadata": {
    "slideshow": {
     "slide_type": "slide"
    }
   },
   "source": [
    "-   Changes to string, variable, and tuple arguments of a function\n",
    "    within the function do not affect their values in the calling\n",
    "    program.\n",
    "-   Changes to values of elements in list and array arguments of a\n",
    "    function within the function are reflected in the values of the\n",
    "    same list and array elements in the calling function."
   ]
  },
  {
   "cell_type": "markdown",
   "metadata": {
    "slideshow": {
     "slide_type": "slide"
    }
   },
   "source": [
    "## Simple numerics, strings and tuples are immutable while lists and arrays are mutable. \n"
   ]
  },
  {
   "cell_type": "markdown",
   "metadata": {},
   "source": [
    "# Funny things about list and numpy array"
   ]
  },
  {
   "cell_type": "code",
   "execution_count": 2,
   "metadata": {},
   "outputs": [
    {
     "name": "stdout",
     "output_type": "stream",
     "text": [
      "[1, 2, 3, 4, 5]\n"
     ]
    }
   ],
   "source": [
    "a=[1,2,3,4,5]\n",
    "b=a\n",
    "print(b)"
   ]
  },
  {
   "cell_type": "code",
   "execution_count": 3,
   "metadata": {},
   "outputs": [
    {
     "name": "stdout",
     "output_type": "stream",
     "text": [
      "[2, 3, 4, 5]\n"
     ]
    }
   ],
   "source": [
    "del b[0]\n",
    "print(b)"
   ]
  },
  {
   "cell_type": "code",
   "execution_count": 4,
   "metadata": {},
   "outputs": [
    {
     "name": "stdout",
     "output_type": "stream",
     "text": [
      "[2, 3, 4, 5]\n"
     ]
    }
   ],
   "source": [
    "print(a)"
   ]
  },
  {
   "cell_type": "code",
   "execution_count": 5,
   "metadata": {},
   "outputs": [
    {
     "data": {
      "text/plain": [
       "array([0, 1, 2, 3, 4, 5, 6, 7, 8, 9])"
      ]
     },
     "execution_count": 5,
     "metadata": {},
     "output_type": "execute_result"
    }
   ],
   "source": [
    "import numpy as np\n",
    "a=np.arange(10)\n",
    "a"
   ]
  },
  {
   "cell_type": "code",
   "execution_count": 7,
   "metadata": {},
   "outputs": [
    {
     "data": {
      "text/plain": [
       "array([0, 1, 2, 3, 4, 5, 6, 7, 8, 9])"
      ]
     },
     "execution_count": 7,
     "metadata": {},
     "output_type": "execute_result"
    }
   ],
   "source": [
    "b=a\n",
    "b"
   ]
  },
  {
   "cell_type": "code",
   "execution_count": 8,
   "metadata": {},
   "outputs": [],
   "source": [
    "b[0]=10"
   ]
  },
  {
   "cell_type": "code",
   "execution_count": 9,
   "metadata": {},
   "outputs": [
    {
     "data": {
      "text/plain": [
       "array([10,  1,  2,  3,  4,  5,  6,  7,  8,  9])"
      ]
     },
     "execution_count": 9,
     "metadata": {},
     "output_type": "execute_result"
    }
   ],
   "source": [
    "b"
   ]
  },
  {
   "cell_type": "code",
   "execution_count": 10,
   "metadata": {},
   "outputs": [
    {
     "data": {
      "text/plain": [
       "array([10,  1,  2,  3,  4,  5,  6,  7,  8,  9])"
      ]
     },
     "execution_count": 10,
     "metadata": {},
     "output_type": "execute_result"
    }
   ],
   "source": [
    "a"
   ]
  },
  {
   "cell_type": "markdown",
   "metadata": {},
   "source": [
    "* To make a copy of a list and a numpy array, we need to use the copy() function. Otherwise, 'b=a' only gives an other name for the same list/array. Each time you modify the elements of variable b or a will change the content of the variable."
   ]
  },
  {
   "cell_type": "code",
   "execution_count": 11,
   "metadata": {},
   "outputs": [
    {
     "name": "stdout",
     "output_type": "stream",
     "text": [
      "[1, 2, 3, 4, 5]\n",
      "[2, 3, 4, 5]\n"
     ]
    }
   ],
   "source": [
    "a=[1,2,3,4,5]\n",
    "b=a.copy()\n",
    "del b[0]\n",
    "print(a)\n",
    "print(b)"
   ]
  },
  {
   "cell_type": "markdown",
   "metadata": {},
   "source": [
    "* This does not apply to tuple, since tuple is immutable."
   ]
  },
  {
   "cell_type": "code",
   "execution_count": 12,
   "metadata": {},
   "outputs": [
    {
     "data": {
      "text/plain": [
       "(1, 2, 3, 4, 5, 6)"
      ]
     },
     "execution_count": 12,
     "metadata": {},
     "output_type": "execute_result"
    }
   ],
   "source": [
    "a=(1,2,3,4,5,6)\n",
    "a"
   ]
  },
  {
   "cell_type": "code",
   "execution_count": 13,
   "metadata": {},
   "outputs": [
    {
     "ename": "TypeError",
     "evalue": "'tuple' object does not support item assignment",
     "output_type": "error",
     "traceback": [
      "\u001b[0;31m---------------------------------------------------------------------------\u001b[0m",
      "\u001b[0;31mTypeError\u001b[0m                                 Traceback (most recent call last)",
      "\u001b[0;32m<ipython-input-13-cf85e6443d6f>\u001b[0m in \u001b[0;36m<module>\u001b[0;34m()\u001b[0m\n\u001b[1;32m      1\u001b[0m \u001b[0mb\u001b[0m\u001b[0;34m=\u001b[0m\u001b[0ma\u001b[0m\u001b[0;34m\u001b[0m\u001b[0;34m\u001b[0m\u001b[0m\n\u001b[0;32m----> 2\u001b[0;31m \u001b[0mb\u001b[0m\u001b[0;34m[\u001b[0m\u001b[0;36m0\u001b[0m\u001b[0;34m]\u001b[0m\u001b[0;34m=\u001b[0m\u001b[0;36m10\u001b[0m\u001b[0;34m\u001b[0m\u001b[0;34m\u001b[0m\u001b[0m\n\u001b[0m",
      "\u001b[0;31mTypeError\u001b[0m: 'tuple' object does not support item assignment"
     ]
    }
   ],
   "source": [
    "b=a\n",
    "b[0]=10"
   ]
  },
  {
   "cell_type": "markdown",
   "metadata": {
    "slideshow": {
     "slide_type": "slide"
    }
   },
   "source": [
    "## Anonymous functions (lambda)\n",
    "\n",
    "A lambda expression is a kind of in-line function that can\n",
    "be generated on the fly to accomplish some small task. \n",
    "\n",
    "You can assign\n",
    "lambda functions a name, but you don't need to; hence, they are often\n",
    "called *anonymous* functions. "
   ]
  },
  {
   "cell_type": "markdown",
   "metadata": {
    "slideshow": {
     "slide_type": "slide"
    }
   },
   "source": [
    "A lambda uses the keyword `lambda` and has\n",
    "the general form:\n",
    "\n",
    "\n",
    "```python\n",
    "lambda arg1, arg2, ... : output\n",
    "```\n",
    "\n",
    "The arguments `arg1, arg2, ...` are inputs to a lambda, just as for a\n",
    "functions, and the output is an expression using the arguments."
   ]
  },
  {
   "cell_type": "markdown",
   "metadata": {
    "slideshow": {
     "slide_type": "slide"
    }
   },
   "source": [
    "While lambda expressions need not be named, we illustrate their use by\n",
    "comparing a conventional Python function definition to a lambda\n",
    "expression to which we give a name. "
   ]
  },
  {
   "cell_type": "code",
   "execution_count": 13,
   "metadata": {
    "collapsed": false,
    "jupyter": {
     "outputs_hidden": false
    },
    "slideshow": {
     "slide_type": "slide"
    }
   },
   "outputs": [],
   "source": [
    "def f(a, b):  \n",
    "    return 3*a + b**2"
   ]
  },
  {
   "cell_type": "code",
   "execution_count": 14,
   "metadata": {
    "collapsed": false,
    "jupyter": {
     "outputs_hidden": false
    },
    "slideshow": {
     "slide_type": "fragment"
    }
   },
   "outputs": [
    {
     "data": {
      "text/plain": [
       "15"
      ]
     },
     "execution_count": 14,
     "metadata": {},
     "output_type": "execute_result"
    }
   ],
   "source": [
    "f(2,3)"
   ]
  },
  {
   "cell_type": "markdown",
   "metadata": {
    "slideshow": {
     "slide_type": "slide"
    }
   },
   "source": [
    "Next, we define a lambda that does the same thing"
   ]
  },
  {
   "cell_type": "code",
   "execution_count": 15,
   "metadata": {
    "collapsed": false,
    "jupyter": {
     "outputs_hidden": false
    },
    "slideshow": {
     "slide_type": "fragment"
    }
   },
   "outputs": [],
   "source": [
    "g = lambda a, b: 3 * a + b**2 "
   ]
  },
  {
   "cell_type": "code",
   "execution_count": 16,
   "metadata": {
    "collapsed": false,
    "jupyter": {
     "outputs_hidden": false
    },
    "slideshow": {
     "slide_type": "fragment"
    }
   },
   "outputs": [
    {
     "data": {
      "text/plain": [
       "15"
      ]
     },
     "execution_count": 16,
     "metadata": {},
     "output_type": "execute_result"
    }
   ],
   "source": [
    "g(2,3)"
   ]
  },
  {
   "cell_type": "markdown",
   "metadata": {},
   "source": [
    "# [Exercise 09](./EX09-function.ipynb)"
   ]
  },
  {
   "cell_type": "markdown",
   "metadata": {},
   "source": [
    "# [Exercise 10](./EX10-sorting-algorithm.ipynb)"
   ]
  },
  {
   "cell_type": "code",
   "execution_count": null,
   "metadata": {},
   "outputs": [],
   "source": []
  }
 ],
 "metadata": {
  "celltoolbar": "Slideshow",
  "kernelspec": {
   "display_name": "Python 3",
   "language": "python",
   "name": "python3"
  },
  "language_info": {
   "codemirror_mode": {
    "name": "ipython",
    "version": 3
   },
   "file_extension": ".py",
   "mimetype": "text/x-python",
   "name": "python",
   "nbconvert_exporter": "python",
   "pygments_lexer": "ipython3",
   "version": "3.7.4"
  }
 },
 "nbformat": 4,
 "nbformat_minor": 4
}
