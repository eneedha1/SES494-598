{
 "cells": [
  {
   "cell_type": "markdown",
   "metadata": {},
   "source": [
    "# Exercise 07"
   ]
  },
  {
   "cell_type": "markdown",
   "metadata": {},
   "source": [
    "* In this exercies, we will use what we have learned about Python to process real data in our real life.\n",
    "* The data is \"./data/earthquake.csv\"\n",
    "* This data is download from https://www.iris.edu/hq/, and is an earthquake catalogue.\n",
    "* The data contain not only numbers, but strings. In addition, the strings have different format, which makes the problem a bit more complex. It is the true life.\n",
    "* Let's work on it together as a group."
   ]
  },
  {
   "cell_type": "code",
   "execution_count": 73,
   "metadata": {},
   "outputs": [],
   "source": [
    "import numpy as np\n",
    "fp=open(\"./data/earthquake.csv\",\"r\")\n",
    "lines=fp.readlines()\n",
    "fp.close()\n",
    "\n",
    "year=[];month=[];day=[];time=[];mag=[];lon=[];lat=[];depth=[];region=[];\n",
    "for line in lines[1:]:\n",
    "    if \"\\\"\" in line:\n",
    "        temp=line.split(\",\")\n",
    "        year.append(temp[0]);month.append(temp[1])\n",
    "        day.append(temp[2]);time.append(temp[3])\n",
    "        mag.append(temp[4]);lon.append(temp[5])\n",
    "        lat.append(temp[6]);depth.append(temp[7])\n",
    "        region.append(temp[8]+\",\"+temp[9])\n",
    "    else:\n",
    "        temp=line.split(\",\")\n",
    "        year.append(temp[0]);month.append(temp[1])\n",
    "        day.append(temp[2]);time.append(temp[3])\n",
    "        mag.append(temp[4]);lon.append(temp[5])\n",
    "        lat.append(temp[6]);depth.append(temp[7])\n",
    "        region.append(temp[8])"
   ]
  },
  {
   "cell_type": "code",
   "execution_count": 76,
   "metadata": {},
   "outputs": [
    {
     "data": {
      "text/plain": [
       "'CENTRAL ALASKA'"
      ]
     },
     "execution_count": 76,
     "metadata": {},
     "output_type": "execute_result"
    }
   ],
   "source": [
    "region[15]"
   ]
  },
  {
   "cell_type": "code",
   "execution_count": null,
   "metadata": {},
   "outputs": [],
   "source": []
  }
 ],
 "metadata": {
  "kernelspec": {
   "display_name": "Python 3",
   "language": "python",
   "name": "python3"
  },
  "language_info": {
   "codemirror_mode": {
    "name": "ipython",
    "version": 3
   },
   "file_extension": ".py",
   "mimetype": "text/x-python",
   "name": "python",
   "nbconvert_exporter": "python",
   "pygments_lexer": "ipython3",
   "version": "3.8.3"
  }
 },
 "nbformat": 4,
 "nbformat_minor": 4
}
