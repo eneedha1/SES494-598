{
 "cells": [
  {
   "cell_type": "markdown",
   "metadata": {
    "slideshow": {
     "slide_type": "slide"
    }
   },
   "source": [
    "## Exercise 05\n",
    "\n",
    "__1.__ Plot the function $y=3x^2$ for $-1 \\le x \\le 3$ as a continuous line. Include enough points so that the curve you plot appears smooth. Label the axes $x$ and $y$."
   ]
  },
  {
   "cell_type": "code",
   "execution_count": 3,
   "metadata": {
    "collapsed": false,
    "jupyter": {
     "outputs_hidden": false
    },
    "slideshow": {
     "slide_type": "slide"
    }
   },
   "outputs": [],
   "source": [
    "import numpy as np\n",
    "import matplotlib.pyplot as plt\n",
    "%matplotlib inline"
   ]
  },
  {
   "cell_type": "code",
   "execution_count": null,
   "metadata": {
    "collapsed": false,
    "jupyter": {
     "outputs_hidden": false
    },
    "slideshow": {
     "slide_type": "fragment"
    }
   },
   "outputs": [],
   "source": []
  },
  {
   "cell_type": "markdown",
   "metadata": {
    "slideshow": {
     "slide_type": "slide"
    }
   },
   "source": [
    "__2.__ Plot the following function for $-15 \\le x \\le 15$ :\n",
    "\n",
    "$$y = \\frac{\\cos x}{1+\\frac{1}{5}x^2}$$\n",
    "\n",
    "Include enough points so that the curve you plot appears smooth. Label the axes $x$ and $y$."
   ]
  },
  {
   "cell_type": "code",
   "execution_count": null,
   "metadata": {
    "collapsed": false,
    "jupyter": {
     "outputs_hidden": false
    },
    "slideshow": {
     "slide_type": "slide"
    }
   },
   "outputs": [],
   "source": []
  },
  {
   "cell_type": "markdown",
   "metadata": {
    "slideshow": {
     "slide_type": "slide"
    }
   },
   "source": [
    "__3.__ Plot the functions $\\sin x$ and $\\cos x$ *vs* $x$ on the same plot with $x$ going from $-\\pi$ to $\\pi$. Make sure the limits of $x$-axis do not extend beyond the limits of the data. Plot $\\sin x$ in the color green and $\\cos x$ in the color black and include a legend to label the two curves. Place the legend within the plot, but such that it does not cover either of the sine or cosine traces."
   ]
  },
  {
   "cell_type": "code",
   "execution_count": null,
   "metadata": {
    "collapsed": false,
    "jupyter": {
     "outputs_hidden": false
    },
    "slideshow": {
     "slide_type": "slide"
    }
   },
   "outputs": [],
   "source": []
  },
  {
   "cell_type": "markdown",
   "metadata": {
    "slideshow": {
     "slide_type": "slide"
    }
   },
   "source": [
    "__4. (a)__ Read the data in `./data/ex4_data.txt` into Python and plot $t$ *vs* $y$ using circles for data points with error bars. Use the data in the `dy` column as the error estimates for the $y$ data. Label the horizontal and vertical axes \"time (s)\" and \"position (cm)\".\n"
   ]
  },
  {
   "cell_type": "code",
   "execution_count": 6,
   "metadata": {
    "collapsed": false,
    "jupyter": {
     "outputs_hidden": false
    },
    "slideshow": {
     "slide_type": "slide"
    }
   },
   "outputs": [
    {
     "data": {
      "text/plain": [
       "Data for Exercise 4\n",
       "Date: 16-Aug-2013\n",
       "Data taken by Lauren and John\n",
       "\n",
       " t      d       dy\n",
       " 1.0    2.94    0.7\n",
       " 4.5    8.29    1.2\n",
       " 8.0    9.36    1.2\n",
       "11.5   11.60    1.4\n",
       "15.0    9.32    1.3\n",
       "18.5    7.75    1.1\n",
       "22.0    8.06    1.2\n",
       "25.5    5.60    1.0\n",
       "29.0    4.50    0.8\n",
       "32.5    4.01    0.8\n",
       "36.0    2.62    0.7\n",
       "39.5    1.70    0.6\n",
       "43.0    2.03    0.6"
      ]
     },
     "metadata": {},
     "output_type": "display_data"
    }
   ],
   "source": [
    "%less ./data/ex4_data.txt"
   ]
  },
  {
   "cell_type": "code",
   "execution_count": null,
   "metadata": {
    "collapsed": false,
    "jupyter": {
     "outputs_hidden": false
    },
    "slideshow": {
     "slide_type": "slide"
    }
   },
   "outputs": [],
   "source": []
  },
  {
   "cell_type": "code",
   "execution_count": null,
   "metadata": {
    "collapsed": false,
    "jupyter": {
     "outputs_hidden": false
    },
    "slideshow": {
     "slide_type": "slide"
    }
   },
   "outputs": [],
   "source": []
  },
  {
   "cell_type": "markdown",
   "metadata": {
    "slideshow": {
     "slide_type": "slide"
    }
   },
   "source": [
    "\n",
    "__(b)__ On the same graph, plot the function below as a smooth line. Make the line pass *behind* the data points.\n",
    "\n",
    "$$y(t) = \\left[3 + \n",
    "               \\frac{1}{2}\\sin\\frac{\\pi t}{5}\\right]\n",
    "               t\\, e^{-t/10}$$\n",
    "              "
   ]
  },
  {
   "cell_type": "code",
   "execution_count": null,
   "metadata": {
    "collapsed": false,
    "jupyter": {
     "outputs_hidden": false
    },
    "slideshow": {
     "slide_type": "slide"
    }
   },
   "outputs": [],
   "source": []
  },
  {
   "cell_type": "markdown",
   "metadata": {
    "slideshow": {
     "slide_type": "slide"
    }
   },
   "source": [
    "__5.__ The './data/ex7_data.txt' contains dataset for the displacement (position) *vs* time of a falling object, together with the estimated uncertainty in the displacement.\n"
   ]
  },
  {
   "cell_type": "code",
   "execution_count": 7,
   "metadata": {
    "collapsed": false,
    "jupyter": {
     "outputs_hidden": false
    },
    "slideshow": {
     "slide_type": "slide"
    }
   },
   "outputs": [
    {
     "data": {
      "text/plain": [
       "Measurements of fall velocity vs time\n",
       "Taken by A.P. Crawford and S.M. Torres\n",
       "19-Sep-13        \n",
       "time (s)    position (m)    uncertainty (m)\n",
       " 0.0            0.0             0.04\n",
       " 0.5            1.3             0.12\n",
       " 1.0            5.1             0.2\n",
       " 1.5           10.9             0.3\n",
       " 2.0           18.9             0.4\n",
       " 2.5           28.7             0.4\n",
       " 3.0           40.3             0.5\n",
       " 3.5           53.1             0.6\n",
       " 4.0           67.5             0.6\n",
       " 4.5           82.3             0.6\n",
       " 5.0           97.6             0.7\n",
       " 5.5          113.8             0.7\n",
       " 6.0          131.2             0.7\n",
       " 6.5          148.5             0.7\n",
       " 7.0          166.2             0.7\n",
       " 7.5          184.2             0.7\n",
       " 8.0          201.6             0.7\n",
       " 8.5          220.1             0.7\n",
       " 9.0          238.3             0.7\n",
       " 9.5          256.5             0.7\n",
       "10.0          275.6             0.8"
      ]
     },
     "metadata": {},
     "output_type": "display_data"
    }
   ],
   "source": [
    "%less ./data/ex7_data.txt"
   ]
  },
  {
   "cell_type": "markdown",
   "metadata": {
    "slideshow": {
     "slide_type": "slide"
    }
   },
   "source": [
    "__(a)__ Use these data to calculate the velocity and acceleration. Be sure to calculate time arrays corresponding the midpoint in time between the two displacements or velocities for the velocity and acceleration arrays, respectively."
   ]
  },
  {
   "cell_type": "code",
   "execution_count": null,
   "metadata": {
    "collapsed": false,
    "jupyter": {
     "outputs_hidden": false
    },
    "slideshow": {
     "slide_type": "slide"
    }
   },
   "outputs": [],
   "source": []
  },
  {
   "cell_type": "code",
   "execution_count": null,
   "metadata": {
    "collapsed": false,
    "jupyter": {
     "outputs_hidden": false
    },
    "slideshow": {
     "slide_type": "fragment"
    }
   },
   "outputs": [],
   "source": []
  },
  {
   "cell_type": "code",
   "execution_count": null,
   "metadata": {
    "collapsed": false,
    "jupyter": {
     "outputs_hidden": false
    },
    "slideshow": {
     "slide_type": "fragment"
    }
   },
   "outputs": [],
   "source": []
  },
  {
   "cell_type": "markdown",
   "metadata": {
    "slideshow": {
     "slide_type": "slide"
    }
   },
   "source": [
    "__(b)__ In a single window frame, make three vertically stacked plots of the displacement, velocity, and acceleration *vs* time.  "
   ]
  },
  {
   "cell_type": "code",
   "execution_count": null,
   "metadata": {
    "collapsed": false,
    "jupyter": {
     "outputs_hidden": false
    },
    "slideshow": {
     "slide_type": "slide"
    }
   },
   "outputs": [],
   "source": [
    "\n",
    "\n",
    "\n"
   ]
  },
  {
   "cell_type": "code",
   "execution_count": null,
   "metadata": {},
   "outputs": [],
   "source": []
  }
 ],
 "metadata": {
  "celltoolbar": "Slideshow",
  "kernelspec": {
   "display_name": "Python 3",
   "language": "python",
   "name": "python3"
  },
  "language_info": {
   "codemirror_mode": {
    "name": "ipython",
    "version": 3
   },
   "file_extension": ".py",
   "mimetype": "text/x-python",
   "name": "python",
   "nbconvert_exporter": "python",
   "pygments_lexer": "ipython3",
   "version": "3.7.4"
  }
 },
 "nbformat": 4,
 "nbformat_minor": 4
}
