{
 "cells": [
  {
   "cell_type": "markdown",
   "metadata": {
    "slideshow": {
     "slide_type": "slide"
    }
   },
   "source": [
    "# Functions"
   ]
  },
  {
   "cell_type": "markdown",
   "metadata": {
    "slideshow": {
     "slide_type": "slide"
    }
   },
   "source": [
    "As you develop more complex computer code, it becomes increasingly\n",
    "important to organize your code into modular blocks. \n",
    "\n",
    "User-defined functions\n",
    "are a lot like built-in functions that we have encountered in core\n",
    "Python as well as in NumPy and Matplotlib. The main difference is that\n",
    "user-defined functions are written by you. The idea is to define\n",
    "functions to simplify your code and to allow you to reuse the same code\n",
    "in different contexts."
   ]
  },
  {
   "cell_type": "markdown",
   "metadata": {
    "slideshow": {
     "slide_type": "slide"
    }
   },
   "source": [
    "## User-defined functions\n",
    "\n",
    "The NumPy package contains a lot of mathematical functions. \n",
    "However, you may nevertheless find that you\n",
    "need a function that is not available in the NumPy Python library. In\n",
    "those cases, you will want to write your own function."
   ]
  },
  {
   "cell_type": "markdown",
   "metadata": {
    "slideshow": {
     "slide_type": "slide"
    }
   },
   "source": [
    "In studies of optics and signal processing one often runs into the sinc\n",
    "function, which is defined as\n",
    "\n",
    "$$\\mathrm{sinc}\\,x \\equiv \\frac{\\sin x}{x} \\;.$$\n",
    "\n",
    "Let's write a Python function for the sinc function. Here is our first\n",
    "attempt:"
   ]
  },
  {
   "cell_type": "code",
   "execution_count": 15,
   "metadata": {
    "collapsed": false,
    "jupyter": {
     "outputs_hidden": false
    },
    "slideshow": {
     "slide_type": "slide"
    }
   },
   "outputs": [],
   "source": [
    "import numpy as np\n",
    "def sinc(x): \n",
    "    y = np.sin(x)/x \n",
    "    return y"
   ]
  },
  {
   "cell_type": "markdown",
   "metadata": {
    "slideshow": {
     "slide_type": "slide"
    }
   },
   "source": [
    "Every function definition begins with the word `def` followed by the\n",
    "name you want to give to the function, `sinc` in this case, then a list\n",
    "of arguments enclosed in parentheses, and finally terminated with a\n",
    "colon. \n",
    "\n",
    "In this case there is only one argument, `x`, but in general\n",
    "there can be as many arguments as you want, including no arguments at\n",
    "all. "
   ]
  },
  {
   "cell_type": "markdown",
   "metadata": {
    "slideshow": {
     "slide_type": "slide"
    }
   },
   "source": [
    "The indented block of code following the first line defines what the\n",
    "function does. In this case, the first line calculates\n",
    "$\\mathrm{sinc}\\,x = \\sin x/x$ and sets it equal to `y`. The `return`\n",
    "statement of the last line tells Python to return the value of `y` to\n",
    "the user."
   ]
  },
  {
   "cell_type": "code",
   "execution_count": 16,
   "metadata": {
    "collapsed": false,
    "jupyter": {
     "outputs_hidden": false
    },
    "slideshow": {
     "slide_type": "slide"
    }
   },
   "outputs": [
    {
     "data": {
      "text/plain": [
       "-0.18920062382698205"
      ]
     },
     "execution_count": 16,
     "metadata": {},
     "output_type": "execute_result"
    }
   ],
   "source": [
    "\n",
    "sinc(4)"
   ]
  },
  {
   "cell_type": "code",
   "execution_count": 17,
   "metadata": {
    "collapsed": false,
    "jupyter": {
     "outputs_hidden": false
    },
    "slideshow": {
     "slide_type": "fragment"
    }
   },
   "outputs": [],
   "source": [
    "a = sinc(1.2)"
   ]
  },
  {
   "cell_type": "code",
   "execution_count": 18,
   "metadata": {
    "collapsed": false,
    "jupyter": {
     "outputs_hidden": false
    },
    "slideshow": {
     "slide_type": "fragment"
    }
   },
   "outputs": [
    {
     "data": {
      "text/plain": [
       "0.7766992383060219"
      ]
     },
     "execution_count": 18,
     "metadata": {},
     "output_type": "execute_result"
    }
   ],
   "source": [
    "a"
   ]
  },
  {
   "cell_type": "code",
   "execution_count": 19,
   "metadata": {
    "collapsed": false,
    "jupyter": {
     "outputs_hidden": false
    },
    "slideshow": {
     "slide_type": "fragment"
    }
   },
   "outputs": [
    {
     "data": {
      "text/plain": [
       "0.7766992383060219"
      ]
     },
     "execution_count": 19,
     "metadata": {},
     "output_type": "execute_result"
    }
   ],
   "source": [
    "np.sin(1.2)/1.2 "
   ]
  },
  {
   "cell_type": "code",
   "execution_count": 23,
   "metadata": {
    "collapsed": false,
    "jupyter": {
     "outputs_hidden": false
    },
    "slideshow": {
     "slide_type": "fragment"
    }
   },
   "outputs": [
    {
     "data": {
      "text/plain": [
       "array([0.84147098, 0.45464871])"
      ]
     },
     "execution_count": 23,
     "metadata": {},
     "output_type": "execute_result"
    }
   ],
   "source": [
    "x=np.array([1,2]) # x is an array with 2 numbers\n",
    "sinc(x)"
   ]
  },
  {
   "cell_type": "markdown",
   "metadata": {
    "slideshow": {
     "slide_type": "slide"
    }
   },
   "source": [
    "Inputs and outputs 4 and 5 verify that the function does indeed give the\n",
    "same result as an explicit calculation of $\\sin x/x$.\n",
    "\n",
    "You may have noticed that there is a problem with our definition of\n",
    "$\\mathrm{sinc}\\,x$ when `x=0.0`. Let's try it out and see what happens"
   ]
  },
  {
   "cell_type": "code",
   "execution_count": 24,
   "metadata": {
    "collapsed": false,
    "jupyter": {
     "outputs_hidden": false
    },
    "slideshow": {
     "slide_type": "fragment"
    }
   },
   "outputs": [
    {
     "name": "stderr",
     "output_type": "stream",
     "text": [
      "<ipython-input-15-48f1e287303f>:3: RuntimeWarning: invalid value encountered in double_scalars\n",
      "  y = np.sin(x)/x\n"
     ]
    },
    {
     "data": {
      "text/plain": [
       "nan"
      ]
     },
     "execution_count": 24,
     "metadata": {},
     "output_type": "execute_result"
    }
   ],
   "source": [
    "sinc(0.0)"
   ]
  },
  {
   "cell_type": "markdown",
   "metadata": {
    "slideshow": {
     "slide_type": "slide"
    }
   },
   "source": [
    "IPython returns `nan` or \"not a number\", which occurs when Python\n",
    "attempts a division by zero, which is not defined. This is not the\n",
    "desired response as $\\mathrm{sinc}\\,x$ is, in fact, perfectly well\n",
    "defined for $x=0$. "
   ]
  },
  {
   "cell_type": "markdown",
   "metadata": {
    "slideshow": {
     "slide_type": "slide"
    }
   },
   "source": [
    "You can verify this using L'Hopital's rule, which you\n",
    "may have learned in your study of calculus, or you can ascertain the\n",
    "correct answer by calculating the Taylor series for $\\mathrm{sinc}\\,x$.\n",
    "Here is what we get\n",
    "\n",
    "$$\\mathrm{sinc}\\,x = \\frac{\\sin x}{x} \n",
    "                = \\frac{x - \\frac{x^3}{3!} + \\frac{x^5}{5!} + ...}{x} \n",
    "                = 1 - \\frac{x^2}{3!} + \\frac{x^4}{5!} + ... \\;.$$\n",
    "\n",
    "$\\mathrm{sinc}\\,x$ is well-defined at and near $x=0$ and that $\\mathrm{sinc}(0)=1$."
   ]
  },
  {
   "cell_type": "markdown",
   "metadata": {
    "slideshow": {
     "slide_type": "slide"
    }
   },
   "source": [
    "Let's modify our function so that it gives the correct value for `x=0`."
   ]
  },
  {
   "cell_type": "code",
   "execution_count": 34,
   "metadata": {
    "collapsed": false,
    "jupyter": {
     "outputs_hidden": false
    },
    "slideshow": {
     "slide_type": "fragment"
    }
   },
   "outputs": [],
   "source": [
    "def sinc(x):  \n",
    "    if np.abs(x)<1e-10:\n",
    "        y = 1.0\n",
    "    else:\n",
    "        y = np.sin(x)/x\n",
    "    return y"
   ]
  },
  {
   "cell_type": "code",
   "execution_count": 35,
   "metadata": {
    "collapsed": false,
    "jupyter": {
     "outputs_hidden": false
    },
    "slideshow": {
     "slide_type": "slide"
    }
   },
   "outputs": [
    {
     "data": {
      "text/plain": [
       "1.0"
      ]
     },
     "execution_count": 35,
     "metadata": {},
     "output_type": "execute_result"
    }
   ],
   "source": [
    "sinc(0)"
   ]
  },
  {
   "cell_type": "code",
   "execution_count": 36,
   "metadata": {
    "collapsed": false,
    "jupyter": {
     "outputs_hidden": false
    },
    "slideshow": {
     "slide_type": "fragment"
    }
   },
   "outputs": [
    {
     "data": {
      "text/plain": [
       "0.7766992383060219"
      ]
     },
     "execution_count": 36,
     "metadata": {},
     "output_type": "execute_result"
    }
   ],
   "source": [
    "sinc(1.2)"
   ]
  },
  {
   "cell_type": "markdown",
   "metadata": {
    "slideshow": {
     "slide_type": "slide"
    }
   },
   "source": [
    "### Looping over arrays in user-defined functions\n",
    "\n",
    "The code for $\\mathrm{sinc}\\,x$ works just fine when the argument is a\n",
    "single number or a variable that represents a single number. However, if\n",
    "the argument is a NumPy array, we run into a problem, as illustrated\n",
    "below."
   ]
  },
  {
   "cell_type": "code",
   "execution_count": 37,
   "metadata": {
    "collapsed": false,
    "jupyter": {
     "outputs_hidden": false
    },
    "slideshow": {
     "slide_type": "slide"
    }
   },
   "outputs": [],
   "source": [
    "x = np.arange(0, 5., 0.5)"
   ]
  },
  {
   "cell_type": "code",
   "execution_count": 38,
   "metadata": {
    "collapsed": false,
    "jupyter": {
     "outputs_hidden": false
    },
    "slideshow": {
     "slide_type": "fragment"
    }
   },
   "outputs": [
    {
     "data": {
      "text/plain": [
       "array([0. , 0.5, 1. , 1.5, 2. , 2.5, 3. , 3.5, 4. , 4.5])"
      ]
     },
     "execution_count": 38,
     "metadata": {},
     "output_type": "execute_result"
    }
   ],
   "source": [
    "x"
   ]
  },
  {
   "cell_type": "code",
   "execution_count": 39,
   "metadata": {
    "collapsed": false,
    "jupyter": {
     "outputs_hidden": false
    },
    "slideshow": {
     "slide_type": "fragment"
    }
   },
   "outputs": [
    {
     "ename": "ValueError",
     "evalue": "The truth value of an array with more than one element is ambiguous. Use a.any() or a.all()",
     "output_type": "error",
     "traceback": [
      "\u001b[0;31m---------------------------------------------------------------------------\u001b[0m",
      "\u001b[0;31mValueError\u001b[0m                                Traceback (most recent call last)",
      "\u001b[0;32m<ipython-input-39-e7d88dd4fb38>\u001b[0m in \u001b[0;36m<module>\u001b[0;34m\u001b[0m\n\u001b[0;32m----> 1\u001b[0;31m \u001b[0msinc\u001b[0m\u001b[0;34m(\u001b[0m\u001b[0mx\u001b[0m\u001b[0;34m)\u001b[0m\u001b[0;34m\u001b[0m\u001b[0;34m\u001b[0m\u001b[0m\n\u001b[0m",
      "\u001b[0;32m<ipython-input-34-205d17a7d168>\u001b[0m in \u001b[0;36msinc\u001b[0;34m(x)\u001b[0m\n\u001b[1;32m      1\u001b[0m \u001b[0;32mdef\u001b[0m \u001b[0msinc\u001b[0m\u001b[0;34m(\u001b[0m\u001b[0mx\u001b[0m\u001b[0;34m)\u001b[0m\u001b[0;34m:\u001b[0m\u001b[0;34m\u001b[0m\u001b[0;34m\u001b[0m\u001b[0m\n\u001b[0;32m----> 2\u001b[0;31m     \u001b[0;32mif\u001b[0m \u001b[0mnp\u001b[0m\u001b[0;34m.\u001b[0m\u001b[0mabs\u001b[0m\u001b[0;34m(\u001b[0m\u001b[0mx\u001b[0m\u001b[0;34m)\u001b[0m\u001b[0;34m<\u001b[0m\u001b[0;36m1e-10\u001b[0m\u001b[0;34m:\u001b[0m\u001b[0;34m\u001b[0m\u001b[0;34m\u001b[0m\u001b[0m\n\u001b[0m\u001b[1;32m      3\u001b[0m         \u001b[0my\u001b[0m \u001b[0;34m=\u001b[0m \u001b[0;36m1.0\u001b[0m\u001b[0;34m\u001b[0m\u001b[0;34m\u001b[0m\u001b[0m\n\u001b[1;32m      4\u001b[0m     \u001b[0;32melse\u001b[0m\u001b[0;34m:\u001b[0m\u001b[0;34m\u001b[0m\u001b[0;34m\u001b[0m\u001b[0m\n\u001b[1;32m      5\u001b[0m         \u001b[0my\u001b[0m \u001b[0;34m=\u001b[0m \u001b[0mnp\u001b[0m\u001b[0;34m.\u001b[0m\u001b[0msin\u001b[0m\u001b[0;34m(\u001b[0m\u001b[0mx\u001b[0m\u001b[0;34m)\u001b[0m\u001b[0;34m/\u001b[0m\u001b[0mx\u001b[0m\u001b[0;34m\u001b[0m\u001b[0;34m\u001b[0m\u001b[0m\n",
      "\u001b[0;31mValueError\u001b[0m: The truth value of an array with more than one element is ambiguous. Use a.any() or a.all()"
     ]
    }
   ],
   "source": [
    "sinc(x)"
   ]
  },
  {
   "cell_type": "markdown",
   "metadata": {
    "slideshow": {
     "slide_type": "slide"
    }
   },
   "source": [
    "The `if` statement in Python is set up to evaluate the truth value of a\n",
    "single variable, not of multi-element arrays. \n",
    "\n",
    "An obvious way to handle this problem is to write the code so that it\n",
    "processes the array one element at a time, which you could do using a\n",
    "`for` loop."
   ]
  },
  {
   "cell_type": "code",
   "execution_count": 69,
   "metadata": {
    "collapsed": false,
    "jupyter": {
     "outputs_hidden": false
    },
    "slideshow": {
     "slide_type": "slide"
    }
   },
   "outputs": [],
   "source": [
    "def sinc(x):  \n",
    "    y = [] # creates an empty list to store results \n",
    "    for xx in x: # loops over all elements in x array \n",
    "        if xx == 0.0: # adds result of 1.0 to y list if \n",
    "            y = y + [1.0] # xx is zero \n",
    "        else: # adds result of sin(xx)/xx to y list if \n",
    "            y = y + [np.sin(xx)/xx] # xx is not zero \n",
    "    return np.array(y) #converts y to array and returns array"
   ]
  },
  {
   "cell_type": "code",
   "execution_count": 70,
   "metadata": {},
   "outputs": [
    {
     "data": {
      "text/plain": [
       "array([-10,  -9,  -8,  -7,  -6,  -5,  -4,  -3,  -2,  -1,   0,   1,   2,\n",
       "         3,   4,   5,   6,   7,   8,   9,  10])"
      ]
     },
     "execution_count": 70,
     "metadata": {},
     "output_type": "execute_result"
    }
   ],
   "source": [
    "a=np.arange(-10,11,1)\n",
    "a"
   ]
  },
  {
   "cell_type": "code",
   "execution_count": 71,
   "metadata": {},
   "outputs": [
    {
     "name": "stdout",
     "output_type": "stream",
     "text": [
      "-10\n",
      "-9\n",
      "-8\n",
      "-7\n",
      "-6\n",
      "-5\n",
      "-4\n",
      "-3\n",
      "-2\n",
      "-1\n",
      "0\n",
      "1\n",
      "2\n",
      "3\n",
      "4\n",
      "5\n",
      "6\n",
      "7\n",
      "8\n",
      "9\n",
      "10\n"
     ]
    }
   ],
   "source": [
    "for i in a:\n",
    "    print(i)"
   ]
  },
  {
   "cell_type": "code",
   "execution_count": 59,
   "metadata": {},
   "outputs": [
    {
     "name": "stdout",
     "output_type": "stream",
     "text": [
      "0 -10\n",
      "1 -9\n",
      "2 -8\n",
      "3 -7\n",
      "4 -6\n",
      "5 -5\n",
      "6 -4\n",
      "7 -3\n",
      "8 -2\n",
      "9 -1\n",
      "10 0\n",
      "11 1\n",
      "12 2\n",
      "13 3\n",
      "14 4\n",
      "15 5\n",
      "16 6\n",
      "17 7\n",
      "18 8\n",
      "19 9\n",
      "20 10\n"
     ]
    }
   ],
   "source": [
    "for i in range(0,len(a)):\n",
    "    print(i,a[i])"
   ]
  },
  {
   "cell_type": "code",
   "execution_count": 62,
   "metadata": {},
   "outputs": [
    {
     "data": {
      "text/plain": [
       "array([ 1.        ,  0.95885108,  0.84147098,  0.66499666,  0.45464871,\n",
       "        0.23938886,  0.04704   , -0.10022378, -0.18920062, -0.21722892])"
      ]
     },
     "execution_count": 62,
     "metadata": {},
     "output_type": "execute_result"
    }
   ],
   "source": [
    "sinc(x)"
   ]
  },
  {
   "cell_type": "code",
   "execution_count": 63,
   "metadata": {
    "collapsed": false,
    "jupyter": {
     "outputs_hidden": false
    },
    "slideshow": {
     "slide_type": "slide"
    }
   },
   "outputs": [
    {
     "data": {
      "text/plain": [
       "[<matplotlib.lines.Line2D at 0x11e1b46a0>]"
      ]
     },
     "execution_count": 63,
     "metadata": {},
     "output_type": "execute_result"
    },
    {
     "data": {
      "image/png": "[encoded data removed]",
      "text/plain": [
       "<Figure size 432x288 with 1 Axes>"
      ]
     },
     "metadata": {
      "needs_background": "light"
     },
     "output_type": "display_data"
    }
   ],
   "source": [
    "import numpy as np \n",
    "import matplotlib.pyplot as plt\n",
    "\n",
    "x = np.linspace(-10, 10, 256) \n",
    "y = sinc(x)\n",
    "\n",
    "plt.plot(x, y) "
   ]
  },
  {
   "cell_type": "markdown",
   "metadata": {
    "slideshow": {
     "slide_type": "slide"
    }
   },
   "source": [
    "The `for` loop evaluates the elements of the `x` array one by one and\n",
    "appends the results to the list `y` one by one. When it is finished, it\n",
    "converts the list to an array and returns the array. The code following\n",
    "the function definition plots $\\mathrm{sinc}\\,x$ as a function of $x$."
   ]
  },
  {
   "cell_type": "markdown",
   "metadata": {
    "slideshow": {
     "slide_type": "slide"
    }
   },
   "source": [
    "In the program above, you may have noticed that the NumPy library is\n",
    "imported *after* the `sinc(x)` function definition. As the function uses\n",
    "the NumPy functions `sin` and `array`, you may wonder how this program\n",
    "can work. Doesn't the `import numpy` statement have to be called before\n",
    "any NumPy functions are used? The answer it an emphatic \"YES\". "
   ]
  },
  {
   "cell_type": "markdown",
   "metadata": {
    "slideshow": {
     "slide_type": "slide"
    }
   },
   "source": [
    "The function definition is *not executed*\n",
    "when it is defined, nor can it be as it has no input `x` data to\n",
    "process. That part of the code is just a definition. "
   ]
  },
  {
   "cell_type": "markdown",
   "metadata": {
    "slideshow": {
     "slide_type": "slide"
    }
   },
   "source": [
    "### Fast array processing in user-defined functions\n",
    "\n",
    "While using loops to process arrays works just fine, it is usually not\n",
    "the best way to accomplish the task in Python. The reason is that loops\n",
    "in Python are executed rather slowly. "
   ]
  },
  {
   "cell_type": "markdown",
   "metadata": {
    "slideshow": {
     "slide_type": "slide"
    }
   },
   "source": [
    "To deal with this problem, the\n",
    "developers of NumPy introduced a number of functions designed to process\n",
    "arrays quickly and efficiently. \n",
    "\n",
    "The\n",
    "function we want is called `where` and it is a part of the NumPy\n",
    "library. There `where` function has the form\n",
    "\n",
    "```python\n",
    "where(condition, output if True, output if False)\n",
    "```\n",
    "\n",
    "The first argument of the `where` function is a conditional statement\n",
    "involving an array. The `where` function applies the condition to the\n",
    "array element by element, and returns the second argument for those\n",
    "array elements for which the condition is `True`, and returns the third\n",
    "argument for those array elements that are `False`. "
   ]
  },
  {
   "cell_type": "code",
   "execution_count": 68,
   "metadata": {
    "collapsed": false,
    "jupyter": {
     "outputs_hidden": false
    },
    "slideshow": {
     "slide_type": "slide"
    }
   },
   "outputs": [
    {
     "name": "stdout",
     "output_type": "stream",
     "text": [
      "[-0.05440211 -0.04803743 -0.04127361 -0.03414533 -0.02668998 -0.01894748\n",
      " -0.01096007 -0.00277214  0.00557001  0.01401842  0.02252371  0.03103534\n",
      "  0.03950189  0.04787134  0.05609135  0.06410955  0.07187388  0.07933283\n",
      "  0.08643581  0.09313337  0.09937761  0.10512236  0.11032357  0.11493952\n",
      "  0.11893116  0.12226232  0.12490001  0.12681462  0.12798018  0.12837455\n",
      "  0.12797963  0.12678151  0.12477064  0.12194197  0.11829503  0.11383406\n",
      "  0.10856804  0.10251076  0.09568081  0.08810159  0.07980125  0.07081269\n",
      "  0.0611734   0.05092539  0.04011507  0.02879304  0.01701398  0.00483636\n",
      " -0.00767773 -0.02046284 -0.03345045 -0.04656925 -0.05974546 -0.07290312\n",
      " -0.08596449 -0.09885034 -0.11148037 -0.12377356 -0.13564856 -0.14702408\n",
      " -0.15781932 -0.16795431 -0.17735036 -0.18593045 -0.19361961 -0.20034534\n",
      " -0.20603798 -0.21063108 -0.21406177 -0.21627113 -0.21720451 -0.21681184\n",
      " -0.21504798 -0.21187294 -0.2072522  -0.2011569  -0.1935641  -0.18445693\n",
      " -0.17382478 -0.16166343 -0.14797514 -0.13276873 -0.11605966 -0.09787002\n",
      " -0.0782285  -0.05717039 -0.03473745 -0.01097786  0.01405394  0.04029745\n",
      "  0.06768625  0.09614824  0.12560592  0.15597664  0.18717292  0.21910276\n",
      "  0.25167001  0.28477473  0.3183136   0.35218031  0.386266    0.42045968\n",
      "  0.45464871  0.48871927  0.52255677  0.55604641  0.5890736   0.62152446\n",
      "  0.65328632  0.68424815  0.7143011   0.74333891  0.77125838  0.79795984\n",
      "  0.82334753  0.84733006  0.86982079  0.89073821  0.91000625  0.9275547\n",
      "  0.94331945  0.95724276  0.96927357  0.97936768  0.98748796  0.99360451\n",
      "  0.99769479  0.99974371  0.99974371  0.99769479  0.99360451  0.98748796\n",
      "  0.97936768  0.96927357  0.95724276  0.94331945  0.9275547   0.91000625\n",
      "  0.89073821  0.86982079  0.84733006  0.82334753  0.79795984  0.77125838\n",
      "  0.74333891  0.7143011   0.68424815  0.65328632  0.62152446  0.5890736\n",
      "  0.55604641  0.52255677  0.48871927  0.45464871  0.42045968  0.386266\n",
      "  0.35218031  0.3183136   0.28477473  0.25167001  0.21910276  0.18717292\n",
      "  0.15597664  0.12560592  0.09614824  0.06768625  0.04029745  0.01405394\n",
      " -0.01097786 -0.03473745 -0.05717039 -0.0782285  -0.09787002 -0.11605966\n",
      " -0.13276873 -0.14797514 -0.16166343 -0.17382478 -0.18445693 -0.1935641\n",
      " -0.2011569  -0.2072522  -0.21187294 -0.21504798 -0.21681184 -0.21720451\n",
      " -0.21627113 -0.21406177 -0.21063108 -0.20603798 -0.20034534 -0.19361961\n",
      " -0.18593045 -0.17735036 -0.16795431 -0.15781932 -0.14702408 -0.13564856\n",
      " -0.12377356 -0.11148037 -0.09885034 -0.08596449 -0.07290312 -0.05974546\n",
      " -0.04656925 -0.03345045 -0.02046284 -0.00767773  0.00483636  0.01701398\n",
      "  0.02879304  0.04011507  0.05092539  0.0611734   0.07081269  0.07980125\n",
      "  0.08810159  0.09568081  0.10251076  0.10856804  0.11383406  0.11829503\n",
      "  0.12194197  0.12477064  0.12678151  0.12797963  0.12837455  0.12798018\n",
      "  0.12681462  0.12490001  0.12226232  0.11893116  0.11493952  0.11032357\n",
      "  0.10512236  0.09937761  0.09313337  0.08643581  0.07933283  0.07187388\n",
      "  0.06410955  0.05609135  0.04787134  0.03950189  0.03103534  0.02252371\n",
      "  0.01401842  0.00557001 -0.00277214 -0.01096007 -0.01894748 -0.02668998\n",
      " -0.03414533 -0.04127361 -0.04803743 -0.05440211]\n"
     ]
    }
   ],
   "source": [
    "def sinc(x):  \n",
    "    z = np.where(x==0.0, 1.0, np.sin(x)/x) \n",
    "    return z\n",
    "print(y)"
   ]
  },
  {
   "cell_type": "code",
   "execution_count": 77,
   "metadata": {},
   "outputs": [],
   "source": [
    "y=10\n",
    "def sinc(x):\n",
    "    y=np.sin(x)/x\n",
    "    return y"
   ]
  },
  {
   "cell_type": "code",
   "execution_count": 78,
   "metadata": {},
   "outputs": [
    {
     "data": {
      "text/plain": [
       "-0.18920062382698205"
      ]
     },
     "execution_count": 78,
     "metadata": {},
     "output_type": "execute_result"
    }
   ],
   "source": [
    "sinc(4)"
   ]
  },
  {
   "cell_type": "code",
   "execution_count": 79,
   "metadata": {},
   "outputs": [
    {
     "name": "stdout",
     "output_type": "stream",
     "text": [
      "10\n"
     ]
    }
   ],
   "source": [
    "print(y)"
   ]
  },
  {
   "cell_type": "markdown",
   "metadata": {
    "slideshow": {
     "slide_type": "slide"
    }
   },
   "source": [
    "The `where` function creates an array and sets the elements of the array\n",
    "equal to 1.0 where the corresponding elements of `x` are zero, and\n",
    "otherwise sets the corresponding elements to `sin(x)/x`."
   ]
  },
  {
   "cell_type": "markdown",
   "metadata": {
    "slideshow": {
     "slide_type": "slide"
    }
   },
   "source": [
    "The moral of the story is that you should avoid using `for` and `while`\n",
    "loops to process arrays in Python programs whenever an array-processing\n",
    "method is available. \n"
   ]
  },
  {
   "cell_type": "markdown",
   "metadata": {
    "slideshow": {
     "slide_type": "slide"
    }
   },
   "source": [
    "## Functions with more (or less) than one input or output\n",
    "\n",
    "Python functions can have any number of input arguments and can return\n",
    "any number of variables. \n"
   ]
  },
  {
   "cell_type": "markdown",
   "metadata": {
    "slideshow": {
     "slide_type": "slide"
    }
   },
   "source": [
    "Suppose you want a function that\n",
    "outputs $n$ $(x,y)$ coordinates around a circle of radius $r$ centered\n",
    "at the point $(x_0,y_0)$. The inputs to the function would be $r$,\n",
    "$x_0$, $y_0$, and $n$. The outputs would be the $n$ $(x,y)$ coordinates.\n",
    "The following code implements this function."
   ]
  },
  {
   "cell_type": "code",
   "execution_count": 84,
   "metadata": {
    "collapsed": false,
    "jupyter": {
     "outputs_hidden": false
    },
    "slideshow": {
     "slide_type": "slide"
    }
   },
   "outputs": [
    {
     "data": {
      "image/png": "[encoded data removed]",
      "text/plain": [
       "<Figure size 432x288 with 1 Axes>"
      ]
     },
     "metadata": {
      "needs_background": "light"
     },
     "output_type": "display_data"
    }
   ],
   "source": [
    "def circle(r, x0, y0, n):  \n",
    "    theta = np.linspace(0., 2.*np.pi, n) \n",
    "    x = r * np.cos(theta) \n",
    "    y = r * np.sin(theta) \n",
    "    return x0+x, y0+y\n",
    "\n",
    "import matplotlib.pyplot as plt\n",
    "\n",
    "x,y = circle(4, 1., 2., 100)\n",
    "plt.plot(x,y)\n",
    "plt.axis('equal');"
   ]
  },
  {
   "cell_type": "markdown",
   "metadata": {
    "slideshow": {
     "slide_type": "slide"
    }
   },
   "source": [
    "Functions can also return nothing to the calling program but just\n",
    "perform some task."
   ]
  },
  {
   "cell_type": "code",
   "execution_count": 2,
   "metadata": {
    "collapsed": false,
    "jupyter": {
     "outputs_hidden": false
    },
    "slideshow": {
     "slide_type": "fragment"
    }
   },
   "outputs": [],
   "source": [
    "def info():\n",
    "    print(\"I am fine\\n\")\n"
   ]
  },
  {
   "cell_type": "code",
   "execution_count": 3,
   "metadata": {
    "collapsed": false,
    "jupyter": {
     "outputs_hidden": false
    },
    "slideshow": {
     "slide_type": "fragment"
    }
   },
   "outputs": [
    {
     "name": "stdout",
     "output_type": "stream",
     "text": [
      "I am fine\n",
      "\n"
     ]
    }
   ],
   "source": [
    "info()"
   ]
  },
  {
   "cell_type": "markdown",
   "metadata": {},
   "source": [
    "# [Exercise 08](./EX08-function.ipynb)"
   ]
  }
 ],
 "metadata": {
  "celltoolbar": "Slideshow",
  "kernelspec": {
   "display_name": "Python 3",
   "language": "python",
   "name": "python3"
  },
  "language_info": {
   "codemirror_mode": {
    "name": "ipython",
    "version": 3
   },
   "file_extension": ".py",
   "mimetype": "text/x-python",
   "name": "python",
   "nbconvert_exporter": "python",
   "pygments_lexer": "ipython3",
   "version": "3.8.3"
  }
 },
 "nbformat": 4,
 "nbformat_minor": 4
}
