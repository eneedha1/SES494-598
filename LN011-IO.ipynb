{
 "cells": [
  {
   "cell_type": "markdown",
   "metadata": {
    "slideshow": {
     "slide_type": "slide"
    }
   },
   "source": [
    "## Input and Output\n",
    "\n",
    "When you have Python perform some task, you need to feed it information---input. \n",
    "\n",
    "When it is done with that task, it reports back to you the results of its calculations---output."
   ]
  },
  {
   "cell_type": "markdown",
   "metadata": {
    "slideshow": {
     "slide_type": "slide"
    }
   },
   "source": [
    "## Keyboard input\n",
    "\n",
    "Python has a function called `input` for getting input from the user and assigning it a variable name. "
   ]
  },
  {
   "cell_type": "code",
   "execution_count": 3,
   "metadata": {
    "cocalc": {
     "outputs": {
      "0": {
       "name": "input",
       "opts": {
        "password": false,
        "prompt": "prompt to user"
       },
       "output_type": "stream",
       "value": "Shim"
      }
     }
    }
   },
   "outputs": [
    {
     "name": "stdin",
     "output_type": "stream",
     "text": [
      "prompt to user:  dsf\n"
     ]
    }
   ],
   "source": [
    "strname = input(\"prompt to user: \")"
   ]
  },
  {
   "cell_type": "code",
   "execution_count": 4,
   "metadata": {
    "slideshow": {
     "slide_type": "fragment"
    }
   },
   "outputs": [
    {
     "data": {
      "text/plain": [
       "'dsf'"
      ]
     },
     "execution_count": 4,
     "metadata": {},
     "output_type": "execute_result"
    }
   ],
   "source": [
    "strname"
   ]
  },
  {
   "cell_type": "markdown",
   "metadata": {
    "slideshow": {
     "slide_type": "slide"
    }
   },
   "source": [
    "When the `input` statement is executed, it prints the text in the quotes to the computer screen and waits for input from the user. The user types a string of characters and presses the return key. The `input` function then assigns that string to the variable name on the right of the assignment operator `=`."
   ]
  },
  {
   "cell_type": "code",
   "execution_count": 7,
   "metadata": {
    "cocalc": {
     "outputs": {
      "0": {
       "name": "input",
       "opts": {
        "password": false,
        "prompt": "Input distance of trip in miles: "
       },
       "output_type": "stream",
       "value": "450"
      }
     }
    }
   },
   "outputs": [
    {
     "name": "stdin",
     "output_type": "stream",
     "text": [
      "Input distance of trip in miles:  450\n"
     ]
    }
   ],
   "source": [
    "distance = input(\"Input distance of trip in miles: \")"
   ]
  },
  {
   "cell_type": "markdown",
   "metadata": {
    "slideshow": {
     "slide_type": "fragment"
    }
   },
   "source": [
    "Python prints out the string argument of the `input` function and waits for a response from you. \n",
    "\n",
    "Type `450` for \"450 miles\" and press return. \n",
    "\n",
    "Now type the variable name `distance` to see its value"
   ]
  },
  {
   "cell_type": "code",
   "execution_count": 8,
   "metadata": {
    "slideshow": {
     "slide_type": "slide"
    }
   },
   "outputs": [
    {
     "data": {
      "text/plain": [
       "'450'"
      ]
     },
     "execution_count": 8,
     "metadata": {},
     "output_type": "execute_result"
    }
   ],
   "source": [
    "distance"
   ]
  },
  {
   "cell_type": "markdown",
   "metadata": {
    "slideshow": {
     "slide_type": "fragment"
    }
   },
   "source": [
    "The value of the `distance` is `450` as expected, but it is a string. \n",
    "\n",
    "Because we want to use `450` as a number, we need to convert it from a string to a number."
   ]
  },
  {
   "cell_type": "code",
   "execution_count": 9,
   "metadata": {
    "slideshow": {
     "slide_type": "fragment"
    }
   },
   "outputs": [],
   "source": [
    "distance = eval(distance)"
   ]
  },
  {
   "cell_type": "code",
   "execution_count": 10,
   "metadata": {
    "slideshow": {
     "slide_type": "fragment"
    }
   },
   "outputs": [
    {
     "data": {
      "text/plain": [
       "450"
      ]
     },
     "execution_count": 10,
     "metadata": {},
     "output_type": "execute_result"
    }
   ],
   "source": [
    "distance"
   ]
  },
  {
   "cell_type": "markdown",
   "metadata": {
    "slideshow": {
     "slide_type": "slide"
    }
   },
   "source": [
    "The `eval` function has converted `distance` to an integer. However, we might prefer that `distance` be a float instead of an integer. "
   ]
  },
  {
   "cell_type": "code",
   "execution_count": 11,
   "metadata": {
    "cocalc": {
     "outputs": {
      "0": {
       "name": "input",
       "opts": {
        "password": false,
        "prompt": "Input distance of trip in miles: "
       },
       "output_type": "stream",
       "value": "200"
      }
     }
    }
   },
   "outputs": [
    {
     "name": "stdin",
     "output_type": "stream",
     "text": [
      "Input distance of trip in miles:  450\n"
     ]
    }
   ],
   "source": [
    "distance = input(\"Input distance of trip in miles: \")"
   ]
  },
  {
   "cell_type": "code",
   "execution_count": 12,
   "metadata": {
    "slideshow": {
     "slide_type": "fragment"
    }
   },
   "outputs": [
    {
     "data": {
      "text/plain": [
       "'450'"
      ]
     },
     "execution_count": 12,
     "metadata": {},
     "output_type": "execute_result"
    }
   ],
   "source": [
    "distance"
   ]
  },
  {
   "cell_type": "code",
   "execution_count": 13,
   "metadata": {
    "slideshow": {
     "slide_type": "fragment"
    }
   },
   "outputs": [],
   "source": [
    "distance = float(distance)"
   ]
  },
  {
   "cell_type": "code",
   "execution_count": 14,
   "metadata": {
    "slideshow": {
     "slide_type": "fragment"
    }
   },
   "outputs": [
    {
     "data": {
      "text/plain": [
       "450.0"
      ]
     },
     "execution_count": 14,
     "metadata": {},
     "output_type": "execute_result"
    }
   ],
   "source": [
    "distance"
   ]
  },
  {
   "cell_type": "markdown",
   "metadata": {
    "slideshow": {
     "slide_type": "slide"
    }
   },
   "source": [
    "## Make your code better"
   ]
  },
  {
   "cell_type": "code",
   "execution_count": 15,
   "metadata": {
    "cocalc": {
     "outputs": {
      "0": {
       "name": "input",
       "opts": {
        "password": false,
        "prompt": "Input distance of trip in miles: "
       },
       "output_type": "stream",
       "value": "400"
      }
     }
    }
   },
   "outputs": [
    {
     "name": "stdin",
     "output_type": "stream",
     "text": [
      "Input distance of trip in miles:  450\n"
     ]
    }
   ],
   "source": [
    "# Calculates time, gallons of gas used, and cost of gasoline for a trip\n",
    "distance = input(\"Input distance of trip in miles: \")\n",
    "distance = float(distance)\n",
    "mpg = 30.\n",
    "speed = 60.\n",
    "costPerGallon = 4.10\n",
    "time = distance / speed\n",
    "gallons = distance / mpg\n",
    "cost = gallons * costPerGallon"
   ]
  },
  {
   "cell_type": "markdown",
   "metadata": {
    "slideshow": {
     "slide_type": "slide"
    }
   },
   "source": [
    "Lines 4 and 5 can be combined into a single line, which is a little more efficient:\n",
    "\n",
    "\n",
    "```python\n",
    "distance = float(input(\"Input distance of trip in miles: \"))\n",
    "```"
   ]
  },
  {
   "cell_type": "markdown",
   "metadata": {
    "slideshow": {
     "slide_type": "slide"
    }
   },
   "source": [
    "## Screen output\n",
    "\n",
    "It would be much more convenient if the program in the previous section would simply write its output to the computer screen, instead of requiring the user to type `time`, `gallons`, and `cost` to view the results. This can be accomplished very simply using Python's `print` function. "
   ]
  },
  {
   "cell_type": "code",
   "execution_count": 16,
   "metadata": {
    "cocalc": {
     "outputs": {
      "0": {
       "name": "input",
       "opts": {
        "password": false,
        "prompt": "Input distance of trip in miles: "
       },
       "output_type": "stream",
       "value": "50"
      }
     }
    }
   },
   "outputs": [
    {
     "name": "stdin",
     "output_type": "stream",
     "text": [
      "Input distance of trip in miles:  450\n"
     ]
    },
    {
     "name": "stdout",
     "output_type": "stream",
     "text": [
      "7.5 15.0 61.49999999999999\n"
     ]
    }
   ],
   "source": [
    "# Calculates time, gallons of gas used, and cost of gasoline for a trip\n",
    "distance = input(\"Input distance of trip in miles: \")\n",
    "distance = float(distance)\n",
    "mpg = 30.\n",
    "speed = 60.\n",
    "costPerGallon = 4.10\n",
    "time = distance / speed\n",
    "gallons = distance / mpg\n",
    "cost = gallons * costPerGallon\n",
    "print(time, gallons, cost)"
   ]
  },
  {
   "cell_type": "markdown",
   "metadata": {
    "slideshow": {
     "slide_type": "fragment"
    }
   },
   "source": [
    "The program prints out the results as a tuple of time (in hours), gasoline used (in gallons), and cost (in dollars)."
   ]
  },
  {
   "cell_type": "markdown",
   "metadata": {
    "slideshow": {
     "slide_type": "slide"
    }
   },
   "source": [
    "## Formatting output"
   ]
  },
  {
   "cell_type": "code",
   "execution_count": 17,
   "metadata": {
    "cocalc": {
     "outputs": {
      "0": {
       "name": "input",
       "opts": {
        "password": false,
        "prompt": "Input distance of trip in miles: "
       },
       "output_type": "stream",
       "value": "10"
      }
     }
    }
   },
   "outputs": [
    {
     "name": "stdout",
     "output_type": "stream",
     "text": [
      "Duration of trip = 8 7 hours\n",
      "Gasoline used = 15.0 gallons at 30 mpg\n",
      "Cost of gasoline = 61.50\n"
     ]
    }
   ],
   "source": [
    "distance = 450\n",
    "mpg = 30.\n",
    "speed = 60.\n",
    "costPerGallon = 4.10\n",
    "time = distance/speed\n",
    "gallons = distance/mpg\n",
    "cost = gallons*costPerGallon\n",
    "print(\"Duration of trip = %d %d hours\" % (round(time),int(time))) \n",
    "print(\"Gasoline used = %.1f gallons at %.0f mpg\" % (gallons, mpg))\n",
    "print(\"Cost of gasoline = %.2f\" % cost)"
   ]
  },
  {
   "cell_type": "markdown",
   "metadata": {},
   "source": [
    "#### Some notes about $print$\n",
    "- only information within the \"\" will be printed\n",
    "- the '%.1f' means printing out the value with 1 digits, and etc.\n",
    "- the variables within the () after the % sign will be printed out.\n",
    "- the number and order of variables must match the number and order of '%' within the \"\""
   ]
  },
  {
   "cell_type": "markdown",
   "metadata": {
    "slideshow": {
     "slide_type": "slide"
    }
   },
   "source": [
    "## Printing arrays\n",
    "\n",
    "Formatting NumPy arrays for printing requires another approach. As an example, let's create an array and then format it in various ways. "
   ]
  },
  {
   "cell_type": "code",
   "execution_count": 18,
   "metadata": {
    "slideshow": {
     "slide_type": "fragment"
    }
   },
   "outputs": [],
   "source": [
    "import numpy as np"
   ]
  },
  {
   "cell_type": "code",
   "execution_count": 19,
   "metadata": {
    "slideshow": {
     "slide_type": "fragment"
    }
   },
   "outputs": [
    {
     "name": "stdout",
     "output_type": "stream",
     "text": [
      "[ 3.          5.66666667  8.33333333 11.         13.66666667 16.33333333\n",
      " 19.        ]\n"
     ]
    }
   ],
   "source": [
    "a = np.linspace(3, 19, 7)\n",
    "print(a)"
   ]
  },
  {
   "cell_type": "markdown",
   "metadata": {
    "slideshow": {
     "slide_type": "slide"
    }
   },
   "source": [
    "Simply using the `print` function does print out the array, but perhaps not in the format you desire. \n",
    "\n",
    "To control the output format, you use the NumPy function `set_printoptions`. \n",
    "\n",
    "For example, suppose you want to see no more than two digits to the right of the decimal point. Then you simply write"
   ]
  },
  {
   "cell_type": "code",
   "execution_count": 20,
   "metadata": {
    "slideshow": {
     "slide_type": "fragment"
    }
   },
   "outputs": [],
   "source": [
    "np.set_printoptions(precision=2)"
   ]
  },
  {
   "cell_type": "code",
   "execution_count": 21,
   "metadata": {
    "slideshow": {
     "slide_type": "fragment"
    }
   },
   "outputs": [
    {
     "name": "stdout",
     "output_type": "stream",
     "text": [
      "[ 3.    5.67  8.33 11.   13.67 16.33 19.  ]\n"
     ]
    }
   ],
   "source": [
    "print(a)"
   ]
  },
  {
   "cell_type": "markdown",
   "metadata": {
    "slideshow": {
     "slide_type": "slide"
    }
   },
   "source": [
    "If you want to change the number of digits to the right of the decimal point to 4, you set the keyword argument `precision` to 4"
   ]
  },
  {
   "cell_type": "code",
   "execution_count": 22,
   "metadata": {
    "slideshow": {
     "slide_type": "fragment"
    }
   },
   "outputs": [],
   "source": [
    "np.set_printoptions(precision=4)"
   ]
  },
  {
   "cell_type": "code",
   "execution_count": 23,
   "metadata": {
    "slideshow": {
     "slide_type": "fragment"
    }
   },
   "outputs": [
    {
     "name": "stdout",
     "output_type": "stream",
     "text": [
      "[ 3.      5.6667  8.3333 11.     13.6667 16.3333 19.    ]\n"
     ]
    }
   ],
   "source": [
    "print(a)"
   ]
  },
  {
   "cell_type": "markdown",
   "metadata": {
    "slideshow": {
     "slide_type": "slide"
    }
   },
   "source": [
    "To return to the default format, type the following"
   ]
  },
  {
   "cell_type": "code",
   "execution_count": 24,
   "metadata": {
    "slideshow": {
     "slide_type": "fragment"
    }
   },
   "outputs": [],
   "source": [
    "np.set_printoptions(precision=8)"
   ]
  },
  {
   "cell_type": "code",
   "execution_count": 25,
   "metadata": {
    "slideshow": {
     "slide_type": "fragment"
    }
   },
   "outputs": [
    {
     "name": "stdout",
     "output_type": "stream",
     "text": [
      "[ 3.          5.66666667  8.33333333 11.         13.66666667 16.33333333\n",
      " 19.        ]\n"
     ]
    }
   ],
   "source": [
    "print(a)"
   ]
  },
  {
   "cell_type": "markdown",
   "metadata": {
    "slideshow": {
     "slide_type": "slide"
    }
   },
   "source": [
    "The `set_printoptions` is a NumPy function, so if you use it in a script or program, you should call it by writing `np.set_printoptions`."
   ]
  },
  {
   "cell_type": "markdown",
   "metadata": {
    "slideshow": {
     "slide_type": "slide"
    }
   },
   "source": [
    "## File input\n",
    "\n",
    "### Reading data from a text file\n",
    "\n",
    "Often you would like to analyze data that you have stored in a text file. Consider, for example, the data file below for an experiment measuring the free fall of a mass."
   ]
  },
  {
   "cell_type": "code",
   "execution_count": 29,
   "metadata": {
    "slideshow": {
     "slide_type": "slide"
    }
   },
   "outputs": [
    {
     "data": {
      "text/plain": [
       "Data for falling mass experiment\n",
       "Date: 16-Aug-2013\n",
       "Data taken by Lauren and John\n",
       "\n",
       "data point      time (sec)      height (mm)     uncertainty (mm)\n",
       "    0               0               180             3.5\n",
       "    1               0.5             182             4.5\n",
       "    2               1               178             4.0\n",
       "    3               1.5             165             5.5\n",
       "    4               2               160             2.5\n",
       "    5               2.5             148             3.0\n",
       "    6               3               136             2.5\n",
       "    7               3.5             120             3.0\n",
       "    8               4                99             4.0\n",
       "    9               4.5              83             2.5\n",
       "   10               5                55             3.6\n",
       "   11               5.5              35             1.75\n",
       "   12               6                 5             0.75\n"
      ]
     },
     "metadata": {},
     "output_type": "display_data"
    }
   ],
   "source": [
    "%less ./data/MyData.txt"
   ]
  },
  {
   "cell_type": "markdown",
   "metadata": {
    "slideshow": {
     "slide_type": "slide"
    }
   },
   "source": [
    "We would like to read these data into a Python program, associating the data in each column with an appropriately named array. \n",
    "\n",
    "While there are a multitude of ways to do this in Python, the simplest by far is to use the NumPy `loadtxt` function. "
   ]
  },
  {
   "cell_type": "markdown",
   "metadata": {
    "slideshow": {
     "slide_type": "slide"
    }
   },
   "source": [
    "Suppose that the name of the text file is `MyData.txt`. Then we can read the data into four different arrays with the following statement"
   ]
  },
  {
   "cell_type": "code",
   "execution_count": 30,
   "metadata": {
    "slideshow": {
     "slide_type": "fragment"
    }
   },
   "outputs": [],
   "source": [
    "import numpy as np\n",
    "dataPt, time, height, error = np.loadtxt(\"./data/MyData.txt\", skiprows=5 , unpack=True)"
   ]
  },
  {
   "cell_type": "code",
   "execution_count": 31,
   "metadata": {},
   "outputs": [
    {
     "name": "stdout",
     "output_type": "stream",
     "text": [
      "Help on function loadtxt in module numpy:\n",
      "\n",
      "loadtxt(fname, dtype=<class 'float'>, comments='#', delimiter=None, converters=None, skiprows=0, usecols=None, unpack=False, ndmin=0, encoding='bytes', max_rows=None)\n",
      "    Load data from a text file.\n",
      "    \n",
      "    Each row in the text file must have the same number of values.\n",
      "    \n",
      "    Parameters\n",
      "    ----------\n",
      "    fname : file, str, or pathlib.Path\n",
      "        File, filename, or generator to read.  If the filename extension is\n",
      "        ``.gz`` or ``.bz2``, the file is first decompressed. Note that\n",
      "        generators should return byte strings.\n",
      "    dtype : data-type, optional\n",
      "        Data-type of the resulting array; default: float.  If this is a\n",
      "        structured data-type, the resulting array will be 1-dimensional, and\n",
      "        each row will be interpreted as an element of the array.  In this\n",
      "        case, the number of columns used must match the number of fields in\n",
      "        the data-type.\n",
      "    comments : str or sequence of str, optional\n",
      "        The characters or list of characters used to indicate the start of a\n",
      "        comment. None implies no comments. For backwards compatibility, byte\n",
      "        strings will be decoded as 'latin1'. The default is '#'.\n",
      "    delimiter : str, optional\n",
      "        The string used to separate values. For backwards compatibility, byte\n",
      "        strings will be decoded as 'latin1'. The default is whitespace.\n",
      "    converters : dict, optional\n",
      "        A dictionary mapping column number to a function that will parse the\n",
      "        column string into the desired value.  E.g., if column 0 is a date\n",
      "        string: ``converters = {0: datestr2num}``.  Converters can also be\n",
      "        used to provide a default value for missing data (but see also\n",
      "        `genfromtxt`): ``converters = {3: lambda s: float(s.strip() or 0)}``.\n",
      "        Default: None.\n",
      "    skiprows : int, optional\n",
      "        Skip the first `skiprows` lines, including comments; default: 0.\n",
      "    usecols : int or sequence, optional\n",
      "        Which columns to read, with 0 being the first. For example,\n",
      "        ``usecols = (1,4,5)`` will extract the 2nd, 5th and 6th columns.\n",
      "        The default, None, results in all columns being read.\n",
      "    \n",
      "        .. versionchanged:: 1.11.0\n",
      "            When a single column has to be read it is possible to use\n",
      "            an integer instead of a tuple. E.g ``usecols = 3`` reads the\n",
      "            fourth column the same way as ``usecols = (3,)`` would.\n",
      "    unpack : bool, optional\n",
      "        If True, the returned array is transposed, so that arguments may be\n",
      "        unpacked using ``x, y, z = loadtxt(...)``.  When used with a structured\n",
      "        data-type, arrays are returned for each field.  Default is False.\n",
      "    ndmin : int, optional\n",
      "        The returned array will have at least `ndmin` dimensions.\n",
      "        Otherwise mono-dimensional axes will be squeezed.\n",
      "        Legal values: 0 (default), 1 or 2.\n",
      "    \n",
      "        .. versionadded:: 1.6.0\n",
      "    encoding : str, optional\n",
      "        Encoding used to decode the inputfile. Does not apply to input streams.\n",
      "        The special value 'bytes' enables backward compatibility workarounds\n",
      "        that ensures you receive byte arrays as results if possible and passes\n",
      "        'latin1' encoded strings to converters. Override this value to receive\n",
      "        unicode arrays and pass strings as input to converters.  If set to None\n",
      "        the system default is used. The default value is 'bytes'.\n",
      "    \n",
      "        .. versionadded:: 1.14.0\n",
      "    max_rows : int, optional\n",
      "        Read `max_rows` lines of content after `skiprows` lines. The default\n",
      "        is to read all the lines.\n",
      "    \n",
      "        .. versionadded:: 1.16.0\n",
      "    \n",
      "    Returns\n",
      "    -------\n",
      "    out : ndarray\n",
      "        Data read from the text file.\n",
      "    \n",
      "    See Also\n",
      "    --------\n",
      "    load, fromstring, fromregex\n",
      "    genfromtxt : Load data with missing values handled as specified.\n",
      "    scipy.io.loadmat : reads MATLAB data files\n",
      "    \n",
      "    Notes\n",
      "    -----\n",
      "    This function aims to be a fast reader for simply formatted files.  The\n",
      "    `genfromtxt` function provides more sophisticated handling of, e.g.,\n",
      "    lines with missing values.\n",
      "    \n",
      "    .. versionadded:: 1.10.0\n",
      "    \n",
      "    The strings produced by the Python float.hex method can be used as\n",
      "    input for floats.\n",
      "    \n",
      "    Examples\n",
      "    --------\n",
      "    >>> from io import StringIO   # StringIO behaves like a file object\n",
      "    >>> c = StringIO(\"0 1\\n2 3\")\n",
      "    >>> np.loadtxt(c)\n",
      "    array([[0., 1.],\n",
      "           [2., 3.]])\n",
      "    \n",
      "    >>> d = StringIO(\"M 21 72\\nF 35 58\")\n",
      "    >>> np.loadtxt(d, dtype={'names': ('gender', 'age', 'weight'),\n",
      "    ...                      'formats': ('S1', 'i4', 'f4')})\n",
      "    array([(b'M', 21, 72.), (b'F', 35, 58.)],\n",
      "          dtype=[('gender', 'S1'), ('age', '<i4'), ('weight', '<f4')])\n",
      "    \n",
      "    >>> c = StringIO(\"1,0,2\\n3,0,4\")\n",
      "    >>> x, y = np.loadtxt(c, delimiter=',', usecols=(0, 2), unpack=True)\n",
      "    >>> x\n",
      "    array([1., 3.])\n",
      "    >>> y\n",
      "    array([2., 4.])\n",
      "    \n",
      "    This example shows how `converters` can be used to convert a field\n",
      "    with a trailing minus sign into a negative number.\n",
      "    \n",
      "    >>> s = StringIO('10.01 31.25-\\n19.22 64.31\\n17.57- 63.94')\n",
      "    >>> def conv(fld):\n",
      "    ...     return -float(fld[:-1]) if fld.endswith(b'-') else float(fld)\n",
      "    ...\n",
      "    >>> np.loadtxt(s, converters={0: conv, 1: conv})\n",
      "    array([[ 10.01, -31.25],\n",
      "           [ 19.22,  64.31],\n",
      "           [-17.57,  63.94]])\n",
      "\n"
     ]
    }
   ],
   "source": [
    "help(np.loadtxt)"
   ]
  },
  {
   "cell_type": "markdown",
   "metadata": {
    "slideshow": {
     "slide_type": "slide"
    }
   },
   "source": [
    "```python\n",
    "dataPt, time, height, error = np.loadtxt(\"./data/MyData.txt\", skiprows=5 , unpack=True)\n",
    "```\n",
    "\n",
    "Arguments:\n",
    "\n",
    "1. the name of the file to be read\n",
    "\n",
    "2. skip the first 5 lines at the top of file, sometimes called the *header*\n",
    "\n",
    "3. output the data (*unpack* the data) so that it can be directly read into arrays. "
   ]
  },
  {
   "cell_type": "markdown",
   "metadata": {
    "slideshow": {
     "slide_type": "slide"
    }
   },
   "source": [
    "The names labeling the columns in the text file are not used, but you are free to choose the same or similar names, of course, as long as they are legal array names. \n",
    "\n",
    "If the file is not under your current folder, you need to specify the directory path with the file name.\n",
    "\n",
    "It is important that the data file is a *text* file. "
   ]
  },
  {
   "cell_type": "markdown",
   "metadata": {
    "slideshow": {
     "slide_type": "slide"
    }
   },
   "source": [
    "If you don't want to read in all the columns of data, you can specify which columns to read in using the `usecols` key word."
   ]
  },
  {
   "cell_type": "code",
   "execution_count": 36,
   "metadata": {
    "slideshow": {
     "slide_type": "fragment"
    }
   },
   "outputs": [
    {
     "data": {
      "text/plain": [
       "array([0. , 0.5, 1. , 1.5, 2. , 2.5, 3. , 3.5, 4. , 4.5, 5. , 5.5, 6. ])"
      ]
     },
     "execution_count": 36,
     "metadata": {},
     "output_type": "execute_result"
    }
   ],
   "source": [
    "time, height = np.loadtxt('./data/MyData.txt', \n",
    "                       skiprows=5 , usecols = (1,2), unpack=True)\n",
    "time"
   ]
  },
  {
   "cell_type": "code",
   "execution_count": 37,
   "metadata": {},
   "outputs": [
    {
     "data": {
      "text/plain": [
       "array([[  0. , 180. ],\n",
       "       [  0.5, 182. ],\n",
       "       [  1. , 178. ],\n",
       "       [  1.5, 165. ],\n",
       "       [  2. , 160. ],\n",
       "       [  2.5, 148. ],\n",
       "       [  3. , 136. ],\n",
       "       [  3.5, 120. ],\n",
       "       [  4. ,  99. ],\n",
       "       [  4.5,  83. ],\n",
       "       [  5. ,  55. ],\n",
       "       [  5.5,  35. ],\n",
       "       [  6. ,   5. ]])"
      ]
     },
     "execution_count": 37,
     "metadata": {},
     "output_type": "execute_result"
    }
   ],
   "source": [
    "#if ignore the unpack=True\n",
    "data= np.loadtxt('./data/MyData.txt', \n",
    "                       skiprows=5 , usecols = (1,2))\n",
    "data"
   ]
  },
  {
   "cell_type": "markdown",
   "metadata": {
    "slideshow": {
     "slide_type": "subslide"
    }
   },
   "source": [
    "reads in only columns 1 and 2; columns 0 and 3 are skipped. \n",
    "\n",
    "Only two array names are included to the left of the \"`=`\" sign, corresponding to the two column that are read.\n",
    "\n",
    "Writing `usecols = (0,2,3)` would skip column 1 and read in only the data in colums 0, 2, and 3. In this case, 3 array names would need to be provided on the left hand side of the \"`=`\" sign."
   ]
  },
  {
   "cell_type": "markdown",
   "metadata": {
    "slideshow": {
     "slide_type": "slide"
    }
   },
   "source": [
    "One convenient feature of the `loadtxt` function is that it recognizes any *white space* as a column separator: spaces, tabs, *etc.*\n",
    "\n",
    "Finally you should remember that `loadtxt` is a NumPy function. So if you are using it in a Python module, you must be sure to include an \"`import numpy as np`\" statement before calling \"`np.loadtxt`\"."
   ]
  },
  {
   "cell_type": "code",
   "execution_count": 38,
   "metadata": {},
   "outputs": [
    {
     "data": {
      "text/plain": [
       "array([0. , 0.5, 1. , 1.5, 2. , 2.5, 3. , 3.5, 4. , 4.5, 5. , 5.5, 6. ])"
      ]
     },
     "execution_count": 38,
     "metadata": {},
     "output_type": "execute_result"
    }
   ],
   "source": [
    "time #check your reading is correct."
   ]
  },
  {
   "cell_type": "code",
   "execution_count": 40,
   "metadata": {},
   "outputs": [
    {
     "data": {
      "text/plain": [
       "0, 0,180,3.5\n",
       "1,0.5,182,4.5\n",
       "2,1,178,4.0\n",
       "3,1.5,165,5.5\n",
       "4,2,160,2.5\n",
       "5,2.5,148,3.0\n",
       "6,3,136,2.5\n",
       "7,3.5,120,3.0\n",
       "8,4,99,4.0\n",
       "9,4.5,83,2.5\n",
       "10,5,55,3.6\n",
       "11,5.5,35,1.75\n",
       "12,6,5,0.75\n"
      ]
     },
     "metadata": {},
     "output_type": "display_data"
    }
   ],
   "source": [
    "%less ./data/MyData2.txt"
   ]
  },
  {
   "cell_type": "code",
   "execution_count": 41,
   "metadata": {},
   "outputs": [
    {
     "data": {
      "text/plain": [
       "array([ 0.,  1.,  2.,  3.,  4.,  5.,  6.,  7.,  8.,  9., 10., 11., 12.])"
      ]
     },
     "execution_count": 41,
     "metadata": {},
     "output_type": "execute_result"
    }
   ],
   "source": [
    "dataPt, time, height, error = np.loadtxt(\"./data/MyData2.txt\", \\\n",
    "        unpack=True, delimiter=\",\")\n",
    "dataPt"
   ]
  },
  {
   "cell_type": "markdown",
   "metadata": {
    "slideshow": {
     "slide_type": "slide"
    }
   },
   "source": [
    "## Reading data from a CSV file\n",
    "\n",
    "Sometimes you have data stored in a spreadsheet program like Excel that you would like to read into a Python program. The fig-ExcelWindow shown here contains the same data set we saw above in a text file.\n",
    "<img src='./figs/ExcelDataFile.png' width=600>"
   ]
  },
  {
   "cell_type": "markdown",
   "metadata": {
    "slideshow": {
     "slide_type": "slide"
    }
   },
   "source": [
    "One of the most robust way is to save the spreadsheet as a CSV (\"comma separated value\") file, a format which all common spreadsheet programs can create and read. \n",
    "\n",
    "So, if your Excel spreadsheet was called `MyData.xlsx`, the CSV file saved using Excel's `Save As` command would by default be `MyData.csv`. It would look like this\n"
   ]
  },
  {
   "cell_type": "code",
   "execution_count": 42,
   "metadata": {
    "slideshow": {
     "slide_type": "slide"
    }
   },
   "outputs": [
    {
     "data": {
      "text/plain": [
       "Data for falling mass experiment,,,\n",
       "Date: 6-Apr-2012,,,\n",
       "Data taken by Lauren and John,,,\n",
       ",,,\n",
       "data point,time (sec0,height (mm),uncertainty (mm)\n",
       "0,0,180,3.5\n",
       "1,0.5,182,4.5\n",
       "2,1,178,4\n",
       "3,1.5,165,5.5\n",
       "4,2,160,2.5\n",
       "5,2.5,148,3\n",
       "6,3,136,2.5\n",
       "7,3.5,120,3\n",
       "8,4,99,4\n",
       "9,4.5,83,2.5\n",
       "10,5,55,3.6\n",
       "11,5.5,35,1.75\n",
       "12,6,5,0.75"
      ]
     },
     "metadata": {},
     "output_type": "display_data"
    }
   ],
   "source": [
    "%less ./data/MyData.csv"
   ]
  },
  {
   "cell_type": "markdown",
   "metadata": {
    "slideshow": {
     "slide_type": "slide"
    }
   },
   "source": [
    "The CSV file is simply a text file with the data that was formerly in spreadsheet columns now separated by commas. \n",
    "\n",
    "We can read the data in this file into a Python program using the `loadtxt` NumPy function once again. "
   ]
  },
  {
   "cell_type": "code",
   "execution_count": 43,
   "metadata": {
    "slideshow": {
     "slide_type": "slide"
    }
   },
   "outputs": [],
   "source": [
    "dataPt, time, height, error = np.loadtxt(\"./data/MyData.csv\", \n",
    "                                      skiprows=5 , unpack=True, delimiter=',')"
   ]
  },
  {
   "cell_type": "markdown",
   "metadata": {
    "slideshow": {
     "slide_type": "fragment"
    }
   },
   "source": [
    "The form of the function is exactly the same as before except we have added the argument `delimiter=','` that tells `loadtxt` that the columns are separated by commas instead of white space (spaces or tabs), which is the default. "
   ]
  },
  {
   "cell_type": "code",
   "execution_count": 44,
   "metadata": {},
   "outputs": [
    {
     "data": {
      "text/plain": [
       "array([0. , 0.5, 1. , 1.5, 2. , 2.5, 3. , 3.5, 4. , 4.5, 5. , 5.5, 6. ])"
      ]
     },
     "execution_count": 44,
     "metadata": {},
     "output_type": "execute_result"
    }
   ],
   "source": [
    "time"
   ]
  },
  {
   "cell_type": "markdown",
   "metadata": {
    "slideshow": {
     "slide_type": "slide"
    }
   },
   "source": [
    "## Writing data to a text file\n",
    "\n",
    "We will use one very simple one that's suitable for writing data files in text format. It uses the NumPy `savetxt` routine, which is the counterpart of the `loadtxt` routine. "
   ]
  },
  {
   "cell_type": "code",
   "execution_count": 45,
   "metadata": {
    "slideshow": {
     "slide_type": "fragment"
    }
   },
   "outputs": [],
   "source": [
    "import numpy as np\n",
    "\n",
    "dataPt, time, height, error = np.loadtxt(\"./data/MyData.txt\", skiprows=5, unpack=True)\n",
    "\n",
    "np.savetxt('./data/MyDataOut.txt', np.array([dataPt, time, height, error]).T, fmt=\"%12.1f\")"
   ]
  },
  {
   "cell_type": "code",
   "execution_count": 48,
   "metadata": {
    "slideshow": {
     "slide_type": "slide"
    }
   },
   "outputs": [
    {
     "data": {
      "text/plain": [
       "         0.0          0.0        180.0          3.5\n",
       "         1.0          0.5        182.0          4.5\n",
       "         2.0          1.0        178.0          4.0\n",
       "         3.0          1.5        165.0          5.5\n",
       "         4.0          2.0        160.0          2.5\n",
       "         5.0          2.5        148.0          3.0\n",
       "         6.0          3.0        136.0          2.5\n",
       "         7.0          3.5        120.0          3.0\n",
       "         8.0          4.0         99.0          4.0\n",
       "         9.0          4.5         83.0          2.5\n",
       "        10.0          5.0         55.0          3.6\n",
       "        11.0          5.5         35.0          1.8\n",
       "        12.0          6.0          5.0          0.8\n"
      ]
     },
     "metadata": {},
     "output_type": "display_data"
    }
   ],
   "source": [
    "%less ./data/MyDataOut.txt"
   ]
  },
  {
   "cell_type": "markdown",
   "metadata": {
    "slideshow": {
     "slide_type": "slide"
    }
   },
   "source": [
    "\n",
    "##### np.savetxt(filename, array, fmt=\"%0.18e\", delimiter=\" \", newline=\"\\n\", header=\"\", footer=\"\", comments=\"# \")\n",
    "\n",
    "\n",
    "__1.__ the name of the data file to be created. If there is already a file of that name on your computer, it will be overwritten.\n",
    "\n",
    "__2.__ the data array the is to be written to the data file. Because we want to write not one but four data arrays to the file, we have to package the four data arrays as one and then transpose to make them column.\n",
    "\n",
    "Note that the first two arguments, the filename and data array, are regular arguments and thus must appear as the first and second arguments in the correct order. "
   ]
  },
  {
   "cell_type": "markdown",
   "metadata": {
    "slideshow": {
     "slide_type": "slide"
    }
   },
   "source": [
    "\n",
    "##### np.savetxt(filename, array, fmt=\"%0.18e\", delimiter=\" \", newline=\"\\n\", header=\"\", footer=\"\", comments=\"# \")\n",
    "\n",
    "\n",
    "The remaining arguments are all keyword arguments, meaning that they are optional and can appear in any order.\n",
    "\n",
    "__3.__ a format string that determines how the elements of the array are displayed in the data file. We choose  `12.1f`, which is a float displayed with 1 digit to the right of the decimal point and a minimum width of 12. By choosing 12, which is more digits than any of the numbers in the various arrays have, we ensure that all the columns will have the same width. It also ensures that the decimal points in column of numbers are aligned. "
   ]
  },
  {
   "cell_type": "code",
   "execution_count": 50,
   "metadata": {
    "slideshow": {
     "slide_type": "slide"
    }
   },
   "outputs": [
    {
     "data": {
      "text/plain": [
       "         0.0          0.0        180.0          3.5\n",
       "         1.0          0.5        182.0          4.5\n",
       "         2.0          1.0        178.0          4.0\n",
       "         3.0          1.5        165.0          5.5\n",
       "         4.0          2.0        160.0          2.5\n",
       "         5.0          2.5        148.0          3.0\n",
       "         6.0          3.0        136.0          2.5\n",
       "         7.0          3.5        120.0          3.0\n",
       "         8.0          4.0         99.0          4.0\n",
       "         9.0          4.5         83.0          2.5\n",
       "        10.0          5.0         55.0          3.6\n",
       "        11.0          5.5         35.0          1.8\n",
       "        12.0          6.0          5.0          0.8\n"
      ]
     },
     "metadata": {},
     "output_type": "display_data"
    }
   ],
   "source": [
    "%less ./data/MyDataOut.txt"
   ]
  },
  {
   "cell_type": "markdown",
   "metadata": {
    "slideshow": {
     "slide_type": "slide"
    }
   },
   "source": [
    "```python\n",
    "np.savetxt(filename, array, fmt=\"%0.18e\", delimiter=\" \", newline=\"\\n\", header=\"\", footer=\"\", comments=\"# \")\n",
    "```\n",
    "\n",
    "__4.__ `delimiter` keyword argument, which leaves the delimiter as the default space.\n",
    "\n",
    "__5.__ `header` keyword argument, which is a string variable that allows you to write header text above the data. \n"
   ]
  },
  {
   "cell_type": "code",
   "execution_count": 51,
   "metadata": {
    "slideshow": {
     "slide_type": "slide"
    }
   },
   "outputs": [],
   "source": [
    "import numpy as np\n",
    "\n",
    "dataPt, time, height, error = np.loadtxt(\"./data/MyData.txt\",\n",
    "                                 skiprows=5, unpack=True)\n",
    "info = 'Data for falling mass experiment'\n",
    "info += 'Date: 16-Aug-2013'\n",
    "info += '\\nData taken by Lauren and John'\n",
    "info += '\\n\\n data point time (sec) height (mm) ' \n",
    "info += 'uncertainty (mm)'\n",
    "\n",
    "np.savetxt('./data/MyDataOut.txt', np.array([dataPt, time, height, error]).T, header=info, fmt=\"%12.1f\", comments=\"\")"
   ]
  },
  {
   "cell_type": "markdown",
   "metadata": {
    "slideshow": {
     "slide_type": "slide"
    }
   },
   "source": [
    "Now the data file produces has a header preceding the data. Notice that the header rows all start with a `#` comment character, which is the default setting for the `savetxt` function. This can be changed using the keyword argument `comments`. You can find more information about `savetxt` using the IPython `help` function or from the online NumPy documentation."
   ]
  },
  {
   "cell_type": "code",
   "execution_count": 54,
   "metadata": {
    "slideshow": {
     "slide_type": "slide"
    }
   },
   "outputs": [
    {
     "data": {
      "text/plain": [
       "Data for falling mass experimentDate: 16-Aug-2013\n",
       "Data taken by Lauren and John\n",
       "\n",
       " data point time (sec) height (mm) uncertainty (mm)\n",
       "         0.0          0.0        180.0          3.5\n",
       "         1.0          0.5        182.0          4.5\n",
       "         2.0          1.0        178.0          4.0\n",
       "         3.0          1.5        165.0          5.5\n",
       "         4.0          2.0        160.0          2.5\n",
       "         5.0          2.5        148.0          3.0\n",
       "         6.0          3.0        136.0          2.5\n",
       "         7.0          3.5        120.0          3.0\n",
       "         8.0          4.0         99.0          4.0\n",
       "         9.0          4.5         83.0          2.5\n",
       "        10.0          5.0         55.0          3.6\n",
       "        11.0          5.5         35.0          1.8\n",
       "        12.0          6.0          5.0          0.8\n"
      ]
     },
     "metadata": {},
     "output_type": "display_data"
    }
   ],
   "source": [
    "%less ./data/MyDataOut.txt"
   ]
  },
  {
   "cell_type": "markdown",
   "metadata": {
    "slideshow": {
     "slide_type": "slide"
    }
   },
   "source": [
    "## Writing data to a CSV file\n",
    "\n",
    "To produce a CSV file, you would specify a comma as the delimiter. You might use the `0.1f` format specifier, which leaves no extra spaces between the comma data separators, as the file is to be read by a spreadsheet program, which will determine how the numbers are displayed. The code, which could be substituted for the `savetxt` line in the above code reads."
   ]
  },
  {
   "cell_type": "code",
   "execution_count": 55,
   "metadata": {
    "slideshow": {
     "slide_type": "fragment"
    }
   },
   "outputs": [],
   "source": [
    "np.savetxt('./data/MyDataOut.csv', np.array([dataPt, time, height, error]).T, fmt=\"%0.1f\", delimiter=\",\")"
   ]
  },
  {
   "cell_type": "markdown",
   "metadata": {},
   "source": [
    "# [Exercise 04](EX04-IO.ipynb)"
   ]
  },
  {
   "cell_type": "code",
   "execution_count": 28,
   "metadata": {},
   "outputs": [],
   "source": []
  },
  {
   "cell_type": "code",
   "execution_count": null,
   "metadata": {},
   "outputs": [],
   "source": []
  }
 ],
 "metadata": {
  "celltoolbar": "Slideshow",
  "kernelspec": {
   "display_name": "Python 3",
   "language": "python",
   "name": "python3"
  },
  "language_info": {
   "codemirror_mode": {
    "name": "ipython",
    "version": 3
   },
   "file_extension": ".py",
   "mimetype": "text/x-python",
   "name": "python",
   "nbconvert_exporter": "python",
   "pygments_lexer": "ipython3",
   "version": "3.8.3"
  }
 },
 "nbformat": 4,
 "nbformat_minor": 4
}
