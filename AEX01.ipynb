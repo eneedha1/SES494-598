{
 "cells": [
  {
   "cell_type": "markdown",
   "metadata": {
    "slideshow": {
     "slide_type": "slide"
    }
   },
   "source": [
    "## Exercise 01\n",
    "\n",
    "__1.__ A ball is thrown vertically up in the air from a height $h_0$ above\n",
    "the ground at an initial velocity $v_0$. Its subsequent height $h$ and\n",
    "velocity $v$ are given by the equations\n",
    "\n",
    "$$h = h_0 + v_0 t - \\tfrac{1}{2}gt^2 $$ \n",
    "\n",
    "$$v = v_0 - gt$$\n",
    "\n",
    "where $g = 9.8$ is the acceleration due to gravity in\n",
    "$\\mathrm{m/s^2}$. Write a script that finds the height $h$ and velocity $v$ at a time $t$ after the ball is thrown. Start the script by setting $h_0 = 1.2$ m and $v_0 = 5.4$ m/s and have your script print out the values of height and velocity. Then use the script to find the height and velocity after 0.5 seconds. "
   ]
  },
  {
   "cell_type": "code",
   "execution_count": 2,
   "metadata": {
    "slideshow": {
     "slide_type": "slide"
    }
   },
   "outputs": [
    {
     "name": "stdout",
     "output_type": "stream",
     "text": [
      "height at 0.50 s = 2.68\n",
      "velocity at 0.50 s = 0.50\n"
     ]
    }
   ],
   "source": [
    "h0 = 1.2\n",
    "v0 = 5.4\n",
    "t = 0.5\n",
    "g = 9.8\n",
    "h = h0 + v0*t - 0.5 * 9.8 * t**2\n",
    "print('height at %.2f s = %.2f' % (t, h))\n",
    "print('velocity at %.2f s = %.2f' % (t, v0 - g*t))"
   ]
  },
  {
   "cell_type": "markdown",
   "metadata": {
    "slideshow": {
     "slide_type": "slide"
    }
   },
   "source": [
    "Modify your script for $t = 2$ s."
   ]
  },
  {
   "cell_type": "code",
   "execution_count": 9,
   "metadata": {
    "slideshow": {
     "slide_type": "fragment"
    }
   },
   "outputs": [
    {
     "name": "stdout",
     "output_type": "stream",
     "text": [
      "height at 2.00 s = -7.60\n",
      "velocity at 2.00 s = -14.20\n"
     ]
    }
   ],
   "source": [
    "h0 = 1.2\n",
    "v0 = 5.4\n",
    "t = 2.\n",
    "g = 9.8\n",
    "\n",
    "print('height at %.2f s = %.2f' % (t, h0 + v0*t - 0.5 * 9.8 * t**2))\n",
    "print('velocity at %.2f s = %.2f' % (t, v0 - g*t))"
   ]
  },
  {
   "cell_type": "markdown",
   "metadata": {},
   "source": [
    "__2.__ Write a single Python script that calculates the following expressions:\n",
    "\n",
    "(a) $\\displaystyle a = \\frac{2 + e^{2.8}}{\\sqrt{13}-2}$\n",
    "\n",
    "(b) $\\displaystyle b = \\frac{1-(1+\\ln 2)^{-3.5}}{1+\\sqrt{5}}$\n",
    "\n",
    "(c) $\\displaystyle c = \\sin\\left( \\frac{2-\\sqrt{2}}{2+\\sqrt{2}} \\right)$\n",
    "\n",
    "After running your script, typing `a`, `b`, or\n",
    "`c` at in the code cells should yield the value of the expressions in (a), (b), or (c), respectively."
   ]
  },
  {
   "cell_type": "code",
   "execution_count": 1,
   "metadata": {},
   "outputs": [
    {
     "data": {
      "text/plain": [
       "11.488045914800647"
      ]
     },
     "execution_count": 1,
     "metadata": {},
     "output_type": "execute_result"
    }
   ],
   "source": [
    "import numpy as np\n",
    "\n",
    "a = (2. + np.exp(2.8)) / (np.sqrt(13.)-2.)\n",
    "a"
   ]
  },
  {
   "cell_type": "code",
   "execution_count": 2,
   "metadata": {},
   "outputs": [
    {
     "data": {
      "text/plain": [
       "0.26008973689431575"
      ]
     },
     "execution_count": 2,
     "metadata": {},
     "output_type": "execute_result"
    }
   ],
   "source": [
    "b = (1. - (1.+np.log(2))**(-3.5)) / (1. + np.sqrt(5))\n",
    "b"
   ]
  },
  {
   "cell_type": "code",
   "execution_count": 3,
   "metadata": {},
   "outputs": [
    {
     "data": {
      "text/plain": [
       "0.17073234104506005"
      ]
     },
     "execution_count": 3,
     "metadata": {},
     "output_type": "execute_result"
    }
   ],
   "source": [
    "c = np.sin( (2. - np.sqrt(2.)) / (2. + np.sqrt(2.)))\n",
    "c"
   ]
  },
  {
   "cell_type": "markdown",
   "metadata": {},
   "source": [
    "__3.__ Write a script that defines the variables $V_0 = 10$, $a = 2.5$, and\n",
    "    $z = 4\\tfrac{1}{3}$, and then evaluates the expression\n",
    "    \n",
    "$$V = V_0 \\left( 1 - \\frac{z}{\\sqrt{a^2+z^2}} \\right) \\;.$$\n",
    "\n",
    "Then find $V$ for $z=8\\frac{2}{3}$ and print it out (see the \"Note about printing\" section in this chapter). Then find $V$ for $z=13$ by changing\n",
    "the value of $z$ in your script."
   ]
  },
  {
   "cell_type": "code",
   "execution_count": 4,
   "metadata": {},
   "outputs": [
    {
     "name": "stdout",
     "output_type": "stream",
     "text": [
      "1.338144139513996\n",
      "0.39176408819105335\n",
      "0.17993553019352682\n"
     ]
    }
   ],
   "source": [
    "import numpy as np\n",
    "\n",
    "v0 = 10\n",
    "a = 2.5\n",
    "z = 4 + 1./3.\n",
    "v = v0 * (1. - z/np.sqrt(a**2 + z**2))\n",
    "print(v)\n",
    "z = 8 + 2./3.\n",
    "v = v0 * (1. - z/np.sqrt(a**2 + z**2))\n",
    "print(v)\n",
    "z = 13.\n",
    "v = v0 * (1. - z/np.sqrt(a**2 + z**2))\n",
    "print(v)"
   ]
  }
 ],
 "metadata": {
  "celltoolbar": "Slideshow",
  "kernelspec": {
   "display_name": "Python 3",
   "language": "python",
   "name": "python3"
  },
  "language_info": {
   "codemirror_mode": {
    "name": "ipython",
    "version": 3
   },
   "file_extension": ".py",
   "mimetype": "text/x-python",
   "name": "python",
   "nbconvert_exporter": "python",
   "pygments_lexer": "ipython3",
   "version": "3.7.4"
  }
 },
 "nbformat": 4,
 "nbformat_minor": 4
}
